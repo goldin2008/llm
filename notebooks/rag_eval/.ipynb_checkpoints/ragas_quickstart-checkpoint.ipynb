{
 "cells": [
  {
   "cell_type": "markdown",
   "id": "2e63f667",
   "metadata": {
    "id": "2e63f667"
   },
   "source": [
    "<a target=\"_blank\" href=\"https://colab.research.google.com/github/rajshah4/LLM-Evaluation/blob/main/ragas_quickstart.ipynb\">\n",
    "  <img src=\"https://colab.research.google.com/assets/colab-badge.svg\" alt=\"Open In Colab\"/>\n",
    "</a>\n",
    "\n",
    "Welcome to the ragas quickstart. We're going to get you up and running with ragas as qickly as you can so that you can go back to improving your Retrieval Augmented Generation pipelines while this library makes sure your changes are improving your entire pipeline.\n",
    "\n",
    "to kick things of lets start with the data"
   ]
  },
  {
   "cell_type": "code",
   "execution_count": 1,
   "id": "57585b55",
   "metadata": {
    "id": "57585b55"
   },
   "outputs": [
    {
     "name": "stdout",
     "output_type": "stream",
     "text": [
      "Note: you may need to restart the kernel to use updated packages.\n"
     ]
    }
   ],
   "source": [
    "%pip -q install ragas pandas datasets"
   ]
  },
  {
   "cell_type": "markdown",
   "id": "c77789bb",
   "metadata": {
    "id": "c77789bb"
   },
   "source": [
    "Ragas also uses OpenAI for running some metrics so make sure you have your openai key ready and available in your environment"
   ]
  },
  {
   "cell_type": "code",
   "execution_count": 1,
   "id": "0b7179f7",
   "metadata": {
    "colab": {
     "base_uri": "https://localhost:8080/"
    },
    "id": "0b7179f7",
    "outputId": "cc6abd54-0786-43a3-b35a-1a95af7d3882"
   },
   "outputs": [
    {
     "name": "stdin",
     "output_type": "stream",
     "text": [
      "Enter your OPENAI API Key ········\n"
     ]
    }
   ],
   "source": [
    "import os\n",
    "import getpass\n",
    "\n",
    "open_ai_key = getpass.getpass('Enter your OPENAI API Key')\n",
    "os.environ['OPENAI_API_KEY'] = open_ai_key"
   ]
  },
  {
   "cell_type": "markdown",
   "id": "06c9fc7d",
   "metadata": {
    "id": "06c9fc7d"
   },
   "source": [
    "## The Data\n",
    "\n",
    "Ragas performs a `ground_truth` free evaluation of your RAG pipelines. This is because for most people building a gold labeled dataset which represents in the distribution they get in production is a very expensive process.\n",
    "\n",
    "Hence to work with ragas all you need are the following data\n",
    "- question: `list[str]` - These are the questions you RAG pipeline will be evaluated on.\n",
    "- answer: `list[str]` - The answer generated from the RAG pipeline and give to the user.\n",
    "- contexts: `list[list[str]]` - The contexts which where passed into the LLM to answer the question.\n",
    "\n",
    "Ideally your list of questions should reflect the questions your users give, including those that you have been problamatic in the past.\n",
    "\n",
    "Here we're using an example dataset from on of the baselines we created for the [Financial Opinion Mining and Question Answering (fiqa) Dataset](https://sites.google.com/view/fiqa/) we created. If you want to want to know more about the baseline, feel free to check the `experiements/baseline` section"
   ]
  },
  {
   "cell_type": "code",
   "execution_count": 2,
   "id": "b658e02f",
   "metadata": {
    "colab": {
     "base_uri": "https://localhost:8080/"
    },
    "id": "b658e02f",
    "outputId": "7fc6c8b6-8638-4b2d-c149-1c7457e3f839"
   },
   "outputs": [
    {
     "name": "stderr",
     "output_type": "stream",
     "text": [
      "/Users/leiyu/opt/anaconda3/envs/myenv/lib/python3.10/site-packages/tqdm/auto.py:21: TqdmWarning: IProgress not found. Please update jupyter and ipywidgets. See https://ipywidgets.readthedocs.io/en/stable/user_install.html\n",
      "  from .autonotebook import tqdm as notebook_tqdm\n",
      "Downloading data: 100%|███████████████████████████████████████████████| 115k/115k [00:00<00:00, 178kB/s]\n",
      "Generating baseline split: 100%|███████████████████████████████| 30/30 [00:00<00:00, 1036.91 examples/s]\n"
     ]
    },
    {
     "data": {
      "text/plain": [
       "DatasetDict({\n",
       "    baseline: Dataset({\n",
       "        features: ['question', 'ground_truths', 'answer', 'contexts'],\n",
       "        num_rows: 30\n",
       "    })\n",
       "})"
      ]
     },
     "execution_count": 2,
     "metadata": {},
     "output_type": "execute_result"
    }
   ],
   "source": [
    "# data\n",
    "from datasets import load_dataset\n",
    "\n",
    "fiqa_eval = load_dataset(\"explodinggradients/fiqa\", \"ragas_eval\")\n",
    "fiqa_eval"
   ]
  },
  {
   "cell_type": "markdown",
   "id": "84aa640f",
   "metadata": {
    "id": "84aa640f"
   },
   "source": [
    "## Metrics\n",
    "\n",
    "Ragas measures your pipeline's performance against two dimensions\n",
    "\n",
    "1. Faithfulness: measures the factual consistency of the generated answer against the given context.\n",
    "2. Relevancy: measures how relevant retrieved contexts and the generated answer are to the question.\n",
    "\n",
    "Through repeated experiments, we have found that the quality of a RAG pipeline is highly dependent on these two dimensions. The final `ragas_score` is the harmonic mean of these two factors.\n",
    "\n",
    "now lets import these metrics and understand more about what they denote"
   ]
  },
  {
   "cell_type": "code",
   "execution_count": 3,
   "id": "TDZlAWMa6zJy",
   "metadata": {
    "id": "TDZlAWMa6zJy"
   },
   "outputs": [],
   "source": [
    "from ragas.metrics import (\n",
    "    answer_relevancy,\n",
    "    faithfulness,\n",
    "    context_recall,\n",
    "    context_precision\n",
    ")"
   ]
  },
  {
   "cell_type": "markdown",
   "id": "ef8c5e60",
   "metadata": {
    "id": "ef8c5e60"
   },
   "source": [
    "here you can see that we are using 4 metrics, but what do the represent?\n",
    "\n",
    "1. answer_relevancy - a measure of how relevant the answer is to the question\n",
    "\n",
    "2. faithfulness - the factual consistency of the answer to the context base on the question.\n",
    "\n",
    "3. context_recall: measures the ability of the retriever to retrieve all the necessary information needed to answer the question.\n",
    "\n",
    "4. context_precision - a measure of how relevant the retrieved context is to the question. Conveys quality of the retrieval pipeline.\n",
    "\n",
    "**Note:** *by default these metrics are using OpenAI's API to compute the score. If you using this metric make sure you set the environment key `OPENAI_API_KEY` with your API key. You can also try other LLMs for evaluation, check the [llm guide](./guides/llms.ipynb) to learn more*\n",
    "\n",
    "If you're interested in learning more, feel free to check the [docs](https://github.com/explodinggradients/ragas/blob/main/docs/metrics.md)"
   ]
  },
  {
   "cell_type": "markdown",
   "id": "8d6ecd5a",
   "metadata": {
    "id": "8d6ecd5a"
   },
   "source": [
    "## Evaluation\n",
    "\n",
    "Running the evalutation is as simple as calling evaluate on the `Dataset` with the metrics of your choice."
   ]
  },
  {
   "cell_type": "code",
   "execution_count": 4,
   "id": "22eb6f97",
   "metadata": {
    "colab": {
     "base_uri": "https://localhost:8080/"
    },
    "id": "22eb6f97",
    "outputId": "bcc5e271-06f8-4551-c8aa-e43e95bdf929"
   },
   "outputs": [
    {
     "name": "stderr",
     "output_type": "stream",
     "text": [
      "passing column names as 'ground_truths' is deprecated and will be removed in the next version, please use 'ground_truth' instead. Note that `ground_truth` should be of type string and not Sequence[string] like `ground_truths`\n",
      "Evaluating: 100%|█████████████████████████████████████████████████████████| 4/4 [00:06<00:00,  1.50s/it]\n"
     ]
    },
    {
     "data": {
      "text/plain": [
       "{'context_precision': 1.0000, 'faithfulness': 0.6000, 'answer_relevancy': 0.9825, 'context_recall': 0.8889}"
      ]
     },
     "execution_count": 4,
     "metadata": {},
     "output_type": "execute_result"
    }
   ],
   "source": [
    "from ragas import evaluate\n",
    "\n",
    "result = evaluate(\n",
    "    fiqa_eval[\"baseline\"].select(range(1)),\n",
    "    metrics=[\n",
    "        context_precision,\n",
    "        faithfulness,\n",
    "        answer_relevancy,\n",
    "        context_recall\n",
    "    ],\n",
    ")\n",
    "\n",
    "result"
   ]
  },
  {
   "cell_type": "markdown",
   "id": "a2dc0ec2",
   "metadata": {
    "id": "a2dc0ec2"
   },
   "source": [
    "and there you have the it, all the scores you need. `ragas_score` gives you a single metric that you can use while the other onces measure the different parts of your pipeline.\n",
    "\n",
    "now if we want to dig into the results and figure out examples where your pipeline performed worse or really good you can easily convert it into a pandas array and use your standard analytics tools too!"
   ]
  },
  {
   "cell_type": "code",
   "execution_count": 5,
   "id": "8686bf53",
   "metadata": {
    "colab": {
     "base_uri": "https://localhost:8080/",
     "height": 115
    },
    "id": "8686bf53",
    "outputId": "0ded27a0-2d51-48c3-de57-a71f02e22970"
   },
   "outputs": [
    {
     "data": {
      "text/html": [
       "<div>\n",
       "<style scoped>\n",
       "    .dataframe tbody tr th:only-of-type {\n",
       "        vertical-align: middle;\n",
       "    }\n",
       "\n",
       "    .dataframe tbody tr th {\n",
       "        vertical-align: top;\n",
       "    }\n",
       "\n",
       "    .dataframe thead th {\n",
       "        text-align: right;\n",
       "    }\n",
       "</style>\n",
       "<table border=\"1\" class=\"dataframe\">\n",
       "  <thead>\n",
       "    <tr style=\"text-align: right;\">\n",
       "      <th></th>\n",
       "      <th>question</th>\n",
       "      <th>ground_truths</th>\n",
       "      <th>answer</th>\n",
       "      <th>contexts</th>\n",
       "      <th>ground_truth</th>\n",
       "      <th>context_precision</th>\n",
       "      <th>faithfulness</th>\n",
       "      <th>answer_relevancy</th>\n",
       "      <th>context_recall</th>\n",
       "    </tr>\n",
       "  </thead>\n",
       "  <tbody>\n",
       "    <tr>\n",
       "      <th>0</th>\n",
       "      <td>How to deposit a cheque issued to an associate...</td>\n",
       "      <td>[Have the check reissued to the proper payee.J...</td>\n",
       "      <td>\\nThe best way to deposit a cheque issued to a...</td>\n",
       "      <td>[Just have the associate sign the back and the...</td>\n",
       "      <td>Have the check reissued to the proper payee.Ju...</td>\n",
       "      <td>1.0</td>\n",
       "      <td>0.6</td>\n",
       "      <td>0.982531</td>\n",
       "      <td>0.888889</td>\n",
       "    </tr>\n",
       "  </tbody>\n",
       "</table>\n",
       "</div>"
      ],
      "text/plain": [
       "                                            question  \\\n",
       "0  How to deposit a cheque issued to an associate...   \n",
       "\n",
       "                                       ground_truths  \\\n",
       "0  [Have the check reissued to the proper payee.J...   \n",
       "\n",
       "                                              answer  \\\n",
       "0  \\nThe best way to deposit a cheque issued to a...   \n",
       "\n",
       "                                            contexts  \\\n",
       "0  [Just have the associate sign the back and the...   \n",
       "\n",
       "                                        ground_truth  context_precision  \\\n",
       "0  Have the check reissued to the proper payee.Ju...                1.0   \n",
       "\n",
       "   faithfulness  answer_relevancy  context_recall  \n",
       "0           0.6          0.982531        0.888889  "
      ]
     },
     "execution_count": 5,
     "metadata": {},
     "output_type": "execute_result"
    }
   ],
   "source": [
    "df = result.to_pandas()\n",
    "df.head()"
   ]
  },
  {
   "cell_type": "markdown",
   "id": "f668fce1",
   "metadata": {
    "id": "f668fce1"
   },
   "source": [
    "And thats it!\n",
    "\n",
    "You can check out the [ragas in action] notebook to get a feel of what is like to use it while trying to improve your pipelines.\n",
    "\n",
    "if you have any suggestion/feedbacks/things your not happy about, please do share it in the [issue section](https://github.com/explodinggradients/ragas/issues). We love hearing from you 😁"
   ]
  }
 ],
 "metadata": {
  "colab": {
   "provenance": []
  },
  "kernelspec": {
   "display_name": "Python 3 (ipykernel)",
   "language": "python",
   "name": "python3"
  },
  "language_info": {
   "codemirror_mode": {
    "name": "ipython",
    "version": 3
   },
   "file_extension": ".py",
   "mimetype": "text/x-python",
   "name": "python",
   "nbconvert_exporter": "python",
   "pygments_lexer": "ipython3",
   "version": "3.10.6"
  }
 },
 "nbformat": 4,
 "nbformat_minor": 5
}
