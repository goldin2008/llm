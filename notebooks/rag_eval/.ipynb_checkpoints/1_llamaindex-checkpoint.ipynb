{
 "cells": [
  {
   "cell_type": "code",
   "execution_count": 1,
   "id": "fd8d6ad7",
   "metadata": {},
   "outputs": [],
   "source": [
    "%load_ext autoreload\n",
    "%autoreload 2"
   ]
  },
  {
   "cell_type": "markdown",
   "id": "d2451aff",
   "metadata": {},
   "source": [
    "# LlamaIndex\n",
    "\n",
    "[LlamaIndex](https://github.com/run-llama/llama_index) is a data framework for LLM applications to ingest, structure, and access private or domain-specific data. Makes it super easy to connect LLMs with your own data. But in order to figure out the best configuration for llamaIndex and your data you need a object measure of the performance. This is where ragas comes in. Ragas will help you evaluate your `QueryEngine` and gives you the confidence to tweak the configuration to get hightest score.\n",
    "\n",
    "This guide assumes you have familarity with the LlamaIndex framework."
   ]
  },
  {
   "cell_type": "markdown",
   "id": "ea0553ea",
   "metadata": {},
   "source": [
    "## Building the Testset\n",
    "\n",
    "You will need an testset to evaluate your `QueryEngine` against. You can either build one yourself or use the [Testset Generator Module](../../getstarted/testset_generation.md) in Ragas to get started with a small synthetic one.\n",
    "\n",
    "Let's see how that works with Llamaindex"
   ]
  },
  {
   "cell_type": "code",
   "execution_count": null,
   "id": "9587d861-d731-497f-b69a-2782f7d1b25c",
   "metadata": {},
   "outputs": [],
   "source": [
    "pip install llama_index ragas"
   ]
  },
  {
   "cell_type": "code",
   "execution_count": 6,
   "id": "096e5af0",
   "metadata": {},
   "outputs": [],
   "source": [
    "# load the documents\n",
    "from llama_index.core import SimpleDirectoryReader\n",
    "\n",
    "documents = SimpleDirectoryReader(\"./nyc_wikipedia\").load_data()"
   ]
  },
  {
   "cell_type": "code",
   "execution_count": null,
   "id": "f8abbfc8-03c2-43e5-8d6e-35b49bf1bc96",
   "metadata": {},
   "outputs": [],
   "source": []
  },
  {
   "cell_type": "markdown",
   "id": "012d81a1",
   "metadata": {},
   "source": [
    "Now  lets init the `TestsetGenerator` object with the corresponding generator and critic llms"
   ]
  },
  {
   "cell_type": "code",
   "execution_count": 7,
   "id": "e2107b62",
   "metadata": {},
   "outputs": [
    {
     "name": "stderr",
     "output_type": "stream",
     "text": [
      "/Users/leiyu/opt/anaconda3/envs/myenv/lib/python3.10/site-packages/tqdm/auto.py:21: TqdmWarning: IProgress not found. Please update jupyter and ipywidgets. See https://ipywidgets.readthedocs.io/en/stable/user_install.html\n",
      "  from .autonotebook import tqdm as notebook_tqdm\n"
     ]
    }
   ],
   "source": [
    "from ragas.testset.generator import TestsetGenerator\n",
    "from ragas.testset.evolutions import simple, reasoning, multi_context\n",
    "from llama_index.llms.openai import OpenAI\n",
    "from llama_index.embeddings.openai import OpenAIEmbedding\n",
    "\n",
    "# generator with openai models\n",
    "generator_llm = OpenAI(model=\"gpt-3.5-turbo-16k\")\n",
    "critic_llm = OpenAI(model=\"gpt-4\")\n",
    "embeddings = OpenAIEmbedding()\n",
    "\n",
    "generator = TestsetGenerator.from_llama_index(\n",
    "    generator_llm=generator_llm,\n",
    "    critic_llm=critic_llm,\n",
    "    embeddings=embeddings,\n",
    ")"
   ]
  },
  {
   "cell_type": "markdown",
   "id": "f8d8d31c",
   "metadata": {},
   "source": [
    "Now you are all set to generate the dataset"
   ]
  },
  {
   "cell_type": "code",
   "execution_count": 8,
   "id": "fe03839d",
   "metadata": {},
   "outputs": [
    {
     "name": "stderr",
     "output_type": "stream",
     "text": [
      "Filename and doc_id are the same for all nodes.                                                         \n",
      "Generating:  20%|███████████▍                                             | 1/5 [00:08<00:34,  8.75s/it]Retrying llama_index.llms.openai.base.OpenAI._achat in 0.20008403704904898 seconds as it raised RateLimitError: Error code: 429 - {'error': {'message': 'Rate limit reached for gpt-4 in organization org-SZPrZ1v0zxrmBrD75hcE5wGU on tokens per min (TPM): Limit 10000, Used 9364, Requested 2064. Please try again in 8.568s. Visit https://platform.openai.com/account/rate-limits to learn more.', 'type': 'tokens', 'param': None, 'code': 'rate_limit_exceeded'}}.\n",
      "Retrying llama_index.llms.openai.base.OpenAI._achat in 0.9367278355177181 seconds as it raised RateLimitError: Error code: 429 - {'error': {'message': 'Rate limit reached for gpt-4 in organization org-SZPrZ1v0zxrmBrD75hcE5wGU on tokens per min (TPM): Limit 10000, Used 8809, Requested 1602. Please try again in 2.466s. Visit https://platform.openai.com/account/rate-limits to learn more.', 'type': 'tokens', 'param': None, 'code': 'rate_limit_exceeded'}}.\n",
      "Retrying llama_index.llms.openai.base.OpenAI._achat in 0.1961753410807826 seconds as it raised RateLimitError: Error code: 429 - {'error': {'message': 'Rate limit reached for gpt-4 in organization org-SZPrZ1v0zxrmBrD75hcE5wGU on tokens per min (TPM): Limit 10000, Used 8801, Requested 1603. Please try again in 2.424s. Visit https://platform.openai.com/account/rate-limits to learn more.', 'type': 'tokens', 'param': None, 'code': 'rate_limit_exceeded'}}.\n",
      "Generating: 100%|█████████████████████████████████████████████████████████| 5/5 [01:12<00:00, 14.53s/it]\n"
     ]
    }
   ],
   "source": [
    "# generate testset\n",
    "testset = generator.generate_with_llamaindex_docs(\n",
    "    documents,\n",
    "    test_size=5,\n",
    "    distributions={simple: 0.5, reasoning: 0.25, multi_context: 0.25},\n",
    ")"
   ]
  },
  {
   "cell_type": "code",
   "execution_count": 9,
   "id": "0b75a723",
   "metadata": {},
   "outputs": [
    {
     "data": {
      "text/html": [
       "<div>\n",
       "<style scoped>\n",
       "    .dataframe tbody tr th:only-of-type {\n",
       "        vertical-align: middle;\n",
       "    }\n",
       "\n",
       "    .dataframe tbody tr th {\n",
       "        vertical-align: top;\n",
       "    }\n",
       "\n",
       "    .dataframe thead th {\n",
       "        text-align: right;\n",
       "    }\n",
       "</style>\n",
       "<table border=\"1\" class=\"dataframe\">\n",
       "  <thead>\n",
       "    <tr style=\"text-align: right;\">\n",
       "      <th></th>\n",
       "      <th>question</th>\n",
       "      <th>contexts</th>\n",
       "      <th>ground_truth</th>\n",
       "      <th>evolution_type</th>\n",
       "      <th>metadata</th>\n",
       "      <th>episode_done</th>\n",
       "    </tr>\n",
       "  </thead>\n",
       "  <tbody>\n",
       "    <tr>\n",
       "      <th>0</th>\n",
       "      <td>What is the significance of the New York Publi...</td>\n",
       "      <td>[ Others cite the end of the crack epidemic an...</td>\n",
       "      <td>The New York Public Library (NYPL) has the lar...</td>\n",
       "      <td>simple</td>\n",
       "      <td>[{'file_path': '/Users/leiyu/Projects/llm/note...</td>\n",
       "      <td>True</td>\n",
       "    </tr>\n",
       "    <tr>\n",
       "      <th>1</th>\n",
       "      <td>What is the size of the Dominican American pop...</td>\n",
       "      <td>[ immigrants, respectively, and large-scale Ch...</td>\n",
       "      <td>The Dominican American population in New York ...</td>\n",
       "      <td>simple</td>\n",
       "      <td>[{'file_path': '/Users/leiyu/Projects/llm/note...</td>\n",
       "      <td>True</td>\n",
       "    </tr>\n",
       "    <tr>\n",
       "      <th>2</th>\n",
       "      <td>What caused the decline in the Lenape populati...</td>\n",
       "      <td>[ British raids. In 1626, the Dutch colonial D...</td>\n",
       "      <td>Several intertribal wars among the Native Amer...</td>\n",
       "      <td>reasoning</td>\n",
       "      <td>[{'file_path': '/Users/leiyu/Projects/llm/note...</td>\n",
       "      <td>True</td>\n",
       "    </tr>\n",
       "    <tr>\n",
       "      <th>3</th>\n",
       "      <td>How is NYC's fast pace described in terms of i...</td>\n",
       "      <td>[ these universities are ranked among the top ...</td>\n",
       "      <td>The city of New York is home to numerous prest...</td>\n",
       "      <td>multi_context</td>\n",
       "      <td>[{'file_path': '/Users/leiyu/Projects/llm/note...</td>\n",
       "      <td>True</td>\n",
       "    </tr>\n",
       "    <tr>\n",
       "      <th>4</th>\n",
       "      <td>How did the Lenape population diminish between...</td>\n",
       "      <td>[ British raids. In 1626, the Dutch colonial D...</td>\n",
       "      <td>Several intertribal wars among the Native Amer...</td>\n",
       "      <td>simple</td>\n",
       "      <td>[{'file_path': '/Users/leiyu/Projects/llm/note...</td>\n",
       "      <td>True</td>\n",
       "    </tr>\n",
       "  </tbody>\n",
       "</table>\n",
       "</div>"
      ],
      "text/plain": [
       "                                            question  \\\n",
       "0  What is the significance of the New York Publi...   \n",
       "1  What is the size of the Dominican American pop...   \n",
       "2  What caused the decline in the Lenape populati...   \n",
       "3  How is NYC's fast pace described in terms of i...   \n",
       "4  How did the Lenape population diminish between...   \n",
       "\n",
       "                                            contexts  \\\n",
       "0  [ Others cite the end of the crack epidemic an...   \n",
       "1  [ immigrants, respectively, and large-scale Ch...   \n",
       "2  [ British raids. In 1626, the Dutch colonial D...   \n",
       "3  [ these universities are ranked among the top ...   \n",
       "4  [ British raids. In 1626, the Dutch colonial D...   \n",
       "\n",
       "                                        ground_truth evolution_type  \\\n",
       "0  The New York Public Library (NYPL) has the lar...         simple   \n",
       "1  The Dominican American population in New York ...         simple   \n",
       "2  Several intertribal wars among the Native Amer...      reasoning   \n",
       "3  The city of New York is home to numerous prest...  multi_context   \n",
       "4  Several intertribal wars among the Native Amer...         simple   \n",
       "\n",
       "                                            metadata  episode_done  \n",
       "0  [{'file_path': '/Users/leiyu/Projects/llm/note...          True  \n",
       "1  [{'file_path': '/Users/leiyu/Projects/llm/note...          True  \n",
       "2  [{'file_path': '/Users/leiyu/Projects/llm/note...          True  \n",
       "3  [{'file_path': '/Users/leiyu/Projects/llm/note...          True  \n",
       "4  [{'file_path': '/Users/leiyu/Projects/llm/note...          True  "
      ]
     },
     "execution_count": 9,
     "metadata": {},
     "output_type": "execute_result"
    }
   ],
   "source": [
    "df = testset.to_pandas()\n",
    "df.head()"
   ]
  },
  {
   "cell_type": "markdown",
   "id": "6107ea8b",
   "metadata": {},
   "source": [
    "with a test dataset to test our `QueryEngine` lets now build one and evaluate it."
   ]
  },
  {
   "cell_type": "markdown",
   "id": "abaf6538",
   "metadata": {},
   "source": [
    "## Building the `QueryEngine`\n",
    "\n",
    "To start lets build an `VectorStoreIndex` over the New York Citie's [wikipedia page](https://en.wikipedia.org/wiki/New_York_City) as an example and use ragas to evaluate it. \n",
    "\n",
    "Since we already loaded the dataset into `documents` lets use that."
   ]
  },
  {
   "cell_type": "code",
   "execution_count": 10,
   "id": "37c4a1cb",
   "metadata": {},
   "outputs": [],
   "source": [
    "# build query engine\n",
    "from llama_index.core import VectorStoreIndex, SimpleDirectoryReader\n",
    "from llama_index.core.settings import Settings\n",
    "\n",
    "vector_index = VectorStoreIndex.from_documents(documents)\n",
    "\n",
    "query_engine = vector_index.as_query_engine()"
   ]
  },
  {
   "cell_type": "markdown",
   "id": "13d676c0",
   "metadata": {},
   "source": [
    "Lets try an sample question from the generated testset to see if it is working"
   ]
  },
  {
   "cell_type": "code",
   "execution_count": 11,
   "id": "895d95b2",
   "metadata": {},
   "outputs": [
    {
     "data": {
      "text/plain": [
       "'What is the significance of the New York Public Library in the city?'"
      ]
     },
     "execution_count": 11,
     "metadata": {},
     "output_type": "execute_result"
    }
   ],
   "source": [
    "# convert it to pandas dataset\n",
    "df = testset.to_pandas()\n",
    "df[\"question\"][0]"
   ]
  },
  {
   "cell_type": "code",
   "execution_count": 12,
   "id": "a25026c2",
   "metadata": {},
   "outputs": [
    {
     "name": "stdout",
     "output_type": "stream",
     "text": [
      "The New York Public Library (NYPL) has the largest collection of any public library system in the United States and is considered a significant cultural institution in the city.\n"
     ]
    }
   ],
   "source": [
    "response_vector = query_engine.query(df[\"question\"][0])\n",
    "\n",
    "print(response_vector)"
   ]
  },
  {
   "cell_type": "markdown",
   "id": "b678501e",
   "metadata": {},
   "source": [
    "## Evaluating the `QueryEngine`\n",
    "\n",
    "Now that we have a `QueryEngine` for the `VectorStoreIndex` we can use the llama_index integration Ragas has to evaluate it. \n",
    "\n",
    "In order to run an evaluation with Ragas and LlamaIndex you need 3 things\n",
    "\n",
    "1. LlamaIndex `QueryEngine`: what we will be evaluating\n",
    "2. Metrics: Ragas defines a set of metrics that can measure different aspects of the `QueryEngine`. The available metrics and their meaning can be found [here](https://github.com/explodinggradients/ragas/blob/main/docs/metrics.md)\n",
    "3. Questions: A list of questions that ragas will test the `QueryEngine` against. "
   ]
  },
  {
   "cell_type": "markdown",
   "id": "145109ad",
   "metadata": {},
   "source": [
    "first lets generate the questions. Ideally you should use that you see in production so that the distribution of question with which we evaluate matches the distribution of questions seen in production. This ensures that the scores reflect the performance seen in production but to start off we'll be using a few example question."
   ]
  },
  {
   "cell_type": "markdown",
   "id": "843bddb8",
   "metadata": {},
   "source": [
    "Now lets import the metrics we will be using to evaluate"
   ]
  },
  {
   "cell_type": "code",
   "execution_count": 13,
   "id": "9875132a",
   "metadata": {},
   "outputs": [],
   "source": [
    "from ragas.metrics import (\n",
    "    faithfulness,\n",
    "    answer_relevancy,\n",
    "    context_precision,\n",
    "    context_recall,\n",
    ")\n",
    "from ragas.metrics.critique import harmfulness\n",
    "\n",
    "metrics = [\n",
    "    faithfulness,\n",
    "    answer_relevancy,\n",
    "    context_precision,\n",
    "    context_recall,\n",
    "    harmfulness,\n",
    "]"
   ]
  },
  {
   "cell_type": "markdown",
   "id": "8230a307",
   "metadata": {},
   "source": [
    "now lets init the evaluator model"
   ]
  },
  {
   "cell_type": "code",
   "execution_count": 14,
   "id": "f8049166",
   "metadata": {},
   "outputs": [],
   "source": [
    "from llama_index.llms.openai import OpenAI\n",
    "from llama_index.embeddings.openai import OpenAIEmbedding\n",
    "\n",
    "# using GPT 3.5, use GPT 4 / 4-turbo for better accuracy\n",
    "evaluator_llm = OpenAI(model=\"gpt-3.5-turbo\")"
   ]
  },
  {
   "cell_type": "markdown",
   "id": "605e5d96",
   "metadata": {},
   "source": [
    "the `evaluate()` function expects a dict of \"question\" and \"ground_truth\" for metrics. You can easily convert the `testset` to that format"
   ]
  },
  {
   "cell_type": "code",
   "execution_count": 15,
   "id": "4b2a81ed",
   "metadata": {},
   "outputs": [
    {
     "data": {
      "text/plain": [
       "['The New York Public Library (NYPL) has the largest collection of any public library system in the United States. It is considered a significant cultural institution in the city.',\n",
       " 'The Dominican American population in New York City is the largest overall Hispanic population in the United States, numbering 4.8 million.',\n",
       " 'Several intertribal wars among the Native Americans and some epidemics caused sizeable population losses for the Lenape between the years 1660 and 1670.',\n",
       " \"The city of New York is home to numerous prestigious universities and colleges, including Princeton University and Yale University. It also hosts smaller private institutions such as Pace University, St. John's University, The Juilliard School, and many more. These universities contribute to the city's vibrant cultural and educational scene, making it a hub for intellectual and artistic pursuits.\",\n",
       " 'Several intertribal wars among the Native Americans and some epidemics brought on by contact with the Europeans caused sizeable population losses for the Lenape between the years 1660 and 1670.']"
      ]
     },
     "execution_count": 15,
     "metadata": {},
     "output_type": "execute_result"
    }
   ],
   "source": [
    "# convert to HF dataset\n",
    "ds = testset.to_dataset()\n",
    "\n",
    "ds_dict = ds.to_dict()\n",
    "ds_dict[\"question\"]\n",
    "ds_dict[\"ground_truth\"]"
   ]
  },
  {
   "cell_type": "markdown",
   "id": "8ae4a2d1",
   "metadata": {},
   "source": [
    "Finally lets run the evaluation"
   ]
  },
  {
   "cell_type": "code",
   "execution_count": 16,
   "id": "05633cc2",
   "metadata": {},
   "outputs": [
    {
     "name": "stderr",
     "output_type": "stream",
     "text": [
      "Running Query Engine: 100%|███████████████████████████████████████████████| 5/5 [00:01<00:00,  3.85it/s]\n",
      "Evaluating:   0%|                                                                | 0/25 [00:00<?, ?it/s]n values greater than 1 not support for LlamaIndex LLMs\n",
      "n values greater than 1 not support for LlamaIndex LLMs\n",
      "n values greater than 1 not support for LlamaIndex LLMs\n",
      "Evaluating:   4%|██▏                                                     | 1/25 [00:02<00:49,  2.08s/it]n values greater than 1 not support for LlamaIndex LLMs\n",
      "n values greater than 1 not support for LlamaIndex LLMs\n",
      "Evaluating: 100%|███████████████████████████████████████████████████████| 25/25 [00:06<00:00,  3.65it/s]\n"
     ]
    }
   ],
   "source": [
    "from ragas.integrations.llama_index import evaluate\n",
    "\n",
    "result = evaluate(\n",
    "    query_engine=query_engine,\n",
    "    metrics=metrics,\n",
    "    dataset=ds_dict,\n",
    "    llm=evaluator_llm,\n",
    "    embeddings=OpenAIEmbedding(),\n",
    ")"
   ]
  },
  {
   "cell_type": "code",
   "execution_count": 17,
   "id": "f927a943",
   "metadata": {},
   "outputs": [
    {
     "name": "stdout",
     "output_type": "stream",
     "text": [
      "{'faithfulness': 0.4333, 'answer_relevancy': 0.8918, 'context_precision': 1.0000, 'context_recall': 0.6667, 'harmfulness': 0.0000}\n"
     ]
    }
   ],
   "source": [
    "# final scores\n",
    "print(result)"
   ]
  },
  {
   "cell_type": "markdown",
   "id": "878b6b82",
   "metadata": {},
   "source": [
    "You can convert into a pandas dataframe to run more analysis on it."
   ]
  },
  {
   "cell_type": "code",
   "execution_count": 18,
   "id": "b96311e2",
   "metadata": {},
   "outputs": [
    {
     "data": {
      "text/html": [
       "<div>\n",
       "<style scoped>\n",
       "    .dataframe tbody tr th:only-of-type {\n",
       "        vertical-align: middle;\n",
       "    }\n",
       "\n",
       "    .dataframe tbody tr th {\n",
       "        vertical-align: top;\n",
       "    }\n",
       "\n",
       "    .dataframe thead th {\n",
       "        text-align: right;\n",
       "    }\n",
       "</style>\n",
       "<table border=\"1\" class=\"dataframe\">\n",
       "  <thead>\n",
       "    <tr style=\"text-align: right;\">\n",
       "      <th></th>\n",
       "      <th>question</th>\n",
       "      <th>contexts</th>\n",
       "      <th>answer</th>\n",
       "      <th>ground_truth</th>\n",
       "      <th>faithfulness</th>\n",
       "      <th>answer_relevancy</th>\n",
       "      <th>context_precision</th>\n",
       "      <th>context_recall</th>\n",
       "      <th>harmfulness</th>\n",
       "    </tr>\n",
       "  </thead>\n",
       "  <tbody>\n",
       "    <tr>\n",
       "      <th>0</th>\n",
       "      <td>What is the significance of the New York Publi...</td>\n",
       "      <td>[==== Firefighting ====\\n\\nThe Fire Department...</td>\n",
       "      <td>The New York Public Library (NYPL) has the lar...</td>\n",
       "      <td>The New York Public Library (NYPL) has the lar...</td>\n",
       "      <td>0.500000</td>\n",
       "      <td>0.856317</td>\n",
       "      <td>1.0</td>\n",
       "      <td>1.000000</td>\n",
       "      <td>0</td>\n",
       "    </tr>\n",
       "    <tr>\n",
       "      <th>1</th>\n",
       "      <td>What is the size of the Dominican American pop...</td>\n",
       "      <td>[By 1900, Germans constituted the largest immi...</td>\n",
       "      <td>The Dominican American population in New York ...</td>\n",
       "      <td>The Dominican American population in New York ...</td>\n",
       "      <td>0.000000</td>\n",
       "      <td>0.848461</td>\n",
       "      <td>1.0</td>\n",
       "      <td>0.000000</td>\n",
       "      <td>0</td>\n",
       "    </tr>\n",
       "    <tr>\n",
       "      <th>2</th>\n",
       "      <td>What caused the decline in the Lenape populati...</td>\n",
       "      <td>[=== Dutch rule ===\\n\\nA permanent European pr...</td>\n",
       "      <td>Intertribal wars among the Native Americans an...</td>\n",
       "      <td>Several intertribal wars among the Native Amer...</td>\n",
       "      <td>1.000000</td>\n",
       "      <td>0.974620</td>\n",
       "      <td>1.0</td>\n",
       "      <td>1.000000</td>\n",
       "      <td>0</td>\n",
       "    </tr>\n",
       "    <tr>\n",
       "      <th>3</th>\n",
       "      <td>How is NYC's fast pace described in terms of i...</td>\n",
       "      <td>[=== Pace ===\\n\\nOne of the most common traits...</td>\n",
       "      <td>NYC's fast pace is described in terms of its c...</td>\n",
       "      <td>The city of New York is home to numerous prest...</td>\n",
       "      <td>0.000000</td>\n",
       "      <td>0.826091</td>\n",
       "      <td>1.0</td>\n",
       "      <td>0.333333</td>\n",
       "      <td>0</td>\n",
       "    </tr>\n",
       "    <tr>\n",
       "      <th>4</th>\n",
       "      <td>How did the Lenape population diminish between...</td>\n",
       "      <td>[=== Dutch rule ===\\n\\nA permanent European pr...</td>\n",
       "      <td>Several intertribal wars among the Native Amer...</td>\n",
       "      <td>Several intertribal wars among the Native Amer...</td>\n",
       "      <td>0.666667</td>\n",
       "      <td>0.953719</td>\n",
       "      <td>1.0</td>\n",
       "      <td>1.000000</td>\n",
       "      <td>0</td>\n",
       "    </tr>\n",
       "  </tbody>\n",
       "</table>\n",
       "</div>"
      ],
      "text/plain": [
       "                                            question  \\\n",
       "0  What is the significance of the New York Publi...   \n",
       "1  What is the size of the Dominican American pop...   \n",
       "2  What caused the decline in the Lenape populati...   \n",
       "3  How is NYC's fast pace described in terms of i...   \n",
       "4  How did the Lenape population diminish between...   \n",
       "\n",
       "                                            contexts  \\\n",
       "0  [==== Firefighting ====\\n\\nThe Fire Department...   \n",
       "1  [By 1900, Germans constituted the largest immi...   \n",
       "2  [=== Dutch rule ===\\n\\nA permanent European pr...   \n",
       "3  [=== Pace ===\\n\\nOne of the most common traits...   \n",
       "4  [=== Dutch rule ===\\n\\nA permanent European pr...   \n",
       "\n",
       "                                              answer  \\\n",
       "0  The New York Public Library (NYPL) has the lar...   \n",
       "1  The Dominican American population in New York ...   \n",
       "2  Intertribal wars among the Native Americans an...   \n",
       "3  NYC's fast pace is described in terms of its c...   \n",
       "4  Several intertribal wars among the Native Amer...   \n",
       "\n",
       "                                        ground_truth  faithfulness  \\\n",
       "0  The New York Public Library (NYPL) has the lar...      0.500000   \n",
       "1  The Dominican American population in New York ...      0.000000   \n",
       "2  Several intertribal wars among the Native Amer...      1.000000   \n",
       "3  The city of New York is home to numerous prest...      0.000000   \n",
       "4  Several intertribal wars among the Native Amer...      0.666667   \n",
       "\n",
       "   answer_relevancy  context_precision  context_recall  harmfulness  \n",
       "0          0.856317                1.0        1.000000            0  \n",
       "1          0.848461                1.0        0.000000            0  \n",
       "2          0.974620                1.0        1.000000            0  \n",
       "3          0.826091                1.0        0.333333            0  \n",
       "4          0.953719                1.0        1.000000            0  "
      ]
     },
     "execution_count": 18,
     "metadata": {},
     "output_type": "execute_result"
    }
   ],
   "source": [
    "result.to_pandas()"
   ]
  },
  {
   "cell_type": "code",
   "execution_count": null,
   "id": "5deecbe3-1624-4f39-86a5-de753715fd9c",
   "metadata": {},
   "outputs": [],
   "source": []
  }
 ],
 "metadata": {
  "kernelspec": {
   "display_name": "Python 3 (ipykernel)",
   "language": "python",
   "name": "python3"
  },
  "language_info": {
   "codemirror_mode": {
    "name": "ipython",
    "version": 3
   },
   "file_extension": ".py",
   "mimetype": "text/x-python",
   "name": "python",
   "nbconvert_exporter": "python",
   "pygments_lexer": "ipython3",
   "version": "3.10.6"
  }
 },
 "nbformat": 4,
 "nbformat_minor": 5
}
