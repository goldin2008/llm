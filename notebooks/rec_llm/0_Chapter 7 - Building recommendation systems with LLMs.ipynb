{
 "cells": [
  {
   "cell_type": "markdown",
   "metadata": {},
   "source": [
    "# Implementing an LLM-powered recommendation system"
   ]
  },
  {
   "cell_type": "code",
   "execution_count": null,
   "metadata": {},
   "outputs": [],
   "source": [
    "import os\n",
    "os.chdir('/desired/default/directory/path')\n"
   ]
  },
  {
   "cell_type": "code",
   "execution_count": 1,
   "metadata": {},
   "outputs": [
    {
     "data": {
      "text/plain": [
       "'/Users/leiyu/Projects/llm/notebooks'"
      ]
     },
     "execution_count": 1,
     "metadata": {},
     "output_type": "execute_result"
    }
   ],
   "source": [
    "pwd"
   ]
  },
  {
   "cell_type": "markdown",
   "metadata": {},
   "source": [
    "## Data Preprocessing"
   ]
  },
  {
   "cell_type": "code",
   "execution_count": 1,
   "metadata": {},
   "outputs": [
    {
     "name": "stderr",
     "output_type": "stream",
     "text": [
      "/var/folders/lj/sq_z3m_s3z51_g2s4qfv2hrw0000gn/T/ipykernel_12906/2682188723.py:3: DtypeWarning: Columns (10) have mixed types. Specify dtype option on import or set low_memory=False.\n",
      "  md = pd.read_csv('./data/movies_metadata.csv')\n"
     ]
    },
    {
     "data": {
      "text/html": [
       "<div>\n",
       "<style scoped>\n",
       "    .dataframe tbody tr th:only-of-type {\n",
       "        vertical-align: middle;\n",
       "    }\n",
       "\n",
       "    .dataframe tbody tr th {\n",
       "        vertical-align: top;\n",
       "    }\n",
       "\n",
       "    .dataframe thead th {\n",
       "        text-align: right;\n",
       "    }\n",
       "</style>\n",
       "<table border=\"1\" class=\"dataframe\">\n",
       "  <thead>\n",
       "    <tr style=\"text-align: right;\">\n",
       "      <th></th>\n",
       "      <th>adult</th>\n",
       "      <th>belongs_to_collection</th>\n",
       "      <th>budget</th>\n",
       "      <th>genres</th>\n",
       "      <th>homepage</th>\n",
       "      <th>id</th>\n",
       "      <th>imdb_id</th>\n",
       "      <th>original_language</th>\n",
       "      <th>original_title</th>\n",
       "      <th>overview</th>\n",
       "      <th>...</th>\n",
       "      <th>release_date</th>\n",
       "      <th>revenue</th>\n",
       "      <th>runtime</th>\n",
       "      <th>spoken_languages</th>\n",
       "      <th>status</th>\n",
       "      <th>tagline</th>\n",
       "      <th>title</th>\n",
       "      <th>video</th>\n",
       "      <th>vote_average</th>\n",
       "      <th>vote_count</th>\n",
       "    </tr>\n",
       "  </thead>\n",
       "  <tbody>\n",
       "    <tr>\n",
       "      <th>0</th>\n",
       "      <td>False</td>\n",
       "      <td>{'id': 10194, 'name': 'Toy Story Collection', ...</td>\n",
       "      <td>30000000</td>\n",
       "      <td>[{'id': 16, 'name': 'Animation'}, {'id': 35, '...</td>\n",
       "      <td>http://toystory.disney.com/toy-story</td>\n",
       "      <td>862</td>\n",
       "      <td>tt0114709</td>\n",
       "      <td>en</td>\n",
       "      <td>Toy Story</td>\n",
       "      <td>Led by Woody, Andy's toys live happily in his ...</td>\n",
       "      <td>...</td>\n",
       "      <td>1995-10-30</td>\n",
       "      <td>373554033.0</td>\n",
       "      <td>81.0</td>\n",
       "      <td>[{'iso_639_1': 'en', 'name': 'English'}]</td>\n",
       "      <td>Released</td>\n",
       "      <td>NaN</td>\n",
       "      <td>Toy Story</td>\n",
       "      <td>False</td>\n",
       "      <td>7.7</td>\n",
       "      <td>5415.0</td>\n",
       "    </tr>\n",
       "    <tr>\n",
       "      <th>1</th>\n",
       "      <td>False</td>\n",
       "      <td>NaN</td>\n",
       "      <td>65000000</td>\n",
       "      <td>[{'id': 12, 'name': 'Adventure'}, {'id': 14, '...</td>\n",
       "      <td>NaN</td>\n",
       "      <td>8844</td>\n",
       "      <td>tt0113497</td>\n",
       "      <td>en</td>\n",
       "      <td>Jumanji</td>\n",
       "      <td>When siblings Judy and Peter discover an encha...</td>\n",
       "      <td>...</td>\n",
       "      <td>1995-12-15</td>\n",
       "      <td>262797249.0</td>\n",
       "      <td>104.0</td>\n",
       "      <td>[{'iso_639_1': 'en', 'name': 'English'}, {'iso...</td>\n",
       "      <td>Released</td>\n",
       "      <td>Roll the dice and unleash the excitement!</td>\n",
       "      <td>Jumanji</td>\n",
       "      <td>False</td>\n",
       "      <td>6.9</td>\n",
       "      <td>2413.0</td>\n",
       "    </tr>\n",
       "    <tr>\n",
       "      <th>2</th>\n",
       "      <td>False</td>\n",
       "      <td>{'id': 119050, 'name': 'Grumpy Old Men Collect...</td>\n",
       "      <td>0</td>\n",
       "      <td>[{'id': 10749, 'name': 'Romance'}, {'id': 35, ...</td>\n",
       "      <td>NaN</td>\n",
       "      <td>15602</td>\n",
       "      <td>tt0113228</td>\n",
       "      <td>en</td>\n",
       "      <td>Grumpier Old Men</td>\n",
       "      <td>A family wedding reignites the ancient feud be...</td>\n",
       "      <td>...</td>\n",
       "      <td>1995-12-22</td>\n",
       "      <td>0.0</td>\n",
       "      <td>101.0</td>\n",
       "      <td>[{'iso_639_1': 'en', 'name': 'English'}]</td>\n",
       "      <td>Released</td>\n",
       "      <td>Still Yelling. Still Fighting. Still Ready for...</td>\n",
       "      <td>Grumpier Old Men</td>\n",
       "      <td>False</td>\n",
       "      <td>6.5</td>\n",
       "      <td>92.0</td>\n",
       "    </tr>\n",
       "    <tr>\n",
       "      <th>3</th>\n",
       "      <td>False</td>\n",
       "      <td>NaN</td>\n",
       "      <td>16000000</td>\n",
       "      <td>[{'id': 35, 'name': 'Comedy'}, {'id': 18, 'nam...</td>\n",
       "      <td>NaN</td>\n",
       "      <td>31357</td>\n",
       "      <td>tt0114885</td>\n",
       "      <td>en</td>\n",
       "      <td>Waiting to Exhale</td>\n",
       "      <td>Cheated on, mistreated and stepped on, the wom...</td>\n",
       "      <td>...</td>\n",
       "      <td>1995-12-22</td>\n",
       "      <td>81452156.0</td>\n",
       "      <td>127.0</td>\n",
       "      <td>[{'iso_639_1': 'en', 'name': 'English'}]</td>\n",
       "      <td>Released</td>\n",
       "      <td>Friends are the people who let you be yourself...</td>\n",
       "      <td>Waiting to Exhale</td>\n",
       "      <td>False</td>\n",
       "      <td>6.1</td>\n",
       "      <td>34.0</td>\n",
       "    </tr>\n",
       "    <tr>\n",
       "      <th>4</th>\n",
       "      <td>False</td>\n",
       "      <td>{'id': 96871, 'name': 'Father of the Bride Col...</td>\n",
       "      <td>0</td>\n",
       "      <td>[{'id': 35, 'name': 'Comedy'}]</td>\n",
       "      <td>NaN</td>\n",
       "      <td>11862</td>\n",
       "      <td>tt0113041</td>\n",
       "      <td>en</td>\n",
       "      <td>Father of the Bride Part II</td>\n",
       "      <td>Just when George Banks has recovered from his ...</td>\n",
       "      <td>...</td>\n",
       "      <td>1995-02-10</td>\n",
       "      <td>76578911.0</td>\n",
       "      <td>106.0</td>\n",
       "      <td>[{'iso_639_1': 'en', 'name': 'English'}]</td>\n",
       "      <td>Released</td>\n",
       "      <td>Just When His World Is Back To Normal... He's ...</td>\n",
       "      <td>Father of the Bride Part II</td>\n",
       "      <td>False</td>\n",
       "      <td>5.7</td>\n",
       "      <td>173.0</td>\n",
       "    </tr>\n",
       "  </tbody>\n",
       "</table>\n",
       "<p>5 rows × 24 columns</p>\n",
       "</div>"
      ],
      "text/plain": [
       "   adult                              belongs_to_collection    budget  \\\n",
       "0  False  {'id': 10194, 'name': 'Toy Story Collection', ...  30000000   \n",
       "1  False                                                NaN  65000000   \n",
       "2  False  {'id': 119050, 'name': 'Grumpy Old Men Collect...         0   \n",
       "3  False                                                NaN  16000000   \n",
       "4  False  {'id': 96871, 'name': 'Father of the Bride Col...         0   \n",
       "\n",
       "                                              genres  \\\n",
       "0  [{'id': 16, 'name': 'Animation'}, {'id': 35, '...   \n",
       "1  [{'id': 12, 'name': 'Adventure'}, {'id': 14, '...   \n",
       "2  [{'id': 10749, 'name': 'Romance'}, {'id': 35, ...   \n",
       "3  [{'id': 35, 'name': 'Comedy'}, {'id': 18, 'nam...   \n",
       "4                     [{'id': 35, 'name': 'Comedy'}]   \n",
       "\n",
       "                               homepage     id    imdb_id original_language  \\\n",
       "0  http://toystory.disney.com/toy-story    862  tt0114709                en   \n",
       "1                                   NaN   8844  tt0113497                en   \n",
       "2                                   NaN  15602  tt0113228                en   \n",
       "3                                   NaN  31357  tt0114885                en   \n",
       "4                                   NaN  11862  tt0113041                en   \n",
       "\n",
       "                original_title  \\\n",
       "0                    Toy Story   \n",
       "1                      Jumanji   \n",
       "2             Grumpier Old Men   \n",
       "3            Waiting to Exhale   \n",
       "4  Father of the Bride Part II   \n",
       "\n",
       "                                            overview  ... release_date  \\\n",
       "0  Led by Woody, Andy's toys live happily in his ...  ...   1995-10-30   \n",
       "1  When siblings Judy and Peter discover an encha...  ...   1995-12-15   \n",
       "2  A family wedding reignites the ancient feud be...  ...   1995-12-22   \n",
       "3  Cheated on, mistreated and stepped on, the wom...  ...   1995-12-22   \n",
       "4  Just when George Banks has recovered from his ...  ...   1995-02-10   \n",
       "\n",
       "       revenue runtime                                   spoken_languages  \\\n",
       "0  373554033.0    81.0           [{'iso_639_1': 'en', 'name': 'English'}]   \n",
       "1  262797249.0   104.0  [{'iso_639_1': 'en', 'name': 'English'}, {'iso...   \n",
       "2          0.0   101.0           [{'iso_639_1': 'en', 'name': 'English'}]   \n",
       "3   81452156.0   127.0           [{'iso_639_1': 'en', 'name': 'English'}]   \n",
       "4   76578911.0   106.0           [{'iso_639_1': 'en', 'name': 'English'}]   \n",
       "\n",
       "     status                                            tagline  \\\n",
       "0  Released                                                NaN   \n",
       "1  Released          Roll the dice and unleash the excitement!   \n",
       "2  Released  Still Yelling. Still Fighting. Still Ready for...   \n",
       "3  Released  Friends are the people who let you be yourself...   \n",
       "4  Released  Just When His World Is Back To Normal... He's ...   \n",
       "\n",
       "                         title  video vote_average vote_count  \n",
       "0                    Toy Story  False          7.7     5415.0  \n",
       "1                      Jumanji  False          6.9     2413.0  \n",
       "2             Grumpier Old Men  False          6.5       92.0  \n",
       "3            Waiting to Exhale  False          6.1       34.0  \n",
       "4  Father of the Bride Part II  False          5.7      173.0  \n",
       "\n",
       "[5 rows x 24 columns]"
      ]
     },
     "execution_count": 1,
     "metadata": {},
     "output_type": "execute_result"
    }
   ],
   "source": [
    "import pandas as pd\n",
    "\n",
    "md = pd.read_csv('./data/movies_metadata.csv')\n",
    "md.head()"
   ]
  },
  {
   "cell_type": "code",
   "execution_count": 2,
   "metadata": {},
   "outputs": [
    {
     "data": {
      "text/html": [
       "<div>\n",
       "<style scoped>\n",
       "    .dataframe tbody tr th:only-of-type {\n",
       "        vertical-align: middle;\n",
       "    }\n",
       "\n",
       "    .dataframe tbody tr th {\n",
       "        vertical-align: top;\n",
       "    }\n",
       "\n",
       "    .dataframe thead th {\n",
       "        text-align: right;\n",
       "    }\n",
       "</style>\n",
       "<table border=\"1\" class=\"dataframe\">\n",
       "  <thead>\n",
       "    <tr style=\"text-align: right;\">\n",
       "      <th></th>\n",
       "      <th>adult</th>\n",
       "      <th>belongs_to_collection</th>\n",
       "      <th>budget</th>\n",
       "      <th>genres</th>\n",
       "      <th>homepage</th>\n",
       "      <th>id</th>\n",
       "      <th>imdb_id</th>\n",
       "      <th>original_language</th>\n",
       "      <th>original_title</th>\n",
       "      <th>overview</th>\n",
       "      <th>...</th>\n",
       "      <th>release_date</th>\n",
       "      <th>revenue</th>\n",
       "      <th>runtime</th>\n",
       "      <th>spoken_languages</th>\n",
       "      <th>status</th>\n",
       "      <th>tagline</th>\n",
       "      <th>title</th>\n",
       "      <th>video</th>\n",
       "      <th>vote_average</th>\n",
       "      <th>vote_count</th>\n",
       "    </tr>\n",
       "  </thead>\n",
       "  <tbody>\n",
       "    <tr>\n",
       "      <th>0</th>\n",
       "      <td>False</td>\n",
       "      <td>{'id': 10194, 'name': 'Toy Story Collection', ...</td>\n",
       "      <td>30000000</td>\n",
       "      <td>[Animation, Comedy, Family]</td>\n",
       "      <td>http://toystory.disney.com/toy-story</td>\n",
       "      <td>862</td>\n",
       "      <td>tt0114709</td>\n",
       "      <td>en</td>\n",
       "      <td>Toy Story</td>\n",
       "      <td>Led by Woody, Andy's toys live happily in his ...</td>\n",
       "      <td>...</td>\n",
       "      <td>1995-10-30</td>\n",
       "      <td>373554033.0</td>\n",
       "      <td>81.0</td>\n",
       "      <td>[{'iso_639_1': 'en', 'name': 'English'}]</td>\n",
       "      <td>Released</td>\n",
       "      <td>NaN</td>\n",
       "      <td>Toy Story</td>\n",
       "      <td>False</td>\n",
       "      <td>7.7</td>\n",
       "      <td>5415.0</td>\n",
       "    </tr>\n",
       "    <tr>\n",
       "      <th>1</th>\n",
       "      <td>False</td>\n",
       "      <td>NaN</td>\n",
       "      <td>65000000</td>\n",
       "      <td>[Adventure, Fantasy, Family]</td>\n",
       "      <td>NaN</td>\n",
       "      <td>8844</td>\n",
       "      <td>tt0113497</td>\n",
       "      <td>en</td>\n",
       "      <td>Jumanji</td>\n",
       "      <td>When siblings Judy and Peter discover an encha...</td>\n",
       "      <td>...</td>\n",
       "      <td>1995-12-15</td>\n",
       "      <td>262797249.0</td>\n",
       "      <td>104.0</td>\n",
       "      <td>[{'iso_639_1': 'en', 'name': 'English'}, {'iso...</td>\n",
       "      <td>Released</td>\n",
       "      <td>Roll the dice and unleash the excitement!</td>\n",
       "      <td>Jumanji</td>\n",
       "      <td>False</td>\n",
       "      <td>6.9</td>\n",
       "      <td>2413.0</td>\n",
       "    </tr>\n",
       "    <tr>\n",
       "      <th>2</th>\n",
       "      <td>False</td>\n",
       "      <td>{'id': 119050, 'name': 'Grumpy Old Men Collect...</td>\n",
       "      <td>0</td>\n",
       "      <td>[Romance, Comedy]</td>\n",
       "      <td>NaN</td>\n",
       "      <td>15602</td>\n",
       "      <td>tt0113228</td>\n",
       "      <td>en</td>\n",
       "      <td>Grumpier Old Men</td>\n",
       "      <td>A family wedding reignites the ancient feud be...</td>\n",
       "      <td>...</td>\n",
       "      <td>1995-12-22</td>\n",
       "      <td>0.0</td>\n",
       "      <td>101.0</td>\n",
       "      <td>[{'iso_639_1': 'en', 'name': 'English'}]</td>\n",
       "      <td>Released</td>\n",
       "      <td>Still Yelling. Still Fighting. Still Ready for...</td>\n",
       "      <td>Grumpier Old Men</td>\n",
       "      <td>False</td>\n",
       "      <td>6.5</td>\n",
       "      <td>92.0</td>\n",
       "    </tr>\n",
       "    <tr>\n",
       "      <th>3</th>\n",
       "      <td>False</td>\n",
       "      <td>NaN</td>\n",
       "      <td>16000000</td>\n",
       "      <td>[Comedy, Drama, Romance]</td>\n",
       "      <td>NaN</td>\n",
       "      <td>31357</td>\n",
       "      <td>tt0114885</td>\n",
       "      <td>en</td>\n",
       "      <td>Waiting to Exhale</td>\n",
       "      <td>Cheated on, mistreated and stepped on, the wom...</td>\n",
       "      <td>...</td>\n",
       "      <td>1995-12-22</td>\n",
       "      <td>81452156.0</td>\n",
       "      <td>127.0</td>\n",
       "      <td>[{'iso_639_1': 'en', 'name': 'English'}]</td>\n",
       "      <td>Released</td>\n",
       "      <td>Friends are the people who let you be yourself...</td>\n",
       "      <td>Waiting to Exhale</td>\n",
       "      <td>False</td>\n",
       "      <td>6.1</td>\n",
       "      <td>34.0</td>\n",
       "    </tr>\n",
       "    <tr>\n",
       "      <th>4</th>\n",
       "      <td>False</td>\n",
       "      <td>{'id': 96871, 'name': 'Father of the Bride Col...</td>\n",
       "      <td>0</td>\n",
       "      <td>[Comedy]</td>\n",
       "      <td>NaN</td>\n",
       "      <td>11862</td>\n",
       "      <td>tt0113041</td>\n",
       "      <td>en</td>\n",
       "      <td>Father of the Bride Part II</td>\n",
       "      <td>Just when George Banks has recovered from his ...</td>\n",
       "      <td>...</td>\n",
       "      <td>1995-02-10</td>\n",
       "      <td>76578911.0</td>\n",
       "      <td>106.0</td>\n",
       "      <td>[{'iso_639_1': 'en', 'name': 'English'}]</td>\n",
       "      <td>Released</td>\n",
       "      <td>Just When His World Is Back To Normal... He's ...</td>\n",
       "      <td>Father of the Bride Part II</td>\n",
       "      <td>False</td>\n",
       "      <td>5.7</td>\n",
       "      <td>173.0</td>\n",
       "    </tr>\n",
       "  </tbody>\n",
       "</table>\n",
       "<p>5 rows × 24 columns</p>\n",
       "</div>"
      ],
      "text/plain": [
       "   adult                              belongs_to_collection    budget  \\\n",
       "0  False  {'id': 10194, 'name': 'Toy Story Collection', ...  30000000   \n",
       "1  False                                                NaN  65000000   \n",
       "2  False  {'id': 119050, 'name': 'Grumpy Old Men Collect...         0   \n",
       "3  False                                                NaN  16000000   \n",
       "4  False  {'id': 96871, 'name': 'Father of the Bride Col...         0   \n",
       "\n",
       "                         genres                              homepage     id  \\\n",
       "0   [Animation, Comedy, Family]  http://toystory.disney.com/toy-story    862   \n",
       "1  [Adventure, Fantasy, Family]                                   NaN   8844   \n",
       "2             [Romance, Comedy]                                   NaN  15602   \n",
       "3      [Comedy, Drama, Romance]                                   NaN  31357   \n",
       "4                      [Comedy]                                   NaN  11862   \n",
       "\n",
       "     imdb_id original_language               original_title  \\\n",
       "0  tt0114709                en                    Toy Story   \n",
       "1  tt0113497                en                      Jumanji   \n",
       "2  tt0113228                en             Grumpier Old Men   \n",
       "3  tt0114885                en            Waiting to Exhale   \n",
       "4  tt0113041                en  Father of the Bride Part II   \n",
       "\n",
       "                                            overview  ... release_date  \\\n",
       "0  Led by Woody, Andy's toys live happily in his ...  ...   1995-10-30   \n",
       "1  When siblings Judy and Peter discover an encha...  ...   1995-12-15   \n",
       "2  A family wedding reignites the ancient feud be...  ...   1995-12-22   \n",
       "3  Cheated on, mistreated and stepped on, the wom...  ...   1995-12-22   \n",
       "4  Just when George Banks has recovered from his ...  ...   1995-02-10   \n",
       "\n",
       "       revenue runtime                                   spoken_languages  \\\n",
       "0  373554033.0    81.0           [{'iso_639_1': 'en', 'name': 'English'}]   \n",
       "1  262797249.0   104.0  [{'iso_639_1': 'en', 'name': 'English'}, {'iso...   \n",
       "2          0.0   101.0           [{'iso_639_1': 'en', 'name': 'English'}]   \n",
       "3   81452156.0   127.0           [{'iso_639_1': 'en', 'name': 'English'}]   \n",
       "4   76578911.0   106.0           [{'iso_639_1': 'en', 'name': 'English'}]   \n",
       "\n",
       "     status                                            tagline  \\\n",
       "0  Released                                                NaN   \n",
       "1  Released          Roll the dice and unleash the excitement!   \n",
       "2  Released  Still Yelling. Still Fighting. Still Ready for...   \n",
       "3  Released  Friends are the people who let you be yourself...   \n",
       "4  Released  Just When His World Is Back To Normal... He's ...   \n",
       "\n",
       "                         title  video vote_average vote_count  \n",
       "0                    Toy Story  False          7.7     5415.0  \n",
       "1                      Jumanji  False          6.9     2413.0  \n",
       "2             Grumpier Old Men  False          6.5       92.0  \n",
       "3            Waiting to Exhale  False          6.1       34.0  \n",
       "4  Father of the Bride Part II  False          5.7      173.0  \n",
       "\n",
       "[5 rows x 24 columns]"
      ]
     },
     "execution_count": 2,
     "metadata": {},
     "output_type": "execute_result"
    }
   ],
   "source": [
    "import pandas as pd\n",
    "import ast\n",
    "\n",
    "\n",
    "# Convert string representation of dictionaries to actual dictionaries\n",
    "md['genres'] = md['genres'].apply(ast.literal_eval)\n",
    "\n",
    "# Transforming the 'genres' column\n",
    "md['genres'] = md['genres'].apply(lambda x: [genre['name'] for genre in x])\n",
    "\n",
    "md.head()"
   ]
  },
  {
   "cell_type": "code",
   "execution_count": 3,
   "metadata": {},
   "outputs": [
    {
     "data": {
      "text/html": [
       "<div>\n",
       "<style scoped>\n",
       "    .dataframe tbody tr th:only-of-type {\n",
       "        vertical-align: middle;\n",
       "    }\n",
       "\n",
       "    .dataframe tbody tr th {\n",
       "        vertical-align: top;\n",
       "    }\n",
       "\n",
       "    .dataframe thead th {\n",
       "        text-align: right;\n",
       "    }\n",
       "</style>\n",
       "<table border=\"1\" class=\"dataframe\">\n",
       "  <thead>\n",
       "    <tr style=\"text-align: right;\">\n",
       "      <th></th>\n",
       "      <th>adult</th>\n",
       "      <th>belongs_to_collection</th>\n",
       "      <th>budget</th>\n",
       "      <th>genres</th>\n",
       "      <th>homepage</th>\n",
       "      <th>id</th>\n",
       "      <th>imdb_id</th>\n",
       "      <th>original_language</th>\n",
       "      <th>original_title</th>\n",
       "      <th>overview</th>\n",
       "      <th>...</th>\n",
       "      <th>revenue</th>\n",
       "      <th>runtime</th>\n",
       "      <th>spoken_languages</th>\n",
       "      <th>status</th>\n",
       "      <th>tagline</th>\n",
       "      <th>title</th>\n",
       "      <th>video</th>\n",
       "      <th>vote_average</th>\n",
       "      <th>vote_count</th>\n",
       "      <th>weighted_rate</th>\n",
       "    </tr>\n",
       "  </thead>\n",
       "  <tbody>\n",
       "    <tr>\n",
       "      <th>0</th>\n",
       "      <td>False</td>\n",
       "      <td>{'id': 10194, 'name': 'Toy Story Collection', ...</td>\n",
       "      <td>30000000</td>\n",
       "      <td>[Animation, Comedy, Family]</td>\n",
       "      <td>http://toystory.disney.com/toy-story</td>\n",
       "      <td>862</td>\n",
       "      <td>tt0114709</td>\n",
       "      <td>en</td>\n",
       "      <td>Toy Story</td>\n",
       "      <td>Led by Woody, Andy's toys live happily in his ...</td>\n",
       "      <td>...</td>\n",
       "      <td>373554033.0</td>\n",
       "      <td>81.0</td>\n",
       "      <td>[{'iso_639_1': 'en', 'name': 'English'}]</td>\n",
       "      <td>Released</td>\n",
       "      <td>NaN</td>\n",
       "      <td>Toy Story</td>\n",
       "      <td>False</td>\n",
       "      <td>7.7</td>\n",
       "      <td>5415.0</td>\n",
       "      <td>7.499658</td>\n",
       "    </tr>\n",
       "    <tr>\n",
       "      <th>1</th>\n",
       "      <td>False</td>\n",
       "      <td>NaN</td>\n",
       "      <td>65000000</td>\n",
       "      <td>[Adventure, Fantasy, Family]</td>\n",
       "      <td>NaN</td>\n",
       "      <td>8844</td>\n",
       "      <td>tt0113497</td>\n",
       "      <td>en</td>\n",
       "      <td>Jumanji</td>\n",
       "      <td>When siblings Judy and Peter discover an encha...</td>\n",
       "      <td>...</td>\n",
       "      <td>262797249.0</td>\n",
       "      <td>104.0</td>\n",
       "      <td>[{'iso_639_1': 'en', 'name': 'English'}, {'iso...</td>\n",
       "      <td>Released</td>\n",
       "      <td>Roll the dice and unleash the excitement!</td>\n",
       "      <td>Jumanji</td>\n",
       "      <td>False</td>\n",
       "      <td>6.9</td>\n",
       "      <td>2413.0</td>\n",
       "      <td>6.610362</td>\n",
       "    </tr>\n",
       "    <tr>\n",
       "      <th>2</th>\n",
       "      <td>False</td>\n",
       "      <td>{'id': 119050, 'name': 'Grumpy Old Men Collect...</td>\n",
       "      <td>0</td>\n",
       "      <td>[Romance, Comedy]</td>\n",
       "      <td>NaN</td>\n",
       "      <td>15602</td>\n",
       "      <td>tt0113228</td>\n",
       "      <td>en</td>\n",
       "      <td>Grumpier Old Men</td>\n",
       "      <td>A family wedding reignites the ancient feud be...</td>\n",
       "      <td>...</td>\n",
       "      <td>0.0</td>\n",
       "      <td>101.0</td>\n",
       "      <td>[{'iso_639_1': 'en', 'name': 'English'}]</td>\n",
       "      <td>Released</td>\n",
       "      <td>Still Yelling. Still Fighting. Still Ready for...</td>\n",
       "      <td>Grumpier Old Men</td>\n",
       "      <td>False</td>\n",
       "      <td>6.5</td>\n",
       "      <td>92.0</td>\n",
       "      <td>5.262357</td>\n",
       "    </tr>\n",
       "    <tr>\n",
       "      <th>3</th>\n",
       "      <td>False</td>\n",
       "      <td>NaN</td>\n",
       "      <td>16000000</td>\n",
       "      <td>[Comedy, Drama, Romance]</td>\n",
       "      <td>NaN</td>\n",
       "      <td>31357</td>\n",
       "      <td>tt0114885</td>\n",
       "      <td>en</td>\n",
       "      <td>Waiting to Exhale</td>\n",
       "      <td>Cheated on, mistreated and stepped on, the wom...</td>\n",
       "      <td>...</td>\n",
       "      <td>81452156.0</td>\n",
       "      <td>127.0</td>\n",
       "      <td>[{'iso_639_1': 'en', 'name': 'English'}]</td>\n",
       "      <td>Released</td>\n",
       "      <td>Friends are the people who let you be yourself...</td>\n",
       "      <td>Waiting to Exhale</td>\n",
       "      <td>False</td>\n",
       "      <td>6.1</td>\n",
       "      <td>34.0</td>\n",
       "      <td>5.079915</td>\n",
       "    </tr>\n",
       "    <tr>\n",
       "      <th>4</th>\n",
       "      <td>False</td>\n",
       "      <td>{'id': 96871, 'name': 'Father of the Bride Col...</td>\n",
       "      <td>0</td>\n",
       "      <td>[Comedy]</td>\n",
       "      <td>NaN</td>\n",
       "      <td>11862</td>\n",
       "      <td>tt0113041</td>\n",
       "      <td>en</td>\n",
       "      <td>Father of the Bride Part II</td>\n",
       "      <td>Just when George Banks has recovered from his ...</td>\n",
       "      <td>...</td>\n",
       "      <td>76578911.0</td>\n",
       "      <td>106.0</td>\n",
       "      <td>[{'iso_639_1': 'en', 'name': 'English'}]</td>\n",
       "      <td>Released</td>\n",
       "      <td>Just When His World Is Back To Normal... He's ...</td>\n",
       "      <td>Father of the Bride Part II</td>\n",
       "      <td>False</td>\n",
       "      <td>5.7</td>\n",
       "      <td>173.0</td>\n",
       "      <td>5.199506</td>\n",
       "    </tr>\n",
       "  </tbody>\n",
       "</table>\n",
       "<p>5 rows × 25 columns</p>\n",
       "</div>"
      ],
      "text/plain": [
       "   adult                              belongs_to_collection    budget  \\\n",
       "0  False  {'id': 10194, 'name': 'Toy Story Collection', ...  30000000   \n",
       "1  False                                                NaN  65000000   \n",
       "2  False  {'id': 119050, 'name': 'Grumpy Old Men Collect...         0   \n",
       "3  False                                                NaN  16000000   \n",
       "4  False  {'id': 96871, 'name': 'Father of the Bride Col...         0   \n",
       "\n",
       "                         genres                              homepage     id  \\\n",
       "0   [Animation, Comedy, Family]  http://toystory.disney.com/toy-story    862   \n",
       "1  [Adventure, Fantasy, Family]                                   NaN   8844   \n",
       "2             [Romance, Comedy]                                   NaN  15602   \n",
       "3      [Comedy, Drama, Romance]                                   NaN  31357   \n",
       "4                      [Comedy]                                   NaN  11862   \n",
       "\n",
       "     imdb_id original_language               original_title  \\\n",
       "0  tt0114709                en                    Toy Story   \n",
       "1  tt0113497                en                      Jumanji   \n",
       "2  tt0113228                en             Grumpier Old Men   \n",
       "3  tt0114885                en            Waiting to Exhale   \n",
       "4  tt0113041                en  Father of the Bride Part II   \n",
       "\n",
       "                                            overview  ...      revenue  \\\n",
       "0  Led by Woody, Andy's toys live happily in his ...  ...  373554033.0   \n",
       "1  When siblings Judy and Peter discover an encha...  ...  262797249.0   \n",
       "2  A family wedding reignites the ancient feud be...  ...          0.0   \n",
       "3  Cheated on, mistreated and stepped on, the wom...  ...   81452156.0   \n",
       "4  Just when George Banks has recovered from his ...  ...   76578911.0   \n",
       "\n",
       "  runtime                                   spoken_languages    status  \\\n",
       "0    81.0           [{'iso_639_1': 'en', 'name': 'English'}]  Released   \n",
       "1   104.0  [{'iso_639_1': 'en', 'name': 'English'}, {'iso...  Released   \n",
       "2   101.0           [{'iso_639_1': 'en', 'name': 'English'}]  Released   \n",
       "3   127.0           [{'iso_639_1': 'en', 'name': 'English'}]  Released   \n",
       "4   106.0           [{'iso_639_1': 'en', 'name': 'English'}]  Released   \n",
       "\n",
       "                                             tagline  \\\n",
       "0                                                NaN   \n",
       "1          Roll the dice and unleash the excitement!   \n",
       "2  Still Yelling. Still Fighting. Still Ready for...   \n",
       "3  Friends are the people who let you be yourself...   \n",
       "4  Just When His World Is Back To Normal... He's ...   \n",
       "\n",
       "                         title  video vote_average vote_count weighted_rate  \n",
       "0                    Toy Story  False          7.7     5415.0      7.499658  \n",
       "1                      Jumanji  False          6.9     2413.0      6.610362  \n",
       "2             Grumpier Old Men  False          6.5       92.0      5.262357  \n",
       "3            Waiting to Exhale  False          6.1       34.0      5.079915  \n",
       "4  Father of the Bride Part II  False          5.7      173.0      5.199506  \n",
       "\n",
       "[5 rows x 25 columns]"
      ]
     },
     "execution_count": 3,
     "metadata": {},
     "output_type": "execute_result"
    }
   ],
   "source": [
    "# Calculate weighted rate (IMDb formula)\n",
    "def calculate_weighted_rate(vote_average, vote_count, min_vote_count=10):\n",
    "    return (vote_count / (vote_count + min_vote_count)) * vote_average + (min_vote_count / (vote_count + min_vote_count)) * 5.0\n",
    "\n",
    "# Minimum vote count to prevent skewed results\n",
    "vote_counts = md[md['vote_count'].notnull()]['vote_count'].astype('int')\n",
    "min_vote_count = vote_counts.quantile(0.95)\n",
    "\n",
    "# Create a new column 'weighted_rate'\n",
    "md['weighted_rate'] = md.apply(lambda row: calculate_weighted_rate(row['vote_average'], row['vote_count'], min_vote_count), axis=1)\n",
    "md.head()"
   ]
  },
  {
   "cell_type": "code",
   "execution_count": 4,
   "metadata": {},
   "outputs": [],
   "source": [
    "md = md.dropna()"
   ]
  },
  {
   "cell_type": "code",
   "execution_count": 5,
   "metadata": {},
   "outputs": [
    {
     "data": {
      "text/html": [
       "<div>\n",
       "<style scoped>\n",
       "    .dataframe tbody tr th:only-of-type {\n",
       "        vertical-align: middle;\n",
       "    }\n",
       "\n",
       "    .dataframe tbody tr th {\n",
       "        vertical-align: top;\n",
       "    }\n",
       "\n",
       "    .dataframe thead th {\n",
       "        text-align: right;\n",
       "    }\n",
       "</style>\n",
       "<table border=\"1\" class=\"dataframe\">\n",
       "  <thead>\n",
       "    <tr style=\"text-align: right;\">\n",
       "      <th></th>\n",
       "      <th>genres</th>\n",
       "      <th>title</th>\n",
       "      <th>overview</th>\n",
       "      <th>weighted_rate</th>\n",
       "    </tr>\n",
       "  </thead>\n",
       "  <tbody>\n",
       "    <tr>\n",
       "      <th>0</th>\n",
       "      <td>[Adventure, Action, Thriller]</td>\n",
       "      <td>GoldenEye</td>\n",
       "      <td>James Bond must unmask the mysterious head of ...</td>\n",
       "      <td>6.173464</td>\n",
       "    </tr>\n",
       "    <tr>\n",
       "      <th>1</th>\n",
       "      <td>[Comedy]</td>\n",
       "      <td>Friday</td>\n",
       "      <td>Craig and Smokey are two guys in Los Angeles h...</td>\n",
       "      <td>6.083421</td>\n",
       "    </tr>\n",
       "    <tr>\n",
       "      <th>2</th>\n",
       "      <td>[Horror, Action, Thriller, Crime]</td>\n",
       "      <td>From Dusk Till Dawn</td>\n",
       "      <td>Seth Gecko and his younger brother Richard are...</td>\n",
       "      <td>6.503176</td>\n",
       "    </tr>\n",
       "    <tr>\n",
       "      <th>3</th>\n",
       "      <td>[Comedy]</td>\n",
       "      <td>Blue in the Face</td>\n",
       "      <td>Auggie runs a small tobacco shop in Brooklyn, ...</td>\n",
       "      <td>5.109091</td>\n",
       "    </tr>\n",
       "    <tr>\n",
       "      <th>4</th>\n",
       "      <td>[Action, Adventure, Science Fiction, Family, F...</td>\n",
       "      <td>Mighty Morphin Power Rangers: The Movie</td>\n",
       "      <td>Power up with six incredible teens who out-man...</td>\n",
       "      <td>5.052129</td>\n",
       "    </tr>\n",
       "  </tbody>\n",
       "</table>\n",
       "</div>"
      ],
      "text/plain": [
       "                                              genres  \\\n",
       "0                      [Adventure, Action, Thriller]   \n",
       "1                                           [Comedy]   \n",
       "2                  [Horror, Action, Thriller, Crime]   \n",
       "3                                           [Comedy]   \n",
       "4  [Action, Adventure, Science Fiction, Family, F...   \n",
       "\n",
       "                                     title  \\\n",
       "0                                GoldenEye   \n",
       "1                                   Friday   \n",
       "2                      From Dusk Till Dawn   \n",
       "3                         Blue in the Face   \n",
       "4  Mighty Morphin Power Rangers: The Movie   \n",
       "\n",
       "                                            overview  weighted_rate  \n",
       "0  James Bond must unmask the mysterious head of ...       6.173464  \n",
       "1  Craig and Smokey are two guys in Los Angeles h...       6.083421  \n",
       "2  Seth Gecko and his younger brother Richard are...       6.503176  \n",
       "3  Auggie runs a small tobacco shop in Brooklyn, ...       5.109091  \n",
       "4  Power up with six incredible teens who out-man...       5.052129  "
      ]
     },
     "execution_count": 5,
     "metadata": {},
     "output_type": "execute_result"
    }
   ],
   "source": [
    "md_final = md[['genres', 'title', 'overview', 'weighted_rate']].reset_index(drop=True)\n",
    "md_final.head()"
   ]
  },
  {
   "cell_type": "code",
   "execution_count": 6,
   "metadata": {},
   "outputs": [
    {
     "data": {
      "text/plain": [
       "'Title: Jurassic Park. Overview: A wealthy entrepreneur secretly creates a theme park featuring living dinosaurs drawn from prehistoric DNA. Before opening day, he invites a team of experts and his two eager grandchildren to experience the park and help calm anxious investors. However, the park is anything but amusing as the security systems go off-line and the dinosaurs escape. Genres: Adventure, Science Fiction. Rating: 7.39064935064935'"
      ]
     },
     "execution_count": 6,
     "metadata": {},
     "output_type": "execute_result"
    }
   ],
   "source": [
    "# Create a new column by combining 'title', 'overview', and 'genre'\n",
    "md_final['combined_info'] = md_final.apply(lambda row: f\"Title: {row['title']}. Overview: {row['overview']} Genres: {', '.join(row['genres'])}. Rating: {row['weighted_rate']}\", axis=1)\n",
    "md_final['combined_info'][9]"
   ]
  },
  {
   "cell_type": "markdown",
   "metadata": {},
   "source": [
    "## Embeddings"
   ]
  },
  {
   "cell_type": "code",
   "execution_count": 7,
   "metadata": {},
   "outputs": [
    {
     "data": {
      "text/plain": [
       "693"
      ]
     },
     "execution_count": 7,
     "metadata": {},
     "output_type": "execute_result"
    }
   ],
   "source": [
    "# imports\n",
    "import pandas as pd\n",
    "import tiktoken\n",
    "import os\n",
    "import openai\n",
    "\n",
    "openai.api_key = os.environ[\"OPENAI_API_KEY\"]\n",
    "\n",
    "# from openai.embeddings_utils import get_embedding\n",
    "\n",
    "from openai import OpenAI\n",
    "# client = OpenAI(api_key=\"YOUR_API_KEY\")\n",
    "client = OpenAI()\n",
    "\n",
    "def get_embedding(text, model=\"text-embedding-ada-002\"):\n",
    "    text = text.replace(\"\\n\", \" \")\n",
    "    return client.embeddings.create(input = [text], \n",
    "                                    model=model).data[0].embedding\n",
    "\n",
    "# embedding model parameters\n",
    "embedding_model = \"text-embedding-ada-002\"\n",
    "embedding_encoding = \"cl100k_base\"  # this the encoding for text-embedding-ada-002\n",
    "max_tokens = 8000  # the maximum for text-embedding-ada-002 is 8191\n",
    "\n",
    "encoding = tiktoken.get_encoding(embedding_encoding)\n",
    "\n",
    "# omit reviews that are too long to embed\n",
    "md_final[\"n_tokens\"] = md_final.combined_info.apply(lambda x: len(encoding.encode(x)))\n",
    "md_final = md_final[md_final.n_tokens <= max_tokens]\n",
    "len(md_final)"
   ]
  },
  {
   "cell_type": "code",
   "execution_count": 8,
   "metadata": {},
   "outputs": [
    {
     "data": {
      "text/html": [
       "<div>\n",
       "<style scoped>\n",
       "    .dataframe tbody tr th:only-of-type {\n",
       "        vertical-align: middle;\n",
       "    }\n",
       "\n",
       "    .dataframe tbody tr th {\n",
       "        vertical-align: top;\n",
       "    }\n",
       "\n",
       "    .dataframe thead th {\n",
       "        text-align: right;\n",
       "    }\n",
       "</style>\n",
       "<table border=\"1\" class=\"dataframe\">\n",
       "  <thead>\n",
       "    <tr style=\"text-align: right;\">\n",
       "      <th></th>\n",
       "      <th>genres</th>\n",
       "      <th>title</th>\n",
       "      <th>overview</th>\n",
       "      <th>weighted_rate</th>\n",
       "      <th>combined_info</th>\n",
       "      <th>n_tokens</th>\n",
       "    </tr>\n",
       "  </thead>\n",
       "  <tbody>\n",
       "    <tr>\n",
       "      <th>0</th>\n",
       "      <td>[Adventure, Action, Thriller]</td>\n",
       "      <td>GoldenEye</td>\n",
       "      <td>James Bond must unmask the mysterious head of ...</td>\n",
       "      <td>6.173464</td>\n",
       "      <td>Title: GoldenEye. Overview: James Bond must un...</td>\n",
       "      <td>59</td>\n",
       "    </tr>\n",
       "    <tr>\n",
       "      <th>1</th>\n",
       "      <td>[Comedy]</td>\n",
       "      <td>Friday</td>\n",
       "      <td>Craig and Smokey are two guys in Los Angeles h...</td>\n",
       "      <td>6.083421</td>\n",
       "      <td>Title: Friday. Overview: Craig and Smokey are ...</td>\n",
       "      <td>52</td>\n",
       "    </tr>\n",
       "    <tr>\n",
       "      <th>2</th>\n",
       "      <td>[Horror, Action, Thriller, Crime]</td>\n",
       "      <td>From Dusk Till Dawn</td>\n",
       "      <td>Seth Gecko and his younger brother Richard are...</td>\n",
       "      <td>6.503176</td>\n",
       "      <td>Title: From Dusk Till Dawn. Overview: Seth Gec...</td>\n",
       "      <td>105</td>\n",
       "    </tr>\n",
       "    <tr>\n",
       "      <th>3</th>\n",
       "      <td>[Comedy]</td>\n",
       "      <td>Blue in the Face</td>\n",
       "      <td>Auggie runs a small tobacco shop in Brooklyn, ...</td>\n",
       "      <td>5.109091</td>\n",
       "      <td>Title: Blue in the Face. Overview: Auggie runs...</td>\n",
       "      <td>87</td>\n",
       "    </tr>\n",
       "    <tr>\n",
       "      <th>4</th>\n",
       "      <td>[Action, Adventure, Science Fiction, Family, F...</td>\n",
       "      <td>Mighty Morphin Power Rangers: The Movie</td>\n",
       "      <td>Power up with six incredible teens who out-man...</td>\n",
       "      <td>5.052129</td>\n",
       "      <td>Title: Mighty Morphin Power Rangers: The Movie...</td>\n",
       "      <td>89</td>\n",
       "    </tr>\n",
       "  </tbody>\n",
       "</table>\n",
       "</div>"
      ],
      "text/plain": [
       "                                              genres  \\\n",
       "0                      [Adventure, Action, Thriller]   \n",
       "1                                           [Comedy]   \n",
       "2                  [Horror, Action, Thriller, Crime]   \n",
       "3                                           [Comedy]   \n",
       "4  [Action, Adventure, Science Fiction, Family, F...   \n",
       "\n",
       "                                     title  \\\n",
       "0                                GoldenEye   \n",
       "1                                   Friday   \n",
       "2                      From Dusk Till Dawn   \n",
       "3                         Blue in the Face   \n",
       "4  Mighty Morphin Power Rangers: The Movie   \n",
       "\n",
       "                                            overview  weighted_rate  \\\n",
       "0  James Bond must unmask the mysterious head of ...       6.173464   \n",
       "1  Craig and Smokey are two guys in Los Angeles h...       6.083421   \n",
       "2  Seth Gecko and his younger brother Richard are...       6.503176   \n",
       "3  Auggie runs a small tobacco shop in Brooklyn, ...       5.109091   \n",
       "4  Power up with six incredible teens who out-man...       5.052129   \n",
       "\n",
       "                                       combined_info  n_tokens  \n",
       "0  Title: GoldenEye. Overview: James Bond must un...        59  \n",
       "1  Title: Friday. Overview: Craig and Smokey are ...        52  \n",
       "2  Title: From Dusk Till Dawn. Overview: Seth Gec...       105  \n",
       "3  Title: Blue in the Face. Overview: Auggie runs...        87  \n",
       "4  Title: Mighty Morphin Power Rangers: The Movie...        89  "
      ]
     },
     "execution_count": 8,
     "metadata": {},
     "output_type": "execute_result"
    }
   ],
   "source": [
    "md_final.head()"
   ]
  },
  {
   "cell_type": "code",
   "execution_count": 9,
   "metadata": {},
   "outputs": [
    {
     "data": {
      "text/html": [
       "<div>\n",
       "<style scoped>\n",
       "    .dataframe tbody tr th:only-of-type {\n",
       "        vertical-align: middle;\n",
       "    }\n",
       "\n",
       "    .dataframe tbody tr th {\n",
       "        vertical-align: top;\n",
       "    }\n",
       "\n",
       "    .dataframe thead th {\n",
       "        text-align: right;\n",
       "    }\n",
       "</style>\n",
       "<table border=\"1\" class=\"dataframe\">\n",
       "  <thead>\n",
       "    <tr style=\"text-align: right;\">\n",
       "      <th></th>\n",
       "      <th>genres</th>\n",
       "      <th>title</th>\n",
       "      <th>overview</th>\n",
       "      <th>weighted_rate</th>\n",
       "      <th>combined_info</th>\n",
       "      <th>n_tokens</th>\n",
       "      <th>embedding</th>\n",
       "    </tr>\n",
       "  </thead>\n",
       "  <tbody>\n",
       "    <tr>\n",
       "      <th>0</th>\n",
       "      <td>[Adventure, Action, Thriller]</td>\n",
       "      <td>GoldenEye</td>\n",
       "      <td>James Bond must unmask the mysterious head of ...</td>\n",
       "      <td>6.173464</td>\n",
       "      <td>Title: GoldenEye. Overview: James Bond must un...</td>\n",
       "      <td>59</td>\n",
       "      <td>[-0.02330085262656212, -0.01597847416996956, -...</td>\n",
       "    </tr>\n",
       "    <tr>\n",
       "      <th>1</th>\n",
       "      <td>[Comedy]</td>\n",
       "      <td>Friday</td>\n",
       "      <td>Craig and Smokey are two guys in Los Angeles h...</td>\n",
       "      <td>6.083421</td>\n",
       "      <td>Title: Friday. Overview: Craig and Smokey are ...</td>\n",
       "      <td>52</td>\n",
       "      <td>[0.001594626810401678, -0.010798700153827667, ...</td>\n",
       "    </tr>\n",
       "    <tr>\n",
       "      <th>2</th>\n",
       "      <td>[Horror, Action, Thriller, Crime]</td>\n",
       "      <td>From Dusk Till Dawn</td>\n",
       "      <td>Seth Gecko and his younger brother Richard are...</td>\n",
       "      <td>6.503176</td>\n",
       "      <td>Title: From Dusk Till Dawn. Overview: Seth Gec...</td>\n",
       "      <td>105</td>\n",
       "      <td>[-0.008669794537127018, -0.004668607376515865,...</td>\n",
       "    </tr>\n",
       "    <tr>\n",
       "      <th>3</th>\n",
       "      <td>[Comedy]</td>\n",
       "      <td>Blue in the Face</td>\n",
       "      <td>Auggie runs a small tobacco shop in Brooklyn, ...</td>\n",
       "      <td>5.109091</td>\n",
       "      <td>Title: Blue in the Face. Overview: Auggie runs...</td>\n",
       "      <td>87</td>\n",
       "      <td>[-0.020300308242440224, -0.012248567305505276,...</td>\n",
       "    </tr>\n",
       "    <tr>\n",
       "      <th>4</th>\n",
       "      <td>[Action, Adventure, Science Fiction, Family, F...</td>\n",
       "      <td>Mighty Morphin Power Rangers: The Movie</td>\n",
       "      <td>Power up with six incredible teens who out-man...</td>\n",
       "      <td>5.052129</td>\n",
       "      <td>Title: Mighty Morphin Power Rangers: The Movie...</td>\n",
       "      <td>89</td>\n",
       "      <td>[-0.003867227118462324, -0.03921695053577423, ...</td>\n",
       "    </tr>\n",
       "  </tbody>\n",
       "</table>\n",
       "</div>"
      ],
      "text/plain": [
       "                                              genres  \\\n",
       "0                      [Adventure, Action, Thriller]   \n",
       "1                                           [Comedy]   \n",
       "2                  [Horror, Action, Thriller, Crime]   \n",
       "3                                           [Comedy]   \n",
       "4  [Action, Adventure, Science Fiction, Family, F...   \n",
       "\n",
       "                                     title  \\\n",
       "0                                GoldenEye   \n",
       "1                                   Friday   \n",
       "2                      From Dusk Till Dawn   \n",
       "3                         Blue in the Face   \n",
       "4  Mighty Morphin Power Rangers: The Movie   \n",
       "\n",
       "                                            overview  weighted_rate  \\\n",
       "0  James Bond must unmask the mysterious head of ...       6.173464   \n",
       "1  Craig and Smokey are two guys in Los Angeles h...       6.083421   \n",
       "2  Seth Gecko and his younger brother Richard are...       6.503176   \n",
       "3  Auggie runs a small tobacco shop in Brooklyn, ...       5.109091   \n",
       "4  Power up with six incredible teens who out-man...       5.052129   \n",
       "\n",
       "                                       combined_info  n_tokens  \\\n",
       "0  Title: GoldenEye. Overview: James Bond must un...        59   \n",
       "1  Title: Friday. Overview: Craig and Smokey are ...        52   \n",
       "2  Title: From Dusk Till Dawn. Overview: Seth Gec...       105   \n",
       "3  Title: Blue in the Face. Overview: Auggie runs...        87   \n",
       "4  Title: Mighty Morphin Power Rangers: The Movie...        89   \n",
       "\n",
       "                                           embedding  \n",
       "0  [-0.02330085262656212, -0.01597847416996956, -...  \n",
       "1  [0.001594626810401678, -0.010798700153827667, ...  \n",
       "2  [-0.008669794537127018, -0.004668607376515865,...  \n",
       "3  [-0.020300308242440224, -0.012248567305505276,...  \n",
       "4  [-0.003867227118462324, -0.03921695053577423, ...  "
      ]
     },
     "execution_count": 9,
     "metadata": {},
     "output_type": "execute_result"
    }
   ],
   "source": [
    "import openai\n",
    "openai.api_key = os.environ[\"OPENAI_API_KEY\"]\n",
    "\n",
    "md_final[\"embedding\"] = md_final.overview.apply(lambda x: get_embedding(x, model=embedding_model))\n",
    "md_final.head()"
   ]
  },
  {
   "cell_type": "code",
   "execution_count": 10,
   "metadata": {},
   "outputs": [],
   "source": [
    "md_final.rename(columns = {'embedding': 'vector'}, inplace = True)\n",
    "md_final.rename(columns = {'combined_info': 'text'}, inplace = True)\n",
    "md_final.to_pickle('./data/movies.pkl')"
   ]
  },
  {
   "cell_type": "markdown",
   "metadata": {},
   "source": [
    "## Start working with LLMs"
   ]
  },
  {
   "cell_type": "code",
   "execution_count": 11,
   "metadata": {},
   "outputs": [],
   "source": [
    "from langchain.vectorstores import LanceDB"
   ]
  },
  {
   "cell_type": "code",
   "execution_count": 12,
   "metadata": {},
   "outputs": [
    {
     "data": {
      "text/html": [
       "<div>\n",
       "<style scoped>\n",
       "    .dataframe tbody tr th:only-of-type {\n",
       "        vertical-align: middle;\n",
       "    }\n",
       "\n",
       "    .dataframe tbody tr th {\n",
       "        vertical-align: top;\n",
       "    }\n",
       "\n",
       "    .dataframe thead th {\n",
       "        text-align: right;\n",
       "    }\n",
       "</style>\n",
       "<table border=\"1\" class=\"dataframe\">\n",
       "  <thead>\n",
       "    <tr style=\"text-align: right;\">\n",
       "      <th></th>\n",
       "      <th>genres</th>\n",
       "      <th>title</th>\n",
       "      <th>overview</th>\n",
       "      <th>weighted_rate</th>\n",
       "      <th>text</th>\n",
       "      <th>n_tokens</th>\n",
       "      <th>vector</th>\n",
       "    </tr>\n",
       "  </thead>\n",
       "  <tbody>\n",
       "    <tr>\n",
       "      <th>0</th>\n",
       "      <td>[Adventure, Action, Thriller]</td>\n",
       "      <td>GoldenEye</td>\n",
       "      <td>James Bond must unmask the mysterious head of ...</td>\n",
       "      <td>6.173464</td>\n",
       "      <td>Title: GoldenEye. Overview: James Bond must un...</td>\n",
       "      <td>59</td>\n",
       "      <td>[-0.02330085262656212, -0.01597847416996956, -...</td>\n",
       "    </tr>\n",
       "    <tr>\n",
       "      <th>1</th>\n",
       "      <td>[Comedy]</td>\n",
       "      <td>Friday</td>\n",
       "      <td>Craig and Smokey are two guys in Los Angeles h...</td>\n",
       "      <td>6.083421</td>\n",
       "      <td>Title: Friday. Overview: Craig and Smokey are ...</td>\n",
       "      <td>52</td>\n",
       "      <td>[0.001594626810401678, -0.010798700153827667, ...</td>\n",
       "    </tr>\n",
       "  </tbody>\n",
       "</table>\n",
       "</div>"
      ],
      "text/plain": [
       "                          genres      title  \\\n",
       "0  [Adventure, Action, Thriller]  GoldenEye   \n",
       "1                       [Comedy]     Friday   \n",
       "\n",
       "                                            overview  weighted_rate  \\\n",
       "0  James Bond must unmask the mysterious head of ...       6.173464   \n",
       "1  Craig and Smokey are two guys in Los Angeles h...       6.083421   \n",
       "\n",
       "                                                text  n_tokens  \\\n",
       "0  Title: GoldenEye. Overview: James Bond must un...        59   \n",
       "1  Title: Friday. Overview: Craig and Smokey are ...        52   \n",
       "\n",
       "                                              vector  \n",
       "0  [-0.02330085262656212, -0.01597847416996956, -...  \n",
       "1  [0.001594626810401678, -0.010798700153827667, ...  "
      ]
     },
     "execution_count": 12,
     "metadata": {},
     "output_type": "execute_result"
    }
   ],
   "source": [
    "import pandas as pd\n",
    "\n",
    "md = pd.read_pickle('./data/movies.pkl')\n",
    "\n",
    "md.head(2)"
   ]
  },
  {
   "cell_type": "code",
   "execution_count": 13,
   "metadata": {},
   "outputs": [
    {
     "data": {
      "text/plain": [
       "'Title: GoldenEye. Overview: James Bond must unmask the mysterious head of the Janus Syndicate and prevent the leader from utilizing the GoldenEye weapons system to inflict devastating revenge on Britain. Genres: Adventure, Action, Thriller. Rating: 6.173464373464373'"
      ]
     },
     "execution_count": 13,
     "metadata": {},
     "output_type": "execute_result"
    }
   ],
   "source": [
    "md['text'][0]"
   ]
  },
  {
   "cell_type": "code",
   "execution_count": 14,
   "metadata": {},
   "outputs": [
    {
     "data": {
      "text/plain": [
       "1536"
      ]
     },
     "execution_count": 14,
     "metadata": {},
     "output_type": "execute_result"
    }
   ],
   "source": [
    "len(md['vector'][0])"
   ]
  },
  {
   "cell_type": "code",
   "execution_count": 15,
   "metadata": {},
   "outputs": [
    {
     "name": "stdout",
     "output_type": "stream",
     "text": [
      "<class 'pandas.core.frame.DataFrame'>\n",
      "RangeIndex: 693 entries, 0 to 692\n",
      "Data columns (total 7 columns):\n",
      " #   Column         Non-Null Count  Dtype  \n",
      "---  ------         --------------  -----  \n",
      " 0   genres         693 non-null    object \n",
      " 1   title          693 non-null    object \n",
      " 2   overview       693 non-null    object \n",
      " 3   weighted_rate  693 non-null    float64\n",
      " 4   text           693 non-null    object \n",
      " 5   n_tokens       693 non-null    int64  \n",
      " 6   vector         693 non-null    object \n",
      "dtypes: float64(1), int64(1), object(5)\n",
      "memory usage: 38.0+ KB\n"
     ]
    }
   ],
   "source": [
    "md.info()"
   ]
  },
  {
   "cell_type": "code",
   "execution_count": null,
   "metadata": {},
   "outputs": [],
   "source": [
    "pip install lancedb"
   ]
  },
  {
   "cell_type": "code",
   "execution_count": 71,
   "metadata": {},
   "outputs": [],
   "source": [
    "# # Define a schema if required\n",
    "# # The schema should match the structure of your metadata\n",
    "# schema = {\n",
    "#     \"genres\": list,  # List of strings\n",
    "#     \"title\": str,\n",
    "#     \"overview\": str,\n",
    "#     \"weighted_rate\": float,\n",
    "#     \"n_tokens\": int,\n",
    "#     \"vector\": list  # List of floats with fixed size of 1536\n",
    "# }"
   ]
  },
  {
   "cell_type": "code",
   "execution_count": 16,
   "metadata": {},
   "outputs": [
    {
     "name": "stderr",
     "output_type": "stream",
     "text": [
      "/Users/leiyu/opt/anaconda3/envs/myenv/lib/python3.10/site-packages/tqdm/auto.py:21: TqdmWarning: IProgress not found. Please update jupyter and ipywidgets. See https://ipywidgets.readthedocs.io/en/stable/user_install.html\n",
      "  from .autonotebook import tqdm as notebook_tqdm\n"
     ]
    }
   ],
   "source": [
    "import lancedb\n",
    "\n",
    "uri = \"data/sample-lancedb\"\n",
    "db = lancedb.connect(uri)\n",
    "\n",
    "# table = db.create_table(\"movies\", md)\n",
    "async_db = await lancedb.connect_async(uri)"
   ]
  },
  {
   "cell_type": "code",
   "execution_count": 17,
   "metadata": {},
   "outputs": [],
   "source": [
    "# Synchronous client\n",
    "tbl = db.create_table(\"my_table\", data=md)\n",
    "\n",
    "# Asynchronous client\n",
    "async_tbl = await async_db.create_table(\"my_table2\", data=md)"
   ]
  },
  {
   "cell_type": "code",
   "execution_count": 18,
   "metadata": {},
   "outputs": [
    {
     "name": "stdout",
     "output_type": "stream",
     "text": [
      "['my_table', 'my_table2']\n",
      "['my_table', 'my_table2']\n"
     ]
    }
   ],
   "source": [
    "# Synchronous client\n",
    "print(db.table_names())\n",
    "# Asynchronous client\n",
    "print(await async_db.table_names())"
   ]
  },
  {
   "cell_type": "code",
   "execution_count": 19,
   "metadata": {},
   "outputs": [
    {
     "name": "stdout",
     "output_type": "stream",
     "text": [
      "['my_table', 'my_table2']\n",
      "['my_table', 'my_table2']\n"
     ]
    }
   ],
   "source": [
    "# Synchronous client\n",
    "print(db.table_names())\n",
    "# Asynchronous client\n",
    "print(await async_db.table_names())"
   ]
  },
  {
   "cell_type": "code",
   "execution_count": 20,
   "metadata": {},
   "outputs": [
    {
     "data": {
      "text/plain": [
       "(693,\n",
       " genres: list<item: string>\n",
       "   child 0, item: string\n",
       " title: string\n",
       " overview: string\n",
       " weighted_rate: double\n",
       " text: string\n",
       " n_tokens: int64\n",
       " vector: fixed_size_list<item: float>[1536]\n",
       "   child 0, item: float)"
      ]
     },
     "execution_count": 20,
     "metadata": {},
     "output_type": "execute_result"
    }
   ],
   "source": [
    "len(tbl), tbl.schema"
   ]
  },
  {
   "cell_type": "code",
   "execution_count": 79,
   "metadata": {},
   "outputs": [],
   "source": [
    "# md.schema"
   ]
  },
  {
   "cell_type": "code",
   "execution_count": 21,
   "metadata": {},
   "outputs": [
    {
     "data": {
      "text/html": [
       "<div>\n",
       "<style scoped>\n",
       "    .dataframe tbody tr th:only-of-type {\n",
       "        vertical-align: middle;\n",
       "    }\n",
       "\n",
       "    .dataframe tbody tr th {\n",
       "        vertical-align: top;\n",
       "    }\n",
       "\n",
       "    .dataframe thead th {\n",
       "        text-align: right;\n",
       "    }\n",
       "</style>\n",
       "<table border=\"1\" class=\"dataframe\">\n",
       "  <thead>\n",
       "    <tr style=\"text-align: right;\">\n",
       "      <th></th>\n",
       "      <th>genres</th>\n",
       "      <th>title</th>\n",
       "      <th>overview</th>\n",
       "      <th>weighted_rate</th>\n",
       "      <th>text</th>\n",
       "      <th>n_tokens</th>\n",
       "      <th>vector</th>\n",
       "      <th>_distance</th>\n",
       "    </tr>\n",
       "  </thead>\n",
       "  <tbody>\n",
       "    <tr>\n",
       "      <th>0</th>\n",
       "      <td>[Adventure, Action, Thriller]</td>\n",
       "      <td>GoldenEye</td>\n",
       "      <td>James Bond must unmask the mysterious head of ...</td>\n",
       "      <td>6.173464</td>\n",
       "      <td>Title: GoldenEye. Overview: James Bond must un...</td>\n",
       "      <td>59</td>\n",
       "      <td>[-0.023300853, -0.015978474, -0.021901755, -0....</td>\n",
       "      <td>0.000000</td>\n",
       "    </tr>\n",
       "    <tr>\n",
       "      <th>1</th>\n",
       "      <td>[Adventure, Action, Thriller]</td>\n",
       "      <td>Goldfinger</td>\n",
       "      <td>Special agent 007 (Sean Connery) comes face to...</td>\n",
       "      <td>6.536484</td>\n",
       "      <td>Title: Goldfinger. Overview: Special agent 007...</td>\n",
       "      <td>89</td>\n",
       "      <td>[-0.0130608175, -0.03419889, -0.009811793, -0....</td>\n",
       "      <td>0.227775</td>\n",
       "    </tr>\n",
       "  </tbody>\n",
       "</table>\n",
       "</div>"
      ],
      "text/plain": [
       "                          genres       title  \\\n",
       "0  [Adventure, Action, Thriller]   GoldenEye   \n",
       "1  [Adventure, Action, Thriller]  Goldfinger   \n",
       "\n",
       "                                            overview  weighted_rate  \\\n",
       "0  James Bond must unmask the mysterious head of ...       6.173464   \n",
       "1  Special agent 007 (Sean Connery) comes face to...       6.536484   \n",
       "\n",
       "                                                text  n_tokens  \\\n",
       "0  Title: GoldenEye. Overview: James Bond must un...        59   \n",
       "1  Title: Goldfinger. Overview: Special agent 007...        89   \n",
       "\n",
       "                                              vector  _distance  \n",
       "0  [-0.023300853, -0.015978474, -0.021901755, -0....   0.000000  \n",
       "1  [-0.0130608175, -0.03419889, -0.009811793, -0....   0.227775  "
      ]
     },
     "execution_count": 21,
     "metadata": {},
     "output_type": "execute_result"
    }
   ],
   "source": [
    "# Synchronous client\n",
    "tbl.search(md['vector'][0]).limit(2).to_pandas()\n",
    "# Asynchronous client\n",
    "await async_tbl.vector_search(md['vector'][0]).limit(2).to_pandas()"
   ]
  },
  {
   "cell_type": "code",
   "execution_count": 24,
   "metadata": {},
   "outputs": [],
   "source": [
    "from langchain.document_loaders import UnstructuredHTMLLoader\n",
    "from langchain.embeddings import OpenAIEmbeddings\n",
    "from langchain.text_splitter import RecursiveCharacterTextSplitter\n",
    "from langchain.vectorstores import LanceDB\n",
    "# from langchain_community.vectorstores.lancedb import LanceDB\n",
    "from langchain.docstore.document import Document\n",
    "\n",
    "from langchain.llms import OpenAI\n",
    "from langchain.chains import RetrievalQA\n",
    "import os\n",
    "\n",
    "# key = os.environ[\"OPENAI_API_KEY\"]\n",
    "\n",
    "embeddings = OpenAIEmbeddings()\n",
    "\n",
    "# Assuming md['text'] contains your raw text data\n",
    "# documents = [Document(page_content=text, metadata={\"source\": \"your_source\"}) for text in md['text']]\n",
    "# metadate_schema={\n",
    "#     \"genres\": row['genres'],\n",
    "#     \"title\": row['title'],\n",
    "#     \"overview\": row['overview'],\n",
    "#     \"weighted_rate\": row['weighted_rate'],\n",
    "#     \"n_tokens\": row['n_tokens'],\n",
    "#     \"vector\": row['vector']\n",
    "# }\n",
    "\n",
    "documents = [Document(page_content=row['text'], metadata={\"source\": row['weighted_rate']}) for _, row in md.iterrows()]\n",
    "\n",
    "\n",
    "# text_splitter = RecursiveCharacterTextSplitter(\n",
    "#     chunk_size=200,\n",
    "#     chunk_overlap=20,\n",
    "# )\n",
    "\n",
    "# documents = text_splitter.split_documents(docs)\n",
    "        \n",
    "# Assuming `md` is your DataFrame and it contains columns: 'text', 'title', 'author', 'date', 'source'\n",
    "# documents = [\n",
    "#     Document(\n",
    "#         page_content=row['text'], \n",
    "#         metadata={\n",
    "#             \"n_tokens\": row['n_tokens'],\n",
    "#             \"title\": row['title'],\n",
    "#             \"overview\": row['overview'],\n",
    "#             \"weighted_rate\": row['weighted_rate']\n",
    "#         }\n",
    "#     ) \n",
    "#     for _, row in md.iterrows()\n",
    "# ]\n",
    "\n",
    "# docsearch = LanceDB(connection = table, embedding = embeddings)\n",
    "\n",
    "from lancedb.rerankers import LinearCombinationReranker\n",
    "\n",
    "reranker = LinearCombinationReranker(weight=0.3)\n",
    "\n",
    "docsearch = LanceDB.from_documents(documents, embeddings, reranker=reranker)\n",
    "query = \"What did the president say about Ketanji Brown Jackson\""
   ]
  },
  {
   "cell_type": "code",
   "execution_count": 25,
   "metadata": {},
   "outputs": [
    {
     "data": {
      "text/plain": [
       "<langchain_community.vectorstores.lancedb.LanceDB at 0x140d77130>"
      ]
     },
     "execution_count": 25,
     "metadata": {},
     "output_type": "execute_result"
    }
   ],
   "source": [
    "docsearch"
   ]
  },
  {
   "cell_type": "code",
   "execution_count": 148,
   "metadata": {},
   "outputs": [],
   "source": [
    "# docsearch = LanceDB(connection = tbl, embedding = embeddings)"
   ]
  },
  {
   "cell_type": "code",
   "execution_count": null,
   "metadata": {},
   "outputs": [],
   "source": []
  },
  {
   "cell_type": "code",
   "execution_count": 26,
   "metadata": {},
   "outputs": [
    {
     "data": {
      "text/plain": [
       "[Document(metadata={'source': '6.264471780028944'}, page_content='Title: Ice Age: Dawn of the Dinosaurs. Overview: Times are changing for Manny the moody mammoth, Sid the motor mouthed sloth and Diego the crafty saber-toothed tiger. Life heats up for our heroes when they meet some new and none-too-friendly neighbors – the mighty dinosaurs. Genres: Animation, Comedy, Family, Adventure. Rating: 6.264471780028944'),\n",
       " Document(metadata={'source': '6.831880689521596'}, page_content='Title: Despicable Me 2. Overview: Gru is recruited by the Anti-Villain League to help deal with a powerful new super criminal. Genres: Animation, Comedy, Family. Rating: 6.831880689521596'),\n",
       " Document(metadata={'source': '6.447283923466021'}, page_content='Title: Transformers. Overview: Young teenager, Sam Witwicky becomes involved in the ancient struggle between two extraterrestrial factions of transforming robots – the heroic Autobots and the evil Decepticons. Sam holds the clue to unimaginable power and the Decepticons will stop at nothing to retrieve it. Genres: Adventure, Science Fiction, Action. Rating: 6.447283923466021'),\n",
       " Document(metadata={'source': '6.342538759689922'}, page_content='Title: Kung Fu Panda 3. Overview: Continuing his \"legendary adventures of awesomeness\", Po must face two hugely epic, but different threats: one supernatural and the other a little closer to his home. Genres: Action, Adventure, Animation, Comedy, Family. Rating: 6.342538759689922')]"
      ]
     },
     "execution_count": 26,
     "metadata": {},
     "output_type": "execute_result"
    }
   ],
   "source": [
    "query = \"I'm looking for an animated action movie. What could you suggest to me?\"\n",
    "docs = docsearch.similarity_search(query)\n",
    "docs\n",
    "# docs[0].page_content"
   ]
  },
  {
   "cell_type": "code",
   "execution_count": 27,
   "metadata": {},
   "outputs": [
    {
     "name": "stderr",
     "output_type": "stream",
     "text": [
      "/Users/leiyu/opt/anaconda3/envs/myenv/lib/python3.10/site-packages/langchain_core/_api/deprecation.py:141: LangChainDeprecationWarning: The class `OpenAI` was deprecated in LangChain 0.0.10 and will be removed in 0.3.0. An updated version of the class exists in the langchain-openai package and should be used instead. To use it run `pip install -U langchain-openai` and import as `from langchain_openai import OpenAI`.\n",
      "  warn_deprecated(\n",
      "/Users/leiyu/opt/anaconda3/envs/myenv/lib/python3.10/site-packages/langchain_core/_api/deprecation.py:141: LangChainDeprecationWarning: The method `Chain.__call__` was deprecated in langchain 0.1.0 and will be removed in 1.0. Use invoke instead.\n",
      "  warn_deprecated(\n"
     ]
    },
    {
     "data": {
      "text/plain": [
       "' Kung Fu Panda 3 or Transformers would be good options for an animated action movie.'"
      ]
     },
     "execution_count": 27,
     "metadata": {},
     "output_type": "execute_result"
    }
   ],
   "source": [
    "qa = RetrievalQA.from_chain_type(llm=OpenAI(), chain_type=\"stuff\", retriever=docsearch.as_retriever(), return_source_documents=True)\n",
    "\n",
    "query = \"I'm looking for an animated action movie. What could you suggest to me?\"\n",
    "result = qa({\"query\": query})\n",
    "result['result']"
   ]
  },
  {
   "cell_type": "code",
   "execution_count": 28,
   "metadata": {},
   "outputs": [
    {
     "data": {
      "text/plain": [
       "Document(metadata={'source': '6.447283923466021'}, page_content='Title: Transformers. Overview: Young teenager, Sam Witwicky becomes involved in the ancient struggle between two extraterrestrial factions of transforming robots – the heroic Autobots and the evil Decepticons. Sam holds the clue to unimaginable power and the Decepticons will stop at nothing to retrieve it. Genres: Adventure, Science Fiction, Action. Rating: 6.447283923466021')"
      ]
     },
     "execution_count": 28,
     "metadata": {},
     "output_type": "execute_result"
    }
   ],
   "source": [
    "result['source_documents'][2]"
   ]
  },
  {
   "cell_type": "code",
   "execution_count": 29,
   "metadata": {},
   "outputs": [
    {
     "name": "stdout",
     "output_type": "stream",
     "text": [
      "<class 'pandas.core.frame.DataFrame'>\n",
      "RangeIndex: 693 entries, 0 to 692\n",
      "Data columns (total 7 columns):\n",
      " #   Column         Non-Null Count  Dtype  \n",
      "---  ------         --------------  -----  \n",
      " 0   genres         693 non-null    object \n",
      " 1   title          693 non-null    object \n",
      " 2   overview       693 non-null    object \n",
      " 3   weighted_rate  693 non-null    float64\n",
      " 4   text           693 non-null    object \n",
      " 5   n_tokens       693 non-null    int64  \n",
      " 6   vector         693 non-null    object \n",
      "dtypes: float64(1), int64(1), object(5)\n",
      "memory usage: 38.0+ KB\n"
     ]
    }
   ],
   "source": [
    "md.info()"
   ]
  },
  {
   "cell_type": "code",
   "execution_count": 30,
   "metadata": {},
   "outputs": [
    {
     "name": "stdout",
     "output_type": "stream",
     "text": [
      "<class 'pandas.core.frame.DataFrame'>\n",
      "Index: 201 entries, 1 to 692\n",
      "Data columns (total 7 columns):\n",
      " #   Column         Non-Null Count  Dtype  \n",
      "---  ------         --------------  -----  \n",
      " 0   genres         201 non-null    object \n",
      " 1   title          201 non-null    object \n",
      " 2   overview       201 non-null    object \n",
      " 3   weighted_rate  201 non-null    float64\n",
      " 4   text           201 non-null    object \n",
      " 5   n_tokens       201 non-null    int64  \n",
      " 6   vector         201 non-null    object \n",
      "dtypes: float64(1), int64(1), object(5)\n",
      "memory usage: 12.6+ KB\n"
     ]
    }
   ],
   "source": [
    "df_filtered = md[md['genres'].apply(lambda x: 'Comedy' in x)]\n",
    "df_filtered.info()"
   ]
  },
  {
   "cell_type": "code",
   "execution_count": 31,
   "metadata": {},
   "outputs": [
    {
     "data": {
      "text/plain": [
       "{'query': \"I'm looking for a movie with animals and an adventurous plot.\",\n",
       " 'result': ' One Hundred and One Dalmatians or The Fox and the Hound both fit this description with their animal protagonists and adventure-filled plots.',\n",
       " 'source_documents': [Document(metadata={'source': '4.978057553956835'}, page_content='Title: Cats & Dogs 2 : The Revenge of Kitty Galore. Overview: The ongoing war between the canine and feline species is put on hold when they join forces to thwart a rogue cat spy with her own sinister plans for conquest. Genres: Comedy, Family. Rating: 4.978057553956835'),\n",
       "  Document(metadata={'source': '6.341426403641883'}, page_content='Title: The Fox and the Hound. Overview: When a feisty little fox named Tod is adopted into a farm family, he quickly becomes friends with a fun and adorable hound puppy named Copper. Life is full of hilarious adventures until Copper is expected to take on his role as a hunting dog -- and the object of his search is his best friend! Genres: Adventure, Animation, Drama, Family. Rating: 6.341426403641883'),\n",
       "  Document(metadata={'source': '6.423880597014925'}, page_content='Title: One Hundred and One Dalmatians. Overview: When a litter of dalmatian puppies are abducted by the minions of Cruella De Vil, the parents must find them before she uses them for a diabolical fashion statement. Genres: Adventure, Animation, Comedy, Family. Rating: 6.423880597014925'),\n",
       "  Document(metadata={'source': '5.013733905579399'}, page_content=\"Title: The Search for Santa Paws. Overview: In the tradition of disney's classic holiday tales comes a heartwarming movie about the power of giving and the true meaning of christmas. Discover how the legendary friendship of Santa Claus and Santa Paws began in the inspiring original film, The Search For Santa Paws. When Santa and his new best friend, Paws, discover that the boys and girls of the world have lost the spirit of the season, they take a trip to New York City. But after Santa loses his memory, it's up to Paws, a faithful orphan named Quinn, her new friend Will and a wonderful group of magical talking dogs to save St. Nick and show the world what Christmas is really all about. Genres: Adventure. Rating: 5.013733905579399\")]}"
      ]
     },
     "execution_count": 31,
     "metadata": {},
     "output_type": "execute_result"
    }
   ],
   "source": [
    "df_filtered = md[md['genres'].apply(lambda x: 'Comedy' in x)]\n",
    "qa = RetrievalQA.from_chain_type(llm=OpenAI(), chain_type=\"stuff\", \n",
    "    retriever=docsearch.as_retriever(search_kwargs={'data': df_filtered}), return_source_documents=True)\n",
    "\n",
    "query = \"I'm looking for a movie with animals and an adventurous plot.\"\n",
    "result = qa({\"query\": query})\n",
    "result"
   ]
  },
  {
   "cell_type": "code",
   "execution_count": 32,
   "metadata": {},
   "outputs": [
    {
     "data": {
      "text/plain": [
       "Document(metadata={'source': '4.978057553956835'}, page_content='Title: Cats & Dogs 2 : The Revenge of Kitty Galore. Overview: The ongoing war between the canine and feline species is put on hold when they join forces to thwart a rogue cat spy with her own sinister plans for conquest. Genres: Comedy, Family. Rating: 4.978057553956835')"
      ]
     },
     "execution_count": 32,
     "metadata": {},
     "output_type": "execute_result"
    }
   ],
   "source": [
    "result['source_documents'][0]"
   ]
  },
  {
   "cell_type": "code",
   "execution_count": 33,
   "metadata": {},
   "outputs": [
    {
     "data": {
      "text/plain": [
       "count    236.000000\n",
       "mean       6.741597\n",
       "std        0.501437\n",
       "min        6.000384\n",
       "25%        6.308121\n",
       "50%        6.651140\n",
       "75%        7.114158\n",
       "max        8.264788\n",
       "Name: weighted_rate, dtype: float64"
      ]
     },
     "execution_count": 33,
     "metadata": {},
     "output_type": "execute_result"
    }
   ],
   "source": [
    "df_filtered = md[md['weighted_rate'].apply(lambda x: x>6)]\n",
    "df_filtered['weighted_rate'].describe()"
   ]
  },
  {
   "cell_type": "code",
   "execution_count": 34,
   "metadata": {},
   "outputs": [
    {
     "data": {
      "text/plain": [
       "{'query': \"I'm looking for a movie with animals and an adventurous plot.\",\n",
       " 'result': ' The Fox and the Hound or One Hundred and One Dalmatians could fit this description. They both have animals as main characters and involve adventure and danger.',\n",
       " 'source_documents': [Document(metadata={'source': '4.978057553956835'}, page_content='Title: Cats & Dogs 2 : The Revenge of Kitty Galore. Overview: The ongoing war between the canine and feline species is put on hold when they join forces to thwart a rogue cat spy with her own sinister plans for conquest. Genres: Comedy, Family. Rating: 4.978057553956835'),\n",
       "  Document(metadata={'source': '6.341426403641883'}, page_content='Title: The Fox and the Hound. Overview: When a feisty little fox named Tod is adopted into a farm family, he quickly becomes friends with a fun and adorable hound puppy named Copper. Life is full of hilarious adventures until Copper is expected to take on his role as a hunting dog -- and the object of his search is his best friend! Genres: Adventure, Animation, Drama, Family. Rating: 6.341426403641883'),\n",
       "  Document(metadata={'source': '6.423880597014925'}, page_content='Title: One Hundred and One Dalmatians. Overview: When a litter of dalmatian puppies are abducted by the minions of Cruella De Vil, the parents must find them before she uses them for a diabolical fashion statement. Genres: Adventure, Animation, Comedy, Family. Rating: 6.423880597014925'),\n",
       "  Document(metadata={'source': '5.013733905579399'}, page_content=\"Title: The Search for Santa Paws. Overview: In the tradition of disney's classic holiday tales comes a heartwarming movie about the power of giving and the true meaning of christmas. Discover how the legendary friendship of Santa Claus and Santa Paws began in the inspiring original film, The Search For Santa Paws. When Santa and his new best friend, Paws, discover that the boys and girls of the world have lost the spirit of the season, they take a trip to New York City. But after Santa loses his memory, it's up to Paws, a faithful orphan named Quinn, her new friend Will and a wonderful group of magical talking dogs to save St. Nick and show the world what Christmas is really all about. Genres: Adventure. Rating: 5.013733905579399\")]}"
      ]
     },
     "execution_count": 34,
     "metadata": {},
     "output_type": "execute_result"
    }
   ],
   "source": [
    "# qa = RetrievalQA.from_chain_type(llm=OpenAI(), chain_type=\"stuff\", \n",
    "#     retriever=docsearch.as_retriever(search_kwargs={'filter': {'adult':'False'}}), return_source_documents=True)\n",
    "df_filtered = md[md['weighted_rate'].apply(lambda x: x>6)]\n",
    "qa = RetrievalQA.from_chain_type(llm=OpenAI(), chain_type=\"stuff\", \n",
    "    retriever=docsearch.as_retriever(search_kwargs={'data': df_filtered}), return_source_documents=True)\n",
    "\n",
    "\n",
    "query = \"I'm looking for a movie with animals and an adventurous plot.\"\n",
    "result = qa({\"query\": query})\n",
    "result"
   ]
  },
  {
   "cell_type": "code",
   "execution_count": 35,
   "metadata": {},
   "outputs": [
    {
     "data": {
      "text/plain": [
       "Document(metadata={'source': '4.978057553956835'}, page_content='Title: Cats & Dogs 2 : The Revenge of Kitty Galore. Overview: The ongoing war between the canine and feline species is put on hold when they join forces to thwart a rogue cat spy with her own sinister plans for conquest. Genres: Comedy, Family. Rating: 4.978057553956835')"
      ]
     },
     "execution_count": 35,
     "metadata": {},
     "output_type": "execute_result"
    }
   ],
   "source": [
    "result['source_documents'][0]"
   ]
  },
  {
   "cell_type": "code",
   "execution_count": null,
   "metadata": {},
   "outputs": [],
   "source": [
    "qa = RetrievalQA.from_chain_type(llm=OpenAI(), chain_type=\"stuff\",\n",
    "    retriever=docsearch.as_retriever(search_kwargs={'filter': {weighted_rate__gt:7}}), return_source_documents=True)\n",
    "query = \"I'm looking for a movie with animals and an adventurous plot.\"\n",
    "result = qa({\"query\": query})\n",
    "result"
   ]
  },
  {
   "cell_type": "code",
   "execution_count": 36,
   "metadata": {},
   "outputs": [
    {
     "name": "stderr",
     "output_type": "stream",
     "text": [
      "/Users/leiyu/opt/anaconda3/envs/myenv/lib/python3.10/site-packages/langchain_core/_api/deprecation.py:141: LangChainDeprecationWarning: The class `ChatOpenAI` was deprecated in LangChain 0.0.10 and will be removed in 0.3.0. An updated version of the class exists in the langchain-openai package and should be used instead. To use it run `pip install -U langchain-openai` and import as `from langchain_openai import ChatOpenAI`.\n",
      "  warn_deprecated(\n"
     ]
    },
    {
     "name": "stdout",
     "output_type": "stream",
     "text": [
      "\n",
      "\n",
      "\u001b[1m> Entering new AgentExecutor chain...\u001b[0m\n",
      "\u001b[32;1m\u001b[1;3m\n",
      "Invoking: `movies` with `{'query': 'action'}`\n",
      "\n",
      "\n",
      "\u001b[0m\u001b[36;1m\u001b[1;3mTitle: In the Name of the King: A Dungeon Siege Tale. Overview: A man named Farmer sets out to rescue his kidnapped wife and avenge the death of his son -- two acts committed by the Krugs, a race of animal-warriors who are controlled by the evil Gallian. Genres: Adventure, Fantasy, Action, Drama. Rating: 4.690922844175492\n",
      "\n",
      "Title: Hard Target 2. Overview: Forced into a deadly cat-and-mouse game, a disgraced mixed martial arts fighter is hunted through the jungles of Southeast Asia. Genres: Action, Thriller. Rating: 5.055230125523012\n",
      "\n",
      "Title: [REC]². Overview: The action continues from [REC], with the medical officer and a SWAT team outfitted with video cameras are sent into the sealed off apartment to control the situation. Genres: Thriller, Horror. Rating: 5.800000000000001\n",
      "\n",
      "Title: RED 2. Overview: Retired C.I.A. agent Frank Moses reunites his unlikely team of elite operatives for a global quest to track down a missing portable nuclear device. Genres: Action, Comedy, Crime, Thriller. Rating: 6.0934409687184665\u001b[0m\u001b[32;1m\u001b[1;3mHere are some action movies you might enjoy:\n",
      "\n",
      "1. In the Name of the King: A Dungeon Siege Tale - A man named Farmer sets out to rescue his kidnapped wife and avenge the death of his son in a fantasy adventure action drama.\n",
      "2. Hard Target 2 - A disgraced mixed martial arts fighter is hunted through the jungles of Southeast Asia in this action thriller.\n",
      "3. [REC]² - The action continues from [REC], with a medical officer and a SWAT team sent into a sealed off apartment to control the situation in this thriller horror movie.\n",
      "4. RED 2 - Retired C.I.A. agent Frank Moses reunites his team of elite operatives for a global quest to track down a missing portable nuclear device in this action comedy crime thriller.\u001b[0m\n",
      "\n",
      "\u001b[1m> Finished chain.\u001b[0m\n"
     ]
    }
   ],
   "source": [
    "from langchain.agents.agent_toolkits import create_retriever_tool\n",
    "from langchain.agents.agent_toolkits import create_conversational_retrieval_agent\n",
    "from langchain.chat_models import ChatOpenAI\n",
    "llm = ChatOpenAI(temperature = 0)\n",
    "retriever = docsearch.as_retriever(return_source_documents = True)\n",
    "tool = create_retriever_tool(\n",
    "    retriever,\n",
    "    \"movies\",\n",
    "    \"Searches and returns recommendations about movies.\"\n",
    ")\n",
    "tools = [tool]\n",
    "agent_executor = create_conversational_retrieval_agent(llm, tools, verbose=True)\n",
    "result = agent_executor({\"input\": \"suggest me some action movies\"})"
   ]
  },
  {
   "cell_type": "code",
   "execution_count": 37,
   "metadata": {},
   "outputs": [
    {
     "name": "stdout",
     "output_type": "stream",
     "text": [
      "Use the following pieces of context to answer the question at the end. If you don't know the answer, just say that you don't know, don't try to make up an answer.\n",
      "\n",
      "{context}\n",
      "\n",
      "Question: {question}\n",
      "Helpful Answer:\n"
     ]
    }
   ],
   "source": [
    "print(qa.combine_documents_chain.llm_chain.prompt.template)"
   ]
  },
  {
   "cell_type": "code",
   "execution_count": 38,
   "metadata": {},
   "outputs": [],
   "source": [
    "from langchain.prompts import PromptTemplate\n",
    "template = \"\"\"You are a movie recommender system that help users to find movies that match their preferences.\n",
    "Use the following pieces of context to answer the question at the end.\n",
    "For each question, suggest three movies, with a short description of the plot and the reason why the user migth like it.\n",
    "If you don't know the answer, just say that you don't know, don't try to make up an answer.\n",
    "{context}\n",
    "Question: {question}\n",
    "Your response:\"\"\"\n",
    " \n",
    "PROMPT = PromptTemplate(\n",
    "    template=template, input_variables=[\"context\", \"question\"])"
   ]
  },
  {
   "cell_type": "code",
   "execution_count": 39,
   "metadata": {},
   "outputs": [
    {
     "name": "stdout",
     "output_type": "stream",
     "text": [
      "\n",
      "1. Deadpool: A former Special Forces operative turned mercenary is subjected to a rogue experiment that leaves him with accelerated healing powers, adopting the alter ego Deadpool. With its witty humor and non-stop action, this movie is perfect for anyone looking for a funny action movie.\n",
      "\n",
      "2. Hot Fuzz: A top London cop is transferred to a small town with a dark secret. As he delves deeper into the town's mysteries, he must team up with a bumbling local constable to uncover the truth. This movie is a perfect blend of action and comedy, with hilarious one-liners and over-the-top action sequences.\n",
      "\n",
      "3. The Nice Guys: In 1970s Los Angeles, two mismatched private detectives are hired to investigate the disappearance of a young woman and the death of a porn star. As they dig deeper, they uncover a conspiracy that puts their lives in danger. With its clever dialogue and thrilling action scenes, this movie is sure to satisfy anyone looking for a funny action movie.\n"
     ]
    }
   ],
   "source": [
    "PROMPT = PromptTemplate(\n",
    "    template=template, input_variables=[\"context\", \"question\"])\n",
    "chain_type_kwargs = {\"prompt\": PROMPT}\n",
    "qa = RetrievalQA.from_chain_type(llm=OpenAI(),\n",
    "    chain_type=\"stuff\",\n",
    "    retriever=docsearch.as_retriever(),\n",
    "    return_source_documents=True,\n",
    "    chain_type_kwargs=chain_type_kwargs)\n",
    "query = \"I'm looking for a funny action movie, any suggestion?\"\n",
    "result = qa({'query':query})\n",
    "print(result['result'])"
   ]
  },
  {
   "cell_type": "code",
   "execution_count": 40,
   "metadata": {},
   "outputs": [
    {
     "name": "stdout",
     "output_type": "stream",
     "text": [
      "You are a movie recommender system that help users to find movies that match their preferences.\n",
      "Use the following pieces of context to answer the question at the end.\n",
      "If you don't know the answer, just say that you don't know, don't try to make up an answer.\n",
      "{context}\n",
      "This is what we know about the user, and you can use this information to better tune your research:\n",
      "Age: 18\n",
      "Gender: female\n",
      "Question: {question}\n",
      "Your response:\n"
     ]
    }
   ],
   "source": [
    "from langchain.prompts import PromptTemplate\n",
    "template_prefix = \"\"\"You are a movie recommender system that help users to find movies that match their preferences.\n",
    "Use the following pieces of context to answer the question at the end.\n",
    "If you don't know the answer, just say that you don't know, don't try to make up an answer.\n",
    "{context}\"\"\"\n",
    "user_info = \"\"\"This is what we know about the user, and you can use this information to better tune your research:\n",
    "Age: {age}\n",
    "Gender: {gender}\"\"\"\n",
    "template_suffix= \"\"\"Question: {question}\n",
    "Your response:\"\"\"\n",
    "user_info = user_info.format(age = 18, gender = 'female')\n",
    "COMBINED_PROMPT = template_prefix +'\\n'+ user_info +'\\n'+ template_suffix\n",
    "print(COMBINED_PROMPT)"
   ]
  },
  {
   "cell_type": "code",
   "execution_count": 41,
   "metadata": {},
   "outputs": [
    {
     "data": {
      "text/plain": [
       "'Based on your preferences, I would recommend RED 2. It has a mix of action, comedy, and thriller genres, which aligns with your interest in action and humor. The rating of 6.0934409687184665 suggests that it is a well-received movie and worth checking out. Other options could be The Expendables 2 or Bad Ass 2: Bad Asses, both of which also have a mix of action and humor, but with slightly lower ratings.'"
      ]
     },
     "execution_count": 41,
     "metadata": {},
     "output_type": "execute_result"
    }
   ],
   "source": [
    "PROMPT = PromptTemplate(\n",
    "    template=COMBINED_PROMPT, input_variables=[\"context\", \"question\"])\n",
    "chain_type_kwargs = {\"prompt\": PROMPT}\n",
    "qa = RetrievalQA.from_chain_type(llm=OpenAI(),\n",
    "    chain_type=\"stuff\",\n",
    "    retriever=docsearch.as_retriever(),\n",
    "    return_source_documents=True,\n",
    "    chain_type_kwargs=chain_type_kwargs)\n",
    "result = qa({'query':query})\n",
    "result['result']"
   ]
  },
  {
   "cell_type": "code",
   "execution_count": 42,
   "metadata": {},
   "outputs": [
    {
     "data": {
      "text/html": [
       "<div>\n",
       "<style scoped>\n",
       "    .dataframe tbody tr th:only-of-type {\n",
       "        vertical-align: middle;\n",
       "    }\n",
       "\n",
       "    .dataframe tbody tr th {\n",
       "        vertical-align: top;\n",
       "    }\n",
       "\n",
       "    .dataframe thead th {\n",
       "        text-align: right;\n",
       "    }\n",
       "</style>\n",
       "<table border=\"1\" class=\"dataframe\">\n",
       "  <thead>\n",
       "    <tr style=\"text-align: right;\">\n",
       "      <th></th>\n",
       "      <th>username</th>\n",
       "      <th>age</th>\n",
       "      <th>gender</th>\n",
       "      <th>movies</th>\n",
       "    </tr>\n",
       "  </thead>\n",
       "  <tbody>\n",
       "    <tr>\n",
       "      <th>0</th>\n",
       "      <td>Alice</td>\n",
       "      <td>25</td>\n",
       "      <td>F</td>\n",
       "      <td>{'Transformers: The Last Knight': 7, 'Pokémon:...</td>\n",
       "    </tr>\n",
       "    <tr>\n",
       "      <th>1</th>\n",
       "      <td>Bob</td>\n",
       "      <td>32</td>\n",
       "      <td>M</td>\n",
       "      <td>{'Bon Cop Bad Cop 2': 8, 'Goon: Last of the En...</td>\n",
       "    </tr>\n",
       "  </tbody>\n",
       "</table>\n",
       "</div>"
      ],
      "text/plain": [
       "  username  age gender                                             movies\n",
       "0    Alice   25      F  {'Transformers: The Last Knight': 7, 'Pokémon:...\n",
       "1      Bob   32      M  {'Bon Cop Bad Cop 2': 8, 'Goon: Last of the En..."
      ]
     },
     "execution_count": 42,
     "metadata": {},
     "output_type": "execute_result"
    }
   ],
   "source": [
    "import pandas as pd\n",
    "data = {\n",
    "    \"username\": [\"Alice\", \"Bob\"],\n",
    "    \"age\": [25, 32],\n",
    "    \"gender\": [\"F\", \"M\"],\n",
    "    \"movies\": [\n",
    "        [(\"Transformers: The Last Knight\", 7), (\"Pokémon: Spell of the Unknown\", 5)],\n",
    "        [(\"Bon Cop Bad Cop 2\", 8), (\"Goon: Last of the Enforcers\", 9)]\n",
    "    ]\n",
    "}\n",
    "# Convert the \"movies\" column into dictionaries\n",
    "for i, row_movies in enumerate(data[\"movies\"]):\n",
    "    movie_dict = {}\n",
    "    for movie, rating in row_movies:\n",
    "        movie_dict[movie] = rating\n",
    "    data[\"movies\"][i] = movie_dict\n",
    "# Create a pandas DataFrame\n",
    "df = pd.DataFrame(data)\n",
    "df.head()"
   ]
  },
  {
   "cell_type": "code",
   "execution_count": 43,
   "metadata": {},
   "outputs": [],
   "source": [
    "template_prefix = \"\"\"You are a movie recommender system that help users to find movies that match their preferences.\n",
    "Use the following pieces of context to answer the question at the end.\n",
    "If you don't know the answer, just say that you don't know, don't try to make up an answer.\n",
    "{context}\"\"\"\n",
    "user_info = \"\"\"This is what we know about the user, and you can use this information to better tune your research:\n",
    "Age: {age}\n",
    "Gender: {gender}\n",
    "Movies already seen alongside with rating: {movies}\"\"\"\n",
    "template_suffix= \"\"\"Question: {question}\n",
    "Your response:\"\"\""
   ]
  },
  {
   "cell_type": "code",
   "execution_count": 44,
   "metadata": {},
   "outputs": [
    {
     "name": "stdout",
     "output_type": "stream",
     "text": [
      "You are a movie recommender system that help users to find movies that match their preferences.\n",
      "Use the following pieces of context to answer the question at the end.\n",
      "If you don't know the answer, just say that you don't know, don't try to make up an answer.\n",
      "{context}\n",
      "This is what we know about the user, and you can use this information to better tune your research:\n",
      "Age: 25\n",
      "Gender: F\n",
      "Movies already seen alongside with rating: Movie: Transformers: The Last Knight, Rating: 7\n",
      "Movie: Pokémon: Spell of the Unknown, Rating: 5\n",
      "\n",
      "Question: {question}\n",
      "Your response:\n"
     ]
    }
   ],
   "source": [
    "age = df.loc[df['username']=='Alice']['age'][0]\n",
    "gender = df.loc[df['username']=='Alice']['gender'][0]\n",
    "movies = ''\n",
    "# Iterate over the dictionary and output movie name and rating\n",
    "for movie, rating in df['movies'][0].items():\n",
    "    output_string = f\"Movie: {movie}, Rating: {rating}\" + \"\\n\"\n",
    "    movies+=output_string\n",
    "    #print(output_string)\n",
    "user_info = user_info.format(age = age, gender = gender, movies = movies)\n",
    "COMBINED_PROMPT = template_prefix +'\\n'+ user_info +'\\n'+ template_suffix\n",
    "print(COMBINED_PROMPT)"
   ]
  },
  {
   "cell_type": "code",
   "execution_count": 45,
   "metadata": {},
   "outputs": [
    {
     "data": {
      "text/plain": [
       "' I would recommend checking out The Raid 2 and Rambo based on your previous ratings and the fact that you enjoy action movies. Both have high ratings and are in the same genre as the movies you have already seen. '"
      ]
     },
     "execution_count": 45,
     "metadata": {},
     "output_type": "execute_result"
    }
   ],
   "source": [
    "PROMPT = PromptTemplate(\n",
    "    template=COMBINED_PROMPT, input_variables=[\"context\", \"question\"])\n",
    "chain_type_kwargs = {\"prompt\": PROMPT}\n",
    "qa = RetrievalQA.from_chain_type(llm=OpenAI(),\n",
    "    chain_type=\"stuff\",\n",
    "    retriever=docsearch.as_retriever(),\n",
    "    return_source_documents=True,\n",
    "    chain_type_kwargs=chain_type_kwargs)\n",
    "query = \"Can you suggest me some action movie based on my background?\"\n",
    "result = qa({'query':query})\n",
    "result['result']"
   ]
  },
  {
   "cell_type": "code",
   "execution_count": null,
   "metadata": {},
   "outputs": [],
   "source": []
  },
  {
   "cell_type": "code",
   "execution_count": null,
   "metadata": {},
   "outputs": [],
   "source": []
  },
  {
   "cell_type": "code",
   "execution_count": null,
   "metadata": {},
   "outputs": [],
   "source": []
  },
  {
   "cell_type": "code",
   "execution_count": null,
   "metadata": {},
   "outputs": [],
   "source": []
  },
  {
   "cell_type": "code",
   "execution_count": null,
   "metadata": {},
   "outputs": [],
   "source": []
  },
  {
   "cell_type": "code",
   "execution_count": null,
   "metadata": {},
   "outputs": [],
   "source": []
  },
  {
   "cell_type": "code",
   "execution_count": null,
   "metadata": {},
   "outputs": [],
   "source": []
  },
  {
   "cell_type": "code",
   "execution_count": 131,
   "metadata": {},
   "outputs": [
    {
     "name": "stdout",
     "output_type": "stream",
     "text": [
      "\n",
      "\n",
      "\u001b[1m> Entering new AgentExecutor chain...\u001b[0m\n",
      "\u001b[32;1m\u001b[1;3m\n",
      "Invoking: `movies` with `{'query': 'kung fu panda'}`\n",
      "\n",
      "\n",
      "\u001b[0m\u001b[36;1m\u001b[1;3mTitle: Kung Fu Panda. Overview: When the Valley of Peace is threatened, lazy Po the panda discovers his destiny as the \"chosen one\" and trains to become a kung fu hero, but transforming the unsleek slacker into a brave warrior won't be easy. It's up to Master Shifu and the Furious Five -- Tigress, Crane, Mantis, Viper and Monkey -- to give it a try. Genres: Adventure, Animation, Family, Comedy. Rating: 6.675006821282402\n",
      "\n",
      "Title: Kung Fu Panda 2. Overview: Po is now living his dream as The Dragon Warrior, protecting the Valley of Peace alongside his friends and fellow kung fu masters, The Furious Five - Tigress, Crane, Mantis, Viper and Monkey. But Po’s new life of awesomeness is threatened by the emergence of a formidable villain, who plans to use a secret, unstoppable weapon to conquer China and destroy kung fu. It is up to Po and The Furious Five to journey across China to face this threat and vanquish it. But how can Po stop a weapon that can stop kung fu? He must look to his past and uncover the secrets of his mysterious origins; only then will he be able to unlock the strength he needs to succeed. Genres: Animation, Family. Rating: 6.387240356083087\n",
      "\n",
      "Title: Kung Fu Panda 3. Overview: Continuing his \"legendary adventures of awesomeness\", Po must face two hugely epic, but different threats: one supernatural and the other a little closer to his home. Genres: Action, Adventure, Animation, Comedy, Family. Rating: 6.342538759689922\n",
      "\n",
      "Title: Chinese Zodiac. Overview: Asian Hawk (Jackie Chan) leads a mercenary team to recover several lost artifacts from the Old Summer Palace, the bronze heads of the 12 Chinese Zodiac animals which were sacked by the French and British armies from the imperial Summer Palace in Beijing in 1860. Assisted by a Chinese student & a Parisian lady, Hawk stops at nothing to accomplish the mission. Genres: Action, Adventure. Rating: 5.380000000000001\u001b[0m\u001b[32;1m\u001b[1;3mBased on your liking for Kung Fu Panda 1 and 2, you may enjoy the following similar movies:\n",
      "\n",
      "1. Kung Fu Panda 3: Continuing the adventures of Po, this movie involves facing two epic threats, one supernatural and the other closer to home. Genres: Action, Adventure, Animation, Comedy, Family. Rating: 6.34\n",
      "\n",
      "2. Chinese Zodiac: Asian Hawk leads a team to recover lost artifacts, the bronze heads of the 12 Chinese Zodiac animals. Genres: Action, Adventure. Rating: 5.38\n",
      "\n",
      "These movies share elements of action, adventure, and comedy similar to Kung Fu Panda. Enjoy watching!\u001b[0m\n",
      "\n",
      "\u001b[1m> Finished chain.\u001b[0m\n"
     ]
    },
    {
     "data": {
      "text/plain": [
       "{'input': 'I liked a lot kung fu panda 1 and 2. Could you suggest me some similar movies?',\n",
       " 'chat_history': [HumanMessage(content='I liked a lot kung fu panda 1 and 2. Could you suggest me some similar movies?'),\n",
       "  AIMessage(content='', additional_kwargs={'function_call': {'arguments': '{\"query\":\"kung fu panda\"}', 'name': 'movies'}}, response_metadata={'token_usage': {'completion_tokens': 16, 'prompt_tokens': 101, 'total_tokens': 117}, 'model_name': 'gpt-3.5-turbo', 'system_fingerprint': None, 'finish_reason': 'function_call', 'logprobs': None}, id='run-541b7725-e039-461e-a678-a7893ee42273-0'),\n",
       "  FunctionMessage(content='Title: Kung Fu Panda. Overview: When the Valley of Peace is threatened, lazy Po the panda discovers his destiny as the \"chosen one\" and trains to become a kung fu hero, but transforming the unsleek slacker into a brave warrior won\\'t be easy. It\\'s up to Master Shifu and the Furious Five -- Tigress, Crane, Mantis, Viper and Monkey -- to give it a try. Genres: Adventure, Animation, Family, Comedy. Rating: 6.675006821282402\\n\\nTitle: Kung Fu Panda 2. Overview: Po is now living his dream as The Dragon Warrior, protecting the Valley of Peace alongside his friends and fellow kung fu masters, The Furious Five - Tigress, Crane, Mantis, Viper and Monkey. But Po’s new life of awesomeness is threatened by the emergence of a formidable villain, who plans to use a secret, unstoppable weapon to conquer China and destroy kung fu. It is up to Po and The Furious Five to journey across China to face this threat and vanquish it. But how can Po stop a weapon that can stop kung fu? He must look to his past and uncover the secrets of his mysterious origins; only then will he be able to unlock the strength he needs to succeed. Genres: Animation, Family. Rating: 6.387240356083087\\n\\nTitle: Kung Fu Panda 3. Overview: Continuing his \"legendary adventures of awesomeness\", Po must face two hugely epic, but different threats: one supernatural and the other a little closer to his home. Genres: Action, Adventure, Animation, Comedy, Family. Rating: 6.342538759689922\\n\\nTitle: Chinese Zodiac. Overview: Asian Hawk (Jackie Chan) leads a mercenary team to recover several lost artifacts from the Old Summer Palace, the bronze heads of the 12 Chinese Zodiac animals which were sacked by the French and British armies from the imperial Summer Palace in Beijing in 1860. Assisted by a Chinese student & a Parisian lady, Hawk stops at nothing to accomplish the mission. Genres: Action, Adventure. Rating: 5.380000000000001', name='movies'),\n",
       "  AIMessage(content='Based on your liking for Kung Fu Panda 1 and 2, you may enjoy the following similar movies:\\n\\n1. Kung Fu Panda 3: Continuing the adventures of Po, this movie involves facing two epic threats, one supernatural and the other closer to home. Genres: Action, Adventure, Animation, Comedy, Family. Rating: 6.34\\n\\n2. Chinese Zodiac: Asian Hawk leads a team to recover lost artifacts, the bronze heads of the 12 Chinese Zodiac animals. Genres: Action, Adventure. Rating: 5.38\\n\\nThese movies share elements of action, adventure, and comedy similar to Kung Fu Panda. Enjoy watching!')],\n",
       " 'output': 'Based on your liking for Kung Fu Panda 1 and 2, you may enjoy the following similar movies:\\n\\n1. Kung Fu Panda 3: Continuing the adventures of Po, this movie involves facing two epic threats, one supernatural and the other closer to home. Genres: Action, Adventure, Animation, Comedy, Family. Rating: 6.34\\n\\n2. Chinese Zodiac: Asian Hawk leads a team to recover lost artifacts, the bronze heads of the 12 Chinese Zodiac animals. Genres: Action, Adventure. Rating: 5.38\\n\\nThese movies share elements of action, adventure, and comedy similar to Kung Fu Panda. Enjoy watching!',\n",
       " 'intermediate_steps': [(AgentActionMessageLog(tool='movies', tool_input={'query': 'kung fu panda'}, log=\"\\nInvoking: `movies` with `{'query': 'kung fu panda'}`\\n\\n\\n\", message_log=[AIMessage(content='', additional_kwargs={'function_call': {'arguments': '{\"query\":\"kung fu panda\"}', 'name': 'movies'}}, response_metadata={'token_usage': {'completion_tokens': 16, 'prompt_tokens': 101, 'total_tokens': 117}, 'model_name': 'gpt-3.5-turbo', 'system_fingerprint': None, 'finish_reason': 'function_call', 'logprobs': None}, id='run-541b7725-e039-461e-a678-a7893ee42273-0')]),\n",
       "   'Title: Kung Fu Panda. Overview: When the Valley of Peace is threatened, lazy Po the panda discovers his destiny as the \"chosen one\" and trains to become a kung fu hero, but transforming the unsleek slacker into a brave warrior won\\'t be easy. It\\'s up to Master Shifu and the Furious Five -- Tigress, Crane, Mantis, Viper and Monkey -- to give it a try. Genres: Adventure, Animation, Family, Comedy. Rating: 6.675006821282402\\n\\nTitle: Kung Fu Panda 2. Overview: Po is now living his dream as The Dragon Warrior, protecting the Valley of Peace alongside his friends and fellow kung fu masters, The Furious Five - Tigress, Crane, Mantis, Viper and Monkey. But Po’s new life of awesomeness is threatened by the emergence of a formidable villain, who plans to use a secret, unstoppable weapon to conquer China and destroy kung fu. It is up to Po and The Furious Five to journey across China to face this threat and vanquish it. But how can Po stop a weapon that can stop kung fu? He must look to his past and uncover the secrets of his mysterious origins; only then will he be able to unlock the strength he needs to succeed. Genres: Animation, Family. Rating: 6.387240356083087\\n\\nTitle: Kung Fu Panda 3. Overview: Continuing his \"legendary adventures of awesomeness\", Po must face two hugely epic, but different threats: one supernatural and the other a little closer to his home. Genres: Action, Adventure, Animation, Comedy, Family. Rating: 6.342538759689922\\n\\nTitle: Chinese Zodiac. Overview: Asian Hawk (Jackie Chan) leads a mercenary team to recover several lost artifacts from the Old Summer Palace, the bronze heads of the 12 Chinese Zodiac animals which were sacked by the French and British armies from the imperial Summer Palace in Beijing in 1860. Assisted by a Chinese student & a Parisian lady, Hawk stops at nothing to accomplish the mission. Genres: Action, Adventure. Rating: 5.380000000000001')]}"
      ]
     },
     "execution_count": 131,
     "metadata": {},
     "output_type": "execute_result"
    }
   ],
   "source": [
    "from langchain.agents.openai_functions_agent.base import OpenAIFunctionsAgent\n",
    "from langchain.schema.messages import SystemMessage\n",
    "from langchain.prompts import MessagesPlaceholder\n",
    "from langchain.agents.openai_functions_agent.agent_token_buffer_memory import AgentTokenBufferMemory\n",
    "\n",
    "llm = ChatOpenAI(temperature = 0)\n",
    "\n",
    "system_message = SystemMessage(\n",
    "        content=(\n",
    "            \"Do your best to answer the questions. \"\n",
    "            \"if there are more than one argument for the single-input tool, reason step by step and treat them as single input. \"\n",
    "            \"relevant information, only if neccessary\"\n",
    "        )\n",
    ")\n",
    "\n",
    "# This is needed for both the memory and the prompt\n",
    "memory_key = \"history\"\n",
    "\n",
    "memory = AgentTokenBufferMemory(memory_key=memory_key, llm=llm)\n",
    "\n",
    "prompt = OpenAIFunctionsAgent.create_prompt(\n",
    "        system_message=system_message,\n",
    "        extra_prompt_messages=[MessagesPlaceholder(variable_name=memory_key)]\n",
    "    )\n",
    "agent_executor = create_conversational_retrieval_agent(llm=llm, tools=tools, prompt = prompt, verbose=True)\n",
    "\n",
    "result = agent_executor({\"input\": \"I liked a lot kung fu panda 1 and 2. Could you suggest me some similar movies?\"})\n",
    "result"
   ]
  },
  {
   "cell_type": "markdown",
   "metadata": {},
   "source": [
    "## Prompt engineering"
   ]
  },
  {
   "cell_type": "code",
   "execution_count": 132,
   "metadata": {},
   "outputs": [
    {
     "name": "stdout",
     "output_type": "stream",
     "text": [
      "\n",
      "1. Deadpool - A wisecracking mercenary gets enhanced with superhuman powers and sets out on a mission to track down the man who nearly destroyed his life. With a mix of action and comedy, this movie is perfect for those looking for a humorous twist on the traditional action genre.\n",
      "2. 21 Jump Street - Two underachieving cops are sent back to a local high school to blend in and bring down a synthetic drug ring. With a great blend of action and comedy, this movie is sure to keep you entertained and laughing.\n",
      "3. Hot Fuzz - A top London cop is assigned to a seemingly dull town in the countryside, but his new partner uncovers a series of grisly murders. This movie is a hilarious parody of the action genre, with plenty of over-the-top action scenes and witty humor.\n"
     ]
    }
   ],
   "source": [
    "from langchain.prompts import PromptTemplate\n",
    "\n",
    "template = \"\"\"You are a movie recommender system that help users to find movies that match their preferences. \n",
    "Use the following pieces of context to answer the question at the end. \n",
    "For each question, suggest three movies, with a short description of the plot and the reason why the user migth like it.\n",
    "If you don't know the answer, just say that you don't know, don't try to make up an answer.\n",
    "\n",
    "{context}\n",
    "\n",
    "Question: {question}\n",
    "Your response:\"\"\"\n",
    "\n",
    "\n",
    "PROMPT = PromptTemplate(\n",
    "    template=template, input_variables=[\"context\", \"question\"])\n",
    "\n",
    "chain_type_kwargs = {\"prompt\": PROMPT}\n",
    "qa = RetrievalQA.from_chain_type(llm=OpenAI(), \n",
    "    chain_type=\"stuff\", \n",
    "    retriever=docsearch.as_retriever(),\n",
    "    return_source_documents=True, \n",
    "    chain_type_kwargs=chain_type_kwargs)\n",
    "\n",
    "query = \"I'm looking for a funny action movie, any suggestion?\"\n",
    "result = qa({'query':query})\n",
    "print(result['result'])\n"
   ]
  },
  {
   "cell_type": "code",
   "execution_count": 133,
   "metadata": {},
   "outputs": [
    {
     "name": "stdout",
     "output_type": "stream",
     "text": [
      "You are a movie recommender system that help users to find movies that match their preferences. \n",
      "Use the following pieces of context to answer the question at the end. \n",
      "If you don't know the answer, just say that you don't know, don't try to make up an answer.\n",
      "\n",
      "{context}\n",
      "This is what we know about the user, and you can use this information to better tune your research:\n",
      "Age: 18\n",
      "Gender: female\n",
      "Question: {question}\n",
      "Your response:\n"
     ]
    }
   ],
   "source": [
    "from langchain.prompts import PromptTemplate\n",
    "\n",
    "template_prefix = \"\"\"You are a movie recommender system that help users to find movies that match their preferences. \n",
    "Use the following pieces of context to answer the question at the end. \n",
    "If you don't know the answer, just say that you don't know, don't try to make up an answer.\n",
    "\n",
    "{context}\"\"\"\n",
    "\n",
    "user_info = \"\"\"This is what we know about the user, and you can use this information to better tune your research:\n",
    "Age: {age}\n",
    "Gender: {gender}\"\"\"\n",
    "\n",
    "template_suffix= \"\"\"Question: {question}\n",
    "Your response:\"\"\"\n",
    "\n",
    "user_info = user_info.format(age = 18, gender = 'female')\n",
    "\n",
    "COMBINED_PROMPT = template_prefix +'\\n'+ user_info +'\\n'+ template_suffix\n",
    "print(COMBINED_PROMPT)\n"
   ]
  },
  {
   "cell_type": "code",
   "execution_count": 134,
   "metadata": {},
   "outputs": [
    {
     "data": {
      "text/plain": [
       "' Based on your age and gender, I would recommend The Raid 2. It has elements of action, crime, and thriller, which may appeal to your preferences. It also has a higher rating compared to the other options, indicating that it may be a well-received film by viewers.'"
      ]
     },
     "execution_count": 134,
     "metadata": {},
     "output_type": "execute_result"
    }
   ],
   "source": [
    "PROMPT = PromptTemplate(\n",
    "    template=COMBINED_PROMPT, input_variables=[\"context\", \"question\"])\n",
    "\n",
    "chain_type_kwargs = {\"prompt\": PROMPT}\n",
    "qa = RetrievalQA.from_chain_type(llm=OpenAI(), \n",
    "    chain_type=\"stuff\", \n",
    "    retriever=docsearch.as_retriever(),\n",
    "    return_source_documents=True, \n",
    "    chain_type_kwargs=chain_type_kwargs)\n",
    "\n",
    "query = \"Can you suggest me some action movie?\"\n",
    "result = qa({'query':query})\n",
    "result['result']\n"
   ]
  },
  {
   "cell_type": "code",
   "execution_count": 135,
   "metadata": {},
   "outputs": [
    {
     "data": {
      "text/plain": [
       "[Document(metadata={'source': 'your_source'}, page_content='Title: Hard Target 2. Overview: Forced into a deadly cat-and-mouse game, a disgraced mixed martial arts fighter is hunted through the jungles of Southeast Asia. Genres: Action, Thriller. Rating: 5.055230125523012'),\n",
       " Document(metadata={'source': 'your_source'}, page_content='Title: The Raid 2. Overview: After fighting his way through an apartment building populated by an army of dangerous criminals and escaping with his life, SWAT team member Rama goes undercover, joining a powerful Indonesian crime syndicate to protect his family and uncover corrupt members of his own force. Genres: Action, Crime, Thriller. Rating: 6.7086887835703'),\n",
       " Document(metadata={'source': 'your_source'}, page_content='Title: RED 2. Overview: Retired C.I.A. agent Frank Moses reunites his unlikely team of elite operatives for a global quest to track down a missing portable nuclear device. Genres: Action, Comedy, Crime, Thriller. Rating: 6.0934409687184665'),\n",
       " Document(metadata={'source': 'your_source'}, page_content=\"Title: Rambo. Overview: When governments fail to act on behalf of captive missionaries, ex-Green Beret John James Rambo sets aside his peaceful existence along the Salween River in a war-torn region of Thailand to take action.  Although he's still haunted by violent memories of his time as a U.S. soldier during the Vietnam War, Rambo can hardly turn his back on the aid workers who so desperately need his help. Genres: Action, Thriller. Rating: 5.978932778932778\")]"
      ]
     },
     "execution_count": 135,
     "metadata": {},
     "output_type": "execute_result"
    }
   ],
   "source": [
    "result['source_documents']"
   ]
  },
  {
   "cell_type": "markdown",
   "metadata": {},
   "source": [
    "## Content based"
   ]
  },
  {
   "cell_type": "code",
   "execution_count": 136,
   "metadata": {},
   "outputs": [
    {
     "data": {
      "text/html": [
       "<div>\n",
       "<style scoped>\n",
       "    .dataframe tbody tr th:only-of-type {\n",
       "        vertical-align: middle;\n",
       "    }\n",
       "\n",
       "    .dataframe tbody tr th {\n",
       "        vertical-align: top;\n",
       "    }\n",
       "\n",
       "    .dataframe thead th {\n",
       "        text-align: right;\n",
       "    }\n",
       "</style>\n",
       "<table border=\"1\" class=\"dataframe\">\n",
       "  <thead>\n",
       "    <tr style=\"text-align: right;\">\n",
       "      <th></th>\n",
       "      <th>username</th>\n",
       "      <th>age</th>\n",
       "      <th>gender</th>\n",
       "      <th>movies</th>\n",
       "    </tr>\n",
       "  </thead>\n",
       "  <tbody>\n",
       "    <tr>\n",
       "      <th>0</th>\n",
       "      <td>Alice</td>\n",
       "      <td>25</td>\n",
       "      <td>F</td>\n",
       "      <td>{'Transformers: The Last Knight': 7, 'Pokémon:...</td>\n",
       "    </tr>\n",
       "    <tr>\n",
       "      <th>1</th>\n",
       "      <td>Bob</td>\n",
       "      <td>32</td>\n",
       "      <td>M</td>\n",
       "      <td>{'Bon Cop Bad Cop 2': 8, 'Goon: Last of the En...</td>\n",
       "    </tr>\n",
       "  </tbody>\n",
       "</table>\n",
       "</div>"
      ],
      "text/plain": [
       "  username  age gender                                             movies\n",
       "0    Alice   25      F  {'Transformers: The Last Knight': 7, 'Pokémon:...\n",
       "1      Bob   32      M  {'Bon Cop Bad Cop 2': 8, 'Goon: Last of the En..."
      ]
     },
     "execution_count": 136,
     "metadata": {},
     "output_type": "execute_result"
    }
   ],
   "source": [
    "import pandas as pd\n",
    "\n",
    "data = {\n",
    "    \"username\": [\"Alice\", \"Bob\"],\n",
    "    \"age\": [25, 32],\n",
    "    \"gender\": [\"F\", \"M\"],\n",
    "    \"movies\": [\n",
    "        [(\"Transformers: The Last Knight\", 7), (\"Pokémon: Spell of the Unknown\", 5)],\n",
    "        [(\"Bon Cop Bad Cop 2\", 8), (\"Goon: Last of the Enforcers\", 9)]\n",
    "    ]\n",
    "}\n",
    "\n",
    "# Convert the \"movies\" column into dictionaries\n",
    "for i, row_movies in enumerate(data[\"movies\"]):\n",
    "    movie_dict = {}\n",
    "    for movie, rating in row_movies:\n",
    "        movie_dict[movie] = rating\n",
    "    data[\"movies\"][i] = movie_dict\n",
    "\n",
    "# Create a pandas DataFrame\n",
    "df = pd.DataFrame(data)\n",
    "\n",
    "df.head()\n"
   ]
  },
  {
   "cell_type": "code",
   "execution_count": 137,
   "metadata": {},
   "outputs": [],
   "source": [
    "template_prefix = \"\"\"You are a movie recommender system that help users to find movies that match their preferences. \n",
    "Use the following pieces of context to answer the question at the end. \n",
    "If you don't know the answer, just say that you don't know, don't try to make up an answer.\n",
    "\n",
    "{context}\"\"\"\n",
    "\n",
    "user_info = \"\"\"This is what we know about the user, and you can use this information to better tune your research:\n",
    "Age: {age}\n",
    "Gender: {gender}\n",
    "Movies already seen alongside with rating: {movies}\"\"\"\n",
    "\n",
    "template_suffix= \"\"\"Question: {question}\n",
    "Your response:\"\"\""
   ]
  },
  {
   "cell_type": "code",
   "execution_count": 138,
   "metadata": {},
   "outputs": [
    {
     "name": "stdout",
     "output_type": "stream",
     "text": [
      "You are a movie recommender system that help users to find movies that match their preferences. \n",
      "Use the following pieces of context to answer the question at the end. \n",
      "If you don't know the answer, just say that you don't know, don't try to make up an answer.\n",
      "\n",
      "{context}\n",
      "This is what we know about the user, and you can use this information to better tune your research:\n",
      "Age: 25\n",
      "Gender: F\n",
      "Movies already seen alongside with rating: Movie: Transformers: The Last Knight, Rating: 7\n",
      "Movie: Pokémon: Spell of the Unknown, Rating: 5\n",
      "\n",
      "Question: {question}\n",
      "Your response:\n"
     ]
    }
   ],
   "source": [
    "age = df.loc[df['username']=='Alice']['age'][0]\n",
    "gender = df.loc[df['username']=='Alice']['gender'][0]\n",
    "\n",
    "movies = ''\n",
    "# Iterate over the dictionary and output movie name and rating\n",
    "for movie, rating in df['movies'][0].items():\n",
    "    output_string = f\"Movie: {movie}, Rating: {rating}\" + \"\\n\"\n",
    "    movies+=output_string\n",
    "    #print(output_string)\n",
    "user_info = user_info.format(age = age, gender = gender, movies = movies)\n",
    "\n",
    "COMBINED_PROMPT = template_prefix +'\\n'+ user_info +'\\n'+ template_suffix\n",
    "print(COMBINED_PROMPT)"
   ]
  },
  {
   "cell_type": "code",
   "execution_count": 139,
   "metadata": {},
   "outputs": [
    {
     "data": {
      "text/plain": [
       "' Based on your age, gender, and movies already seen and rated, I would recommend the following action movies for you: \\n1. Mad Max: Fury Road - Rating: 8.1\\n2. Atomic Blonde - Rating: 6.7\\n3. Hanna - Rating: 6.8\\n4. Fast Five - Rating: 7.3\\n5. Lucy - Rating: 6.4\\n\\nAll of these movies have a similar genre and rating to the ones you have already seen, so I believe you will enjoy them as well. Happy watching!'"
      ]
     },
     "execution_count": 139,
     "metadata": {},
     "output_type": "execute_result"
    }
   ],
   "source": [
    "PROMPT = PromptTemplate(\n",
    "    template=COMBINED_PROMPT, input_variables=[\"context\", \"question\"])\n",
    "\n",
    "chain_type_kwargs = {\"prompt\": PROMPT}\n",
    "qa = RetrievalQA.from_chain_type(llm=OpenAI(), \n",
    "    chain_type=\"stuff\", \n",
    "    retriever=docsearch.as_retriever(),\n",
    "    return_source_documents=True, \n",
    "    chain_type_kwargs=chain_type_kwargs)\n",
    "\n",
    "query = \"Can you suggest me some action movie based on my background?\"\n",
    "result = qa({'query':query})\n",
    "result['result']"
   ]
  },
  {
   "cell_type": "code",
   "execution_count": 140,
   "metadata": {},
   "outputs": [
    {
     "data": {
      "text/plain": [
       "[Document(metadata={'source': 'your_source'}, page_content='Title: Hard Target 2. Overview: Forced into a deadly cat-and-mouse game, a disgraced mixed martial arts fighter is hunted through the jungles of Southeast Asia. Genres: Action, Thriller. Rating: 5.055230125523012'),\n",
       " Document(metadata={'source': 'your_source'}, page_content='Title: The Raid 2. Overview: After fighting his way through an apartment building populated by an army of dangerous criminals and escaping with his life, SWAT team member Rama goes undercover, joining a powerful Indonesian crime syndicate to protect his family and uncover corrupt members of his own force. Genres: Action, Crime, Thriller. Rating: 6.7086887835703'),\n",
       " Document(metadata={'source': 'your_source'}, page_content='Title: Ong Bak 2. Overview: Moments from death a young man is rescued by a renowned warrior. Realizing unsurpassed physical potential in the young boy he trains him into the most dangerous man alive. As he becomes a young man he goes on a lone mission of vengeance against the vicious slave traders who enslaved him as a youth and the treacherous warlord who killed his father. Genres: Adventure, Action, Thriller. Rating: 5.237966101694916'),\n",
       " Document(metadata={'source': 'your_source'}, page_content=\"Title: Rambo. Overview: When governments fail to act on behalf of captive missionaries, ex-Green Beret John James Rambo sets aside his peaceful existence along the Salween River in a war-torn region of Thailand to take action.  Although he's still haunted by violent memories of his time as a U.S. soldier during the Vietnam War, Rambo can hardly turn his back on the aid workers who so desperately need his help. Genres: Action, Thriller. Rating: 5.978932778932778\")]"
      ]
     },
     "execution_count": 140,
     "metadata": {},
     "output_type": "execute_result"
    }
   ],
   "source": [
    "result['source_documents']"
   ]
  },
  {
   "cell_type": "code",
   "execution_count": null,
   "metadata": {},
   "outputs": [],
   "source": []
  },
  {
   "cell_type": "code",
   "execution_count": null,
   "metadata": {},
   "outputs": [],
   "source": []
  },
  {
   "cell_type": "code",
   "execution_count": 141,
   "metadata": {},
   "outputs": [
    {
     "name": "stderr",
     "output_type": "stream",
     "text": [
      "2024-08-17 16:42:55.741 \n",
      "  \u001b[33m\u001b[1mWarning:\u001b[0m to view this Streamlit app on a browser, run it with the following\n",
      "  command:\n",
      "\n",
      "    streamlit run /Users/leiyu/opt/anaconda3/envs/myenv/lib/python3.10/site-packages/ipykernel_launcher.py [ARGUMENTS]\n"
     ]
    },
    {
     "data": {
      "text/plain": [
       "DeltaGenerator()"
      ]
     },
     "execution_count": 141,
     "metadata": {},
     "output_type": "execute_result"
    }
   ],
   "source": [
    "import streamlit as st\n",
    "st.set_page_config(page_title=\"GlobeBotter\", page_icon=\"\")\n",
    "st.header(' Welcome to MovieHarbor, your favourite movie recommender')"
   ]
  },
  {
   "cell_type": "code",
   "execution_count": null,
   "metadata": {},
   "outputs": [],
   "source": []
  }
 ],
 "metadata": {
  "kernelspec": {
   "display_name": "Python 3 (ipykernel)",
   "language": "python",
   "name": "python3"
  },
  "language_info": {
   "codemirror_mode": {
    "name": "ipython",
    "version": 3
   },
   "file_extension": ".py",
   "mimetype": "text/x-python",
   "name": "python",
   "nbconvert_exporter": "python",
   "pygments_lexer": "ipython3",
   "version": "3.10.6"
  }
 },
 "nbformat": 4,
 "nbformat_minor": 4
}
