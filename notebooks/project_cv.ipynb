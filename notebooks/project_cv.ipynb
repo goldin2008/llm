{
 "cells": [
  {
   "cell_type": "markdown",
   "id": "781c9434-04ab-4a4c-a78d-1a83ad64c57d",
   "metadata": {},
   "source": [
    "LeNet (1998) -> AlexNet (2012) -> VGG (2014) -> NiN (2013) -> GoogLeNet (2015) -> ResNet (2016)-> DenseNet (2017)\n",
    "\n",
    "1. finetune_net vs. scratch_net\n",
    "2. calculate params update percentage func\n",
    "3. plot finetune_net vs. scratch_net fuc\n",
    "4. resnet vs. densenet"
   ]
  },
  {
   "cell_type": "code",
   "execution_count": null,
   "id": "e60b2bea-c39c-4c1c-8d02-ebd7d4dc08a8",
   "metadata": {},
   "outputs": [],
   "source": []
  }
 ],
 "metadata": {
  "kernelspec": {
   "display_name": "Python 3 (ipykernel)",
   "language": "python",
   "name": "python3"
  },
  "language_info": {
   "codemirror_mode": {
    "name": "ipython",
    "version": 3
   },
   "file_extension": ".py",
   "mimetype": "text/x-python",
   "name": "python",
   "nbconvert_exporter": "python",
   "pygments_lexer": "ipython3",
   "version": "3.10.8"
  }
 },
 "nbformat": 4,
 "nbformat_minor": 5
}
