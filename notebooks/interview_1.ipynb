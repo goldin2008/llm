{
 "cells": [
  {
   "cell_type": "markdown",
   "id": "0a46ad70-ee80-4133-b052-766343231bba",
   "metadata": {},
   "source": [
    "https://mccormickml.com/2019/07/22/BERT-fine-tuning/\n",
    "\n",
    "https://luv-bansal.medium.com/fine-tuning-bert-for-text-classification-in-pytorch-503d97342db2"
   ]
  },
  {
   "cell_type": "code",
   "execution_count": null,
   "id": "45fe9b44-74a5-47be-9199-9266314dd472",
   "metadata": {},
   "outputs": [],
   "source": [
    "import numpy as np\n",
    "\n",
    "np.random.seed(3)\n",
    "\n",
    "#############################################################\n",
    "####################### INSTRUCTIONS ########################\n",
    "#############################################################\n",
    "\"\"\"\n",
    "Goal: Implement a simple Neural Network to for binary classification over\n",
    "2-dimensional input data. The network must have 1 hidden layer containing 4 units.\n",
    "\n",
    "The network should utilize mini-batch training, a sigmoid activation function, and\n",
    "MSE loss function. The batch size is set in the \n",
    "\"Parameters\" section.\n",
    "\n",
    "Please fill in the 4 functions in the section labeled \"Fill In These Functions.\"\n",
    "The function signatures must not change, and must return appropriate outputs based \n",
    "on the in-line comments within them. You may add additional functions as you see fit.\n",
    "You may leverage the functions in the \"Utilities\" section if you find it necessary.\n",
    "You may change N, LEARNING_RATE, BATCH_SIZE, NUM_EPOCHS if it helps you train your \n",
    "network. Do not modify the code in the section labeled \"Do Not Modify Below.\"\n",
    "Code in this section will call your functions, so make sure your implementation\n",
    "is compatible.\n",
    "\n",
    "Your code must run (you can test it by clicking \"Run\" button in the top-left).\n",
    "The \"train\" method will train your network over NUM_EPOCHS epochs, and print a \n",
    "mean-squared error over the hold-out set after each epoch.\n",
    "\n",
    "Please feel free to add extra print statements if it helps you debug your code.\n",
    "\n",
    "This exercise is open-book. You may leverage resources you find on the Internet, \n",
    "such as syntax references, mathematical formulae, etc., but you should not adapt \n",
    "or otherwise use existing implementation code.\n",
    "\n",
    "The following PDF reference may be useful to you:\n",
    "https://drive.google.com/file/d/1zbRSQJaPrQHYOGzPYLm6mbFLUHhVxlm2/view?usp=sharing\n",
    "\"\"\"\n",
    "\n",
    "#############################################################\n",
    "######################### PARAMETERS ########################\n",
    "#############################################################\n",
    "N = 1000\n",
    "LEARNING_RATE = 1\n",
    "BATCH_SIZE = 5\n",
    "NUM_EPOCHS = 10\n",
    "INPUT_WIDTH = 2\n",
    "HIDDEN_LAYER_WIDTH = 4\n",
    "OUTPUT_LAYER_WIDTH = 1\n",
    "HIDDEN_LAYER_WEIGHTS_SHAPE = (HIDDEN_LAYER_WIDTH, INPUT_WIDTH)\n",
    "HIDDEN_LAYER_BIASES_SHAPE = (HIDDEN_LAYER_WIDTH, 1)\n",
    "OUTPUT_LAYER_WEIGHTS_SHAPE = (OUTPUT_LAYER_WIDTH, HIDDEN_LAYER_WIDTH)\n",
    "OUTPUT_LAYER_BIASES_SHAPE = (OUTPUT_LAYER_WIDTH, 1)\n",
    "INITIAL_HIDDEN_LAYER_WEIGHTS = np.random.random(HIDDEN_LAYER_WEIGHTS_SHAPE)\n",
    "INITIAL_HIDDEN_LAYER_BIASES = np.random.random(HIDDEN_LAYER_BIASES_SHAPE)\n",
    "INITIAL_OUTPUT_LAYER_WEIGHTS = np.random.random(OUTPUT_LAYER_WEIGHTS_SHAPE)\n",
    "INITIAL_OUTPUT_LAYER_BIASES = np.random.random(OUTPUT_LAYER_BIASES_SHAPE)\n",
    "\n",
    "#############################################################\n",
    "######################### UTILITIES #########################\n",
    "#############################################################\n",
    "def sigmoid(z):\n",
    "    # activation function\n",
    "    return 1.0 / (1.0 + np.exp(-z))\n",
    "\n",
    "\n",
    "def sigmoid_prime(z):\n",
    "    # derivative of activation function\n",
    "    return sigmoid(z) * (1 - sigmoid(z))\n",
    "\n",
    "\n",
    "def assert_has_shape(val, expected_shape):\n",
    "    assert val.shape == expected_shape, f\"Expected {val} to have shape {expected_shape}, but was {val.shape}.\"\n",
    "\n",
    "\n",
    "#############################################################\n",
    "################## FILL IN THESE FUNCTIONS ##################\n",
    "#############################################################\n",
    "def compute_hidden_layer_weighted_input(x, hidden_layer_weights, hidden_layer_biases):\n",
    "    # return the weighted inputs (before applying sigmoid) for layer 1 as a 4x1 matrix\n",
    "    assert_has_shape(x, (2, 1))\n",
    "    assert_has_shape(hidden_layer_weights, HIDDEN_LAYER_WEIGHTS_SHAPE)\n",
    "    assert_has_shape(hidden_layer_biases, HIDDEN_LAYER_BIASES_SHAPE)\n",
    "\n",
    "    # fill in\n",
    "    # return np.random.random((HIDDEN_LAYER_WIDTH, 1))\n",
    "    # Compute the weighted input using the dot product of weights and input and add biases.\n",
    "    weighted_input = np.dot(hidden_layer_weights, x) + hidden_layer_biases\n",
    "    return weighted_input\n",
    "\n",
    "\n",
    "def compute_output_layer_weighted_input(\n",
    "    hidden_layer_activation, output_layer_weights, output_layer_biases\n",
    "):\n",
    "    # return the weighted inputs (before applying sigmoid) for output layer as a 1x1 matrix\n",
    "    assert_has_shape(hidden_layer_activation, (HIDDEN_LAYER_WIDTH, 1))\n",
    "    assert_has_shape(output_layer_weights, OUTPUT_LAYER_WEIGHTS_SHAPE)\n",
    "    assert_has_shape(output_layer_biases, OUTPUT_LAYER_BIASES_SHAPE)\n",
    "\n",
    "    # fill in\n",
    "    # return np.random.random((OUTPUT_LAYER_WIDTH, 1))\n",
    "    # Compute the weighted input using the dot product of weights and input and add biases.\n",
    "    weighted_input = np.dot(output_layer_weights, hidden_layer_activation) + output_layer_biases\n",
    "    return weighted_input\n",
    "\n",
    "\n",
    "def compute_gradients(\n",
    "    x,\n",
    "    y,\n",
    "    hidden_layer_weights,\n",
    "    hidden_layer_biases,\n",
    "    hidden_layer_weighted_input,\n",
    "    output_layer_weights,\n",
    "    output_layer_biases,\n",
    "    output_layer_weighted_input,\n",
    "):\n",
    "    # x, y is a single training example\n",
    "    # for a single training example, return the gradient of loss with respect to each layer's weights and biases\n",
    "    # return value should be a tuple of lists, where the first element is the list of weight gradients,\n",
    "    # and the second is the list of bias gradients. the shape of each \"gradient\" should correspond to the shape of the\n",
    "    # weight/bias matrix it will be used to update.\n",
    "    assert_has_shape(x, (2, 1))\n",
    "    assert_has_shape(hidden_layer_weights, HIDDEN_LAYER_WEIGHTS_SHAPE)\n",
    "    assert_has_shape(hidden_layer_biases, HIDDEN_LAYER_BIASES_SHAPE)\n",
    "    assert_has_shape(output_layer_weights, OUTPUT_LAYER_WEIGHTS_SHAPE)\n",
    "    assert_has_shape(output_layer_biases, OUTPUT_LAYER_BIASES_SHAPE)\n",
    "\n",
    "    # fill in\n",
    "    # weight_gradients = [\n",
    "    #     np.zeros((HIDDEN_LAYER_WIDTH, INPUT_WIDTH)),\n",
    "    #     np.zeros(OUTPUT_LAYER_WIDTH, HIDDEN_LAYER_WIDTH),\n",
    "    # ]\n",
    "    # bias_gradients = [\n",
    "    #     np.zeros((HIDDEN_LAYER_WIDTH, 1)),\n",
    "    #     np.zeros((OUTPUT_LAYER_WIDTH, 1)),\n",
    "    # ]\n",
    "    # return weight_gradients, bias_gradients\n",
    "    \n",
    "    # Calculate gradients for weights and biases of both layers.\n",
    "\n",
    "    # Calculate the error in the output layer.\n",
    "    output_layer_error = sigmoid(output_layer_weighted_input) - y\n",
    "    \n",
    "    # Calculate the gradient for the output layer weights and biases.\n",
    "    output_layer_weight_gradients = output_layer_error * sigmoid_prime(output_layer_weighted_input) * sigmoid(hidden_layer_weighted_input)\n",
    "    output_layer_bias_gradients = output_layer_error * sigmoid_prime(output_layer_weighted_input) * 1\n",
    "    \n",
    "    # # Calculate the error in the hidden layer.\n",
    "    hidden_layer_error = np.dot(output_layer_weights.T, output_layer_error)\n",
    "    \n",
    "    # Calculate the gradient for the hidden layer weights and biases.\n",
    "    # hidden_layer_weight_gradients = output_layer_error * sigmoid_prime(output_layer_weighted_input) * output_layer_weights * sigmoid_prime(hidden_layer_weighted_input) * x.T\n",
    "    # hidden_layer_bias_gradients = output_layer_error * sigmoid_prime(output_layer_weighted_input) * output_layer_weights * sigmoid_prime(hidden_layer_weighted_input) * 1\n",
    "    hidden_layer_weight_gradients = hidden_layer_error * sigmoid_prime(hidden_layer_weighted_input) * x.T\n",
    "    hidden_layer_bias_gradients = hidden_layer_error * sigmoid_prime(hidden_layer_weighted_input)\n",
    "    \n",
    "    # Return the gradients.\n",
    "    weight_gradients = [hidden_layer_weight_gradients, output_layer_weight_gradients]\n",
    "    bias_gradients = [hidden_layer_bias_gradients, output_layer_bias_gradients]\n",
    "    \n",
    "    return weight_gradients, bias_gradients\n",
    "\n",
    "\n",
    "def get_new_weights_and_biases(\n",
    "    training_batch,\n",
    "    hidden_layer_weights,\n",
    "    hidden_layer_biases,\n",
    "    output_layer_weights,\n",
    "    output_layer_biases,\n",
    "):\n",
    "    # training_batch is a list of (x, y) training examples\n",
    "    # return the new weights and biases after processing this batch of data, and according to LEARNING_RATE\n",
    "\n",
    "    # fill in\n",
    "    # new_weights = [hidden_layer_weights, output_layer_weights]\n",
    "    # new_biases = [hidden_layer_biases, output_layer_biases]\n",
    "    # return new_weights, new_biases\n",
    "\n",
    "    # Update the weights and biases based on the training batch and learning rate.\n",
    "\n",
    "    # Initialize the accumulators for gradients.\n",
    "    total_weight_gradients = [np.zeros_like(w) for w in [hidden_layer_weights, output_layer_weights]]\n",
    "    total_bias_gradients = [np.zeros_like(b) for b in [hidden_layer_biases, output_layer_biases]]\n",
    "    \n",
    "    for x, y in training_batch:\n",
    "        # Compute the weighted inputs for both layers.\n",
    "        hidden_layer_weighted_input = compute_hidden_layer_weighted_input(x, hidden_layer_weights, hidden_layer_biases)\n",
    "        hidden_layer_activation = sigmoid(hidden_layer_weighted_input)\n",
    "        output_layer_weighted_input = compute_output_layer_weighted_input(hidden_layer_activation, output_layer_weights, output_layer_biases)\n",
    "        \n",
    "        # Compute gradients for this training example.\n",
    "        weight_gradients, bias_gradients = compute_gradients(\n",
    "            x, y, hidden_layer_weights, hidden_layer_biases, hidden_layer_weighted_input,\n",
    "            output_layer_weights, output_layer_biases, output_layer_weighted_input\n",
    "        )\n",
    "        \n",
    "        # Accumulate gradients.\n",
    "        total_weight_gradients = [twg + wg for twg, wg in zip(total_weight_gradients, weight_gradients)]\n",
    "        total_bias_gradients = [tbg + bg for tbg, bg in zip(total_bias_gradients, bias_gradients)]\n",
    "    \n",
    "    # Update weights and biases using the accumulated gradients and learning rate.\n",
    "    learning_rate = LEARNING_RATE\n",
    "    new_weights = [w - learning_rate * g for w, g in zip([hidden_layer_weights, output_layer_weights], total_weight_gradients)]\n",
    "    new_biases = [b - learning_rate * g for b, g in zip([hidden_layer_biases, output_layer_biases], total_bias_gradients)]\n",
    "    \n",
    "    return new_weights, new_biases\n",
    "\n",
    "    \n",
    "#############################################################\n",
    "#################### DO NOT MODIFY BELOW ####################\n",
    "#############################################################\n",
    "def predict(\n",
    "    x,\n",
    "    hidden_layer_weights,\n",
    "    hidden_layer_biases,\n",
    "    output_layer_weights,\n",
    "    output_layer_biases,\n",
    "):\n",
    "    hidden_layer_activation = sigmoid(compute_hidden_layer_weighted_input(x, hidden_layer_weights, hidden_layer_biases))\n",
    "    output_layer_activation = sigmoid(compute_output_layer_weighted_input(hidden_layer_activation, output_layer_weights, output_layer_biases))\n",
    "    return output_layer_activation[0][0]\n",
    "\n",
    "def train(\n",
    "    X,\n",
    "    Y,\n",
    "    hidden_layer_weights,\n",
    "    hidden_layer_biases,\n",
    "    output_layer_weights,\n",
    "    output_layer_biases,\n",
    "):\n",
    "    # X is an array of (2 x 1) input instances\n",
    "    # Y is an array of scalar targets\n",
    "    for batch_start in range(0, len(X), BATCH_SIZE):\n",
    "        batch_end = batch_start + BATCH_SIZE\n",
    "        x_batch = X[batch_start:batch_end]\n",
    "        y_batch = Y[batch_start:batch_end]\n",
    "        batch = list(zip(x_batch, y_batch))\n",
    "\n",
    "        new_weights, new_biases = get_new_weights_and_biases(\n",
    "            batch,\n",
    "            hidden_layer_weights,\n",
    "            hidden_layer_biases,\n",
    "            output_layer_weights,\n",
    "            output_layer_biases,\n",
    "        )\n",
    "        hidden_layer_weights, output_layer_weights = new_weights\n",
    "        hidden_layer_biases, output_layer_biases = new_biases\n",
    "\n",
    "    # return the final weights and biases\n",
    "    return (\n",
    "        [hidden_layer_weights, output_layer_weights],\n",
    "        [hidden_layer_biases, output_layer_biases],\n",
    "    )\n",
    "\n",
    "\n",
    "def compute_mse(\n",
    "    X_test,\n",
    "    Y_test,\n",
    "    hidden_layer_weights,\n",
    "    hidden_layer_biases,\n",
    "    output_layer_weights,\n",
    "    output_layer_biases,\n",
    "):\n",
    "    predictions = []\n",
    "    for x in X_test:\n",
    "        predictions.append(\n",
    "            predict(\n",
    "                x,\n",
    "                hidden_layer_weights,\n",
    "                hidden_layer_biases,\n",
    "                output_layer_weights,\n",
    "                output_layer_biases,\n",
    "            )\n",
    "        )\n",
    "    y_hat = np.array(predictions)\n",
    "    return np.mean((y_hat - Y_test) ** 2)\n",
    "\n",
    "\n",
    "# prepare input data\n",
    "X = np.random.choice([0, 1], (N, 2))\n",
    "Y = np.logical_xor(X[:, 0], X[:, 1]) * 1\n",
    "X = X + 0.1 * np.random.random((N, 2))\n",
    "X = [np.array([x]).T for x in X]\n",
    "\n",
    "# split into train and test\n",
    "split = int(len(X) * 0.8)\n",
    "X_train, X_test = X[:split], X[split:]\n",
    "Y_train, Y_test = Y[:split], Y[split:]\n",
    "\n",
    "# initialize weigths, biases\n",
    "hidden_layer_weights, hidden_layer_biases = (\n",
    "    INITIAL_HIDDEN_LAYER_WEIGHTS,\n",
    "    INITIAL_HIDDEN_LAYER_BIASES,\n",
    ")\n",
    "output_layer_weights, output_layer_biases = (\n",
    "    INITIAL_OUTPUT_LAYER_WEIGHTS,\n",
    "    INITIAL_OUTPUT_LAYER_BIASES,\n",
    ")\n",
    "\n",
    "# train over epochs, calculate MSE at each epoch\n",
    "for epoch in range(NUM_EPOCHS):\n",
    "    weights, biases = train(\n",
    "        X_train,\n",
    "        Y_train,\n",
    "        hidden_layer_weights,\n",
    "        hidden_layer_biases,\n",
    "        output_layer_weights,\n",
    "        output_layer_biases,\n",
    "    )\n",
    "    hidden_layer_weights, output_layer_weights = weights\n",
    "    hidden_layer_biases, output_layer_biases = biases\n",
    "    epoch_mse = compute_mse(\n",
    "        X_test,\n",
    "        Y_test,\n",
    "        hidden_layer_weights,\n",
    "        hidden_layer_biases,\n",
    "        output_layer_weights,\n",
    "        output_layer_biases,\n",
    "    )\n",
    "    print(f\"MSE (epoch {epoch}):\", epoch_mse)\n",
    "\n",
    "print(\"done\")\n"
   ]
  },
  {
   "cell_type": "code",
   "execution_count": null,
   "id": "20d204e6-d675-4286-9c93-0c7df098341e",
   "metadata": {},
   "outputs": [],
   "source": []
  },
  {
   "cell_type": "markdown",
   "id": "33f80aa4-0986-46bf-a677-60507040d256",
   "metadata": {},
   "source": [
    "## Implement NN building blocks by yourself"
   ]
  },
  {
   "cell_type": "code",
   "execution_count": null,
   "id": "1f62df57-1c4c-4b98-98d0-c4c953f20629",
   "metadata": {},
   "outputs": [],
   "source": [
    "pip install torch torchvision\n",
    "\n",
    "from IPython.display import clear_output\n",
    "clear_output()"
   ]
  },
  {
   "cell_type": "markdown",
   "id": "01019e0c-8a58-4569-b15b-a0050450579b",
   "metadata": {},
   "source": [
    "## DataLoader"
   ]
  },
  {
   "cell_type": "code",
   "execution_count": null,
   "id": "9943bc91-5287-4c7d-a7ca-40c50fa86ad8",
   "metadata": {},
   "outputs": [],
   "source": [
    "import torch\n",
    "import numpy as np\n",
    "\n",
    "np.set_printoptions(precision=3)\n",
    "a = [1, 2, 3]\n",
    "b = np.array([4, 5, 6], dtype=np.int32)\n",
    "t_a = torch.tensor(a)\n",
    "t_b = torch.from_numpy(b)\n",
    "print(t_a)\n",
    "print(t_b)"
   ]
  },
  {
   "cell_type": "code",
   "execution_count": null,
   "id": "d7b363dc-ca2e-46c8-b14a-bbfbc7e4d020",
   "metadata": {},
   "outputs": [],
   "source": [
    "from torch.utils.data import DataLoader\n",
    "\n",
    "t = torch.arange(6, dtype=torch.float32)\n",
    "data_loader = DataLoader(t)\n",
    "\n",
    "for item in data_loader:\n",
    "    print(item)"
   ]
  },
  {
   "cell_type": "code",
   "execution_count": null,
   "id": "674e1c3b-aabb-41eb-9fa2-e41081eb4ee5",
   "metadata": {},
   "outputs": [],
   "source": [
    "data_loader = DataLoader(t, batch_size=3, drop_last=False)\n",
    "for i, batch in enumerate(data_loader, 1):\n",
    "    print(f'batch {i}:', batch)"
   ]
  },
  {
   "cell_type": "code",
   "execution_count": null,
   "id": "beaa1705-e190-4373-8cc1-69d8ee91dbed",
   "metadata": {},
   "outputs": [],
   "source": [
    "from torch.utils.data import TensorDataset\n",
    "\n",
    "torch.manual_seed(1)\n",
    "t_x = torch.rand([4, 3], dtype=torch.float32)\n",
    "t_y = torch.arange(4)\n",
    "\n",
    "joint_dataset = TensorDataset(t_x, t_y)"
   ]
  },
  {
   "cell_type": "code",
   "execution_count": null,
   "id": "92c4e3f6-a3e9-4d3a-8b3f-0b4e0d94dea1",
   "metadata": {},
   "outputs": [],
   "source": [
    "for example in joint_dataset:\n",
    "    print('  x: ', example[0], '  y: ', example[1])"
   ]
  },
  {
   "cell_type": "code",
   "execution_count": null,
   "id": "83d42cbb-a828-4ab3-9d49-b55c5110ce73",
   "metadata": {},
   "outputs": [],
   "source": [
    "joint_dataset = TensorDataset(t_x, t_y)\n",
    "\n",
    "torch.manual_seed(1) \n",
    "data_loader = DataLoader(dataset=joint_dataset, batch_size=2, shuffle=True)\n",
    "\n",
    "for i, batch in enumerate(data_loader, 1):\n",
    "    print(f'batch {i}:', 'x:', batch[0],\n",
    "              '\\n         y:', batch[1])"
   ]
  },
  {
   "cell_type": "code",
   "execution_count": null,
   "id": "3767649f-85d0-4129-9938-9625c17f33ad",
   "metadata": {},
   "outputs": [],
   "source": [
    "for epoch in range(2): \n",
    "    print(f'epoch {epoch+1}')\n",
    "    for i, batch in enumerate(data_loader, 1):\n",
    "        print(f'batch {i}:', 'x:', batch[0], \n",
    "              '\\n         y:', batch[1])"
   ]
  },
  {
   "cell_type": "code",
   "execution_count": null,
   "id": "757ce341-8e48-423c-8290-28bf69c0c79a",
   "metadata": {},
   "outputs": [],
   "source": []
  },
  {
   "cell_type": "markdown",
   "id": "7273df15-61ad-4659-b404-8a3758913192",
   "metadata": {},
   "source": [
    "## Simple use case"
   ]
  },
  {
   "cell_type": "code",
   "execution_count": 13,
   "id": "95d068f3-8860-4c8d-b7ce-3be2ac41ee24",
   "metadata": {},
   "outputs": [
    {
     "data": {
      "image/png": "[encoded data removed]",
      "text/plain": [
       "<Figure size 600x600 with 1 Axes>"
      ]
     },
     "metadata": {},
     "output_type": "display_data"
    }
   ],
   "source": [
    "import matplotlib.pyplot as plt\n",
    "import numpy as np\n",
    "\n",
    "torch.manual_seed(1)\n",
    "np.random.seed(1)\n",
    "x = np.random.uniform(low=-1, high=1, size=(10, 2))\n",
    "y = np.ones(len(x))\n",
    "y[x[:, 0] * x[:, 1]<0] = 0\n",
    "\n",
    "n_train = 6\n",
    "x_train = torch.tensor(x[:n_train, :], dtype=torch.float32)\n",
    "y_train = torch.tensor(y[:n_train], dtype=torch.float32)\n",
    "x_valid = torch.tensor(x[n_train:, :], dtype=torch.float32)\n",
    "y_valid = torch.tensor(y[n_train:], dtype=torch.float32)\n",
    "\n",
    "fig = plt.figure(figsize=(6, 6))\n",
    "plt.plot(x[y==0, 0], x[y==0, 1], 'o', alpha=0.75, markersize=10)\n",
    "plt.plot(x[y==1, 0], x[y==1, 1], '<', alpha=0.75, markersize=10)\n",
    "plt.xlabel(r'$x_1$', size=15)\n",
    "plt.ylabel(r'$x_2$', size=15)\n",
    "plt.show()"
   ]
  },
  {
   "cell_type": "code",
   "execution_count": 14,
   "id": "db7a8852-9e96-4c50-9a28-8608e610ca30",
   "metadata": {},
   "outputs": [
    {
     "data": {
      "text/plain": [
       "(array([[-0.166,  0.441],\n",
       "        [-1.   , -0.395],\n",
       "        [-0.706, -0.815],\n",
       "        [-0.627, -0.309],\n",
       "        [-0.206,  0.078],\n",
       "        [-0.162,  0.37 ],\n",
       "        [-0.591,  0.756],\n",
       "        [-0.945,  0.341],\n",
       "        [-0.165,  0.117],\n",
       "        [-0.719, -0.604]]),\n",
       " array([-0.166, -0.206, -0.162, -0.591, -0.945, -0.165]))"
      ]
     },
     "execution_count": 14,
     "metadata": {},
     "output_type": "execute_result"
    }
   ],
   "source": [
    "x, x[y==0, 0]"
   ]
  },
  {
   "cell_type": "code",
   "execution_count": 15,
   "id": "857ba33f-c985-46df-948e-dd870b0cd8d0",
   "metadata": {},
   "outputs": [
    {
     "data": {
      "text/plain": [
       "(array([0., 1., 1., 1., 0., 0., 0., 0., 0., 1.]),\n",
       " array([ True, False, False, False,  True,  True,  True,  True,  True,\n",
       "        False]))"
      ]
     },
     "execution_count": 15,
     "metadata": {},
     "output_type": "execute_result"
    }
   ],
   "source": [
    "y, y==0"
   ]
  },
  {
   "cell_type": "code",
   "execution_count": 16,
   "id": "8e5754c2-e29e-4950-9513-2fe086737e24",
   "metadata": {},
   "outputs": [
    {
     "data": {
      "text/plain": [
       "array([[-1.   , -0.395]])"
      ]
     },
     "execution_count": 16,
     "metadata": {},
     "output_type": "execute_result"
    }
   ],
   "source": [
    "x[[1]]"
   ]
  },
  {
   "cell_type": "code",
   "execution_count": 17,
   "id": "5b9e45a6-2665-488d-9135-7f0e86f4b50c",
   "metadata": {},
   "outputs": [
    {
     "data": {
      "image/png": "[encoded data removed]",
      "text/plain": [
       "<Figure size 640x480 with 1 Axes>"
      ]
     },
     "metadata": {},
     "output_type": "display_data"
    }
   ],
   "source": [
    "fig = plt.figure()\n",
    "ax = fig.add_subplot(projection='3d')\n",
    "\n",
    "ax.scatter(x[y==0, 0], x[y==0, 1], x[y==0, 0], alpha=0.75, c = 'b', marker='o')\n",
    "ax.scatter(x[y==1, 0], x[y==1, 1], x[y==1, 0], alpha=0.75, c = 'orange', marker='<')\n",
    "\n",
    "ax.set_xlabel('X1 Label')\n",
    "ax.set_ylabel('X2 Label')\n",
    "ax.set_zlabel('X1 Label')\n",
    "\n",
    "plt.show()"
   ]
  },
  {
   "cell_type": "code",
   "execution_count": null,
   "id": "137d161b-18c1-4350-b65c-780c27480283",
   "metadata": {},
   "outputs": [],
   "source": [
    "pip install mlxtend"
   ]
  },
  {
   "cell_type": "code",
   "execution_count": 22,
   "id": "4a20312c-304d-4c10-8f5d-176bc77f0cac",
   "metadata": {},
   "outputs": [
    {
     "data": {
      "text/plain": [
       "(array([[-0.166,  0.441],\n",
       "        [-1.   , -0.395],\n",
       "        [-0.706, -0.815],\n",
       "        [-0.627, -0.309],\n",
       "        [-0.206,  0.078],\n",
       "        [-0.162,  0.37 ],\n",
       "        [-0.591,  0.756],\n",
       "        [-0.945,  0.341],\n",
       "        [-0.165,  0.117],\n",
       "        [-0.719, -0.604]]),\n",
       " array([0., 1., 1., 1., 0., 0., 0., 0., 0., 1.]))"
      ]
     },
     "execution_count": 22,
     "metadata": {},
     "output_type": "execute_result"
    }
   ],
   "source": [
    "x, y"
   ]
  },
  {
   "cell_type": "code",
   "execution_count": 26,
   "id": "f6ce9315-2da1-4782-bbfe-ca317ba76e52",
   "metadata": {},
   "outputs": [
    {
     "name": "stdout",
     "output_type": "stream",
     "text": [
      "|--- feature_1 <= -0.12\n",
      "|   |--- class: 1.0\n",
      "|--- feature_1 >  -0.12\n",
      "|   |--- class: 0.0\n",
      "\n"
     ]
    }
   ],
   "source": [
    "from sklearn.tree import DecisionTreeClassifier, export_text\n",
    "from sklearn.model_selection import train_test_split\n",
    "import pandas as pd\n",
    "\n",
    "# 1. Load Data\n",
    "# Assuming you have already loaded your data into a DataFrame called 'hr_data'\n",
    "# Example: hr_data = pd.read_csv('hr_data.csv')\n",
    "\n",
    "# 2. Split Data into Features and Target\n",
    "# X = hr_data.drop('role', axis=1)  # Features\n",
    "# y = hr_data['role']               # Target variable\n",
    "\n",
    "# 3. Split Data into Training and Testing Sets\n",
    "X_train, X_test, y_train, y_test = train_test_split(x, y, test_size=0.3, random_state=42)\n",
    "\n",
    "# 4. Build Decision Tree\n",
    "clf = DecisionTreeClassifier()\n",
    "clf.fit(X_train, y_train)\n",
    "\n",
    "# 5. Print Rules\n",
    "# tree_rules = export_text(clf, feature_names=list(X.columns))\n",
    "tree_rules = export_text(clf)\n",
    "print(tree_rules)"
   ]
  },
  {
   "cell_type": "code",
   "execution_count": 35,
   "id": "775c6d59-09c8-4d79-9aaa-8cdcc287c2c5",
   "metadata": {},
   "outputs": [
    {
     "name": "stderr",
     "output_type": "stream",
     "text": [
      "/var/folders/lj/sq_z3m_s3z51_g2s4qfv2hrw0000gn/T/ipykernel_99158/1505964974.py:8: DeprecationWarning: Converting `np.integer` or `np.signedinteger` to a dtype is deprecated. The current result is `np.dtype(np.int_)` which is not strictly correct. Note that the result depends on the system. To ensure stable results use may want to use `np.int64` or `np.int32`.\n",
      "  y=y_test.astype(np.integer),\n"
     ]
    },
    {
     "data": {
      "image/png": "[encoded data removed]",
      "text/plain": [
       "<Figure size 640x480 with 1 Axes>"
      ]
     },
     "metadata": {},
     "output_type": "display_data"
    }
   ],
   "source": [
    "from mlxtend.plotting import plot_decision_regions\n",
    "\n",
    "ax = fig.add_subplot(1, 1, 1)\n",
    "# plot_decision_regions(X=X_test.numpy(),\n",
    "#                       y=y_test.numpy().astype(np.integer),\n",
    "#                       clf=clf)\n",
    "plot_decision_regions(X=X_test,\n",
    "                      y=y_test.astype(np.integer),\n",
    "                      clf=clf)\n",
    "ax.set_xlabel(r'$x_1$', size=15)\n",
    "ax.xaxis.set_label_coords(1, -0.025)\n",
    "ax.set_ylabel(r'$x_2$', size=15)\n",
    "ax.yaxis.set_label_coords(-0.025, 1)\n",
    "plt.show()"
   ]
  },
  {
   "cell_type": "code",
   "execution_count": 37,
   "id": "a25d232f-7886-4340-a72f-4760d066c3a8",
   "metadata": {},
   "outputs": [
    {
     "name": "stdout",
     "output_type": "stream",
     "text": [
      "Rules for role '0.0':\n",
      "[-0.166  0.441]: -0.2508\n",
      "[-1.    -0.395]: -1.1305\n",
      "\n"
     ]
    }
   ],
   "source": [
    "from sklearn.linear_model import LogisticRegression\n",
    "\n",
    "# Train a logistic regression model\n",
    "model = LogisticRegression()\n",
    "model.fit(X_train, y_train)\n",
    "\n",
    "# Print rules (feature coefficients)\n",
    "feature_names = x\n",
    "for role, coef in zip(model.classes_, model.coef_):\n",
    "    print(f\"Rules for role '{role}':\")\n",
    "    for feature, weight in zip(feature_names, coef):\n",
    "        print(f\"{feature}: {weight:.4f}\")\n",
    "    print()"
   ]
  },
  {
   "cell_type": "code",
   "execution_count": 40,
   "id": "174fd784-6810-468d-9b73-b9a4575ed932",
   "metadata": {},
   "outputs": [
    {
     "data": {
      "text/plain": [
       "array([[-0.166,  0.441],\n",
       "       [-1.   , -0.395],\n",
       "       [-0.706, -0.815],\n",
       "       [-0.627, -0.309],\n",
       "       [-0.206,  0.078],\n",
       "       [-0.162,  0.37 ],\n",
       "       [-0.591,  0.756],\n",
       "       [-0.945,  0.341],\n",
       "       [-0.165,  0.117],\n",
       "       [-0.719, -0.604]])"
      ]
     },
     "execution_count": 40,
     "metadata": {},
     "output_type": "execute_result"
    }
   ],
   "source": [
    "x"
   ]
  },
  {
   "cell_type": "code",
   "execution_count": 38,
   "id": "be075c75-f428-4152-9104-2950760a4857",
   "metadata": {},
   "outputs": [
    {
     "data": {
      "text/plain": [
       "array([0., 1.])"
      ]
     },
     "execution_count": 38,
     "metadata": {},
     "output_type": "execute_result"
    }
   ],
   "source": [
    "model.classes_"
   ]
  },
  {
   "cell_type": "code",
   "execution_count": 39,
   "id": "a7e52174-4c17-4d7a-b7fb-1652ba0ad5b7",
   "metadata": {},
   "outputs": [
    {
     "data": {
      "text/plain": [
       "array([[-0.251, -1.13 ]])"
      ]
     },
     "execution_count": 39,
     "metadata": {},
     "output_type": "execute_result"
    }
   ],
   "source": [
    "model.coef_"
   ]
  },
  {
   "cell_type": "code",
   "execution_count": null,
   "id": "dbb99588-fee2-4493-aacc-f412eed7e3e2",
   "metadata": {},
   "outputs": [],
   "source": []
  }
 ],
 "metadata": {
  "kernelspec": {
   "display_name": "Python 3 (ipykernel)",
   "language": "python",
   "name": "python3"
  },
  "language_info": {
   "codemirror_mode": {
    "name": "ipython",
    "version": 3
   },
   "file_extension": ".py",
   "mimetype": "text/x-python",
   "name": "python",
   "nbconvert_exporter": "python",
   "pygments_lexer": "ipython3",
   "version": "3.10.8"
  }
 },
 "nbformat": 4,
 "nbformat_minor": 5
}
