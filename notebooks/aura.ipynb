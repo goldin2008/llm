{
 "cells": [
  {
   "cell_type": "markdown",
   "id": "cdaed3c0-a050-4975-aebd-ea143a212785",
   "metadata": {},
   "source": [
    "1. Data Preprocessing\n",
    "Before merging, it is essential to clean and standardize the datasets:\n",
    "\n",
    "Data Cleaning: Standardize Text Fields: Convert all text fields (e.g., company names, locations) to a consistent format (e.g., lowercase, remove special characters).\n",
    "Handle Missing Values: Impute or remove rows with missing critical values, depending on their importance.\n",
    "\n",
    "Data Normalization: Address Format Inconsistencies: Ensure that fields like Geo, COMPANY_LOCATION, and COMPANY_LOCATION_NAME are normalized to a standard format (e.g., \"San Francisco, CA, USA\").\n",
    "\n",
    "Extract Features: Generate additional features such as combined info to enhance the matching process."
   ]
  },
  {
   "cell_type": "markdown",
   "id": "2b4301a2-e257-45a5-8387-b35e5f4fc587",
   "metadata": {},
   "source": [
    "### Dataset 1"
   ]
  },
  {
   "cell_type": "code",
   "execution_count": 5,
   "id": "c68f537a-90b1-4925-a66a-ada34550ed9b",
   "metadata": {},
   "outputs": [
    {
     "data": {
      "text/html": [
       "<div>\n",
       "<style scoped>\n",
       "    .dataframe tbody tr th:only-of-type {\n",
       "        vertical-align: middle;\n",
       "    }\n",
       "\n",
       "    .dataframe tbody tr th {\n",
       "        vertical-align: top;\n",
       "    }\n",
       "\n",
       "    .dataframe thead th {\n",
       "        text-align: right;\n",
       "    }\n",
       "</style>\n",
       "<table border=\"1\" class=\"dataframe\">\n",
       "  <thead>\n",
       "    <tr style=\"text-align: right;\">\n",
       "      <th></th>\n",
       "      <th>LIVEDATA_COMPANY_ID</th>\n",
       "      <th>COMPANY_NAME</th>\n",
       "      <th>WEBSITE</th>\n",
       "      <th>LINKEDIN_SLUG</th>\n",
       "      <th>COMPANY_TYPE</th>\n",
       "      <th>FOUNDED_YEAR</th>\n",
       "      <th>INDUSTRY</th>\n",
       "      <th>COMPANY_LOCATION</th>\n",
       "      <th>EMPLOYEE_COUNT</th>\n",
       "      <th>SIC_CODES</th>\n",
       "      <th>TICKER</th>\n",
       "      <th>INFO_CHANGE_DETECTED_AT</th>\n",
       "      <th>DS</th>\n",
       "    </tr>\n",
       "  </thead>\n",
       "  <tbody>\n",
       "    <tr>\n",
       "      <th>0</th>\n",
       "      <td>683d81648fa088c6e63fd794304c6809</td>\n",
       "      <td>divergence neuro</td>\n",
       "      <td>divergenceneuro.com</td>\n",
       "      <td>divergenceneuro</td>\n",
       "      <td>privately held</td>\n",
       "      <td>2020.0</td>\n",
       "      <td>biotechnology</td>\n",
       "      <td>Toronto, Ontario</td>\n",
       "      <td>10.0</td>\n",
       "      <td>NaN</td>\n",
       "      <td>NaN</td>\n",
       "      <td>2024-05-10 10:18:55.073 Z</td>\n",
       "      <td>2024-06-05 00:00:00.000 Z</td>\n",
       "    </tr>\n",
       "    <tr>\n",
       "      <th>1</th>\n",
       "      <td>ecca0ebb4e1ef747528283aafee022d2</td>\n",
       "      <td>knight protective service, inc.</td>\n",
       "      <td>knightprotectiveservice.com</td>\n",
       "      <td>knight-protective-service-inc.</td>\n",
       "      <td>NaN</td>\n",
       "      <td>NaN</td>\n",
       "      <td>security and investigations</td>\n",
       "      <td>Lanham, Maryland</td>\n",
       "      <td>NaN</td>\n",
       "      <td>NaN</td>\n",
       "      <td>NaN</td>\n",
       "      <td>2024-05-10 10:15:11.702 Z</td>\n",
       "      <td>2024-06-05 00:00:00.000 Z</td>\n",
       "    </tr>\n",
       "    <tr>\n",
       "      <th>2</th>\n",
       "      <td>ab49d6f1d2f84f3450a49c9ccfd6f589</td>\n",
       "      <td>tackle grab llc</td>\n",
       "      <td>tacklegrab.com</td>\n",
       "      <td>tackle-grab-llc</td>\n",
       "      <td>privately held</td>\n",
       "      <td>2012.0</td>\n",
       "      <td>sporting goods manufacturing</td>\n",
       "      <td>Boston, MA</td>\n",
       "      <td>NaN</td>\n",
       "      <td>NaN</td>\n",
       "      <td>NaN</td>\n",
       "      <td>2024-05-10 10:09:03.989 Z</td>\n",
       "      <td>2024-06-05 00:00:00.000 Z</td>\n",
       "    </tr>\n",
       "    <tr>\n",
       "      <th>3</th>\n",
       "      <td>ed2bdd88351326b593436d0e6123dfd8</td>\n",
       "      <td>cravehro®</td>\n",
       "      <td>cravehro.com</td>\n",
       "      <td>cravehro</td>\n",
       "      <td>self owned</td>\n",
       "      <td>2021.0</td>\n",
       "      <td>human resources</td>\n",
       "      <td>Ronkonkoma, New York</td>\n",
       "      <td>1.0</td>\n",
       "      <td>NaN</td>\n",
       "      <td>NaN</td>\n",
       "      <td>2024-05-10 09:37:54.015 Z</td>\n",
       "      <td>2024-06-05 00:00:00.000 Z</td>\n",
       "    </tr>\n",
       "    <tr>\n",
       "      <th>4</th>\n",
       "      <td>6b036963ce2fd98b0be692df3a10fb4f</td>\n",
       "      <td>citrus valley gastroenterology a california me...</td>\n",
       "      <td>cvgastro.com</td>\n",
       "      <td>citrus-valley-gastroenterology-a-california-me...</td>\n",
       "      <td>NaN</td>\n",
       "      <td>1986.0</td>\n",
       "      <td>medical practice</td>\n",
       "      <td>Glendora, California</td>\n",
       "      <td>6.0</td>\n",
       "      <td>NaN</td>\n",
       "      <td>NaN</td>\n",
       "      <td>2024-05-10 10:23:16.353 Z</td>\n",
       "      <td>2024-06-05 00:00:00.000 Z</td>\n",
       "    </tr>\n",
       "  </tbody>\n",
       "</table>\n",
       "</div>"
      ],
      "text/plain": [
       "                LIVEDATA_COMPANY_ID  \\\n",
       "0  683d81648fa088c6e63fd794304c6809   \n",
       "1  ecca0ebb4e1ef747528283aafee022d2   \n",
       "2  ab49d6f1d2f84f3450a49c9ccfd6f589   \n",
       "3  ed2bdd88351326b593436d0e6123dfd8   \n",
       "4  6b036963ce2fd98b0be692df3a10fb4f   \n",
       "\n",
       "                                        COMPANY_NAME  \\\n",
       "0                                   divergence neuro   \n",
       "1                    knight protective service, inc.   \n",
       "2                                    tackle grab llc   \n",
       "3                                          cravehro®   \n",
       "4  citrus valley gastroenterology a california me...   \n",
       "\n",
       "                       WEBSITE  \\\n",
       "0          divergenceneuro.com   \n",
       "1  knightprotectiveservice.com   \n",
       "2               tacklegrab.com   \n",
       "3                 cravehro.com   \n",
       "4                 cvgastro.com   \n",
       "\n",
       "                                       LINKEDIN_SLUG    COMPANY_TYPE  \\\n",
       "0                                    divergenceneuro  privately held   \n",
       "1                     knight-protective-service-inc.             NaN   \n",
       "2                                    tackle-grab-llc  privately held   \n",
       "3                                           cravehro      self owned   \n",
       "4  citrus-valley-gastroenterology-a-california-me...             NaN   \n",
       "\n",
       "   FOUNDED_YEAR                      INDUSTRY      COMPANY_LOCATION  \\\n",
       "0        2020.0                 biotechnology      Toronto, Ontario   \n",
       "1           NaN   security and investigations      Lanham, Maryland   \n",
       "2        2012.0  sporting goods manufacturing            Boston, MA   \n",
       "3        2021.0               human resources  Ronkonkoma, New York   \n",
       "4        1986.0              medical practice  Glendora, California   \n",
       "\n",
       "   EMPLOYEE_COUNT SIC_CODES TICKER    INFO_CHANGE_DETECTED_AT  \\\n",
       "0            10.0       NaN    NaN  2024-05-10 10:18:55.073 Z   \n",
       "1             NaN       NaN    NaN  2024-05-10 10:15:11.702 Z   \n",
       "2             NaN       NaN    NaN  2024-05-10 10:09:03.989 Z   \n",
       "3             1.0       NaN    NaN  2024-05-10 09:37:54.015 Z   \n",
       "4             6.0       NaN    NaN  2024-05-10 10:23:16.353 Z   \n",
       "\n",
       "                          DS  \n",
       "0  2024-06-05 00:00:00.000 Z  \n",
       "1  2024-06-05 00:00:00.000 Z  \n",
       "2  2024-06-05 00:00:00.000 Z  \n",
       "3  2024-06-05 00:00:00.000 Z  \n",
       "4  2024-06-05 00:00:00.000 Z  "
      ]
     },
     "execution_count": 5,
     "metadata": {},
     "output_type": "execute_result"
    }
   ],
   "source": [
    "import pandas as pd\n",
    "\n",
    "data1 = pd.read_csv('data/2024-08-06 11_52pm.csv')\n",
    "data1.head(5)"
   ]
  },
  {
   "cell_type": "code",
   "execution_count": 6,
   "id": "6597b535-887d-49f7-8dff-b2a1e010def5",
   "metadata": {},
   "outputs": [
    {
     "name": "stdout",
     "output_type": "stream",
     "text": [
      "<class 'pandas.core.frame.DataFrame'>\n",
      "RangeIndex: 26504 entries, 0 to 26503\n",
      "Data columns (total 13 columns):\n",
      " #   Column                   Non-Null Count  Dtype  \n",
      "---  ------                   --------------  -----  \n",
      " 0   LIVEDATA_COMPANY_ID      26504 non-null  object \n",
      " 1   COMPANY_NAME             26503 non-null  object \n",
      " 2   WEBSITE                  26504 non-null  object \n",
      " 3   LINKEDIN_SLUG            26504 non-null  object \n",
      " 4   COMPANY_TYPE             18938 non-null  object \n",
      " 5   FOUNDED_YEAR             15092 non-null  float64\n",
      " 6   INDUSTRY                 24449 non-null  object \n",
      " 7   COMPANY_LOCATION         21585 non-null  object \n",
      " 8   EMPLOYEE_COUNT           22036 non-null  float64\n",
      " 9   SIC_CODES                1300 non-null   object \n",
      " 10  TICKER                   68 non-null     object \n",
      " 11  INFO_CHANGE_DETECTED_AT  26504 non-null  object \n",
      " 12  DS                       26504 non-null  object \n",
      "dtypes: float64(2), object(11)\n",
      "memory usage: 2.6+ MB\n"
     ]
    }
   ],
   "source": [
    "data1.info()"
   ]
  },
  {
   "cell_type": "code",
   "execution_count": 7,
   "id": "2ad83bf5-9610-484a-99eb-6d0243981fcb",
   "metadata": {},
   "outputs": [
    {
     "data": {
      "text/plain": [
       "(26504, 409, 66)"
      ]
     },
     "execution_count": 7,
     "metadata": {},
     "output_type": "execute_result"
    }
   ],
   "source": [
    "data1['LIVEDATA_COMPANY_ID'].nunique(), data1['SIC_CODES'].nunique(), data1['TICKER'].nunique()"
   ]
  },
  {
   "cell_type": "code",
   "execution_count": 8,
   "id": "e234a3f7-aca6-42fb-be9a-cdfef803da12",
   "metadata": {},
   "outputs": [],
   "source": [
    "# List of columns to exclude\n",
    "exclude_cols = ['LIVEDATA_COMPANY_ID', 'SIC_CODES', 'TICKER', 'INFO_CHANGE_DETECTED_AT', 'DS']\n",
    "\n",
    "# Selecting columns not in the list\n",
    "info_df1 = data1[[col for col in data1.columns if col not in exclude_cols]]"
   ]
  },
  {
   "cell_type": "code",
   "execution_count": 9,
   "id": "72266985-76b2-43b1-99bb-beb0ed7cfbf1",
   "metadata": {},
   "outputs": [
    {
     "name": "stdout",
     "output_type": "stream",
     "text": [
      "<class 'pandas.core.frame.DataFrame'>\n",
      "RangeIndex: 26504 entries, 0 to 26503\n",
      "Data columns (total 8 columns):\n",
      " #   Column            Non-Null Count  Dtype  \n",
      "---  ------            --------------  -----  \n",
      " 0   COMPANY_NAME      26503 non-null  object \n",
      " 1   WEBSITE           26504 non-null  object \n",
      " 2   LINKEDIN_SLUG     26504 non-null  object \n",
      " 3   COMPANY_TYPE      18938 non-null  object \n",
      " 4   FOUNDED_YEAR      15092 non-null  float64\n",
      " 5   INDUSTRY          24449 non-null  object \n",
      " 6   COMPANY_LOCATION  21585 non-null  object \n",
      " 7   EMPLOYEE_COUNT    22036 non-null  float64\n",
      "dtypes: float64(2), object(6)\n",
      "memory usage: 1.6+ MB\n"
     ]
    }
   ],
   "source": [
    "info_df1.info()"
   ]
  },
  {
   "cell_type": "code",
   "execution_count": 82,
   "id": "0def76de-081e-4ae9-988d-330c3171e806",
   "metadata": {},
   "outputs": [],
   "source": [
    "info_df1.loc[:, 'combined_info'] = info_df1.apply(lambda row: (\n",
    "    f\"\"\"COMPANY NAME: {row['COMPANY_NAME']}, \\\n",
    "    \\nWEBSITE: {row['WEBSITE']}, \\\n",
    "    \\nLINKEDIN URL: {row['LINKEDIN_SLUG']}, \\\n",
    "    \\nCOMPANY TYPE: {row['COMPANY_TYPE']}, \\\n",
    "    \\nFOUNDED YEAR: {row['FOUNDED_YEAR']}, \\\n",
    "    \\nINDUSTRY: {row['INDUSTRY']}, \\\n",
    "    \\nCOMPANY LOCATION: {row['COMPANY_LOCATION']}, \\\n",
    "    \\nTOTAL EMPLOYEES: {row['EMPLOYEE_COUNT']}\"\"\"\n",
    "), axis=1)"
   ]
  },
  {
   "cell_type": "code",
   "execution_count": 84,
   "id": "4d19dbb2-a887-4e37-bb9b-dc0872c3471c",
   "metadata": {},
   "outputs": [
    {
     "name": "stdout",
     "output_type": "stream",
     "text": [
      "COMPANY NAME: divergence neuro,     \n",
      "WEBSITE: divergenceneuro.com,     \n",
      "LINKEDIN URL: divergenceneuro,     \n",
      "COMPANY TYPE: privately held,     \n",
      "FOUNDED YEAR: 2020.0,     \n",
      "INDUSTRY: biotechnology,     \n",
      "COMPANY LOCATION: Toronto, Ontario,     \n",
      "TOTAL EMPLOYEES: 10.0\n"
     ]
    }
   ],
   "source": [
    "print(info_df1['combined_info'][0])"
   ]
  },
  {
   "cell_type": "code",
   "execution_count": 83,
   "id": "825bc32f-160b-41cc-93d7-92d9684f3121",
   "metadata": {},
   "outputs": [
    {
     "name": "stdout",
     "output_type": "stream",
     "text": [
      "<class 'pandas.core.frame.DataFrame'>\n",
      "RangeIndex: 26504 entries, 0 to 26503\n",
      "Data columns (total 10 columns):\n",
      " #   Column            Non-Null Count  Dtype  \n",
      "---  ------            --------------  -----  \n",
      " 0   COMPANY_NAME      26503 non-null  object \n",
      " 1   WEBSITE           26504 non-null  object \n",
      " 2   LINKEDIN_SLUG     26504 non-null  object \n",
      " 3   COMPANY_TYPE      18938 non-null  object \n",
      " 4   FOUNDED_YEAR      15092 non-null  float64\n",
      " 5   INDUSTRY          24449 non-null  object \n",
      " 6   COMPANY_LOCATION  21585 non-null  object \n",
      " 7   EMPLOYEE_COUNT    22036 non-null  float64\n",
      " 8   context           26504 non-null  object \n",
      " 9   combined_info     26504 non-null  object \n",
      "dtypes: float64(2), object(8)\n",
      "memory usage: 2.0+ MB\n"
     ]
    }
   ],
   "source": [
    "info_df1.info()"
   ]
  },
  {
   "cell_type": "code",
   "execution_count": 61,
   "id": "3da4bb1a-de02-4729-93ba-e4852ac6894d",
   "metadata": {},
   "outputs": [
    {
     "data": {
      "text/html": [
       "<div>\n",
       "<style scoped>\n",
       "    .dataframe tbody tr th:only-of-type {\n",
       "        vertical-align: middle;\n",
       "    }\n",
       "\n",
       "    .dataframe tbody tr th {\n",
       "        vertical-align: top;\n",
       "    }\n",
       "\n",
       "    .dataframe thead th {\n",
       "        text-align: right;\n",
       "    }\n",
       "</style>\n",
       "<table border=\"1\" class=\"dataframe\">\n",
       "  <thead>\n",
       "    <tr style=\"text-align: right;\">\n",
       "      <th></th>\n",
       "      <th>COMPANY_NAME</th>\n",
       "      <th>WEBSITE</th>\n",
       "      <th>LINKEDIN_SLUG</th>\n",
       "      <th>COMPANY_TYPE</th>\n",
       "      <th>FOUNDED_YEAR</th>\n",
       "      <th>INDUSTRY</th>\n",
       "      <th>COMPANY_LOCATION</th>\n",
       "      <th>EMPLOYEE_COUNT</th>\n",
       "      <th>context</th>\n",
       "      <th>combined_info</th>\n",
       "    </tr>\n",
       "  </thead>\n",
       "  <tbody>\n",
       "    <tr>\n",
       "      <th>0</th>\n",
       "      <td>divergence neuro</td>\n",
       "      <td>divergenceneuro.com</td>\n",
       "      <td>divergenceneuro</td>\n",
       "      <td>privately held</td>\n",
       "      <td>2020.0</td>\n",
       "      <td>biotechnology</td>\n",
       "      <td>Toronto, Ontario</td>\n",
       "      <td>10.0</td>\n",
       "      <td>COMPANY NAME: divergence neuro,\\nWEBSITE: dive...</td>\n",
       "      <td>COMPANY NAME: divergence neuro,\\n\\n    WEBSITE...</td>\n",
       "    </tr>\n",
       "  </tbody>\n",
       "</table>\n",
       "</div>"
      ],
      "text/plain": [
       "       COMPANY_NAME              WEBSITE    LINKEDIN_SLUG    COMPANY_TYPE  \\\n",
       "0  divergence neuro  divergenceneuro.com  divergenceneuro  privately held   \n",
       "\n",
       "   FOUNDED_YEAR       INDUSTRY  COMPANY_LOCATION  EMPLOYEE_COUNT  \\\n",
       "0        2020.0  biotechnology  Toronto, Ontario            10.0   \n",
       "\n",
       "                                             context  \\\n",
       "0  COMPANY NAME: divergence neuro,\\nWEBSITE: dive...   \n",
       "\n",
       "                                       combined_info  \n",
       "0  COMPANY NAME: divergence neuro,\\n\\n    WEBSITE...  "
      ]
     },
     "execution_count": 61,
     "metadata": {},
     "output_type": "execute_result"
    }
   ],
   "source": [
    "info_df1.head(1)"
   ]
  },
  {
   "cell_type": "markdown",
   "id": "812f55d7-b6dc-4a84-9a8f-d41d5c2b6908",
   "metadata": {},
   "source": [
    "### Dataset 2"
   ]
  },
  {
   "cell_type": "code",
   "execution_count": 19,
   "id": "14975c98-70ab-4260-ba57-4f346c4f61de",
   "metadata": {},
   "outputs": [
    {
     "data": {
      "text/html": [
       "<div>\n",
       "<style scoped>\n",
       "    .dataframe tbody tr th:only-of-type {\n",
       "        vertical-align: middle;\n",
       "    }\n",
       "\n",
       "    .dataframe tbody tr th {\n",
       "        vertical-align: top;\n",
       "    }\n",
       "\n",
       "    .dataframe thead th {\n",
       "        text-align: right;\n",
       "    }\n",
       "</style>\n",
       "<table border=\"1\" class=\"dataframe\">\n",
       "  <thead>\n",
       "    <tr style=\"text-align: right;\">\n",
       "      <th></th>\n",
       "      <th>DS</th>\n",
       "      <th>PDL_COMPANY_ID</th>\n",
       "      <th>COMPANY_NAME</th>\n",
       "      <th>TYPE</th>\n",
       "      <th>INDUSTRY</th>\n",
       "      <th>WEBSITE</th>\n",
       "      <th>FOUNDED</th>\n",
       "      <th>LINKEDIN_URL</th>\n",
       "      <th>PDL_SUMMARY</th>\n",
       "      <th>FACEBOOK_URL</th>\n",
       "      <th>...</th>\n",
       "      <th>COMPANY_LOCATION_REGION</th>\n",
       "      <th>COMPANY_LOCATION_METRO</th>\n",
       "      <th>COMPANY_LOCATION_COUNTRY</th>\n",
       "      <th>COMPANY_LOCATION_CONTINENT</th>\n",
       "      <th>COMPANY_LOCATION_STREET_ADDRESS</th>\n",
       "      <th>COMPANY_LOCATION_ADDRESS_LINE_2</th>\n",
       "      <th>COMPANY_LOCATION_POSTAL_CODE</th>\n",
       "      <th>ROW_NUM</th>\n",
       "      <th>CURRENT_EMPLOYEES</th>\n",
       "      <th>TOTAL_EMPLOYEES</th>\n",
       "    </tr>\n",
       "  </thead>\n",
       "  <tbody>\n",
       "    <tr>\n",
       "      <th>0</th>\n",
       "      <td>2024-06-16</td>\n",
       "      <td>QkRXus0QCRC7Vw0zcBzHdwZwjYzU</td>\n",
       "      <td>thrive africa (now nomadi)</td>\n",
       "      <td>nonprofit</td>\n",
       "      <td>NaN</td>\n",
       "      <td>notion.so/thriveafricafund/overview-46a085735e...</td>\n",
       "      <td>NaN</td>\n",
       "      <td>linkedin.com/company/join-nomadi</td>\n",
       "      <td>NaN</td>\n",
       "      <td>NaN</td>\n",
       "      <td>...</td>\n",
       "      <td>NaN</td>\n",
       "      <td>NaN</td>\n",
       "      <td>NaN</td>\n",
       "      <td>NaN</td>\n",
       "      <td>NaN</td>\n",
       "      <td>NaN</td>\n",
       "      <td>NaN</td>\n",
       "      <td>1</td>\n",
       "      <td>5</td>\n",
       "      <td>66</td>\n",
       "    </tr>\n",
       "    <tr>\n",
       "      <th>1</th>\n",
       "      <td>2024-06-16</td>\n",
       "      <td>3CSGba1jF0cEgfxu2AavyQXkwPoR</td>\n",
       "      <td>mamatoro</td>\n",
       "      <td>private</td>\n",
       "      <td>retail</td>\n",
       "      <td>mamatoro.com</td>\n",
       "      <td>NaN</td>\n",
       "      <td>linkedin.com/company/mamatoro</td>\n",
       "      <td>NaN</td>\n",
       "      <td>facebook.com/mamatoroboutiquegalerie</td>\n",
       "      <td>...</td>\n",
       "      <td>connecticut</td>\n",
       "      <td>NaN</td>\n",
       "      <td>united states</td>\n",
       "      <td>north america</td>\n",
       "      <td>NaN</td>\n",
       "      <td>NaN</td>\n",
       "      <td>06400</td>\n",
       "      <td>1</td>\n",
       "      <td>0</td>\n",
       "      <td>3</td>\n",
       "    </tr>\n",
       "    <tr>\n",
       "      <th>2</th>\n",
       "      <td>2024-06-16</td>\n",
       "      <td>CRxKNmeF1dBqhF4kvMXZAQWf7gDN</td>\n",
       "      <td>gbmojo</td>\n",
       "      <td>private</td>\n",
       "      <td>entertainment</td>\n",
       "      <td>gbmojo.com</td>\n",
       "      <td>NaN</td>\n",
       "      <td>linkedin.com/company/gbmojo</td>\n",
       "      <td>NaN</td>\n",
       "      <td>NaN</td>\n",
       "      <td>...</td>\n",
       "      <td>texas</td>\n",
       "      <td>NaN</td>\n",
       "      <td>united states</td>\n",
       "      <td>north america</td>\n",
       "      <td>NaN</td>\n",
       "      <td>NaN</td>\n",
       "      <td>78704</td>\n",
       "      <td>1</td>\n",
       "      <td>0</td>\n",
       "      <td>2</td>\n",
       "    </tr>\n",
       "    <tr>\n",
       "      <th>3</th>\n",
       "      <td>2024-06-16</td>\n",
       "      <td>KgofJOvXaeNKeE6uzsQYbw0MOIby</td>\n",
       "      <td>pontual service corretora</td>\n",
       "      <td>private</td>\n",
       "      <td>insurance</td>\n",
       "      <td>pontualservice.com</td>\n",
       "      <td>NaN</td>\n",
       "      <td>linkedin.com/company/pontual-service-corretora</td>\n",
       "      <td>NaN</td>\n",
       "      <td>NaN</td>\n",
       "      <td>...</td>\n",
       "      <td>NaN</td>\n",
       "      <td>NaN</td>\n",
       "      <td>brazil</td>\n",
       "      <td>south america</td>\n",
       "      <td>NaN</td>\n",
       "      <td>NaN</td>\n",
       "      <td>NaN</td>\n",
       "      <td>1</td>\n",
       "      <td>1</td>\n",
       "      <td>6</td>\n",
       "    </tr>\n",
       "    <tr>\n",
       "      <th>4</th>\n",
       "      <td>2024-06-16</td>\n",
       "      <td>DaYqC7Jc86uBUfEtrymLDAaXkDQV</td>\n",
       "      <td>mercedes benz of annapolis service</td>\n",
       "      <td>private</td>\n",
       "      <td>individual &amp; family services</td>\n",
       "      <td>mercedesbenzannapolisservice.com</td>\n",
       "      <td>NaN</td>\n",
       "      <td>linkedin.com/company/mercedes-benz-of-annapoli...</td>\n",
       "      <td>NaN</td>\n",
       "      <td>NaN</td>\n",
       "      <td>...</td>\n",
       "      <td>maryland</td>\n",
       "      <td>baltimore, maryland</td>\n",
       "      <td>united states</td>\n",
       "      <td>north america</td>\n",
       "      <td>1920 forest drive</td>\n",
       "      <td>NaN</td>\n",
       "      <td>21401</td>\n",
       "      <td>1</td>\n",
       "      <td>1</td>\n",
       "      <td>1</td>\n",
       "    </tr>\n",
       "  </tbody>\n",
       "</table>\n",
       "<p>5 rows × 26 columns</p>\n",
       "</div>"
      ],
      "text/plain": [
       "           DS                PDL_COMPANY_ID  \\\n",
       "0  2024-06-16  QkRXus0QCRC7Vw0zcBzHdwZwjYzU   \n",
       "1  2024-06-16  3CSGba1jF0cEgfxu2AavyQXkwPoR   \n",
       "2  2024-06-16  CRxKNmeF1dBqhF4kvMXZAQWf7gDN   \n",
       "3  2024-06-16  KgofJOvXaeNKeE6uzsQYbw0MOIby   \n",
       "4  2024-06-16  DaYqC7Jc86uBUfEtrymLDAaXkDQV   \n",
       "\n",
       "                         COMPANY_NAME       TYPE  \\\n",
       "0          thrive africa (now nomadi)  nonprofit   \n",
       "1                            mamatoro    private   \n",
       "2                              gbmojo    private   \n",
       "3           pontual service corretora    private   \n",
       "4  mercedes benz of annapolis service    private   \n",
       "\n",
       "                       INDUSTRY  \\\n",
       "0                           NaN   \n",
       "1                        retail   \n",
       "2                 entertainment   \n",
       "3                     insurance   \n",
       "4  individual & family services   \n",
       "\n",
       "                                             WEBSITE  FOUNDED  \\\n",
       "0  notion.so/thriveafricafund/overview-46a085735e...      NaN   \n",
       "1                                       mamatoro.com      NaN   \n",
       "2                                         gbmojo.com      NaN   \n",
       "3                                 pontualservice.com      NaN   \n",
       "4                   mercedesbenzannapolisservice.com      NaN   \n",
       "\n",
       "                                        LINKEDIN_URL  PDL_SUMMARY  \\\n",
       "0                   linkedin.com/company/join-nomadi          NaN   \n",
       "1                      linkedin.com/company/mamatoro          NaN   \n",
       "2                        linkedin.com/company/gbmojo          NaN   \n",
       "3     linkedin.com/company/pontual-service-corretora          NaN   \n",
       "4  linkedin.com/company/mercedes-benz-of-annapoli...          NaN   \n",
       "\n",
       "                           FACEBOOK_URL  ...  COMPANY_LOCATION_REGION  \\\n",
       "0                                   NaN  ...                      NaN   \n",
       "1  facebook.com/mamatoroboutiquegalerie  ...              connecticut   \n",
       "2                                   NaN  ...                    texas   \n",
       "3                                   NaN  ...                      NaN   \n",
       "4                                   NaN  ...                 maryland   \n",
       "\n",
       "  COMPANY_LOCATION_METRO COMPANY_LOCATION_COUNTRY COMPANY_LOCATION_CONTINENT  \\\n",
       "0                    NaN                      NaN                        NaN   \n",
       "1                    NaN            united states              north america   \n",
       "2                    NaN            united states              north america   \n",
       "3                    NaN                   brazil              south america   \n",
       "4    baltimore, maryland            united states              north america   \n",
       "\n",
       "  COMPANY_LOCATION_STREET_ADDRESS COMPANY_LOCATION_ADDRESS_LINE_2  \\\n",
       "0                             NaN                             NaN   \n",
       "1                             NaN                             NaN   \n",
       "2                             NaN                             NaN   \n",
       "3                             NaN                             NaN   \n",
       "4               1920 forest drive                             NaN   \n",
       "\n",
       "  COMPANY_LOCATION_POSTAL_CODE ROW_NUM CURRENT_EMPLOYEES TOTAL_EMPLOYEES  \n",
       "0                          NaN       1                 5              66  \n",
       "1                        06400       1                 0               3  \n",
       "2                        78704       1                 0               2  \n",
       "3                          NaN       1                 1               6  \n",
       "4                        21401       1                 1               1  \n",
       "\n",
       "[5 rows x 26 columns]"
      ]
     },
     "execution_count": 19,
     "metadata": {},
     "output_type": "execute_result"
    }
   ],
   "source": [
    "data2 = pd.read_csv('data/2024-08-06 11_52pm_1.csv')\n",
    "data2.head(5)"
   ]
  },
  {
   "cell_type": "code",
   "execution_count": 20,
   "id": "3a931db9-4341-4966-9c4a-0a825cbe4edf",
   "metadata": {},
   "outputs": [
    {
     "name": "stdout",
     "output_type": "stream",
     "text": [
      "<class 'pandas.core.frame.DataFrame'>\n",
      "RangeIndex: 170825 entries, 0 to 170824\n",
      "Data columns (total 26 columns):\n",
      " #   Column                           Non-Null Count   Dtype  \n",
      "---  ------                           --------------   -----  \n",
      " 0   DS                               170825 non-null  object \n",
      " 1   PDL_COMPANY_ID                   170825 non-null  object \n",
      " 2   COMPANY_NAME                     170825 non-null  object \n",
      " 3   TYPE                             170825 non-null  object \n",
      " 4   INDUSTRY                         122732 non-null  object \n",
      " 5   WEBSITE                          170825 non-null  object \n",
      " 6   FOUNDED                          79329 non-null   float64\n",
      " 7   LINKEDIN_URL                     170825 non-null  object \n",
      " 8   PDL_SUMMARY                      0 non-null       float64\n",
      " 9   FACEBOOK_URL                     18443 non-null   object \n",
      " 10  LINKEDIN_ID                      170355 non-null  float64\n",
      " 11  SIZE                             170825 non-null  object \n",
      " 12  TICKER                           313 non-null     object \n",
      " 13  TWITTER_URL                      15806 non-null   object \n",
      " 14  COMPANY_LOCATION_NAME            155761 non-null  object \n",
      " 15  COMPANY_LOCATION_LOCALITY        116508 non-null  object \n",
      " 16  COMPANY_LOCATION_REGION          133858 non-null  object \n",
      " 17  COMPANY_LOCATION_METRO           55714 non-null   object \n",
      " 18  COMPANY_LOCATION_COUNTRY         155759 non-null  object \n",
      " 19  COMPANY_LOCATION_CONTINENT       155761 non-null  object \n",
      " 20  COMPANY_LOCATION_STREET_ADDRESS  59991 non-null   object \n",
      " 21  COMPANY_LOCATION_ADDRESS_LINE_2  8577 non-null    object \n",
      " 22  COMPANY_LOCATION_POSTAL_CODE     62120 non-null   object \n",
      " 23  ROW_NUM                          170825 non-null  int64  \n",
      " 24  CURRENT_EMPLOYEES                170825 non-null  int64  \n",
      " 25  TOTAL_EMPLOYEES                  170825 non-null  int64  \n",
      "dtypes: float64(3), int64(3), object(20)\n",
      "memory usage: 33.9+ MB\n"
     ]
    }
   ],
   "source": [
    "data2.info()"
   ]
  },
  {
   "cell_type": "code",
   "execution_count": 21,
   "id": "99be8418-7bc3-40ea-8d65-e9717eaca1b5",
   "metadata": {},
   "outputs": [
    {
     "data": {
      "text/plain": [
       "(87526, 1, 1021, 197)"
      ]
     },
     "execution_count": 21,
     "metadata": {},
     "output_type": "execute_result"
    }
   ],
   "source": [
    "data2['PDL_COMPANY_ID'].nunique(), data2['ROW_NUM'].nunique(), data2['CURRENT_EMPLOYEES'].nunique(), data2['FOUNDED'].nunique()"
   ]
  },
  {
   "cell_type": "code",
   "execution_count": 22,
   "id": "41136587-a3a8-4a26-9c68-84949570da96",
   "metadata": {},
   "outputs": [
    {
     "name": "stdout",
     "output_type": "stream",
     "text": [
      "<class 'pandas.core.frame.DataFrame'>\n",
      "RangeIndex: 170825 entries, 0 to 170824\n",
      "Data columns (total 22 columns):\n",
      " #   Column                           Non-Null Count   Dtype  \n",
      "---  ------                           --------------   -----  \n",
      " 0   PDL_COMPANY_ID                   170825 non-null  object \n",
      " 1   COMPANY_NAME                     170825 non-null  object \n",
      " 2   TYPE                             170825 non-null  object \n",
      " 3   INDUSTRY                         122732 non-null  object \n",
      " 4   WEBSITE                          170825 non-null  object \n",
      " 5   FOUNDED                          79329 non-null   float64\n",
      " 6   LINKEDIN_URL                     170825 non-null  object \n",
      " 7   FACEBOOK_URL                     18443 non-null   object \n",
      " 8   LINKEDIN_ID                      170355 non-null  float64\n",
      " 9   SIZE                             170825 non-null  object \n",
      " 10  TWITTER_URL                      15806 non-null   object \n",
      " 11  COMPANY_LOCATION_NAME            155761 non-null  object \n",
      " 12  COMPANY_LOCATION_LOCALITY        116508 non-null  object \n",
      " 13  COMPANY_LOCATION_REGION          133858 non-null  object \n",
      " 14  COMPANY_LOCATION_METRO           55714 non-null   object \n",
      " 15  COMPANY_LOCATION_COUNTRY         155759 non-null  object \n",
      " 16  COMPANY_LOCATION_CONTINENT       155761 non-null  object \n",
      " 17  COMPANY_LOCATION_STREET_ADDRESS  59991 non-null   object \n",
      " 18  COMPANY_LOCATION_ADDRESS_LINE_2  8577 non-null    object \n",
      " 19  COMPANY_LOCATION_POSTAL_CODE     62120 non-null   object \n",
      " 20  CURRENT_EMPLOYEES                170825 non-null  int64  \n",
      " 21  TOTAL_EMPLOYEES                  170825 non-null  int64  \n",
      "dtypes: float64(2), int64(2), object(18)\n",
      "memory usage: 28.7+ MB\n"
     ]
    }
   ],
   "source": [
    "# List of columns to exclude\n",
    "exclude_cols = ['DS', 'PDL_SUMMARY', 'TICKER', 'ROW_NUM']\n",
    "\n",
    "# Selecting columns not in the list\n",
    "info_df2 = data2[[col for col in data2.columns if col not in exclude_cols]]\n",
    "info_df2.info()"
   ]
  },
  {
   "cell_type": "code",
   "execution_count": 80,
   "id": "4580e272-7f86-4f85-aecf-861cb86486bc",
   "metadata": {},
   "outputs": [],
   "source": [
    "# COMPANY NAME: divergence neuro,\n",
    "# WEBSITE: divergenceneuro.com,\n",
    "# LINKEDIN: divergenceneuro,\n",
    "# COMPANY TYPE: privately held,\n",
    "# FOUNDED YEAR: 2020.0,\n",
    "# INDUSTRY: biotechnology,\n",
    "# COMPANY LOCATION: Toronto, Ontario,\n",
    "# EMPLOYEE COUNT: 10.0\n",
    "\n",
    "info_df2.loc[:, 'combined_info']= info_df2.apply(lambda row: (\n",
    "    f\"\"\"COMPANY NAME: {row['COMPANY_NAME']}, \\nPDL COMPANY ID: {row['PDL_COMPANY_ID']},\\\n",
    "    \\nCOMPANY TYPE: {row['TYPE']}, \\\n",
    "    \\nINDUSTRY: {row['INDUSTRY']}, \\\n",
    "    \\nWEBSITE: {row['WEBSITE']}, \\\n",
    "    \\nFOUNDED YEAR: {row['FOUNDED']}, \\\n",
    "    \\nLINKEDIN URL: {row['LINKEDIN_URL']}, \\\n",
    "    \\nFACEBOOK URL: {row['FACEBOOK_URL']}, \\\n",
    "    \\nLINKEDIN ID: {row['LINKEDIN_ID']}, \\\n",
    "    \\nSIZE: {row['SIZE']}, \\\n",
    "    \\nTWITTER URL: {row['TWITTER_URL']}, \\\n",
    "    \\nCOMPANY LOCATION: {row['COMPANY_LOCATION_NAME']}, \\\n",
    "    \\nCOMPANY LOCATION LOCALITY: {row['COMPANY_LOCATION_LOCALITY']}, \\\n",
    "    \\nCOMPANY LOCATION REGION: {row['COMPANY_LOCATION_REGION']}, \\\n",
    "    \\nCOMPANY LOCATION METRO: {row['COMPANY_LOCATION_METRO']}, \\\n",
    "    \\nCOMPANY LOCATION COUNTRY: {row['COMPANY_LOCATION_COUNTRY']}, \\\n",
    "    \\nCOMPANY LOCATION CONTINENT: {row['COMPANY_LOCATION_CONTINENT']}, \\\n",
    "    \\nCOMPANY LOCATION STREET ADDRESS: {row['COMPANY_LOCATION_STREET_ADDRESS']}, \\\n",
    "    \\nCOMPANY LOCATION ADDRESS LINE 2: {row['COMPANY_LOCATION_ADDRESS_LINE_2']}, \\\n",
    "    \\nCOMPANY LOCATION POSTAL CODE: {row['COMPANY_LOCATION_POSTAL_CODE']}, \\\n",
    "    \\nCURRENT EMPLOYEES: {row['CURRENT_EMPLOYEES']}, \\\n",
    "    \\nTOTAL EMPLOYEES: {row['TOTAL_EMPLOYEES']}\"\"\"\n",
    "), axis=1)"
   ]
  },
  {
   "cell_type": "code",
   "execution_count": 81,
   "id": "5d3bafbc-085e-4067-b5e4-208e0201433c",
   "metadata": {},
   "outputs": [
    {
     "name": "stdout",
     "output_type": "stream",
     "text": [
      "COMPANY NAME: thrive africa (now nomadi), \n",
      "PDL COMPANY ID: QkRXus0QCRC7Vw0zcBzHdwZwjYzU,    \n",
      "COMPANY TYPE: nonprofit,     \n",
      "INDUSTRY: nan,     \n",
      "WEBSITE: notion.so/thriveafricafund/overview-46a085735eb24991a61ef89f0ee7fabf,     \n",
      "FOUNDED YEAR: nan,     \n",
      "LINKEDIN URL: linkedin.com/company/join-nomadi,     \n",
      "FACEBOOK URL: nan,     \n",
      "LINKEDIN ID: 79362949.0,     \n",
      "SIZE: 11-50,     \n",
      "TWITTER URL: nan,     \n",
      "COMPANY LOCATION: nan,     \n",
      "COMPANY LOCATION LOCALITY: nan,     \n",
      "COMPANY LOCATION REGION: nan,     \n",
      "COMPANY LOCATION METRO: nan,     \n",
      "COMPANY LOCATION COUNTRY: nan,     \n",
      "COMPANY LOCATION CONTINENT: nan,     \n",
      "COMPANY LOCATION STREET ADDRESS: nan,     \n",
      "COMPANY LOCATION ADDRESS LINE 2: nan,     \n",
      "COMPANY LOCATION POSTAL CODE: nan,     \n",
      "CURRENT EMPLOYEES: 5,     \n",
      "TOTAL EMPLOYEES: 66\n"
     ]
    }
   ],
   "source": [
    "print(info_df2['combined_info'][0])"
   ]
  },
  {
   "cell_type": "code",
   "execution_count": 35,
   "id": "695e48af-687c-4cf8-a3b8-89ba144a08f4",
   "metadata": {},
   "outputs": [
    {
     "name": "stdout",
     "output_type": "stream",
     "text": [
      "<class 'pandas.core.frame.DataFrame'>\n",
      "RangeIndex: 170825 entries, 0 to 170824\n",
      "Data columns (total 23 columns):\n",
      " #   Column                           Non-Null Count   Dtype  \n",
      "---  ------                           --------------   -----  \n",
      " 0   PDL_COMPANY_ID                   170825 non-null  object \n",
      " 1   COMPANY_NAME                     170825 non-null  object \n",
      " 2   TYPE                             170825 non-null  object \n",
      " 3   INDUSTRY                         122732 non-null  object \n",
      " 4   WEBSITE                          170825 non-null  object \n",
      " 5   FOUNDED                          79329 non-null   float64\n",
      " 6   LINKEDIN_URL                     170825 non-null  object \n",
      " 7   FACEBOOK_URL                     18443 non-null   object \n",
      " 8   LINKEDIN_ID                      170355 non-null  float64\n",
      " 9   SIZE                             170825 non-null  object \n",
      " 10  TWITTER_URL                      15806 non-null   object \n",
      " 11  COMPANY_LOCATION_NAME            155761 non-null  object \n",
      " 12  COMPANY_LOCATION_LOCALITY        116508 non-null  object \n",
      " 13  COMPANY_LOCATION_REGION          133858 non-null  object \n",
      " 14  COMPANY_LOCATION_METRO           55714 non-null   object \n",
      " 15  COMPANY_LOCATION_COUNTRY         155759 non-null  object \n",
      " 16  COMPANY_LOCATION_CONTINENT       155761 non-null  object \n",
      " 17  COMPANY_LOCATION_STREET_ADDRESS  59991 non-null   object \n",
      " 18  COMPANY_LOCATION_ADDRESS_LINE_2  8577 non-null    object \n",
      " 19  COMPANY_LOCATION_POSTAL_CODE     62120 non-null   object \n",
      " 20  CURRENT_EMPLOYEES                170825 non-null  int64  \n",
      " 21  TOTAL_EMPLOYEES                  170825 non-null  int64  \n",
      " 22  context                          170825 non-null  object \n",
      "dtypes: float64(2), int64(2), object(19)\n",
      "memory usage: 30.0+ MB\n"
     ]
    }
   ],
   "source": [
    "info_df2.info()"
   ]
  },
  {
   "cell_type": "code",
   "execution_count": 118,
   "id": "94a10201-9ce1-4c8b-903f-266bea839bfa",
   "metadata": {},
   "outputs": [
    {
     "data": {
      "text/plain": [
       "'irvine, california, united states'"
      ]
     },
     "execution_count": 118,
     "metadata": {},
     "output_type": "execute_result"
    }
   ],
   "source": [
    "info_df2['COMPANY_LOCATION_NAME'][10]"
   ]
  },
  {
   "cell_type": "markdown",
   "id": "7f50a38d-c7c7-4dea-8088-be33df6705e6",
   "metadata": {},
   "source": [
    "### Primary Dataset"
   ]
  },
  {
   "cell_type": "code",
   "execution_count": 36,
   "id": "b43a0847-cc55-439d-99e2-bca40e78b1d2",
   "metadata": {},
   "outputs": [
    {
     "data": {
      "text/html": [
       "<div>\n",
       "<style scoped>\n",
       "    .dataframe tbody tr th:only-of-type {\n",
       "        vertical-align: middle;\n",
       "    }\n",
       "\n",
       "    .dataframe tbody tr th {\n",
       "        vertical-align: top;\n",
       "    }\n",
       "\n",
       "    .dataframe thead th {\n",
       "        text-align: right;\n",
       "    }\n",
       "</style>\n",
       "<table border=\"1\" class=\"dataframe\">\n",
       "  <thead>\n",
       "    <tr style=\"text-align: right;\">\n",
       "      <th></th>\n",
       "      <th>0</th>\n",
       "      <th>1</th>\n",
       "      <th>2</th>\n",
       "      <th>3</th>\n",
       "      <th>4</th>\n",
       "      <th>5</th>\n",
       "      <th>6</th>\n",
       "    </tr>\n",
       "  </thead>\n",
       "  <tbody>\n",
       "    <tr>\n",
       "      <th>0</th>\n",
       "      <td>NaN</td>\n",
       "      <td>NaN</td>\n",
       "      <td>NaN</td>\n",
       "      <td>NaN</td>\n",
       "      <td>NaN</td>\n",
       "      <td>NaN</td>\n",
       "      <td>NaN</td>\n",
       "    </tr>\n",
       "    <tr>\n",
       "      <th>1</th>\n",
       "      <td>Company</td>\n",
       "      <td>Website</td>\n",
       "      <td>Geo</td>\n",
       "      <td>Ticker</td>\n",
       "      <td>Company</td>\n",
       "      <td>Website</td>\n",
       "      <td>Geo</td>\n",
       "    </tr>\n",
       "    <tr>\n",
       "      <th>2</th>\n",
       "      <td>SpaceX</td>\n",
       "      <td>www.spacex.com</td>\n",
       "      <td>United States</td>\n",
       "      <td>NaN</td>\n",
       "      <td>NaN</td>\n",
       "      <td>NaN</td>\n",
       "      <td>NaN</td>\n",
       "    </tr>\n",
       "    <tr>\n",
       "      <th>3</th>\n",
       "      <td>Bytedance</td>\n",
       "      <td>www.bytedance.com</td>\n",
       "      <td>China</td>\n",
       "      <td>NaN</td>\n",
       "      <td>NaN</td>\n",
       "      <td>NaN</td>\n",
       "      <td>NaN</td>\n",
       "    </tr>\n",
       "    <tr>\n",
       "      <th>4</th>\n",
       "      <td>Epic Games</td>\n",
       "      <td>www.epicgames.com</td>\n",
       "      <td>United States</td>\n",
       "      <td>NaN</td>\n",
       "      <td>NaN</td>\n",
       "      <td>NaN</td>\n",
       "      <td>NaN</td>\n",
       "    </tr>\n",
       "  </tbody>\n",
       "</table>\n",
       "</div>"
      ],
      "text/plain": [
       "            0                  1              2       3        4        5    6\n",
       "0         NaN                NaN            NaN     NaN      NaN      NaN  NaN\n",
       "1     Company            Website            Geo  Ticker  Company  Website  Geo\n",
       "2      SpaceX     www.spacex.com  United States     NaN      NaN      NaN  NaN\n",
       "3   Bytedance  www.bytedance.com          China     NaN      NaN      NaN  NaN\n",
       "4  Epic Games  www.epicgames.com  United States     NaN      NaN      NaN  NaN"
      ]
     },
     "execution_count": 36,
     "metadata": {},
     "output_type": "execute_result"
    }
   ],
   "source": [
    "data3 = pd.read_csv('data/Private Holdings.csv', header=None)\n",
    "data3.head(5)"
   ]
  },
  {
   "cell_type": "code",
   "execution_count": 37,
   "id": "73c63e41-5b76-4b3f-b81c-908f0a1befe5",
   "metadata": {},
   "outputs": [
    {
     "data": {
      "text/html": [
       "<div>\n",
       "<style scoped>\n",
       "    .dataframe tbody tr th:only-of-type {\n",
       "        vertical-align: middle;\n",
       "    }\n",
       "\n",
       "    .dataframe tbody tr th {\n",
       "        vertical-align: top;\n",
       "    }\n",
       "\n",
       "    .dataframe thead th {\n",
       "        text-align: right;\n",
       "    }\n",
       "</style>\n",
       "<table border=\"1\" class=\"dataframe\">\n",
       "  <thead>\n",
       "    <tr style=\"text-align: right;\">\n",
       "      <th>1</th>\n",
       "      <th>Company</th>\n",
       "      <th>Website</th>\n",
       "      <th>Geo</th>\n",
       "      <th>Ticker</th>\n",
       "      <th>Company</th>\n",
       "      <th>Website</th>\n",
       "      <th>Geo</th>\n",
       "    </tr>\n",
       "  </thead>\n",
       "  <tbody>\n",
       "    <tr>\n",
       "      <th>2</th>\n",
       "      <td>SpaceX</td>\n",
       "      <td>www.spacex.com</td>\n",
       "      <td>United States</td>\n",
       "      <td>NaN</td>\n",
       "      <td>NaN</td>\n",
       "      <td>NaN</td>\n",
       "      <td>NaN</td>\n",
       "    </tr>\n",
       "    <tr>\n",
       "      <th>3</th>\n",
       "      <td>Bytedance</td>\n",
       "      <td>www.bytedance.com</td>\n",
       "      <td>China</td>\n",
       "      <td>NaN</td>\n",
       "      <td>NaN</td>\n",
       "      <td>NaN</td>\n",
       "      <td>NaN</td>\n",
       "    </tr>\n",
       "    <tr>\n",
       "      <th>4</th>\n",
       "      <td>Epic Games</td>\n",
       "      <td>www.epicgames.com</td>\n",
       "      <td>United States</td>\n",
       "      <td>NaN</td>\n",
       "      <td>NaN</td>\n",
       "      <td>NaN</td>\n",
       "      <td>NaN</td>\n",
       "    </tr>\n",
       "    <tr>\n",
       "      <th>5</th>\n",
       "      <td>Instacart</td>\n",
       "      <td>www.instacart.com</td>\n",
       "      <td>United States</td>\n",
       "      <td>NaN</td>\n",
       "      <td>NaN</td>\n",
       "      <td>NaN</td>\n",
       "      <td>NaN</td>\n",
       "    </tr>\n",
       "    <tr>\n",
       "      <th>6</th>\n",
       "      <td>Databricks</td>\n",
       "      <td>www.databricks.com</td>\n",
       "      <td>United States</td>\n",
       "      <td>NaN</td>\n",
       "      <td>NaN</td>\n",
       "      <td>NaN</td>\n",
       "      <td>NaN</td>\n",
       "    </tr>\n",
       "  </tbody>\n",
       "</table>\n",
       "</div>"
      ],
      "text/plain": [
       "1     Company             Website            Geo Ticker Company Website  Geo\n",
       "2      SpaceX      www.spacex.com  United States    NaN     NaN     NaN  NaN\n",
       "3   Bytedance   www.bytedance.com          China    NaN     NaN     NaN  NaN\n",
       "4  Epic Games   www.epicgames.com  United States    NaN     NaN     NaN  NaN\n",
       "5   Instacart   www.instacart.com  United States    NaN     NaN     NaN  NaN\n",
       "6  Databricks  www.databricks.com  United States    NaN     NaN     NaN  NaN"
      ]
     },
     "execution_count": 37,
     "metadata": {},
     "output_type": "execute_result"
    }
   ],
   "source": [
    "# Remove the first row (current header)\n",
    "data3 = data3.iloc[1:]\n",
    "# Set the second row as the new header\n",
    "data3.columns = data3.iloc[0]\n",
    "# Remove the first row (current header)\n",
    "data3 = data3.iloc[1:]\n",
    "data3.head(5)"
   ]
  },
  {
   "cell_type": "code",
   "execution_count": 38,
   "id": "b257e50f-d63d-4c3c-9f31-44216374d4c4",
   "metadata": {},
   "outputs": [
    {
     "name": "stdout",
     "output_type": "stream",
     "text": [
      "<class 'pandas.core.frame.DataFrame'>\n",
      "RangeIndex: 200 entries, 2 to 201\n",
      "Data columns (total 7 columns):\n",
      " #   Column   Non-Null Count  Dtype \n",
      "---  ------   --------------  ----- \n",
      " 0   Company  200 non-null    object\n",
      " 1   Website  200 non-null    object\n",
      " 2   Geo      200 non-null    object\n",
      " 3   Ticker   0 non-null      object\n",
      " 4   Company  0 non-null      object\n",
      " 5   Website  0 non-null      object\n",
      " 6   Geo      0 non-null      object\n",
      "dtypes: object(7)\n",
      "memory usage: 11.1+ KB\n"
     ]
    }
   ],
   "source": [
    "data3.info()"
   ]
  },
  {
   "cell_type": "code",
   "execution_count": 39,
   "id": "fa29b047-784a-4d68-8a59-3670d7af3bb3",
   "metadata": {},
   "outputs": [],
   "source": [
    "# List of columns to exclude\n",
    "exclude_cols = ['Ticker']\n",
    "\n",
    "# Selecting columns not in the list\n",
    "data3_selected = data3[[col for col in data3.columns if col not in exclude_cols]]\n",
    "\n",
    "primary_df = data3_selected.loc[:, ~data3_selected.columns.duplicated()]"
   ]
  },
  {
   "cell_type": "code",
   "execution_count": 43,
   "id": "b96bb2a2-b691-4f56-b447-1842f154871b",
   "metadata": {},
   "outputs": [
    {
     "name": "stdout",
     "output_type": "stream",
     "text": [
      "<class 'pandas.core.frame.DataFrame'>\n",
      "RangeIndex: 200 entries, 2 to 201\n",
      "Data columns (total 4 columns):\n",
      " #   Column   Non-Null Count  Dtype \n",
      "---  ------   --------------  ----- \n",
      " 0   Company  200 non-null    object\n",
      " 1   Website  200 non-null    object\n",
      " 2   Geo      200 non-null    object\n",
      " 3   context  200 non-null    object\n",
      "dtypes: object(4)\n",
      "memory usage: 6.4+ KB\n"
     ]
    }
   ],
   "source": [
    "primary_df.info()"
   ]
  },
  {
   "cell_type": "code",
   "execution_count": 78,
   "id": "0bc6af87-40bc-415b-93bd-f0b82be46477",
   "metadata": {},
   "outputs": [],
   "source": [
    "primary_df.loc[:, 'combined_info'] = primary_df.apply(lambda row: (\n",
    "    f\"\"\"COMPANY NAME: {row['Company']}, \\\n",
    "    \\nWEBSITE: {row['Website']} , \\\n",
    "    \\nCOMPANY LOCATION: {row['Geo']}\"\"\"\n",
    "), axis=1)"
   ]
  },
  {
   "cell_type": "code",
   "execution_count": 79,
   "id": "97441636-1336-4893-93c6-35c89a304317",
   "metadata": {},
   "outputs": [
    {
     "name": "stdout",
     "output_type": "stream",
     "text": [
      "COMPANY NAME: SpaceX,     \n",
      "WEBSITE: www.spacex.com ,     \n",
      "COMPANY LOCATION: United States\n"
     ]
    }
   ],
   "source": [
    "print(primary_df['combined_info'][2])"
   ]
  },
  {
   "cell_type": "code",
   "execution_count": 51,
   "id": "68ecdce2-ac29-4574-99af-0d53e5cfc2a3",
   "metadata": {},
   "outputs": [
    {
     "data": {
      "text/html": [
       "<div>\n",
       "<style scoped>\n",
       "    .dataframe tbody tr th:only-of-type {\n",
       "        vertical-align: middle;\n",
       "    }\n",
       "\n",
       "    .dataframe tbody tr th {\n",
       "        vertical-align: top;\n",
       "    }\n",
       "\n",
       "    .dataframe thead th {\n",
       "        text-align: right;\n",
       "    }\n",
       "</style>\n",
       "<table border=\"1\" class=\"dataframe\">\n",
       "  <thead>\n",
       "    <tr style=\"text-align: right;\">\n",
       "      <th>1</th>\n",
       "      <th>Company</th>\n",
       "      <th>Website</th>\n",
       "      <th>Geo</th>\n",
       "      <th>context</th>\n",
       "      <th>combined_info</th>\n",
       "    </tr>\n",
       "  </thead>\n",
       "  <tbody>\n",
       "    <tr>\n",
       "      <th>2</th>\n",
       "      <td>SpaceX</td>\n",
       "      <td>www.spacex.com</td>\n",
       "      <td>United States</td>\n",
       "      <td>COMPANY NAME: SpaceX,\\nWEBSITE: www.spacex.com...</td>\n",
       "      <td>COMPANY NAME: SpaceX\\n,\\nWEBSITE: www.spacex.c...</td>\n",
       "    </tr>\n",
       "    <tr>\n",
       "      <th>3</th>\n",
       "      <td>Bytedance</td>\n",
       "      <td>www.bytedance.com</td>\n",
       "      <td>China</td>\n",
       "      <td>COMPANY NAME: Bytedance,\\nWEBSITE: www.bytedan...</td>\n",
       "      <td>COMPANY NAME: Bytedance\\n,\\nWEBSITE: www.byted...</td>\n",
       "    </tr>\n",
       "    <tr>\n",
       "      <th>4</th>\n",
       "      <td>Epic Games</td>\n",
       "      <td>www.epicgames.com</td>\n",
       "      <td>United States</td>\n",
       "      <td>COMPANY NAME: Epic Games,\\nWEBSITE: www.epicga...</td>\n",
       "      <td>COMPANY NAME: Epic Games\\n,\\nWEBSITE: www.epic...</td>\n",
       "    </tr>\n",
       "    <tr>\n",
       "      <th>5</th>\n",
       "      <td>Instacart</td>\n",
       "      <td>www.instacart.com</td>\n",
       "      <td>United States</td>\n",
       "      <td>COMPANY NAME: Instacart,\\nWEBSITE: www.instaca...</td>\n",
       "      <td>COMPANY NAME: Instacart\\n,\\nWEBSITE: www.insta...</td>\n",
       "    </tr>\n",
       "    <tr>\n",
       "      <th>6</th>\n",
       "      <td>Databricks</td>\n",
       "      <td>www.databricks.com</td>\n",
       "      <td>United States</td>\n",
       "      <td>COMPANY NAME: Databricks,\\nWEBSITE: www.databr...</td>\n",
       "      <td>COMPANY NAME: Databricks\\n,\\nWEBSITE: www.data...</td>\n",
       "    </tr>\n",
       "  </tbody>\n",
       "</table>\n",
       "</div>"
      ],
      "text/plain": [
       "1     Company             Website            Geo  \\\n",
       "2      SpaceX      www.spacex.com  United States   \n",
       "3   Bytedance   www.bytedance.com          China   \n",
       "4  Epic Games   www.epicgames.com  United States   \n",
       "5   Instacart   www.instacart.com  United States   \n",
       "6  Databricks  www.databricks.com  United States   \n",
       "\n",
       "1                                            context  \\\n",
       "2  COMPANY NAME: SpaceX,\\nWEBSITE: www.spacex.com...   \n",
       "3  COMPANY NAME: Bytedance,\\nWEBSITE: www.bytedan...   \n",
       "4  COMPANY NAME: Epic Games,\\nWEBSITE: www.epicga...   \n",
       "5  COMPANY NAME: Instacart,\\nWEBSITE: www.instaca...   \n",
       "6  COMPANY NAME: Databricks,\\nWEBSITE: www.databr...   \n",
       "\n",
       "1                                      combined_info  \n",
       "2  COMPANY NAME: SpaceX\\n,\\nWEBSITE: www.spacex.c...  \n",
       "3  COMPANY NAME: Bytedance\\n,\\nWEBSITE: www.byted...  \n",
       "4  COMPANY NAME: Epic Games\\n,\\nWEBSITE: www.epic...  \n",
       "5  COMPANY NAME: Instacart\\n,\\nWEBSITE: www.insta...  \n",
       "6  COMPANY NAME: Databricks\\n,\\nWEBSITE: www.data...  "
      ]
     },
     "execution_count": 51,
     "metadata": {},
     "output_type": "execute_result"
    }
   ],
   "source": [
    "primary_df.head()"
   ]
  },
  {
   "cell_type": "code",
   "execution_count": 116,
   "id": "b35c1773-e0b6-4abb-9d6c-f0fefa55dfdc",
   "metadata": {},
   "outputs": [],
   "source": [
    "info_df1.to_pickle('./data/info_df1.pkl')\n",
    "info_df2.to_pickle('./data/info_df2.pkl')\n",
    "primary_df.to_pickle('./data/primary_df.pkl')"
   ]
  },
  {
   "cell_type": "code",
   "execution_count": null,
   "id": "0dd13cb1-7000-4fdb-b57f-925b7d1d459c",
   "metadata": {},
   "outputs": [],
   "source": [
    "import pandas as pd\n",
    "\n",
    "info_df1 = pd.read_pickle('./data/info_df1.pkl')\n",
    "info_df2 = pd.read_pickle('./data/info_df2.pkl')\n",
    "primary_df = pd.read_pickle('./data/primary_df.pkl')"
   ]
  },
  {
   "cell_type": "code",
   "execution_count": null,
   "id": "a0c037be-40d6-4f78-ac26-3dd7e182b598",
   "metadata": {},
   "outputs": [],
   "source": [
    "pip install langchain transformers torch"
   ]
  },
  {
   "cell_type": "code",
   "execution_count": 113,
   "id": "c19bf3b6-35e0-49eb-a2c0-5707002c5f9f",
   "metadata": {},
   "outputs": [],
   "source": [
    "from langchain.embeddings import HuggingFaceEmbeddings\n",
    "from transformers import AutoTokenizer, AutoModel\n",
    "\n",
    "# Define the model name (e.g., \"sentence-transformers/all-MiniLM-L6-v2\")\n",
    "model_name = \"sentence-transformers/all-MiniLM-L6-v2\"\n",
    "# model_name = \"prajjwal1/bert-tiny\"\n",
    "\n",
    "\n",
    "# Load the tokenizer and model\n",
    "tokenizer = AutoTokenizer.from_pretrained(model_name)\n",
    "model = AutoModel.from_pretrained(model_name)\n",
    "\n",
    "# Initialize HuggingFaceEmbeddings with the local model\n",
    "embeddings = HuggingFaceEmbeddings(model_name=model_name)"
   ]
  },
  {
   "cell_type": "code",
   "execution_count": 110,
   "id": "3e13df77-7aae-42c9-9bbd-d29d39c22e8c",
   "metadata": {},
   "outputs": [
    {
     "name": "stderr",
     "output_type": "stream",
     "text": [
      "<All keys matched successfully>\n"
     ]
    }
   ],
   "source": [
    "from sentence_transformers import SentenceTransformer\n",
    "\n",
    "model = SentenceTransformer(\"nomic-ai/nomic-embed-text-v1.5\", trust_remote_code=True)"
   ]
  },
  {
   "cell_type": "code",
   "execution_count": 114,
   "id": "5e9ef447-45a6-4850-a6f2-ab8b0dd3232c",
   "metadata": {},
   "outputs": [
    {
     "name": "stdout",
     "output_type": "stream",
     "text": [
      "384\n"
     ]
    }
   ],
   "source": [
    "text = primary_df['combined_info'][2]\n",
    "embedding = embeddings.embed_query(text)\n",
    "\n",
    "print(len(embedding))"
   ]
  },
  {
   "cell_type": "code",
   "execution_count": 99,
   "id": "3b16fe8b-4356-47da-9a20-f8881a9aa86b",
   "metadata": {},
   "outputs": [],
   "source": []
  },
  {
   "cell_type": "markdown",
   "id": "54489338-58b8-47e7-ad7b-e5c0e81e54f5",
   "metadata": {},
   "source": [
    "Considerations:\n",
    "1. Number of Clusters: Ensure the number of clusters in K-Means matches the number of primary dataset companies.\n",
    "2. Embedding Dimensionality: Ensure that embeddings are normalized to handle distance calculations appropriately.\n",
    "3. Scalability: For large datasets, consider batch processing or dimensionality reduction techniques (PCA)."
   ]
  },
  {
   "cell_type": "markdown",
   "id": "05538e4a-230b-49bd-8116-34dd1b9d54af",
   "metadata": {},
   "source": [
    "Batch processing in clustering is particularly useful when dealing with large datasets that cannot be processed in memory all at once. The idea is to divide the data into smaller batches, perform clustering operations on these batches, and then aggregate or finalize the clustering across all the batches. Here's a step-by-step guide on how to do batch processing in clustering using K-Means:"
   ]
  },
  {
   "cell_type": "markdown",
   "id": "ec06c3c9-8e66-4b8e-babd-d5aef31e6b42",
   "metadata": {},
   "source": [
    "1. Initialize the Clustering Model\n",
    "\n",
    "First, you need to initialize the K-Means clustering model. If you're using a large number of clusters or large datasets, it might be beneficial to use a mini-batch version of K-Means, such as MiniBatchKMeans in scikit-learn.\n",
    "\n",
    "KModes Clustering is a variant of the K-Means clustering algorithm specifically designed for clustering categorical data. While K-Means works well with numerical data by minimizing the Euclidean distance between points, KModes is more suitable for categorical data because it minimizes the dissimilarity measure (e.g., Hamming distance) between clusters."
   ]
  },
  {
   "cell_type": "code",
   "execution_count": 115,
   "id": "9cb8b049-6eb5-4b67-a5ba-0e4e9c945374",
   "metadata": {},
   "outputs": [],
   "source": [
    "from sklearn.cluster import MiniBatchKMeans\n",
    "\n",
    "# Define the number of clusters\n",
    "n_clusters = 200  # Adjust based on your needs\n",
    "\n",
    "# Initialize the MiniBatchKMeans model\n",
    "kmeans = MiniBatchKMeans(n_clusters=n_clusters, batch_size=1000, random_state=42)"
   ]
  },
  {
   "cell_type": "markdown",
   "id": "6b260636-ae50-4d33-9acb-cc03f5730496",
   "metadata": {},
   "source": [
    "2. Process the Data in Batches\n",
    "\n",
    "Load and process the data in batches, updating the clustering model with each batch."
   ]
  },
  {
   "cell_type": "code",
   "execution_count": null,
   "id": "20a6ca78-28df-485b-8095-e3e1bc68a524",
   "metadata": {},
   "outputs": [],
   "source": [
    "import pandas as pd\n",
    "from sklearn.preprocessing import normalize\n",
    "import numpy as np\n",
    "\n",
    "# Assume you have a function to generate embeddings\n",
    "def generate_embeddings(texts):\n",
    "    # Your code for generating embeddings, e.g., using BERT\n",
    "    pass\n",
    "\n",
    "# Load your data in chunks\n",
    "chunk_size = 1000  # Adjust based on your memory limits\n",
    "\n",
    "# Load your dataset in chunks\n",
    "for chunk in pd.read_csv('large_company_info.csv', chunksize=chunk_size):\n",
    "    \n",
    "    # Assume 'Company' is the column with the text data\n",
    "    chunk['name_embedding'] = generate_embeddings(chunk['Company'].tolist())\n",
    "    \n",
    "    # Normalize the embeddings\n",
    "    embeddings = normalize(list(chunk['name_embedding']))\n",
    "    \n",
    "    # Update the clustering model with this batch\n",
    "    kmeans.partial_fit(embeddings)"
   ]
  },
  {
   "cell_type": "markdown",
   "id": "99252c44-cd35-4a50-b0a7-4ed657440cae",
   "metadata": {},
   "source": [
    "3. Assign Clusters in Batches\n",
    "\n",
    "Once the model has been updated with all batches, you can assign clusters to each data point, again processing the data in batches."
   ]
  },
  {
   "cell_type": "code",
   "execution_count": null,
   "id": "68dca4e6-ee38-41fd-84db-e5618f409046",
   "metadata": {},
   "outputs": [],
   "source": [
    "# Function to assign clusters to a batch of data\n",
    "def assign_clusters(model, embeddings):\n",
    "    return model.predict(embeddings)\n",
    "\n",
    "# Load your dataset in chunks for cluster assignment\n",
    "cluster_assignments = []\n",
    "\n",
    "for chunk in pd.read_csv('large_company_info.csv', chunksize=chunk_size):\n",
    "    \n",
    "    chunk['name_embedding'] = generate_embeddings(chunk['Company'].tolist())\n",
    "    \n",
    "    embeddings = normalize(list(chunk['name_embedding']))\n",
    "    \n",
    "    # Assign clusters to each data point in the batch\n",
    "    clusters = assign_clusters(kmeans, embeddings)\n",
    "    \n",
    "    chunk['cluster'] = clusters\n",
    "    cluster_assignments.append(chunk)\n",
    "\n",
    "# Combine all processed chunks into a single DataFrame\n",
    "final_df = pd.concat(cluster_assignments, ignore_index=True)"
   ]
  },
  {
   "cell_type": "code",
   "execution_count": null,
   "id": "0e767e88-deae-4d6d-95a5-9ec01f4e5619",
   "metadata": {},
   "outputs": [],
   "source": [
    "import pandas as pd\n",
    "from kmodes.kmodes import KModes\n",
    "\n",
    "# Sample Data\n",
    "data = {\n",
    "    'Company Name': ['Company A', 'Company B', 'Company C', 'Company D'],\n",
    "    'Industry': ['Finance', 'Health', 'Tech', 'Finance'],\n",
    "    'Location': ['New York', 'Los Angeles', 'San Francisco', 'New York']\n",
    "}\n",
    "df = pd.DataFrame(data)\n",
    "\n",
    "# Initialize KModes with the number of clusters\n",
    "kmodes = KModes(n_clusters=2, init='Huang', n_init=5, verbose=1)\n",
    "\n",
    "# Fit the KModes model to the data\n",
    "clusters = kmodes.fit_predict(df)\n",
    "\n",
    "# Assign clusters to the DataFrame\n",
    "df['Cluster'] = clusters\n",
    "\n",
    "print(df)"
   ]
  },
  {
   "cell_type": "markdown",
   "id": "ef2b9f5b-53f4-47f0-b0a9-98e53db71c23",
   "metadata": {},
   "source": [
    "Interpreting Clustering Results\n",
    "- Cluster Assignment: The dataset will be divided into clusters where each cluster contains companies with similar categorical features.\n",
    "- Cluster Centroids: The centroids represent the mode (most frequent value) of each feature within the cluster.\n",
    "- Cluster Size: The size of each cluster indicates the number of companies grouped together based on similarity."
   ]
  },
  {
   "cell_type": "code",
   "execution_count": 121,
   "id": "95707f44-d7f6-402f-8251-be135292ba38",
   "metadata": {},
   "outputs": [
    {
     "data": {
      "text/plain": [
       "(26504, 132.52, 170825, 854.125)"
      ]
     },
     "execution_count": 121,
     "metadata": {},
     "output_type": "execute_result"
    }
   ],
   "source": [
    "len(info_df1), len(info_df1)/200, len(info_df2), len(info_df2)/200"
   ]
  },
  {
   "cell_type": "markdown",
   "id": "8a8147c8-9ddf-46d3-b31f-bd025f208b88",
   "metadata": {},
   "source": [
    "Clustering is particularly useful when dealing with categorical data in entity matching tasks. It helps group similar entities together, reducing the complexity of matching by focusing on within-cluster comparisons. When used alongside other techniques such as `similarity scoring` and `LLM-based matching`, it can significantly `improve the accuracy and efficiency of entity resolution processes`."
   ]
  },
  {
   "cell_type": "markdown",
   "id": "a9f94e19-de7a-4e14-be4e-305215dea543",
   "metadata": {},
   "source": [
    "## Entity Matching Approach"
   ]
  },
  {
   "cell_type": "markdown",
   "id": "a2669fdd-f32c-444e-b6e4-d5009b1b49cd",
   "metadata": {},
   "source": [
    "`Modern Data Stack Tools`\n",
    "\n",
    "Integrate modern data stack tools to implement and manage the entity matching process:\n",
    "- `Data Ingestion and Transformation`:\n",
    "Use Apache Airflow for orchestrating batch processing of large datasets.\n",
    "\n",
    "- `Vector Databases`:\n",
    "Store and query embeddings using vector databases like Pinecone, Weaviate, or Chroma, which are optimized for similarity searches.\n",
    "\n",
    "- `LLM Integration`:\n",
    "Integrate LLMs via APIs (e.g., OpenAI, Hugging Face) to generate embeddings and perform similarity scoring.\n",
    "\n",
    "- `Monitoring and Logging`:\n",
    "Set up monitoring tools like `Prometheus` and `Grafana` to track the performance of the entity matching process, including match accuracy and processing time."
   ]
  },
  {
   "cell_type": "markdown",
   "id": "1b3838cf-3c78-49da-86fb-759f2d66f819",
   "metadata": {},
   "source": [
    "#### Entity Matching Using LLMs\n",
    "\n",
    "Leverage Large Language Models (LLMs) to improve the accuracy of entity matching:\n",
    "- `Similarity Scoring with LLMs`:\n",
    "Use LLMs like GPT or OpenAI’s embeddings to compute similarity scores between companies based on descriptions, names, and other textual attributes.\n",
    "Fine-tune the model with domain-specific data if available to improve accuracy.\n",
    "\n",
    "- `Multi-Attribute Matching`:\n",
    "Combine scores from multiple attributes (e.g., Company Name, Website, Location, Industry) using a weighted average or a machine learning model to produce a final matching score.\n",
    "\n",
    "- `Threshold-Based Matching`:\n",
    "Set thresholds for matching scores to determine if two companies should be considered the same entity. You can adjust these thresholds based on precision-recall trade-offs."
   ]
  },
  {
   "cell_type": "markdown",
   "id": "9958187a-6211-4423-998d-e3cf25cc7af2",
   "metadata": {},
   "source": [
    "#### Post-Matching Validation and Deduplication\n",
    "\n",
    "After initial matches are identified, perform validation:\n",
    "- `Human-in-the-Loop Validation`:\n",
    "Present borderline cases to a human reviewer for final validation, especially if the match score is close to the threshold.\n",
    "\n",
    "- `Deduplication`:\n",
    "Once matches are validated, deduplicate the merged dataset to remove any redundant records."
   ]
  },
  {
   "cell_type": "markdown",
   "id": "acf06510-516b-4d60-bde8-45d1f27dd618",
   "metadata": {},
   "source": [
    "#### Building RAG (Retrieval Augmented Generation) based  LLM Applications for Production"
   ]
  },
  {
   "cell_type": "code",
   "execution_count": null,
   "id": "72bb6a3c-7dbb-4847-8da7-e80281ef6dd8",
   "metadata": {},
   "outputs": [],
   "source": []
  },
  {
   "cell_type": "code",
   "execution_count": null,
   "id": "6e1ca821-47e0-43d5-87a1-7805c80a229b",
   "metadata": {},
   "outputs": [],
   "source": []
  },
  {
   "cell_type": "code",
   "execution_count": null,
   "id": "6c596c89-283f-46dd-b13c-edabfc619e72",
   "metadata": {},
   "outputs": [],
   "source": []
  },
  {
   "cell_type": "code",
   "execution_count": null,
   "id": "c26246a0-d49f-45a4-b10e-5eb9beb37c36",
   "metadata": {},
   "outputs": [],
   "source": []
  },
  {
   "cell_type": "code",
   "execution_count": null,
   "id": "a82614ee-8d4d-4824-b024-660b6a8f5515",
   "metadata": {},
   "outputs": [],
   "source": []
  },
  {
   "cell_type": "code",
   "execution_count": null,
   "id": "e6eafa2a-6168-43fe-9d8d-47bde818596d",
   "metadata": {},
   "outputs": [],
   "source": []
  },
  {
   "cell_type": "code",
   "execution_count": null,
   "id": "57b1b74a-25c3-482a-b32b-394cfa9358b3",
   "metadata": {},
   "outputs": [],
   "source": []
  },
  {
   "cell_type": "code",
   "execution_count": null,
   "id": "778574fd-d03c-4a49-9e3f-e13dfd5a6f09",
   "metadata": {},
   "outputs": [],
   "source": []
  },
  {
   "cell_type": "code",
   "execution_count": null,
   "id": "87bbffbc-6d22-4d25-b071-8c1db515961f",
   "metadata": {},
   "outputs": [],
   "source": [
    "import pandas as pd\n",
    "from transformers import BertTokenizer, BertModel\n",
    "import torch\n",
    "from sklearn.cluster import KMeans\n",
    "from sklearn.metrics.pairwise import cosine_distances\n",
    "from sklearn.preprocessing import normalize\n",
    "\n",
    "# Load datasets\n",
    "# primary_df = pd.read_csv('primary_companies.csv')\n",
    "# info_df1 = pd.read_csv('company_info1.csv')\n",
    "# info_df2 = pd.read_csv('company_info2.csv')\n",
    "\n",
    "# Initialize BERT tokenizer and model\n",
    "tokenizer = BertTokenizer.from_pretrained('bert-base-uncased')\n",
    "model = BertModel.from_pretrained('bert-base-uncased')\n",
    "\n",
    "def get_bert_embeddings(texts):\n",
    "    encoded_input = tokenizer(texts, padding=True, truncation=True, return_tensors='pt')\n",
    "    with torch.no_grad():\n",
    "        model_output = model(**encoded_input)\n",
    "    return model_output.last_hidden_state[:, 0, :].numpy()\n",
    "\n",
    "# Ensure all text columns are strings\n",
    "# primary_df['Company'] = primary_df['Company'].astype(str)\n",
    "# info_df1['COMPANY_NAME'] = info_df1['COMPANY_NAME'].astype(str)\n",
    "# info_df2['COMPANY_NAME'] = info_df2['COMPANY_NAME'].astype(str)\n",
    "\n",
    "# Generate embeddings\n",
    "primary_df['embedding'] = list(embeddings.embed_query(primary_df['combined_info']))\n",
    "info_df1['embedding'] = list(embeddings.embed_query(info_df1['combined_info']))\n",
    "info_df2['embedding'] = list(embeddings.embed_query(info_df2['combined_info']))"
   ]
  },
  {
   "cell_type": "code",
   "execution_count": null,
   "id": "d6a93459-a3aa-4193-bf63-1ea2287325ba",
   "metadata": {},
   "outputs": [],
   "source": [
    "# Normalize embeddings\n",
    "primary_embeddings = normalize(list(primary_df['embedding']))\n",
    "\n",
    "# K-Means with primary embeddings as initial centroids\n",
    "n_clusters = len(primary_df)\n",
    "kmeans = KMeans(n_clusters=n_clusters, init=primary_embeddings, n_init=1, random_state=42)\n",
    "kmeans.fit(primary_embeddings)\n",
    "centroids = kmeans.cluster_centers_\n",
    "\n",
    "# Assign clusters to other datasets\n",
    "def assign_clusters(df, centroids):\n",
    "    embeddings = normalize(list(df['name_embedding']))\n",
    "    distances = cosine_distances(embeddings, centroids)\n",
    "    df['cluster'] = distances.argmin(axis=1)\n",
    "    return df\n",
    "\n",
    "info_df1 = assign_clusters(info_df1, centroids)\n",
    "# info_df2 = assign_clusters(info_df2, centroids)\n",
    "\n",
    "# Output results\n",
    "print(primary_df.head())\n",
    "print(info_df1.head())\n",
    "# print(info_df2.head())"
   ]
  }
 ],
 "metadata": {
  "kernelspec": {
   "display_name": "Python 3 (ipykernel)",
   "language": "python",
   "name": "python3"
  },
  "language_info": {
   "codemirror_mode": {
    "name": "ipython",
    "version": 3
   },
   "file_extension": ".py",
   "mimetype": "text/x-python",
   "name": "python",
   "nbconvert_exporter": "python",
   "pygments_lexer": "ipython3",
   "version": "3.10.6"
  }
 },
 "nbformat": 4,
 "nbformat_minor": 5
}
