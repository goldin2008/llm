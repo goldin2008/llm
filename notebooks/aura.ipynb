{
 "cells": [
  {
   "cell_type": "code",
   "execution_count": 1,
   "id": "c68f537a-90b1-4925-a66a-ada34550ed9b",
   "metadata": {},
   "outputs": [
    {
     "data": {
      "text/html": [
       "<div>\n",
       "<style scoped>\n",
       "    .dataframe tbody tr th:only-of-type {\n",
       "        vertical-align: middle;\n",
       "    }\n",
       "\n",
       "    .dataframe tbody tr th {\n",
       "        vertical-align: top;\n",
       "    }\n",
       "\n",
       "    .dataframe thead th {\n",
       "        text-align: right;\n",
       "    }\n",
       "</style>\n",
       "<table border=\"1\" class=\"dataframe\">\n",
       "  <thead>\n",
       "    <tr style=\"text-align: right;\">\n",
       "      <th></th>\n",
       "      <th>LIVEDATA_COMPANY_ID</th>\n",
       "      <th>COMPANY_NAME</th>\n",
       "      <th>WEBSITE</th>\n",
       "      <th>LINKEDIN_SLUG</th>\n",
       "      <th>COMPANY_TYPE</th>\n",
       "      <th>FOUNDED_YEAR</th>\n",
       "      <th>INDUSTRY</th>\n",
       "      <th>COMPANY_LOCATION</th>\n",
       "      <th>EMPLOYEE_COUNT</th>\n",
       "      <th>SIC_CODES</th>\n",
       "      <th>TICKER</th>\n",
       "      <th>INFO_CHANGE_DETECTED_AT</th>\n",
       "      <th>DS</th>\n",
       "    </tr>\n",
       "  </thead>\n",
       "  <tbody>\n",
       "    <tr>\n",
       "      <th>0</th>\n",
       "      <td>683d81648fa088c6e63fd794304c6809</td>\n",
       "      <td>divergence neuro</td>\n",
       "      <td>divergenceneuro.com</td>\n",
       "      <td>divergenceneuro</td>\n",
       "      <td>privately held</td>\n",
       "      <td>2020.0</td>\n",
       "      <td>biotechnology</td>\n",
       "      <td>Toronto, Ontario</td>\n",
       "      <td>10.0</td>\n",
       "      <td>NaN</td>\n",
       "      <td>NaN</td>\n",
       "      <td>2024-05-10 10:18:55.073 Z</td>\n",
       "      <td>2024-06-05 00:00:00.000 Z</td>\n",
       "    </tr>\n",
       "    <tr>\n",
       "      <th>1</th>\n",
       "      <td>ecca0ebb4e1ef747528283aafee022d2</td>\n",
       "      <td>knight protective service, inc.</td>\n",
       "      <td>knightprotectiveservice.com</td>\n",
       "      <td>knight-protective-service-inc.</td>\n",
       "      <td>NaN</td>\n",
       "      <td>NaN</td>\n",
       "      <td>security and investigations</td>\n",
       "      <td>Lanham, Maryland</td>\n",
       "      <td>NaN</td>\n",
       "      <td>NaN</td>\n",
       "      <td>NaN</td>\n",
       "      <td>2024-05-10 10:15:11.702 Z</td>\n",
       "      <td>2024-06-05 00:00:00.000 Z</td>\n",
       "    </tr>\n",
       "    <tr>\n",
       "      <th>2</th>\n",
       "      <td>ab49d6f1d2f84f3450a49c9ccfd6f589</td>\n",
       "      <td>tackle grab llc</td>\n",
       "      <td>tacklegrab.com</td>\n",
       "      <td>tackle-grab-llc</td>\n",
       "      <td>privately held</td>\n",
       "      <td>2012.0</td>\n",
       "      <td>sporting goods manufacturing</td>\n",
       "      <td>Boston, MA</td>\n",
       "      <td>NaN</td>\n",
       "      <td>NaN</td>\n",
       "      <td>NaN</td>\n",
       "      <td>2024-05-10 10:09:03.989 Z</td>\n",
       "      <td>2024-06-05 00:00:00.000 Z</td>\n",
       "    </tr>\n",
       "    <tr>\n",
       "      <th>3</th>\n",
       "      <td>ed2bdd88351326b593436d0e6123dfd8</td>\n",
       "      <td>cravehro®</td>\n",
       "      <td>cravehro.com</td>\n",
       "      <td>cravehro</td>\n",
       "      <td>self owned</td>\n",
       "      <td>2021.0</td>\n",
       "      <td>human resources</td>\n",
       "      <td>Ronkonkoma, New York</td>\n",
       "      <td>1.0</td>\n",
       "      <td>NaN</td>\n",
       "      <td>NaN</td>\n",
       "      <td>2024-05-10 09:37:54.015 Z</td>\n",
       "      <td>2024-06-05 00:00:00.000 Z</td>\n",
       "    </tr>\n",
       "    <tr>\n",
       "      <th>4</th>\n",
       "      <td>6b036963ce2fd98b0be692df3a10fb4f</td>\n",
       "      <td>citrus valley gastroenterology a california me...</td>\n",
       "      <td>cvgastro.com</td>\n",
       "      <td>citrus-valley-gastroenterology-a-california-me...</td>\n",
       "      <td>NaN</td>\n",
       "      <td>1986.0</td>\n",
       "      <td>medical practice</td>\n",
       "      <td>Glendora, California</td>\n",
       "      <td>6.0</td>\n",
       "      <td>NaN</td>\n",
       "      <td>NaN</td>\n",
       "      <td>2024-05-10 10:23:16.353 Z</td>\n",
       "      <td>2024-06-05 00:00:00.000 Z</td>\n",
       "    </tr>\n",
       "  </tbody>\n",
       "</table>\n",
       "</div>"
      ],
      "text/plain": [
       "                LIVEDATA_COMPANY_ID  \\\n",
       "0  683d81648fa088c6e63fd794304c6809   \n",
       "1  ecca0ebb4e1ef747528283aafee022d2   \n",
       "2  ab49d6f1d2f84f3450a49c9ccfd6f589   \n",
       "3  ed2bdd88351326b593436d0e6123dfd8   \n",
       "4  6b036963ce2fd98b0be692df3a10fb4f   \n",
       "\n",
       "                                        COMPANY_NAME  \\\n",
       "0                                   divergence neuro   \n",
       "1                    knight protective service, inc.   \n",
       "2                                    tackle grab llc   \n",
       "3                                          cravehro®   \n",
       "4  citrus valley gastroenterology a california me...   \n",
       "\n",
       "                       WEBSITE  \\\n",
       "0          divergenceneuro.com   \n",
       "1  knightprotectiveservice.com   \n",
       "2               tacklegrab.com   \n",
       "3                 cravehro.com   \n",
       "4                 cvgastro.com   \n",
       "\n",
       "                                       LINKEDIN_SLUG    COMPANY_TYPE  \\\n",
       "0                                    divergenceneuro  privately held   \n",
       "1                     knight-protective-service-inc.             NaN   \n",
       "2                                    tackle-grab-llc  privately held   \n",
       "3                                           cravehro      self owned   \n",
       "4  citrus-valley-gastroenterology-a-california-me...             NaN   \n",
       "\n",
       "   FOUNDED_YEAR                      INDUSTRY      COMPANY_LOCATION  \\\n",
       "0        2020.0                 biotechnology      Toronto, Ontario   \n",
       "1           NaN   security and investigations      Lanham, Maryland   \n",
       "2        2012.0  sporting goods manufacturing            Boston, MA   \n",
       "3        2021.0               human resources  Ronkonkoma, New York   \n",
       "4        1986.0              medical practice  Glendora, California   \n",
       "\n",
       "   EMPLOYEE_COUNT SIC_CODES TICKER    INFO_CHANGE_DETECTED_AT  \\\n",
       "0            10.0       NaN    NaN  2024-05-10 10:18:55.073 Z   \n",
       "1             NaN       NaN    NaN  2024-05-10 10:15:11.702 Z   \n",
       "2             NaN       NaN    NaN  2024-05-10 10:09:03.989 Z   \n",
       "3             1.0       NaN    NaN  2024-05-10 09:37:54.015 Z   \n",
       "4             6.0       NaN    NaN  2024-05-10 10:23:16.353 Z   \n",
       "\n",
       "                          DS  \n",
       "0  2024-06-05 00:00:00.000 Z  \n",
       "1  2024-06-05 00:00:00.000 Z  \n",
       "2  2024-06-05 00:00:00.000 Z  \n",
       "3  2024-06-05 00:00:00.000 Z  \n",
       "4  2024-06-05 00:00:00.000 Z  "
      ]
     },
     "execution_count": 1,
     "metadata": {},
     "output_type": "execute_result"
    }
   ],
   "source": [
    "import pandas as pd\n",
    "\n",
    "data1 = pd.read_csv('data/2024-08-06 11_52pm.csv')\n",
    "data1.head(5)"
   ]
  },
  {
   "cell_type": "code",
   "execution_count": 2,
   "id": "6597b535-887d-49f7-8dff-b2a1e010def5",
   "metadata": {},
   "outputs": [
    {
     "name": "stdout",
     "output_type": "stream",
     "text": [
      "<class 'pandas.core.frame.DataFrame'>\n",
      "RangeIndex: 26504 entries, 0 to 26503\n",
      "Data columns (total 13 columns):\n",
      " #   Column                   Non-Null Count  Dtype  \n",
      "---  ------                   --------------  -----  \n",
      " 0   LIVEDATA_COMPANY_ID      26504 non-null  object \n",
      " 1   COMPANY_NAME             26503 non-null  object \n",
      " 2   WEBSITE                  26504 non-null  object \n",
      " 3   LINKEDIN_SLUG            26504 non-null  object \n",
      " 4   COMPANY_TYPE             18938 non-null  object \n",
      " 5   FOUNDED_YEAR             15092 non-null  float64\n",
      " 6   INDUSTRY                 24449 non-null  object \n",
      " 7   COMPANY_LOCATION         21585 non-null  object \n",
      " 8   EMPLOYEE_COUNT           22036 non-null  float64\n",
      " 9   SIC_CODES                1300 non-null   object \n",
      " 10  TICKER                   68 non-null     object \n",
      " 11  INFO_CHANGE_DETECTED_AT  26504 non-null  object \n",
      " 12  DS                       26504 non-null  object \n",
      "dtypes: float64(2), object(11)\n",
      "memory usage: 2.6+ MB\n"
     ]
    }
   ],
   "source": [
    "data1.info()"
   ]
  },
  {
   "cell_type": "code",
   "execution_count": 3,
   "id": "2ad83bf5-9610-484a-99eb-6d0243981fcb",
   "metadata": {},
   "outputs": [
    {
     "data": {
      "text/plain": [
       "(26504, 409, 66)"
      ]
     },
     "execution_count": 3,
     "metadata": {},
     "output_type": "execute_result"
    }
   ],
   "source": [
    "data1['LIVEDATA_COMPANY_ID'].nunique(), data1['SIC_CODES'].nunique(), data1['TICKER'].nunique()"
   ]
  },
  {
   "cell_type": "code",
   "execution_count": 4,
   "id": "e234a3f7-aca6-42fb-be9a-cdfef803da12",
   "metadata": {},
   "outputs": [],
   "source": [
    "# List of columns to exclude\n",
    "exclude_cols = ['LIVEDATA_COMPANY_ID', 'SIC_CODES', 'TICKER', 'INFO_CHANGE_DETECTED_AT', 'DS']\n",
    "\n",
    "# Selecting columns not in the list\n",
    "info_df1 = data1[[col for col in data1.columns if col not in exclude_cols]]"
   ]
  },
  {
   "cell_type": "code",
   "execution_count": 5,
   "id": "72266985-76b2-43b1-99bb-beb0ed7cfbf1",
   "metadata": {},
   "outputs": [
    {
     "name": "stdout",
     "output_type": "stream",
     "text": [
      "<class 'pandas.core.frame.DataFrame'>\n",
      "RangeIndex: 26504 entries, 0 to 26503\n",
      "Data columns (total 8 columns):\n",
      " #   Column            Non-Null Count  Dtype  \n",
      "---  ------            --------------  -----  \n",
      " 0   COMPANY_NAME      26503 non-null  object \n",
      " 1   WEBSITE           26504 non-null  object \n",
      " 2   LINKEDIN_SLUG     26504 non-null  object \n",
      " 3   COMPANY_TYPE      18938 non-null  object \n",
      " 4   FOUNDED_YEAR      15092 non-null  float64\n",
      " 5   INDUSTRY          24449 non-null  object \n",
      " 6   COMPANY_LOCATION  21585 non-null  object \n",
      " 7   EMPLOYEE_COUNT    22036 non-null  float64\n",
      "dtypes: float64(2), object(6)\n",
      "memory usage: 1.6+ MB\n"
     ]
    }
   ],
   "source": [
    "info_df1.info()"
   ]
  },
  {
   "cell_type": "code",
   "execution_count": null,
   "id": "fc3e242e-e08c-4349-81f6-9551d43559b4",
   "metadata": {},
   "outputs": [],
   "source": []
  },
  {
   "cell_type": "code",
   "execution_count": 6,
   "id": "14975c98-70ab-4260-ba57-4f346c4f61de",
   "metadata": {},
   "outputs": [
    {
     "data": {
      "text/html": [
       "<div>\n",
       "<style scoped>\n",
       "    .dataframe tbody tr th:only-of-type {\n",
       "        vertical-align: middle;\n",
       "    }\n",
       "\n",
       "    .dataframe tbody tr th {\n",
       "        vertical-align: top;\n",
       "    }\n",
       "\n",
       "    .dataframe thead th {\n",
       "        text-align: right;\n",
       "    }\n",
       "</style>\n",
       "<table border=\"1\" class=\"dataframe\">\n",
       "  <thead>\n",
       "    <tr style=\"text-align: right;\">\n",
       "      <th></th>\n",
       "      <th>DS</th>\n",
       "      <th>PDL_COMPANY_ID</th>\n",
       "      <th>COMPANY_NAME</th>\n",
       "      <th>TYPE</th>\n",
       "      <th>INDUSTRY</th>\n",
       "      <th>WEBSITE</th>\n",
       "      <th>FOUNDED</th>\n",
       "      <th>LINKEDIN_URL</th>\n",
       "      <th>PDL_SUMMARY</th>\n",
       "      <th>FACEBOOK_URL</th>\n",
       "      <th>...</th>\n",
       "      <th>COMPANY_LOCATION_REGION</th>\n",
       "      <th>COMPANY_LOCATION_METRO</th>\n",
       "      <th>COMPANY_LOCATION_COUNTRY</th>\n",
       "      <th>COMPANY_LOCATION_CONTINENT</th>\n",
       "      <th>COMPANY_LOCATION_STREET_ADDRESS</th>\n",
       "      <th>COMPANY_LOCATION_ADDRESS_LINE_2</th>\n",
       "      <th>COMPANY_LOCATION_POSTAL_CODE</th>\n",
       "      <th>ROW_NUM</th>\n",
       "      <th>CURRENT_EMPLOYEES</th>\n",
       "      <th>TOTAL_EMPLOYEES</th>\n",
       "    </tr>\n",
       "  </thead>\n",
       "  <tbody>\n",
       "    <tr>\n",
       "      <th>0</th>\n",
       "      <td>2024-06-16</td>\n",
       "      <td>QkRXus0QCRC7Vw0zcBzHdwZwjYzU</td>\n",
       "      <td>thrive africa (now nomadi)</td>\n",
       "      <td>nonprofit</td>\n",
       "      <td>NaN</td>\n",
       "      <td>notion.so/thriveafricafund/overview-46a085735e...</td>\n",
       "      <td>NaN</td>\n",
       "      <td>linkedin.com/company/join-nomadi</td>\n",
       "      <td>NaN</td>\n",
       "      <td>NaN</td>\n",
       "      <td>...</td>\n",
       "      <td>NaN</td>\n",
       "      <td>NaN</td>\n",
       "      <td>NaN</td>\n",
       "      <td>NaN</td>\n",
       "      <td>NaN</td>\n",
       "      <td>NaN</td>\n",
       "      <td>NaN</td>\n",
       "      <td>1</td>\n",
       "      <td>5</td>\n",
       "      <td>66</td>\n",
       "    </tr>\n",
       "    <tr>\n",
       "      <th>1</th>\n",
       "      <td>2024-06-16</td>\n",
       "      <td>3CSGba1jF0cEgfxu2AavyQXkwPoR</td>\n",
       "      <td>mamatoro</td>\n",
       "      <td>private</td>\n",
       "      <td>retail</td>\n",
       "      <td>mamatoro.com</td>\n",
       "      <td>NaN</td>\n",
       "      <td>linkedin.com/company/mamatoro</td>\n",
       "      <td>NaN</td>\n",
       "      <td>facebook.com/mamatoroboutiquegalerie</td>\n",
       "      <td>...</td>\n",
       "      <td>connecticut</td>\n",
       "      <td>NaN</td>\n",
       "      <td>united states</td>\n",
       "      <td>north america</td>\n",
       "      <td>NaN</td>\n",
       "      <td>NaN</td>\n",
       "      <td>06400</td>\n",
       "      <td>1</td>\n",
       "      <td>0</td>\n",
       "      <td>3</td>\n",
       "    </tr>\n",
       "    <tr>\n",
       "      <th>2</th>\n",
       "      <td>2024-06-16</td>\n",
       "      <td>CRxKNmeF1dBqhF4kvMXZAQWf7gDN</td>\n",
       "      <td>gbmojo</td>\n",
       "      <td>private</td>\n",
       "      <td>entertainment</td>\n",
       "      <td>gbmojo.com</td>\n",
       "      <td>NaN</td>\n",
       "      <td>linkedin.com/company/gbmojo</td>\n",
       "      <td>NaN</td>\n",
       "      <td>NaN</td>\n",
       "      <td>...</td>\n",
       "      <td>texas</td>\n",
       "      <td>NaN</td>\n",
       "      <td>united states</td>\n",
       "      <td>north america</td>\n",
       "      <td>NaN</td>\n",
       "      <td>NaN</td>\n",
       "      <td>78704</td>\n",
       "      <td>1</td>\n",
       "      <td>0</td>\n",
       "      <td>2</td>\n",
       "    </tr>\n",
       "    <tr>\n",
       "      <th>3</th>\n",
       "      <td>2024-06-16</td>\n",
       "      <td>KgofJOvXaeNKeE6uzsQYbw0MOIby</td>\n",
       "      <td>pontual service corretora</td>\n",
       "      <td>private</td>\n",
       "      <td>insurance</td>\n",
       "      <td>pontualservice.com</td>\n",
       "      <td>NaN</td>\n",
       "      <td>linkedin.com/company/pontual-service-corretora</td>\n",
       "      <td>NaN</td>\n",
       "      <td>NaN</td>\n",
       "      <td>...</td>\n",
       "      <td>NaN</td>\n",
       "      <td>NaN</td>\n",
       "      <td>brazil</td>\n",
       "      <td>south america</td>\n",
       "      <td>NaN</td>\n",
       "      <td>NaN</td>\n",
       "      <td>NaN</td>\n",
       "      <td>1</td>\n",
       "      <td>1</td>\n",
       "      <td>6</td>\n",
       "    </tr>\n",
       "    <tr>\n",
       "      <th>4</th>\n",
       "      <td>2024-06-16</td>\n",
       "      <td>DaYqC7Jc86uBUfEtrymLDAaXkDQV</td>\n",
       "      <td>mercedes benz of annapolis service</td>\n",
       "      <td>private</td>\n",
       "      <td>individual &amp; family services</td>\n",
       "      <td>mercedesbenzannapolisservice.com</td>\n",
       "      <td>NaN</td>\n",
       "      <td>linkedin.com/company/mercedes-benz-of-annapoli...</td>\n",
       "      <td>NaN</td>\n",
       "      <td>NaN</td>\n",
       "      <td>...</td>\n",
       "      <td>maryland</td>\n",
       "      <td>baltimore, maryland</td>\n",
       "      <td>united states</td>\n",
       "      <td>north america</td>\n",
       "      <td>1920 forest drive</td>\n",
       "      <td>NaN</td>\n",
       "      <td>21401</td>\n",
       "      <td>1</td>\n",
       "      <td>1</td>\n",
       "      <td>1</td>\n",
       "    </tr>\n",
       "  </tbody>\n",
       "</table>\n",
       "<p>5 rows × 26 columns</p>\n",
       "</div>"
      ],
      "text/plain": [
       "           DS                PDL_COMPANY_ID  \\\n",
       "0  2024-06-16  QkRXus0QCRC7Vw0zcBzHdwZwjYzU   \n",
       "1  2024-06-16  3CSGba1jF0cEgfxu2AavyQXkwPoR   \n",
       "2  2024-06-16  CRxKNmeF1dBqhF4kvMXZAQWf7gDN   \n",
       "3  2024-06-16  KgofJOvXaeNKeE6uzsQYbw0MOIby   \n",
       "4  2024-06-16  DaYqC7Jc86uBUfEtrymLDAaXkDQV   \n",
       "\n",
       "                         COMPANY_NAME       TYPE  \\\n",
       "0          thrive africa (now nomadi)  nonprofit   \n",
       "1                            mamatoro    private   \n",
       "2                              gbmojo    private   \n",
       "3           pontual service corretora    private   \n",
       "4  mercedes benz of annapolis service    private   \n",
       "\n",
       "                       INDUSTRY  \\\n",
       "0                           NaN   \n",
       "1                        retail   \n",
       "2                 entertainment   \n",
       "3                     insurance   \n",
       "4  individual & family services   \n",
       "\n",
       "                                             WEBSITE  FOUNDED  \\\n",
       "0  notion.so/thriveafricafund/overview-46a085735e...      NaN   \n",
       "1                                       mamatoro.com      NaN   \n",
       "2                                         gbmojo.com      NaN   \n",
       "3                                 pontualservice.com      NaN   \n",
       "4                   mercedesbenzannapolisservice.com      NaN   \n",
       "\n",
       "                                        LINKEDIN_URL  PDL_SUMMARY  \\\n",
       "0                   linkedin.com/company/join-nomadi          NaN   \n",
       "1                      linkedin.com/company/mamatoro          NaN   \n",
       "2                        linkedin.com/company/gbmojo          NaN   \n",
       "3     linkedin.com/company/pontual-service-corretora          NaN   \n",
       "4  linkedin.com/company/mercedes-benz-of-annapoli...          NaN   \n",
       "\n",
       "                           FACEBOOK_URL  ...  COMPANY_LOCATION_REGION  \\\n",
       "0                                   NaN  ...                      NaN   \n",
       "1  facebook.com/mamatoroboutiquegalerie  ...              connecticut   \n",
       "2                                   NaN  ...                    texas   \n",
       "3                                   NaN  ...                      NaN   \n",
       "4                                   NaN  ...                 maryland   \n",
       "\n",
       "  COMPANY_LOCATION_METRO COMPANY_LOCATION_COUNTRY COMPANY_LOCATION_CONTINENT  \\\n",
       "0                    NaN                      NaN                        NaN   \n",
       "1                    NaN            united states              north america   \n",
       "2                    NaN            united states              north america   \n",
       "3                    NaN                   brazil              south america   \n",
       "4    baltimore, maryland            united states              north america   \n",
       "\n",
       "  COMPANY_LOCATION_STREET_ADDRESS COMPANY_LOCATION_ADDRESS_LINE_2  \\\n",
       "0                             NaN                             NaN   \n",
       "1                             NaN                             NaN   \n",
       "2                             NaN                             NaN   \n",
       "3                             NaN                             NaN   \n",
       "4               1920 forest drive                             NaN   \n",
       "\n",
       "  COMPANY_LOCATION_POSTAL_CODE ROW_NUM CURRENT_EMPLOYEES TOTAL_EMPLOYEES  \n",
       "0                          NaN       1                 5              66  \n",
       "1                        06400       1                 0               3  \n",
       "2                        78704       1                 0               2  \n",
       "3                          NaN       1                 1               6  \n",
       "4                        21401       1                 1               1  \n",
       "\n",
       "[5 rows x 26 columns]"
      ]
     },
     "execution_count": 6,
     "metadata": {},
     "output_type": "execute_result"
    }
   ],
   "source": [
    "data2 = pd.read_csv('data/2024-08-06 11_52pm_1.csv')\n",
    "data2.head(5)"
   ]
  },
  {
   "cell_type": "code",
   "execution_count": 7,
   "id": "3a931db9-4341-4966-9c4a-0a825cbe4edf",
   "metadata": {},
   "outputs": [
    {
     "name": "stdout",
     "output_type": "stream",
     "text": [
      "<class 'pandas.core.frame.DataFrame'>\n",
      "RangeIndex: 170825 entries, 0 to 170824\n",
      "Data columns (total 26 columns):\n",
      " #   Column                           Non-Null Count   Dtype  \n",
      "---  ------                           --------------   -----  \n",
      " 0   DS                               170825 non-null  object \n",
      " 1   PDL_COMPANY_ID                   170825 non-null  object \n",
      " 2   COMPANY_NAME                     170825 non-null  object \n",
      " 3   TYPE                             170825 non-null  object \n",
      " 4   INDUSTRY                         122732 non-null  object \n",
      " 5   WEBSITE                          170825 non-null  object \n",
      " 6   FOUNDED                          79329 non-null   float64\n",
      " 7   LINKEDIN_URL                     170825 non-null  object \n",
      " 8   PDL_SUMMARY                      0 non-null       float64\n",
      " 9   FACEBOOK_URL                     18443 non-null   object \n",
      " 10  LINKEDIN_ID                      170355 non-null  float64\n",
      " 11  SIZE                             170825 non-null  object \n",
      " 12  TICKER                           313 non-null     object \n",
      " 13  TWITTER_URL                      15806 non-null   object \n",
      " 14  COMPANY_LOCATION_NAME            155761 non-null  object \n",
      " 15  COMPANY_LOCATION_LOCALITY        116508 non-null  object \n",
      " 16  COMPANY_LOCATION_REGION          133858 non-null  object \n",
      " 17  COMPANY_LOCATION_METRO           55714 non-null   object \n",
      " 18  COMPANY_LOCATION_COUNTRY         155759 non-null  object \n",
      " 19  COMPANY_LOCATION_CONTINENT       155761 non-null  object \n",
      " 20  COMPANY_LOCATION_STREET_ADDRESS  59991 non-null   object \n",
      " 21  COMPANY_LOCATION_ADDRESS_LINE_2  8577 non-null    object \n",
      " 22  COMPANY_LOCATION_POSTAL_CODE     62120 non-null   object \n",
      " 23  ROW_NUM                          170825 non-null  int64  \n",
      " 24  CURRENT_EMPLOYEES                170825 non-null  int64  \n",
      " 25  TOTAL_EMPLOYEES                  170825 non-null  int64  \n",
      "dtypes: float64(3), int64(3), object(20)\n",
      "memory usage: 33.9+ MB\n"
     ]
    }
   ],
   "source": [
    "data2.info()"
   ]
  },
  {
   "cell_type": "code",
   "execution_count": 8,
   "id": "99be8418-7bc3-40ea-8d65-e9717eaca1b5",
   "metadata": {},
   "outputs": [
    {
     "data": {
      "text/plain": [
       "(87526, 1, 1021, 197)"
      ]
     },
     "execution_count": 8,
     "metadata": {},
     "output_type": "execute_result"
    }
   ],
   "source": [
    "data2['PDL_COMPANY_ID'].nunique(), data2['ROW_NUM'].nunique(), data2['CURRENT_EMPLOYEES'].nunique(), data2['FOUNDED'].nunique()"
   ]
  },
  {
   "cell_type": "code",
   "execution_count": 9,
   "id": "41136587-a3a8-4a26-9c68-84949570da96",
   "metadata": {},
   "outputs": [
    {
     "name": "stdout",
     "output_type": "stream",
     "text": [
      "<class 'pandas.core.frame.DataFrame'>\n",
      "RangeIndex: 170825 entries, 0 to 170824\n",
      "Data columns (total 22 columns):\n",
      " #   Column                           Non-Null Count   Dtype  \n",
      "---  ------                           --------------   -----  \n",
      " 0   PDL_COMPANY_ID                   170825 non-null  object \n",
      " 1   COMPANY_NAME                     170825 non-null  object \n",
      " 2   TYPE                             170825 non-null  object \n",
      " 3   INDUSTRY                         122732 non-null  object \n",
      " 4   WEBSITE                          170825 non-null  object \n",
      " 5   FOUNDED                          79329 non-null   float64\n",
      " 6   LINKEDIN_URL                     170825 non-null  object \n",
      " 7   FACEBOOK_URL                     18443 non-null   object \n",
      " 8   LINKEDIN_ID                      170355 non-null  float64\n",
      " 9   SIZE                             170825 non-null  object \n",
      " 10  TWITTER_URL                      15806 non-null   object \n",
      " 11  COMPANY_LOCATION_NAME            155761 non-null  object \n",
      " 12  COMPANY_LOCATION_LOCALITY        116508 non-null  object \n",
      " 13  COMPANY_LOCATION_REGION          133858 non-null  object \n",
      " 14  COMPANY_LOCATION_METRO           55714 non-null   object \n",
      " 15  COMPANY_LOCATION_COUNTRY         155759 non-null  object \n",
      " 16  COMPANY_LOCATION_CONTINENT       155761 non-null  object \n",
      " 17  COMPANY_LOCATION_STREET_ADDRESS  59991 non-null   object \n",
      " 18  COMPANY_LOCATION_ADDRESS_LINE_2  8577 non-null    object \n",
      " 19  COMPANY_LOCATION_POSTAL_CODE     62120 non-null   object \n",
      " 20  CURRENT_EMPLOYEES                170825 non-null  int64  \n",
      " 21  TOTAL_EMPLOYEES                  170825 non-null  int64  \n",
      "dtypes: float64(2), int64(2), object(18)\n",
      "memory usage: 28.7+ MB\n"
     ]
    }
   ],
   "source": [
    "# List of columns to exclude\n",
    "exclude_cols = ['DS', 'PDL_SUMMARY', 'TICKER', 'ROW_NUM']\n",
    "\n",
    "# Selecting columns not in the list\n",
    "info_df2 = data2[[col for col in data2.columns if col not in exclude_cols]]\n",
    "info_df2.info()"
   ]
  },
  {
   "cell_type": "code",
   "execution_count": null,
   "id": "4580e272-7f86-4f85-aecf-861cb86486bc",
   "metadata": {},
   "outputs": [],
   "source": []
  },
  {
   "cell_type": "code",
   "execution_count": null,
   "id": "56f7d729-4a75-494a-9e63-045cd72dfbba",
   "metadata": {},
   "outputs": [],
   "source": []
  },
  {
   "cell_type": "code",
   "execution_count": 10,
   "id": "b43a0847-cc55-439d-99e2-bca40e78b1d2",
   "metadata": {},
   "outputs": [
    {
     "data": {
      "text/html": [
       "<div>\n",
       "<style scoped>\n",
       "    .dataframe tbody tr th:only-of-type {\n",
       "        vertical-align: middle;\n",
       "    }\n",
       "\n",
       "    .dataframe tbody tr th {\n",
       "        vertical-align: top;\n",
       "    }\n",
       "\n",
       "    .dataframe thead th {\n",
       "        text-align: right;\n",
       "    }\n",
       "</style>\n",
       "<table border=\"1\" class=\"dataframe\">\n",
       "  <thead>\n",
       "    <tr style=\"text-align: right;\">\n",
       "      <th></th>\n",
       "      <th>0</th>\n",
       "      <th>1</th>\n",
       "      <th>2</th>\n",
       "      <th>3</th>\n",
       "      <th>4</th>\n",
       "      <th>5</th>\n",
       "      <th>6</th>\n",
       "    </tr>\n",
       "  </thead>\n",
       "  <tbody>\n",
       "    <tr>\n",
       "      <th>0</th>\n",
       "      <td>NaN</td>\n",
       "      <td>NaN</td>\n",
       "      <td>NaN</td>\n",
       "      <td>NaN</td>\n",
       "      <td>NaN</td>\n",
       "      <td>NaN</td>\n",
       "      <td>NaN</td>\n",
       "    </tr>\n",
       "    <tr>\n",
       "      <th>1</th>\n",
       "      <td>Company</td>\n",
       "      <td>Website</td>\n",
       "      <td>Geo</td>\n",
       "      <td>Ticker</td>\n",
       "      <td>Company</td>\n",
       "      <td>Website</td>\n",
       "      <td>Geo</td>\n",
       "    </tr>\n",
       "    <tr>\n",
       "      <th>2</th>\n",
       "      <td>SpaceX</td>\n",
       "      <td>www.spacex.com</td>\n",
       "      <td>United States</td>\n",
       "      <td>NaN</td>\n",
       "      <td>NaN</td>\n",
       "      <td>NaN</td>\n",
       "      <td>NaN</td>\n",
       "    </tr>\n",
       "    <tr>\n",
       "      <th>3</th>\n",
       "      <td>Bytedance</td>\n",
       "      <td>www.bytedance.com</td>\n",
       "      <td>China</td>\n",
       "      <td>NaN</td>\n",
       "      <td>NaN</td>\n",
       "      <td>NaN</td>\n",
       "      <td>NaN</td>\n",
       "    </tr>\n",
       "    <tr>\n",
       "      <th>4</th>\n",
       "      <td>Epic Games</td>\n",
       "      <td>www.epicgames.com</td>\n",
       "      <td>United States</td>\n",
       "      <td>NaN</td>\n",
       "      <td>NaN</td>\n",
       "      <td>NaN</td>\n",
       "      <td>NaN</td>\n",
       "    </tr>\n",
       "  </tbody>\n",
       "</table>\n",
       "</div>"
      ],
      "text/plain": [
       "            0                  1              2       3        4        5    6\n",
       "0         NaN                NaN            NaN     NaN      NaN      NaN  NaN\n",
       "1     Company            Website            Geo  Ticker  Company  Website  Geo\n",
       "2      SpaceX     www.spacex.com  United States     NaN      NaN      NaN  NaN\n",
       "3   Bytedance  www.bytedance.com          China     NaN      NaN      NaN  NaN\n",
       "4  Epic Games  www.epicgames.com  United States     NaN      NaN      NaN  NaN"
      ]
     },
     "execution_count": 10,
     "metadata": {},
     "output_type": "execute_result"
    }
   ],
   "source": [
    "data3 = pd.read_csv('data/Private Holdings.csv', header=None)\n",
    "data3.head(5)"
   ]
  },
  {
   "cell_type": "code",
   "execution_count": 11,
   "id": "73c63e41-5b76-4b3f-b81c-908f0a1befe5",
   "metadata": {},
   "outputs": [
    {
     "data": {
      "text/html": [
       "<div>\n",
       "<style scoped>\n",
       "    .dataframe tbody tr th:only-of-type {\n",
       "        vertical-align: middle;\n",
       "    }\n",
       "\n",
       "    .dataframe tbody tr th {\n",
       "        vertical-align: top;\n",
       "    }\n",
       "\n",
       "    .dataframe thead th {\n",
       "        text-align: right;\n",
       "    }\n",
       "</style>\n",
       "<table border=\"1\" class=\"dataframe\">\n",
       "  <thead>\n",
       "    <tr style=\"text-align: right;\">\n",
       "      <th>1</th>\n",
       "      <th>Company</th>\n",
       "      <th>Website</th>\n",
       "      <th>Geo</th>\n",
       "      <th>Ticker</th>\n",
       "      <th>Company</th>\n",
       "      <th>Website</th>\n",
       "      <th>Geo</th>\n",
       "    </tr>\n",
       "  </thead>\n",
       "  <tbody>\n",
       "    <tr>\n",
       "      <th>2</th>\n",
       "      <td>SpaceX</td>\n",
       "      <td>www.spacex.com</td>\n",
       "      <td>United States</td>\n",
       "      <td>NaN</td>\n",
       "      <td>NaN</td>\n",
       "      <td>NaN</td>\n",
       "      <td>NaN</td>\n",
       "    </tr>\n",
       "    <tr>\n",
       "      <th>3</th>\n",
       "      <td>Bytedance</td>\n",
       "      <td>www.bytedance.com</td>\n",
       "      <td>China</td>\n",
       "      <td>NaN</td>\n",
       "      <td>NaN</td>\n",
       "      <td>NaN</td>\n",
       "      <td>NaN</td>\n",
       "    </tr>\n",
       "    <tr>\n",
       "      <th>4</th>\n",
       "      <td>Epic Games</td>\n",
       "      <td>www.epicgames.com</td>\n",
       "      <td>United States</td>\n",
       "      <td>NaN</td>\n",
       "      <td>NaN</td>\n",
       "      <td>NaN</td>\n",
       "      <td>NaN</td>\n",
       "    </tr>\n",
       "    <tr>\n",
       "      <th>5</th>\n",
       "      <td>Instacart</td>\n",
       "      <td>www.instacart.com</td>\n",
       "      <td>United States</td>\n",
       "      <td>NaN</td>\n",
       "      <td>NaN</td>\n",
       "      <td>NaN</td>\n",
       "      <td>NaN</td>\n",
       "    </tr>\n",
       "    <tr>\n",
       "      <th>6</th>\n",
       "      <td>Databricks</td>\n",
       "      <td>www.databricks.com</td>\n",
       "      <td>United States</td>\n",
       "      <td>NaN</td>\n",
       "      <td>NaN</td>\n",
       "      <td>NaN</td>\n",
       "      <td>NaN</td>\n",
       "    </tr>\n",
       "  </tbody>\n",
       "</table>\n",
       "</div>"
      ],
      "text/plain": [
       "1     Company             Website            Geo Ticker Company Website  Geo\n",
       "2      SpaceX      www.spacex.com  United States    NaN     NaN     NaN  NaN\n",
       "3   Bytedance   www.bytedance.com          China    NaN     NaN     NaN  NaN\n",
       "4  Epic Games   www.epicgames.com  United States    NaN     NaN     NaN  NaN\n",
       "5   Instacart   www.instacart.com  United States    NaN     NaN     NaN  NaN\n",
       "6  Databricks  www.databricks.com  United States    NaN     NaN     NaN  NaN"
      ]
     },
     "execution_count": 11,
     "metadata": {},
     "output_type": "execute_result"
    }
   ],
   "source": [
    "# Remove the first row (current header)\n",
    "data3 = data3.iloc[1:]\n",
    "# Set the second row as the new header\n",
    "data3.columns = data3.iloc[0]\n",
    "# Remove the first row (current header)\n",
    "data3 = data3.iloc[1:]\n",
    "data3.head(5)"
   ]
  },
  {
   "cell_type": "code",
   "execution_count": 12,
   "id": "b257e50f-d63d-4c3c-9f31-44216374d4c4",
   "metadata": {},
   "outputs": [
    {
     "name": "stdout",
     "output_type": "stream",
     "text": [
      "<class 'pandas.core.frame.DataFrame'>\n",
      "RangeIndex: 200 entries, 2 to 201\n",
      "Data columns (total 7 columns):\n",
      " #   Column   Non-Null Count  Dtype \n",
      "---  ------   --------------  ----- \n",
      " 0   Company  200 non-null    object\n",
      " 1   Website  200 non-null    object\n",
      " 2   Geo      200 non-null    object\n",
      " 3   Ticker   0 non-null      object\n",
      " 4   Company  0 non-null      object\n",
      " 5   Website  0 non-null      object\n",
      " 6   Geo      0 non-null      object\n",
      "dtypes: object(7)\n",
      "memory usage: 11.1+ KB\n"
     ]
    }
   ],
   "source": [
    "data3.info()"
   ]
  },
  {
   "cell_type": "code",
   "execution_count": 13,
   "id": "fa29b047-784a-4d68-8a59-3670d7af3bb3",
   "metadata": {},
   "outputs": [],
   "source": [
    "# List of columns to exclude\n",
    "exclude_cols = ['Ticker']\n",
    "\n",
    "# Selecting columns not in the list\n",
    "data3_selected = data3[[col for col in data3.columns if col not in exclude_cols]]\n",
    "\n",
    "primary_df = data3_selected.loc[:, ~data3_selected.columns.duplicated()]"
   ]
  },
  {
   "cell_type": "code",
   "execution_count": 14,
   "id": "b96bb2a2-b691-4f56-b447-1842f154871b",
   "metadata": {},
   "outputs": [
    {
     "name": "stdout",
     "output_type": "stream",
     "text": [
      "<class 'pandas.core.frame.DataFrame'>\n",
      "RangeIndex: 200 entries, 2 to 201\n",
      "Data columns (total 3 columns):\n",
      " #   Column   Non-Null Count  Dtype \n",
      "---  ------   --------------  ----- \n",
      " 0   Company  200 non-null    object\n",
      " 1   Website  200 non-null    object\n",
      " 2   Geo      200 non-null    object\n",
      "dtypes: object(3)\n",
      "memory usage: 4.8+ KB\n"
     ]
    }
   ],
   "source": [
    "primary_df.info()"
   ]
  },
  {
   "cell_type": "code",
   "execution_count": 15,
   "id": "68ecdce2-ac29-4574-99af-0d53e5cfc2a3",
   "metadata": {},
   "outputs": [
    {
     "data": {
      "text/html": [
       "<div>\n",
       "<style scoped>\n",
       "    .dataframe tbody tr th:only-of-type {\n",
       "        vertical-align: middle;\n",
       "    }\n",
       "\n",
       "    .dataframe tbody tr th {\n",
       "        vertical-align: top;\n",
       "    }\n",
       "\n",
       "    .dataframe thead th {\n",
       "        text-align: right;\n",
       "    }\n",
       "</style>\n",
       "<table border=\"1\" class=\"dataframe\">\n",
       "  <thead>\n",
       "    <tr style=\"text-align: right;\">\n",
       "      <th>1</th>\n",
       "      <th>Company</th>\n",
       "      <th>Website</th>\n",
       "      <th>Geo</th>\n",
       "    </tr>\n",
       "  </thead>\n",
       "  <tbody>\n",
       "    <tr>\n",
       "      <th>2</th>\n",
       "      <td>SpaceX</td>\n",
       "      <td>www.spacex.com</td>\n",
       "      <td>United States</td>\n",
       "    </tr>\n",
       "    <tr>\n",
       "      <th>3</th>\n",
       "      <td>Bytedance</td>\n",
       "      <td>www.bytedance.com</td>\n",
       "      <td>China</td>\n",
       "    </tr>\n",
       "    <tr>\n",
       "      <th>4</th>\n",
       "      <td>Epic Games</td>\n",
       "      <td>www.epicgames.com</td>\n",
       "      <td>United States</td>\n",
       "    </tr>\n",
       "    <tr>\n",
       "      <th>5</th>\n",
       "      <td>Instacart</td>\n",
       "      <td>www.instacart.com</td>\n",
       "      <td>United States</td>\n",
       "    </tr>\n",
       "    <tr>\n",
       "      <th>6</th>\n",
       "      <td>Databricks</td>\n",
       "      <td>www.databricks.com</td>\n",
       "      <td>United States</td>\n",
       "    </tr>\n",
       "  </tbody>\n",
       "</table>\n",
       "</div>"
      ],
      "text/plain": [
       "1     Company             Website            Geo\n",
       "2      SpaceX      www.spacex.com  United States\n",
       "3   Bytedance   www.bytedance.com          China\n",
       "4  Epic Games   www.epicgames.com  United States\n",
       "5   Instacart   www.instacart.com  United States\n",
       "6  Databricks  www.databricks.com  United States"
      ]
     },
     "execution_count": 15,
     "metadata": {},
     "output_type": "execute_result"
    }
   ],
   "source": [
    "primary_df.head()"
   ]
  },
  {
   "cell_type": "code",
   "execution_count": null,
   "id": "b3e3419b-78d0-4d0f-90a4-45aebd9629f1",
   "metadata": {},
   "outputs": [],
   "source": []
  },
  {
   "cell_type": "code",
   "execution_count": null,
   "id": "4f75e844-6239-415a-bb4d-2525e8c38beb",
   "metadata": {},
   "outputs": [],
   "source": [
    "import pandas as pd\n",
    "from transformers import BertTokenizer, BertModel\n",
    "import torch\n",
    "from sklearn.cluster import KMeans\n",
    "from sklearn.metrics.pairwise import cosine_distances\n",
    "from sklearn.preprocessing import normalize\n",
    "\n",
    "# Load datasets\n",
    "# primary_df = pd.read_csv('primary_companies.csv')\n",
    "# info_df1 = pd.read_csv('company_info1.csv')\n",
    "# info_df2 = pd.read_csv('company_info2.csv')\n",
    "\n",
    "# Initialize BERT tokenizer and model\n",
    "tokenizer = BertTokenizer.from_pretrained('bert-base-uncased')\n",
    "model = BertModel.from_pretrained('bert-base-uncased')\n",
    "\n",
    "def get_bert_embeddings(texts):\n",
    "    encoded_input = tokenizer(texts, padding=True, truncation=True, return_tensors='pt')\n",
    "    with torch.no_grad():\n",
    "        model_output = model(**encoded_input)\n",
    "    return model_output.last_hidden_state[:, 0, :].numpy()\n",
    "\n",
    "# Ensure all text columns are strings\n",
    "primary_df['Company'] = primary_df['Company'].astype(str)\n",
    "info_df1['COMPANY_NAME'] = info_df1['COMPANY_NAME'].astype(str)\n",
    "info_df2['COMPANY_NAME'] = info_df2['COMPANY_NAME'].astype(str)\n",
    "\n",
    "# Generate embeddings\n",
    "primary_df['name_embedding'] = list(get_bert_embeddings(primary_df['Company'].tolist()))\n",
    "info_df1['name_embedding'] = list(get_bert_embeddings(info_df1['COMPANY_NAME'].tolist()))\n",
    "info_df2['name_embedding'] = list(get_bert_embeddings(info_df2['COMPANY_NAME'].tolist()))\n",
    "\n",
    "# Normalize embeddings\n",
    "primary_embeddings = normalize(list(primary_df['name_embedding']))\n",
    "\n",
    "# K-Means with primary embeddings as initial centroids\n",
    "n_clusters = len(primary_df)\n",
    "kmeans = KMeans(n_clusters=n_clusters, init=primary_embeddings, n_init=1, random_state=42)\n",
    "kmeans.fit(primary_embeddings)\n",
    "centroids = kmeans.cluster_centers_\n",
    "\n",
    "# Assign clusters to other datasets\n",
    "def assign_clusters(df, centroids):\n",
    "    embeddings = normalize(list(df['name_embedding']))\n",
    "    distances = cosine_distances(embeddings, centroids)\n",
    "    df['cluster'] = distances.argmin(axis=1)\n",
    "    return df\n",
    "\n",
    "info_df1 = assign_clusters(info_df1, centroids)\n",
    "info_df2 = assign_clusters(info_df2, centroids)\n",
    "\n",
    "# Output results\n",
    "print(primary_df.head())\n",
    "print(info_df1.head())\n",
    "print(info_df2.head())"
   ]
  },
  {
   "cell_type": "code",
   "execution_count": null,
   "id": "5417a0a6-0075-494b-9f09-59345ab06d46",
   "metadata": {},
   "outputs": [],
   "source": []
  },
  {
   "cell_type": "code",
   "execution_count": null,
   "id": "4d6bc019-3cec-4fbe-8c3e-e5734993201c",
   "metadata": {},
   "outputs": [],
   "source": []
  },
  {
   "cell_type": "code",
   "execution_count": null,
   "id": "4025553c-cf24-4489-b049-ca9eb0f92e13",
   "metadata": {},
   "outputs": [],
   "source": []
  },
  {
   "cell_type": "code",
   "execution_count": null,
   "id": "500f41ad-6806-45a3-b460-c4cf8254b363",
   "metadata": {},
   "outputs": [],
   "source": []
  },
  {
   "cell_type": "code",
   "execution_count": null,
   "id": "dbebe2ec-3b96-4d64-91ee-c0d085773a68",
   "metadata": {},
   "outputs": [],
   "source": []
  },
  {
   "cell_type": "code",
   "execution_count": 27,
   "id": "45f32d8e-255f-4fb8-986a-7624945783a6",
   "metadata": {},
   "outputs": [
    {
     "name": "stderr",
     "output_type": "stream",
     "text": [
      "/Users/leiyu/opt/anaconda3/envs/myenv/lib/python3.10/site-packages/langchain_core/_api/deprecation.py:141: LangChainDeprecationWarning: The class `OpenAIEmbeddings` was deprecated in LangChain 0.0.9 and will be removed in 0.3.0. An updated version of the class exists in the langchain-openai package and should be used instead. To use it run `pip install -U langchain-openai` and import as `from langchain_openai import OpenAIEmbeddings`.\n",
      "  warn_deprecated(\n",
      "Number of requested results 4 is greater than number of elements in index 2, updating n_results = 2\n"
     ]
    },
    {
     "name": "stdout",
     "output_type": "stream",
     "text": [
      "Document text 1. This is a longer text.\n",
      "{'author': 'Author 1', 'date': '2023-08-17', 'title': 'Title 1'}\n"
     ]
    }
   ],
   "source": [
    "import pandas as pd\n",
    "from langchain.docstore.document import Document\n",
    "from langchain.vectorstores import Chroma\n",
    "from langchain.embeddings import OpenAIEmbeddings\n",
    "\n",
    "# Example DataFrame `md`\n",
    "md = pd.DataFrame({\n",
    "    'text': [\"Document text 1. This is a longer text.\", \n",
    "             \"Document text 2. Another example text.\"],\n",
    "    'title': [\"Title 1\", \"Title 2\"],\n",
    "    'author': [\"Author 1\", \"Author 2\"],\n",
    "    'date': [\"2023-08-17\", \"2023-08-18\"]\n",
    "})\n",
    "\n",
    "# Convert DataFrame rows to Document objects with metadata\n",
    "documents = [\n",
    "    Document(\n",
    "        page_content=row['text'],\n",
    "        metadata={\n",
    "            \"title\": row['title'],\n",
    "            \"author\": row['author'],\n",
    "            \"date\": row['date']\n",
    "        }\n",
    "    )\n",
    "    for _, row in md.iterrows()\n",
    "]\n",
    "\n",
    "# Initialize embeddings (you can use other embedding models as well)\n",
    "embeddings = OpenAIEmbeddings()\n",
    "\n",
    "# Create Chroma vector store with documents and their metadata\n",
    "chroma_store = Chroma.from_documents(documents, embeddings)\n",
    "\n",
    "# Example query with metadata filtering\n",
    "query = \"Find documents related to text.\"\n",
    "results = chroma_store.similarity_search(query, filter={\"author\": \"Author 1\"})\n",
    "\n",
    "# Print the filtered results\n",
    "for result in results:\n",
    "    print(result.page_content)\n",
    "    print(result.metadata)"
   ]
  },
  {
   "cell_type": "code",
   "execution_count": 28,
   "id": "8f73084a-2977-4a89-9dda-f9529c38da66",
   "metadata": {},
   "outputs": [
    {
     "data": {
      "text/plain": [
       "<langchain_community.vectorstores.chroma.Chroma at 0x13ec86500>"
      ]
     },
     "execution_count": 28,
     "metadata": {},
     "output_type": "execute_result"
    }
   ],
   "source": [
    "chroma_store"
   ]
  },
  {
   "cell_type": "code",
   "execution_count": 30,
   "id": "9095d0e8-f677-4f10-b806-fcda09597bee",
   "metadata": {},
   "outputs": [
    {
     "data": {
      "text/html": [
       "<div>\n",
       "<style scoped>\n",
       "    .dataframe tbody tr th:only-of-type {\n",
       "        vertical-align: middle;\n",
       "    }\n",
       "\n",
       "    .dataframe tbody tr th {\n",
       "        vertical-align: top;\n",
       "    }\n",
       "\n",
       "    .dataframe thead th {\n",
       "        text-align: right;\n",
       "    }\n",
       "</style>\n",
       "<table border=\"1\" class=\"dataframe\">\n",
       "  <thead>\n",
       "    <tr style=\"text-align: right;\">\n",
       "      <th></th>\n",
       "      <th>text</th>\n",
       "      <th>title</th>\n",
       "      <th>author</th>\n",
       "      <th>date</th>\n",
       "    </tr>\n",
       "  </thead>\n",
       "  <tbody>\n",
       "    <tr>\n",
       "      <th>0</th>\n",
       "      <td>Document text 1. This is a longer text.</td>\n",
       "      <td>Title 1</td>\n",
       "      <td>Author 1</td>\n",
       "      <td>2023-08-17</td>\n",
       "    </tr>\n",
       "    <tr>\n",
       "      <th>1</th>\n",
       "      <td>Document text 2. Another example text.</td>\n",
       "      <td>Title 2</td>\n",
       "      <td>Author 2</td>\n",
       "      <td>2023-08-18</td>\n",
       "    </tr>\n",
       "  </tbody>\n",
       "</table>\n",
       "</div>"
      ],
      "text/plain": [
       "                                      text    title    author        date\n",
       "0  Document text 1. This is a longer text.  Title 1  Author 1  2023-08-17\n",
       "1   Document text 2. Another example text.  Title 2  Author 2  2023-08-18"
      ]
     },
     "execution_count": 30,
     "metadata": {},
     "output_type": "execute_result"
    }
   ],
   "source": [
    "md"
   ]
  },
  {
   "cell_type": "code",
   "execution_count": 29,
   "id": "e3fd63d5-f7c3-4441-a695-54701e9a8aa6",
   "metadata": {},
   "outputs": [
    {
     "name": "stdout",
     "output_type": "stream",
     "text": [
      "Content: Document text 1. This is a longer text.\n",
      "Metadata: {'author': 'Author 1', 'date': '2023-08-17', 'title': 'Title 1'}\n",
      "----------------------------------------\n"
     ]
    }
   ],
   "source": [
    "# Print the results and their metadata\n",
    "for result in results:\n",
    "    print(\"Content:\", result.page_content)\n",
    "    print(\"Metadata:\", result.metadata)\n",
    "    print(\"-\" * 40)"
   ]
  },
  {
   "cell_type": "code",
   "execution_count": 31,
   "id": "1fc5444c-7ceb-4d4b-8f61-cb101933f93a",
   "metadata": {},
   "outputs": [
    {
     "name": "stderr",
     "output_type": "stream",
     "text": [
      "Number of requested results 4 is greater than number of elements in index 2, updating n_results = 2\n"
     ]
    },
    {
     "name": "stdout",
     "output_type": "stream",
     "text": [
      "Document text 2. Another example text.\n",
      "{'author': 'Author 2', 'date': '2023-08-18', 'title': 'Title 2'}\n",
      "Document text 1. This is a longer text.\n",
      "{'author': 'Author 1', 'date': '2023-08-17', 'title': 'Title 1'}\n"
     ]
    }
   ],
   "source": [
    "# Example query with metadata filtering\n",
    "query = \"Find documents related to text.\"\n",
    "results = chroma_store.similarity_search(query)\n",
    "\n",
    "# Print the filtered results\n",
    "for result in results:\n",
    "    print(result.page_content)\n",
    "    print(result.metadata)"
   ]
  },
  {
   "cell_type": "code",
   "execution_count": null,
   "id": "ad5296cc-7b11-4954-a966-5da079a3c250",
   "metadata": {},
   "outputs": [],
   "source": []
  },
  {
   "cell_type": "code",
   "execution_count": null,
   "id": "c9aa509c-d4cf-4c73-bcb2-d293108a9bd9",
   "metadata": {},
   "outputs": [],
   "source": []
  },
  {
   "cell_type": "code",
   "execution_count": null,
   "id": "9707d9cd-6a4e-4c9b-acaf-3931287e39e7",
   "metadata": {},
   "outputs": [],
   "source": []
  },
  {
   "cell_type": "code",
   "execution_count": null,
   "id": "1a7df9fd-84f3-4e57-9b64-d8e61ffb459b",
   "metadata": {},
   "outputs": [],
   "source": []
  },
  {
   "cell_type": "code",
   "execution_count": null,
   "id": "8b1230a3-7b23-48bf-aef3-98636c635d58",
   "metadata": {},
   "outputs": [],
   "source": []
  },
  {
   "cell_type": "code",
   "execution_count": null,
   "id": "c3364839-3237-40ba-b025-3522a11039a6",
   "metadata": {},
   "outputs": [],
   "source": []
  },
  {
   "cell_type": "code",
   "execution_count": 7,
   "id": "c27d79ba-c20a-49a3-9974-02b498f3d9e9",
   "metadata": {},
   "outputs": [],
   "source": [
    "import streamlit as st"
   ]
  },
  {
   "cell_type": "code",
   "execution_count": 13,
   "id": "111c78d3-41c1-443e-b8c7-bd90e4535778",
   "metadata": {},
   "outputs": [],
   "source": [
    "user = pd.read_csv('./BankChurners.csv')\n",
    "md = pd.read_pickle('./movies.pkl')"
   ]
  },
  {
   "cell_type": "code",
   "execution_count": 18,
   "id": "25476530-1493-4ac3-b23e-c75bed8ccf7f",
   "metadata": {},
   "outputs": [
    {
     "data": {
      "text/html": [
       "<div>\n",
       "<style scoped>\n",
       "    .dataframe tbody tr th:only-of-type {\n",
       "        vertical-align: middle;\n",
       "    }\n",
       "\n",
       "    .dataframe tbody tr th {\n",
       "        vertical-align: top;\n",
       "    }\n",
       "\n",
       "    .dataframe thead th {\n",
       "        text-align: right;\n",
       "    }\n",
       "</style>\n",
       "<table border=\"1\" class=\"dataframe\">\n",
       "  <thead>\n",
       "    <tr style=\"text-align: right;\">\n",
       "      <th></th>\n",
       "      <th>CLIENTNUM</th>\n",
       "      <th>Attrition_Flag</th>\n",
       "      <th>Customer_Age</th>\n",
       "      <th>Gender</th>\n",
       "      <th>Dependent_count</th>\n",
       "      <th>Education_Level</th>\n",
       "      <th>Marital_Status</th>\n",
       "      <th>Income_Category</th>\n",
       "      <th>Card_Category</th>\n",
       "      <th>Months_on_book</th>\n",
       "      <th>...</th>\n",
       "      <th>Credit_Limit</th>\n",
       "      <th>Total_Revolving_Bal</th>\n",
       "      <th>Avg_Open_To_Buy</th>\n",
       "      <th>Total_Amt_Chng_Q4_Q1</th>\n",
       "      <th>Total_Trans_Amt</th>\n",
       "      <th>Total_Trans_Ct</th>\n",
       "      <th>Total_Ct_Chng_Q4_Q1</th>\n",
       "      <th>Avg_Utilization_Ratio</th>\n",
       "      <th>Naive_Bayes_Classifier_Attrition_Flag_Card_Category_Contacts_Count_12_mon_Dependent_count_Education_Level_Months_Inactive_12_mon_1</th>\n",
       "      <th>Naive_Bayes_Classifier_Attrition_Flag_Card_Category_Contacts_Count_12_mon_Dependent_count_Education_Level_Months_Inactive_12_mon_2</th>\n",
       "    </tr>\n",
       "  </thead>\n",
       "  <tbody>\n",
       "    <tr>\n",
       "      <th>0</th>\n",
       "      <td>768805383</td>\n",
       "      <td>Existing Customer</td>\n",
       "      <td>45</td>\n",
       "      <td>M</td>\n",
       "      <td>3</td>\n",
       "      <td>High School</td>\n",
       "      <td>Married</td>\n",
       "      <td>$60K - $80K</td>\n",
       "      <td>Blue</td>\n",
       "      <td>39</td>\n",
       "      <td>...</td>\n",
       "      <td>12691.0</td>\n",
       "      <td>777</td>\n",
       "      <td>11914.0</td>\n",
       "      <td>1.335</td>\n",
       "      <td>1144</td>\n",
       "      <td>42</td>\n",
       "      <td>1.625</td>\n",
       "      <td>0.061</td>\n",
       "      <td>0.000093</td>\n",
       "      <td>0.99991</td>\n",
       "    </tr>\n",
       "  </tbody>\n",
       "</table>\n",
       "<p>1 rows × 23 columns</p>\n",
       "</div>"
      ],
      "text/plain": [
       "   CLIENTNUM     Attrition_Flag  Customer_Age Gender  Dependent_count  \\\n",
       "0  768805383  Existing Customer            45      M                3   \n",
       "\n",
       "  Education_Level Marital_Status Income_Category Card_Category  \\\n",
       "0     High School        Married     $60K - $80K          Blue   \n",
       "\n",
       "   Months_on_book  ...  Credit_Limit  Total_Revolving_Bal  Avg_Open_To_Buy  \\\n",
       "0              39  ...       12691.0                  777          11914.0   \n",
       "\n",
       "   Total_Amt_Chng_Q4_Q1  Total_Trans_Amt  Total_Trans_Ct  Total_Ct_Chng_Q4_Q1  \\\n",
       "0                 1.335             1144              42                1.625   \n",
       "\n",
       "   Avg_Utilization_Ratio  \\\n",
       "0                  0.061   \n",
       "\n",
       "   Naive_Bayes_Classifier_Attrition_Flag_Card_Category_Contacts_Count_12_mon_Dependent_count_Education_Level_Months_Inactive_12_mon_1  \\\n",
       "0                                           0.000093                                                                                    \n",
       "\n",
       "   Naive_Bayes_Classifier_Attrition_Flag_Card_Category_Contacts_Count_12_mon_Dependent_count_Education_Level_Months_Inactive_12_mon_2  \n",
       "0                                            0.99991                                                                                   \n",
       "\n",
       "[1 rows x 23 columns]"
      ]
     },
     "execution_count": 18,
     "metadata": {},
     "output_type": "execute_result"
    }
   ],
   "source": [
    "user.head(1)"
   ]
  },
  {
   "cell_type": "code",
   "execution_count": 19,
   "id": "5b5ec21a-437a-48f5-8f93-8c9b1f889db4",
   "metadata": {},
   "outputs": [
    {
     "data": {
      "text/html": [
       "<div>\n",
       "<style scoped>\n",
       "    .dataframe tbody tr th:only-of-type {\n",
       "        vertical-align: middle;\n",
       "    }\n",
       "\n",
       "    .dataframe tbody tr th {\n",
       "        vertical-align: top;\n",
       "    }\n",
       "\n",
       "    .dataframe thead th {\n",
       "        text-align: right;\n",
       "    }\n",
       "</style>\n",
       "<table border=\"1\" class=\"dataframe\">\n",
       "  <thead>\n",
       "    <tr style=\"text-align: right;\">\n",
       "      <th></th>\n",
       "      <th>genres</th>\n",
       "      <th>title</th>\n",
       "      <th>overview</th>\n",
       "      <th>weighted_rate</th>\n",
       "      <th>text</th>\n",
       "      <th>n_tokens</th>\n",
       "      <th>vector</th>\n",
       "    </tr>\n",
       "  </thead>\n",
       "  <tbody>\n",
       "    <tr>\n",
       "      <th>0</th>\n",
       "      <td>[Adventure, Action, Thriller]</td>\n",
       "      <td>GoldenEye</td>\n",
       "      <td>James Bond must unmask the mysterious head of ...</td>\n",
       "      <td>6.173464</td>\n",
       "      <td>Title: GoldenEye. Overview: James Bond must un...</td>\n",
       "      <td>59</td>\n",
       "      <td>[-0.02330085262656212, -0.01597847416996956, -...</td>\n",
       "    </tr>\n",
       "  </tbody>\n",
       "</table>\n",
       "</div>"
      ],
      "text/plain": [
       "                          genres      title  \\\n",
       "0  [Adventure, Action, Thriller]  GoldenEye   \n",
       "\n",
       "                                            overview  weighted_rate  \\\n",
       "0  James Bond must unmask the mysterious head of ...       6.173464   \n",
       "\n",
       "                                                text  n_tokens  \\\n",
       "0  Title: GoldenEye. Overview: James Bond must un...        59   \n",
       "\n",
       "                                              vector  \n",
       "0  [-0.02330085262656212, -0.01597847416996956, -...  "
      ]
     },
     "execution_count": 19,
     "metadata": {},
     "output_type": "execute_result"
    }
   ],
   "source": [
    "md.head(1)"
   ]
  },
  {
   "cell_type": "code",
   "execution_count": 14,
   "id": "442d8745-9326-4428-8709-468d3232b25c",
   "metadata": {},
   "outputs": [
    {
     "data": {
      "text/plain": [
       "array(['High School', 'Graduate', 'Uneducated', 'Unknown', 'College',\n",
       "       'Post-Graduate', 'Doctorate'], dtype=object)"
      ]
     },
     "execution_count": 14,
     "metadata": {},
     "output_type": "execute_result"
    }
   ],
   "source": [
    "user[\"Education_Level\"].unique()"
   ]
  },
  {
   "cell_type": "code",
   "execution_count": 15,
   "id": "b6d9b241-e2b7-4c10-b595-944b5ab64da1",
   "metadata": {},
   "outputs": [
    {
     "data": {
      "text/plain": [
       "array(['Adventure', 'Action', 'Thriller', 'Comedy', 'Horror', 'Crime',\n",
       "       'Science Fiction', 'Family', 'Fantasy', 'Animation', 'Drama',\n",
       "       'Romance', 'Music', 'Mystery', 'Western', 'Documentary', 'History',\n",
       "       'War', 'TV Movie', 'Foreign'], dtype=object)"
      ]
     },
     "execution_count": 15,
     "metadata": {},
     "output_type": "execute_result"
    }
   ],
   "source": [
    "md.explode('genres')[\"genres\"].unique()"
   ]
  },
  {
   "cell_type": "code",
   "execution_count": 22,
   "id": "f587ca7c-08d2-422d-aada-501b418f9414",
   "metadata": {},
   "outputs": [
    {
     "data": {
      "text/plain": [
       "array(['High School', 'Graduate', 'Uneducated', 'Unknown', 'College',\n",
       "       'Post-Graduate', 'Doctorate'], dtype=object)"
      ]
     },
     "execution_count": 22,
     "metadata": {},
     "output_type": "execute_result"
    }
   ],
   "source": [
    "user.explode('Education_Level')[\"Education_Level\"].unique()"
   ]
  },
  {
   "cell_type": "code",
   "execution_count": 24,
   "id": "12e0b3fc-6eb3-497d-9e5e-35a04a3b4eb1",
   "metadata": {},
   "outputs": [
    {
     "name": "stderr",
     "output_type": "stream",
     "text": [
      "2024-08-17 20:04:45.090 \n",
      "  \u001b[33m\u001b[1mWarning:\u001b[0m to view this Streamlit app on a browser, run it with the following\n",
      "  command:\n",
      "\n",
      "    streamlit run /Users/leiyu/opt/anaconda3/envs/myenv/lib/python3.10/site-packages/ipykernel_launcher.py [ARGUMENTS]\n"
     ]
    }
   ],
   "source": [
    "genre = st.sidebar.selectbox(\"What is your favourite movie genre?\", md.explode('genres')[\"genres\"].unique())"
   ]
  },
  {
   "cell_type": "code",
   "execution_count": 26,
   "id": "84383ccb-c409-4b44-8746-3ff0e12ce75c",
   "metadata": {},
   "outputs": [],
   "source": [
    "education = st.sidebar.selectbox(\"What is your education background?\", user.explode('Education_Level')[\"Education_Level\"].unique())"
   ]
  },
  {
   "cell_type": "code",
   "execution_count": null,
   "id": "031effd9-4516-4514-988c-c2803e7a76d8",
   "metadata": {},
   "outputs": [],
   "source": []
  },
  {
   "cell_type": "code",
   "execution_count": null,
   "id": "694025aa-5ed2-404d-92c8-adf4a8d575c5",
   "metadata": {},
   "outputs": [],
   "source": []
  },
  {
   "cell_type": "code",
   "execution_count": null,
   "id": "3a82f752-2e68-43a2-855b-92b3f5ca99df",
   "metadata": {},
   "outputs": [],
   "source": []
  },
  {
   "cell_type": "code",
   "execution_count": 1,
   "id": "fc9f1bbf-5ec1-4253-8688-354e65764c08",
   "metadata": {},
   "outputs": [],
   "source": [
    "!pip install -qU datasets ragas langchain langchain-mongodb langchain-openai \\\n",
    "pymongo pandas tqdm matplotlib seaborn"
   ]
  },
  {
   "cell_type": "code",
   "execution_count": null,
   "id": "5f14d129-f5bc-40c2-97be-64fa3307c5ca",
   "metadata": {},
   "outputs": [],
   "source": [
    "!pip install openai"
   ]
  },
  {
   "cell_type": "code",
   "execution_count": 1,
   "id": "932fdf76-1ff3-4eca-965a-9bec25cbea06",
   "metadata": {},
   "outputs": [
    {
     "name": "stdout",
     "output_type": "stream",
     "text": [
      "Requirement already satisfied: pymongo in /Users/leiyu/opt/anaconda3/envs/myenv/lib/python3.10/site-packages (4.8.0)\n",
      "Requirement already satisfied: dnspython<3.0.0,>=1.16.0 in /Users/leiyu/opt/anaconda3/envs/myenv/lib/python3.10/site-packages (from pymongo) (2.6.1)\n",
      "Note: you may need to restart the kernel to use updated packages.\n"
     ]
    }
   ],
   "source": [
    "pip install pymongo"
   ]
  },
  {
   "cell_type": "code",
   "execution_count": 1,
   "id": "87867635-b67a-44d2-bc38-1688fac30ed8",
   "metadata": {},
   "outputs": [],
   "source": [
    "import os\n",
    "import getpass\n",
    "from openai import OpenAI"
   ]
  },
  {
   "cell_type": "code",
   "execution_count": null,
   "id": "3397cde4-c03e-4734-b80a-04310f2b4f01",
   "metadata": {},
   "outputs": [],
   "source": [
    "os.environ[\"OPENAI_API_KEY\"] = getpass.getpass(\"Enter your OpenAI API Key:\")\n",
    "openai_client = OpenAI()"
   ]
  },
  {
   "cell_type": "code",
   "execution_count": null,
   "id": "b50f2b84-c25e-40a8-aa81-daa25479621d",
   "metadata": {},
   "outputs": [],
   "source": [
    "MONGODB_URI = getpass.getpass(\"Enter your MongoDB connection string:\")"
   ]
  },
  {
   "cell_type": "code",
   "execution_count": 4,
   "id": "58dd2853-7a79-4a36-a8fd-c8fe141cdc66",
   "metadata": {},
   "outputs": [
    {
     "name": "stdout",
     "output_type": "stream",
     "text": [
      "Pinged your deployment. You successfully connected to MongoDB!\n"
     ]
    }
   ],
   "source": [
    "from pymongo.mongo_client import MongoClient\n",
    "from pymongo.server_api import ServerApi\n",
    "# uri = \"mongodb+srv://meichuxi2008:<password>@cluster0.kc3ks.mongodb.net/?retryWrites=true&w=majority&appName=Cluster0\"\n",
    "\n",
    "# uri = MONGODB_URI\n",
    "# Create a new client and connect to the server\n",
    "client = MongoClient(uri, server_api=ServerApi('1'))\n",
    "# Send a ping to confirm a successful connection\n",
    "try:\n",
    "    client.admin.command('ping')\n",
    "    print(\"Pinged your deployment. You successfully connected to MongoDB!\")\n",
    "except Exception as e:\n",
    "    print(e)"
   ]
  },
  {
   "cell_type": "code",
   "execution_count": 5,
   "id": "73a51391-aa57-4fa2-a9d0-83a46404fe05",
   "metadata": {},
   "outputs": [
    {
     "name": "stderr",
     "output_type": "stream",
     "text": [
      "/Users/leiyu/opt/anaconda3/envs/myenv/lib/python3.10/site-packages/tqdm/auto.py:21: TqdmWarning: IProgress not found. Please update jupyter and ipywidgets. See https://ipywidgets.readthedocs.io/en/stable/user_install.html\n",
      "  from .autonotebook import tqdm as notebook_tqdm\n"
     ]
    }
   ],
   "source": [
    "from datasets import load_dataset\n",
    "import pandas as pd"
   ]
  },
  {
   "cell_type": "code",
   "execution_count": 6,
   "id": "7c89dc24-ef83-4651-8f0f-1441525f0862",
   "metadata": {},
   "outputs": [
    {
     "name": "stderr",
     "output_type": "stream",
     "text": [
      "Downloading readme: 100%|██████████████████████████████████████████████| 621/621 [00:00<00:00, 12.4kB/s]\n",
      "Downloading data: 100%|████████████████████████████████████████████| 1.15M/1.15M [00:00<00:00, 4.17MB/s]\n",
      "Generating train split: 100%|████████████████████████████████| 232/232 [00:00<00:00, 3718.20 examples/s]\n"
     ]
    }
   ],
   "source": [
    "data = load_dataset(\"explodinggradients/ragas-wikiqa\", split=\"train\")\n",
    "df = pd.DataFrame(data)"
   ]
  },
  {
   "cell_type": "code",
   "execution_count": 7,
   "id": "47f38f88-a801-42c5-95d6-1161414a458c",
   "metadata": {},
   "outputs": [
    {
     "data": {
      "text/html": [
       "<div>\n",
       "<style scoped>\n",
       "    .dataframe tbody tr th:only-of-type {\n",
       "        vertical-align: middle;\n",
       "    }\n",
       "\n",
       "    .dataframe tbody tr th {\n",
       "        vertical-align: top;\n",
       "    }\n",
       "\n",
       "    .dataframe thead th {\n",
       "        text-align: right;\n",
       "    }\n",
       "</style>\n",
       "<table border=\"1\" class=\"dataframe\">\n",
       "  <thead>\n",
       "    <tr style=\"text-align: right;\">\n",
       "      <th></th>\n",
       "      <th>question</th>\n",
       "      <th>correct_answer</th>\n",
       "      <th>incorrect_answer</th>\n",
       "      <th>question_id</th>\n",
       "      <th>generated_with_rag</th>\n",
       "      <th>context</th>\n",
       "      <th>generated_without_rag</th>\n",
       "    </tr>\n",
       "  </thead>\n",
       "  <tbody>\n",
       "    <tr>\n",
       "      <th>0</th>\n",
       "      <td>HOW AFRICAN AMERICANS WERE IMMIGRATED TO THE US</td>\n",
       "      <td>As such, African immigrants are to be distingu...</td>\n",
       "      <td>From the Immigration and Nationality Act of 19...</td>\n",
       "      <td>Q0</td>\n",
       "      <td>\\nAfrican Americans were immigrated to the Uni...</td>\n",
       "      <td>[African immigration to the United States refe...</td>\n",
       "      <td>African Americans were immigrated to the US in...</td>\n",
       "    </tr>\n",
       "  </tbody>\n",
       "</table>\n",
       "</div>"
      ],
      "text/plain": [
       "                                          question  \\\n",
       "0  HOW AFRICAN AMERICANS WERE IMMIGRATED TO THE US   \n",
       "\n",
       "                                      correct_answer  \\\n",
       "0  As such, African immigrants are to be distingu...   \n",
       "\n",
       "                                    incorrect_answer question_id  \\\n",
       "0  From the Immigration and Nationality Act of 19...          Q0   \n",
       "\n",
       "                                  generated_with_rag  \\\n",
       "0  \\nAfrican Americans were immigrated to the Uni...   \n",
       "\n",
       "                                             context  \\\n",
       "0  [African immigration to the United States refe...   \n",
       "\n",
       "                               generated_without_rag  \n",
       "0  African Americans were immigrated to the US in...  "
      ]
     },
     "execution_count": 7,
     "metadata": {},
     "output_type": "execute_result"
    }
   ],
   "source": [
    "df.head(1)"
   ]
  },
  {
   "cell_type": "code",
   "execution_count": 8,
   "id": "65777ade-3c3d-485c-bb1a-5fddb24a17ae",
   "metadata": {},
   "outputs": [
    {
     "data": {
      "text/plain": [
       "232"
      ]
     },
     "execution_count": 8,
     "metadata": {},
     "output_type": "execute_result"
    }
   ],
   "source": [
    "len(df)"
   ]
  },
  {
   "cell_type": "code",
   "execution_count": null,
   "id": "b2d9a78d-6e55-49cb-b7d2-4d035e239ad8",
   "metadata": {},
   "outputs": [],
   "source": []
  },
  {
   "cell_type": "code",
   "execution_count": 9,
   "id": "966bea2a-4065-4414-9b79-7c2b38d2fc1d",
   "metadata": {},
   "outputs": [],
   "source": [
    "from langchain.text_splitter import RecursiveCharacterTextSplitter\n",
    "from typing import List"
   ]
  },
  {
   "cell_type": "code",
   "execution_count": 10,
   "id": "49c1b029-271e-454c-a460-9180d52cf0c5",
   "metadata": {},
   "outputs": [],
   "source": [
    "# Split text by tokens using the tiktoken tokenizer\n",
    "text_splitter = RecursiveCharacterTextSplitter.from_tiktoken_encoder(\n",
    "    encoding_name=\"cl100k_base\", keep_separator=False, chunk_size=200, chunk_overlap=30\n",
    ")"
   ]
  },
  {
   "cell_type": "code",
   "execution_count": 11,
   "id": "22efad7b-62e2-4ed7-a84a-7fe5cb40b8c0",
   "metadata": {},
   "outputs": [],
   "source": [
    "def split_texts(texts: List[str]) -> List[str]:\n",
    "    \"\"\"\n",
    "    Split large texts into chunks\n",
    "\n",
    "    Args:\n",
    "        texts (List[str]): List of reference texts\n",
    "\n",
    "    Returns:\n",
    "        List[str]: List of chunked texts\n",
    "    \"\"\"\n",
    "    chunked_texts = []\n",
    "    for text in texts:\n",
    "        chunks = text_splitter.create_documents([text])\n",
    "        chunked_texts.extend([chunk.page_content for chunk in chunks])\n",
    "    return chunked_texts"
   ]
  },
  {
   "cell_type": "code",
   "execution_count": 12,
   "id": "0d6d2d0c-127c-4581-984b-987de786a217",
   "metadata": {},
   "outputs": [],
   "source": [
    "# Split the context field into chunks\n",
    "df[\"chunks\"] = df[\"context\"].apply(lambda x: split_texts(x))"
   ]
  },
  {
   "cell_type": "code",
   "execution_count": 13,
   "id": "9278ca2d-6762-47b4-bfc5-57e03d97fe45",
   "metadata": {},
   "outputs": [],
   "source": [
    "# Aggregate list of all chunks\n",
    "all_chunks = df[\"chunks\"].tolist()\n",
    "docs = [item for chunk in all_chunks for item in chunk]"
   ]
  },
  {
   "cell_type": "code",
   "execution_count": 14,
   "id": "85184938-9f02-4eb0-92fb-f62f66aae3f5",
   "metadata": {},
   "outputs": [
    {
     "data": {
      "text/plain": [
       "3795"
      ]
     },
     "execution_count": 14,
     "metadata": {},
     "output_type": "execute_result"
    }
   ],
   "source": [
    "len(docs)"
   ]
  },
  {
   "cell_type": "code",
   "execution_count": 15,
   "id": "78d86f7f-fae8-441b-a68d-10a6b288d100",
   "metadata": {},
   "outputs": [
    {
     "data": {
      "text/plain": [
       "'Figgis had problems because permits were not issued for some street scenes. This caused him to film some scenes on the Las Vegas strip in one take to avoid the police, which Figgis said benefited production and the authenticity of the acting, remarking \"I\\'ve always hated the convention of shooting on a street, and then having to stop the traffic, and then having to tell the actors, \\'Well, there\\'s meant to be traffic here, so you\\'re going to have to shout.\\' And they\\'re shouting, but it\\'s quiet and they feel really stupid, because it\\'s unnatural. You put them up against a couple of trucks, with it all happening around them, and their voices become great\". Filming took place over 28 days.'"
      ]
     },
     "execution_count": 15,
     "metadata": {},
     "output_type": "execute_result"
    }
   ],
   "source": [
    "docs[100]"
   ]
  },
  {
   "cell_type": "code",
   "execution_count": 16,
   "id": "4f2a3a00-2098-49c9-9b43-48dc4179824a",
   "metadata": {},
   "outputs": [],
   "source": [
    "from pymongo import MongoClient\n",
    "from tqdm.auto import tqdm"
   ]
  },
  {
   "cell_type": "code",
   "execution_count": 17,
   "id": "72b3ed1c-5469-4f41-b2b4-043f7136cb85",
   "metadata": {},
   "outputs": [],
   "source": [
    "def get_embeddings(docs: List[str], model: str) -> List[List[float]]:\n",
    "    \"\"\"\n",
    "    Generate embeddings using the OpenAI API.\n",
    "\n",
    "    Args:\n",
    "        docs (List[str]): List of texts to embed\n",
    "        model (str, optional): Model name. Defaults to \"text-embedding-3-large\".\n",
    "\n",
    "    Returns:\n",
    "        List[float]: Array of embeddings\n",
    "    \"\"\"\n",
    "    # replace newlines, which can negatively affect performance.\n",
    "    docs = [doc.replace(\"\\n\", \" \") for doc in docs]\n",
    "    response = openai_client.embeddings.create(input=docs, model=model)\n",
    "    response = [r.embedding for r in response.data]\n",
    "    return response"
   ]
  },
  {
   "cell_type": "code",
   "execution_count": 19,
   "id": "8f259923-7f5f-4d40-b70f-e652cd0a13e3",
   "metadata": {},
   "outputs": [],
   "source": [
    "MONGODB_URI = uri\n",
    "client = MongoClient(MONGODB_URI, appname=\"devrel.content.python\")\n",
    "DB_NAME = \"ragas_evals\"\n",
    "db = client[DB_NAME]"
   ]
  },
  {
   "cell_type": "code",
   "execution_count": 20,
   "id": "76c8d5f9-6e8b-41cd-84ba-8d4a184e6999",
   "metadata": {},
   "outputs": [],
   "source": [
    "batch_size = 128"
   ]
  },
  {
   "cell_type": "code",
   "execution_count": 21,
   "id": "d6391555-09ee-47b7-bcb1-ca111e70c95d",
   "metadata": {},
   "outputs": [],
   "source": [
    "EVAL_EMBEDDING_MODELS = [\"text-embedding-ada-002\", \"text-embedding-3-small\"]"
   ]
  },
  {
   "cell_type": "code",
   "execution_count": 23,
   "id": "91c078f8-3ff1-4d91-9e81-284105a64341",
   "metadata": {},
   "outputs": [],
   "source": [
    "openai_client = OpenAI()"
   ]
  },
  {
   "cell_type": "code",
   "execution_count": 24,
   "id": "967fa7ac-e5c5-42b8-a522-793ffba2605f",
   "metadata": {},
   "outputs": [
    {
     "name": "stdout",
     "output_type": "stream",
     "text": [
      "Getting embeddings for the text-embedding-ada-002 model\n"
     ]
    },
    {
     "name": "stderr",
     "output_type": "stream",
     "text": [
      "100%|███████████████████████████████████████████████████████████████████| 30/30 [00:20<00:00,  1.49it/s]\n"
     ]
    },
    {
     "name": "stdout",
     "output_type": "stream",
     "text": [
      "Finished getting embeddings for the text-embedding-ada-002 model\n",
      "Inserting embeddings for the text-embedding-ada-002 model\n",
      "Finished inserting embeddings for the text-embedding-ada-002 model\n",
      "Getting embeddings for the text-embedding-3-small model\n"
     ]
    },
    {
     "name": "stderr",
     "output_type": "stream",
     "text": [
      "100%|███████████████████████████████████████████████████████████████████| 30/30 [00:24<00:00,  1.24it/s]\n"
     ]
    },
    {
     "name": "stdout",
     "output_type": "stream",
     "text": [
      "Finished getting embeddings for the text-embedding-3-small model\n",
      "Inserting embeddings for the text-embedding-3-small model\n",
      "Finished inserting embeddings for the text-embedding-3-small model\n"
     ]
    }
   ],
   "source": [
    "for model in EVAL_EMBEDDING_MODELS:\n",
    "    embedded_docs = []\n",
    "    print(f\"Getting embeddings for the {model} model\")\n",
    "    for i in tqdm(range(0, len(docs), batch_size)):\n",
    "        end = min(len(docs), i + batch_size)\n",
    "        batch = docs[i:end]\n",
    "        # Generate embeddings for current batch\n",
    "        batch_embeddings = get_embeddings(batch, model)\n",
    "        # Creating the documents to ingest into MongoDB for current batch\n",
    "        batch_embedded_docs = [\n",
    "            {\"text\": batch[i], \"embedding\": batch_embeddings[i]}\n",
    "            for i in range(len(batch))\n",
    "        ]\n",
    "        embedded_docs.extend(batch_embedded_docs)\n",
    "    print(f\"Finished getting embeddings for the {model} model\")\n",
    "\n",
    "    # Bulk insert documents into a MongoDB collection\n",
    "    print(f\"Inserting embeddings for the {model} model\")\n",
    "    collection = db[model]\n",
    "    collection.delete_many({})\n",
    "    collection.insert_many(embedded_docs)\n",
    "    print(f\"Finished inserting embeddings for the {model} model\")"
   ]
  },
  {
   "cell_type": "code",
   "execution_count": 25,
   "id": "1679c769-78e6-4455-ac9e-c26cb62ec017",
   "metadata": {},
   "outputs": [],
   "source": [
    "from langchain_openai import OpenAIEmbeddings\n",
    "from langchain_mongodb import MongoDBAtlasVectorSearch\n",
    "from langchain_core.vectorstores import VectorStoreRetriever\n",
    "from datasets import Dataset\n",
    "from ragas import evaluate, RunConfig\n",
    "from ragas.metrics import context_precision, context_recall\n",
    "import nest_asyncio\n",
    "\n",
    "# Allow nested use of asyncio (used by RAGAS)\n",
    "nest_asyncio.apply()"
   ]
  },
  {
   "cell_type": "code",
   "execution_count": 26,
   "id": "f7a6444f-52f1-4f15-a13f-e396aeaa9262",
   "metadata": {},
   "outputs": [],
   "source": [
    "def get_retriever(model: str, k: int) -> VectorStoreRetriever:\n",
    "    \"\"\"\n",
    "    Given an embedding model and top k, get a vector store retriever object\n",
    "\n",
    "    Args:\n",
    "        model (str): Embedding model to use\n",
    "        k (int): Number of results to retrieve\n",
    "\n",
    "    Returns:\n",
    "        VectorStoreRetriever: A vector store retriever object\n",
    "    \"\"\"\n",
    "    embeddings = OpenAIEmbeddings(model=model)\n",
    "\n",
    "    vector_store = MongoDBAtlasVectorSearch.from_connection_string(\n",
    "        connection_string=MONGODB_URI,\n",
    "        namespace=f\"{DB_NAME}.{model}\",\n",
    "        embedding=embeddings,\n",
    "        index_name=\"vector_index\",\n",
    "        text_key=\"text\",\n",
    "    )\n",
    "\n",
    "    retriever = vector_store.as_retriever(\n",
    "        search_type=\"similarity\", search_kwargs={\"k\": k}\n",
    "    )\n",
    "    return retriever"
   ]
  },
  {
   "cell_type": "code",
   "execution_count": 27,
   "id": "f76eb2db-70d1-4771-bbb0-44ffdf6e8cff",
   "metadata": {},
   "outputs": [],
   "source": [
    "QUESTIONS = df[\"question\"].to_list()\n",
    "GROUND_TRUTH = df[\"correct_answer\"].tolist()"
   ]
  },
  {
   "cell_type": "code",
   "execution_count": 59,
   "id": "00ea71e3-87db-41e3-842d-014a577a1353",
   "metadata": {},
   "outputs": [
    {
     "data": {
      "text/plain": [
       "['text-embedding-ada-002', 'text-embedding-3-small']"
      ]
     },
     "execution_count": 59,
     "metadata": {},
     "output_type": "execute_result"
    }
   ],
   "source": [
    "EVAL_EMBEDDING_MODELS = ['text-embedding-ada-002', 'text-embedding-3-small']"
   ]
  },
  {
   "cell_type": "code",
   "execution_count": 79,
   "id": "1c14ddef-cfaa-4b13-8d67-54e5afdf7d24",
   "metadata": {},
   "outputs": [],
   "source": [
    "EVAL_EMBEDDING_MODELS = ['text-embedding-3-small']"
   ]
  },
  {
   "cell_type": "code",
   "execution_count": 80,
   "id": "c7ae149f-836d-40d5-be7e-d01aa3191b94",
   "metadata": {},
   "outputs": [
    {
     "name": "stderr",
     "output_type": "stream",
     "text": [
      "100%|█████████████████████████████████████████████████████████████████| 232/232 [00:56<00:00,  4.13it/s]\n"
     ]
    }
   ],
   "source": [
    "for model in EVAL_EMBEDDING_MODELS:\n",
    "    data = {\"question\": [], \"ground_truth\": [], \"contexts\": []}\n",
    "    data[\"question\"] = QUESTIONS\n",
    "    data[\"ground_truth\"] = GROUND_TRUTH\n",
    "    \n",
    "\n",
    "    # data = data.map(lambda x: {\n",
    "    #     \"id\": f'{x[\"id\"]}-{x[\"chunk-id\"]}',\n",
    "    #     \"text\": x[\"chunk\"],\n",
    "    #     \"metadata\": {\n",
    "    #         \"title\": x[\"title\"],\n",
    "    #         \"url\": x[\"source\"],\n",
    "    #         \"primary_category\": x[\"primary_category\"],\n",
    "    #         \"published\": x[\"published\"],\n",
    "    #         \"updated\": x[\"updated\"],\n",
    "    #         \"text\": x[\"chunk\"],\n",
    "    #     }\n",
    "    # })\n",
    "\n",
    "    retriever = get_retriever(model, 2)\n",
    "    # Getting relevant documents for the evaluation dataset\n",
    "    for question in tqdm(QUESTIONS):\n",
    "        data[\"contexts\"].append(\n",
    "            [doc.page_content for doc in retriever.get_relevant_documents(question)]\n",
    "        )\n",
    "        # \"contexts\": DF[\"chain_context\"].apply(lambda x: [x])\n",
    "    # RAGAS expects a Dataset object\n",
    "    dataset = Dataset.from_dict(data)"
   ]
  },
  {
   "cell_type": "code",
   "execution_count": 81,
   "id": "26a5d71e-8d4e-4d6b-b14e-d51295768b9a",
   "metadata": {},
   "outputs": [
    {
     "data": {
      "text/plain": [
       "Dataset({\n",
       "    features: ['question', 'ground_truth', 'contexts'],\n",
       "    num_rows: 232\n",
       "})"
      ]
     },
     "execution_count": 81,
     "metadata": {},
     "output_type": "execute_result"
    }
   ],
   "source": [
    "dataset"
   ]
  },
  {
   "cell_type": "code",
   "execution_count": 82,
   "id": "0787c8b6-a886-4698-851c-9fb6ffab71e9",
   "metadata": {},
   "outputs": [
    {
     "data": {
      "text/plain": [
       "{'question': Value(dtype='string', id=None),\n",
       " 'ground_truth': Value(dtype='string', id=None),\n",
       " 'contexts': Sequence(feature=Value(dtype='null', id=None), length=-1, id=None)}"
      ]
     },
     "execution_count": 82,
     "metadata": {},
     "output_type": "execute_result"
    }
   ],
   "source": [
    "dataset.features"
   ]
  },
  {
   "cell_type": "code",
   "execution_count": 83,
   "id": "cc60c6fd-757c-4b03-8520-a2ccf84c4964",
   "metadata": {},
   "outputs": [
    {
     "data": {
      "text/plain": [
       "Sequence(feature=Value(dtype='null', id=None), length=-1, id=None)"
      ]
     },
     "execution_count": 83,
     "metadata": {},
     "output_type": "execute_result"
    }
   ],
   "source": [
    "dataset.features['contexts']"
   ]
  },
  {
   "cell_type": "code",
   "execution_count": 84,
   "id": "c68a0165-7eec-465e-880a-754d56dc0c0b",
   "metadata": {},
   "outputs": [
    {
     "data": {
      "text/plain": [
       "{'question': 'how many days are in a leap year',\n",
       " 'ground_truth': 'For example, in the Gregorian calendar (a common solar calendar), February in a leap year has 29 days instead of the usual 28, so the year lasts 366 days instead of the usual 365.',\n",
       " 'contexts': []}"
      ]
     },
     "execution_count": 84,
     "metadata": {},
     "output_type": "execute_result"
    }
   ],
   "source": [
    "dataset[201]"
   ]
  },
  {
   "cell_type": "code",
   "execution_count": 85,
   "id": "eb04cd17-fa3c-4789-9bb3-70e11dff4b06",
   "metadata": {},
   "outputs": [
    {
     "ename": "ValueError",
     "evalue": "Dataset feature \"contexts\" should be of type Sequence[string], got <class 'datasets.features.features.Sequence'>",
     "output_type": "error",
     "traceback": [
      "\u001b[0;31m---------------------------------------------------------------------------\u001b[0m",
      "\u001b[0;31mValueError\u001b[0m                                Traceback (most recent call last)",
      "Input \u001b[0;32mIn [85]\u001b[0m, in \u001b[0;36m<cell line: 3>\u001b[0;34m()\u001b[0m\n\u001b[1;32m      1\u001b[0m \u001b[38;5;66;03m# RAGAS runtime settings to avoid hitting OpenAI rate limits\u001b[39;00m\n\u001b[1;32m      2\u001b[0m run_config \u001b[38;5;241m=\u001b[39m RunConfig(max_workers\u001b[38;5;241m=\u001b[39m\u001b[38;5;241m4\u001b[39m, max_wait\u001b[38;5;241m=\u001b[39m\u001b[38;5;241m180\u001b[39m)\n\u001b[0;32m----> 3\u001b[0m result \u001b[38;5;241m=\u001b[39m \u001b[43mevaluate\u001b[49m\u001b[43m(\u001b[49m\n\u001b[1;32m      4\u001b[0m \u001b[43m    \u001b[49m\u001b[43mdataset\u001b[49m\u001b[38;5;241;43m=\u001b[39;49m\u001b[43mdataset\u001b[49m\u001b[43m,\u001b[49m\n\u001b[1;32m      5\u001b[0m \u001b[43m    \u001b[49m\u001b[43mmetrics\u001b[49m\u001b[38;5;241;43m=\u001b[39;49m\u001b[43m[\u001b[49m\u001b[43mcontext_precision\u001b[49m\u001b[43m,\u001b[49m\u001b[43m \u001b[49m\u001b[43mcontext_recall\u001b[49m\u001b[43m]\u001b[49m\u001b[43m,\u001b[49m\n\u001b[1;32m      6\u001b[0m \u001b[43m    \u001b[49m\u001b[43mrun_config\u001b[49m\u001b[38;5;241;43m=\u001b[39;49m\u001b[43mrun_config\u001b[49m\u001b[43m,\u001b[49m\n\u001b[1;32m      7\u001b[0m \u001b[43m    \u001b[49m\u001b[43mraise_exceptions\u001b[49m\u001b[38;5;241;43m=\u001b[39;49m\u001b[38;5;28;43;01mFalse\u001b[39;49;00m\u001b[43m,\u001b[49m\n\u001b[1;32m      8\u001b[0m \u001b[43m)\u001b[49m\n\u001b[1;32m      9\u001b[0m \u001b[38;5;28mprint\u001b[39m(\u001b[38;5;124mf\u001b[39m\u001b[38;5;124m\"\u001b[39m\u001b[38;5;124mResult for the \u001b[39m\u001b[38;5;132;01m{\u001b[39;00mmodel\u001b[38;5;132;01m}\u001b[39;00m\u001b[38;5;124m model: \u001b[39m\u001b[38;5;132;01m{\u001b[39;00mresult\u001b[38;5;132;01m}\u001b[39;00m\u001b[38;5;124m\"\u001b[39m)\n",
      "File \u001b[0;32m~/opt/anaconda3/envs/myenv/lib/python3.10/site-packages/ragas/_analytics.py:129\u001b[0m, in \u001b[0;36mtrack_was_completed.<locals>.wrapper\u001b[0;34m(*args, **kwargs)\u001b[0m\n\u001b[1;32m    126\u001b[0m \u001b[38;5;129m@wraps\u001b[39m(func)\n\u001b[1;32m    127\u001b[0m \u001b[38;5;28;01mdef\u001b[39;00m \u001b[38;5;21mwrapper\u001b[39m(\u001b[38;5;241m*\u001b[39margs: P\u001b[38;5;241m.\u001b[39margs, \u001b[38;5;241m*\u001b[39m\u001b[38;5;241m*\u001b[39mkwargs: P\u001b[38;5;241m.\u001b[39mkwargs) \u001b[38;5;241m-\u001b[39m\u001b[38;5;241m>\u001b[39m t\u001b[38;5;241m.\u001b[39mAny:\n\u001b[1;32m    128\u001b[0m     track(IsCompleteEvent(event_type\u001b[38;5;241m=\u001b[39mfunc\u001b[38;5;241m.\u001b[39m\u001b[38;5;18m__name__\u001b[39m, is_completed\u001b[38;5;241m=\u001b[39m\u001b[38;5;28;01mFalse\u001b[39;00m))\n\u001b[0;32m--> 129\u001b[0m     result \u001b[38;5;241m=\u001b[39m \u001b[43mfunc\u001b[49m\u001b[43m(\u001b[49m\u001b[38;5;241;43m*\u001b[39;49m\u001b[43margs\u001b[49m\u001b[43m,\u001b[49m\u001b[43m \u001b[49m\u001b[38;5;241;43m*\u001b[39;49m\u001b[38;5;241;43m*\u001b[39;49m\u001b[43mkwargs\u001b[49m\u001b[43m)\u001b[49m\n\u001b[1;32m    130\u001b[0m     track(IsCompleteEvent(event_type\u001b[38;5;241m=\u001b[39mfunc\u001b[38;5;241m.\u001b[39m\u001b[38;5;18m__name__\u001b[39m, is_completed\u001b[38;5;241m=\u001b[39m\u001b[38;5;28;01mTrue\u001b[39;00m))\n\u001b[1;32m    132\u001b[0m     \u001b[38;5;28;01mreturn\u001b[39;00m result\n",
      "File \u001b[0;32m~/opt/anaconda3/envs/myenv/lib/python3.10/site-packages/ragas/evaluation.py:165\u001b[0m, in \u001b[0;36mevaluate\u001b[0;34m(dataset, metrics, llm, embeddings, callbacks, in_ci, run_config, token_usage_parser, raise_exceptions, column_map)\u001b[0m\n\u001b[1;32m    163\u001b[0m dataset \u001b[38;5;241m=\u001b[39m handle_deprecated_ground_truths(dataset)\n\u001b[1;32m    164\u001b[0m validate_evaluation_modes(dataset, metrics)\n\u001b[0;32m--> 165\u001b[0m \u001b[43mvalidate_column_dtypes\u001b[49m\u001b[43m(\u001b[49m\u001b[43mdataset\u001b[49m\u001b[43m)\u001b[49m\n\u001b[1;32m    167\u001b[0m \u001b[38;5;66;03m# set the llm and embeddings\u001b[39;00m\n\u001b[1;32m    168\u001b[0m \u001b[38;5;28;01mif\u001b[39;00m \u001b[38;5;28misinstance\u001b[39m(llm, LangchainLLM):\n",
      "File \u001b[0;32m~/opt/anaconda3/envs/myenv/lib/python3.10/site-packages/ragas/validation.py:56\u001b[0m, in \u001b[0;36mvalidate_column_dtypes\u001b[0;34m(ds)\u001b[0m\n\u001b[1;32m     51\u001b[0m \u001b[38;5;28;01mif\u001b[39;00m column_names \u001b[38;5;129;01min\u001b[39;00m ds\u001b[38;5;241m.\u001b[39mfeatures:\n\u001b[1;32m     52\u001b[0m     \u001b[38;5;28;01mif\u001b[39;00m \u001b[38;5;129;01mnot\u001b[39;00m (\n\u001b[1;32m     53\u001b[0m         \u001b[38;5;28misinstance\u001b[39m(ds\u001b[38;5;241m.\u001b[39mfeatures[column_names], Sequence)\n\u001b[1;32m     54\u001b[0m         \u001b[38;5;129;01mand\u001b[39;00m ds\u001b[38;5;241m.\u001b[39mfeatures[column_names]\u001b[38;5;241m.\u001b[39mfeature\u001b[38;5;241m.\u001b[39mdtype \u001b[38;5;241m==\u001b[39m \u001b[38;5;124m\"\u001b[39m\u001b[38;5;124mstring\u001b[39m\u001b[38;5;124m\"\u001b[39m\n\u001b[1;32m     55\u001b[0m     ):\n\u001b[0;32m---> 56\u001b[0m         \u001b[38;5;28;01mraise\u001b[39;00m \u001b[38;5;167;01mValueError\u001b[39;00m(\n\u001b[1;32m     57\u001b[0m             \u001b[38;5;124mf\u001b[39m\u001b[38;5;124m'\u001b[39m\u001b[38;5;124mDataset feature \u001b[39m\u001b[38;5;124m\"\u001b[39m\u001b[38;5;132;01m{\u001b[39;00mcolumn_names\u001b[38;5;132;01m}\u001b[39;00m\u001b[38;5;124m\"\u001b[39m\u001b[38;5;124m should be of type\u001b[39m\u001b[38;5;124m'\u001b[39m\n\u001b[1;32m     58\u001b[0m             \u001b[38;5;124mf\u001b[39m\u001b[38;5;124m\"\u001b[39m\u001b[38;5;124m Sequence[string], got \u001b[39m\u001b[38;5;132;01m{\u001b[39;00m\u001b[38;5;28mtype\u001b[39m(ds\u001b[38;5;241m.\u001b[39mfeatures[column_names])\u001b[38;5;132;01m}\u001b[39;00m\u001b[38;5;124m\"\u001b[39m\n\u001b[1;32m     59\u001b[0m         )\n",
      "\u001b[0;31mValueError\u001b[0m: Dataset feature \"contexts\" should be of type Sequence[string], got <class 'datasets.features.features.Sequence'>"
     ]
    }
   ],
   "source": [
    "# RAGAS runtime settings to avoid hitting OpenAI rate limits\n",
    "run_config = RunConfig(max_workers=4, max_wait=180)\n",
    "result = evaluate(\n",
    "    dataset=dataset,\n",
    "    metrics=[context_precision, context_recall],\n",
    "    run_config=run_config,\n",
    "    raise_exceptions=False,\n",
    ")\n",
    "print(f\"Result for the {model} model: {result}\")"
   ]
  },
  {
   "cell_type": "code",
   "execution_count": 36,
   "id": "d70de006-a4a4-4ba2-82c8-f5ebb728d0db",
   "metadata": {},
   "outputs": [
    {
     "name": "stderr",
     "output_type": "stream",
     "text": [
      "100%|█████████████████████████████████████████████████████████████████| 232/232 [00:51<00:00,  4.50it/s]\n"
     ]
    },
    {
     "ename": "ValueError",
     "evalue": "Dataset feature \"contexts\" should be of type Sequence[string], got <class 'datasets.features.features.Sequence'>",
     "output_type": "error",
     "traceback": [
      "\u001b[0;31m---------------------------------------------------------------------------\u001b[0m",
      "\u001b[0;31mValueError\u001b[0m                                Traceback (most recent call last)",
      "Input \u001b[0;32mIn [36]\u001b[0m, in \u001b[0;36m<cell line: 1>\u001b[0;34m()\u001b[0m\n\u001b[1;32m     15\u001b[0m \u001b[38;5;66;03m# RAGAS runtime settings to avoid hitting OpenAI rate limits\u001b[39;00m\n\u001b[1;32m     16\u001b[0m run_config \u001b[38;5;241m=\u001b[39m RunConfig(max_workers\u001b[38;5;241m=\u001b[39m\u001b[38;5;241m4\u001b[39m, max_wait\u001b[38;5;241m=\u001b[39m\u001b[38;5;241m180\u001b[39m)\n\u001b[0;32m---> 17\u001b[0m result \u001b[38;5;241m=\u001b[39m \u001b[43mevaluate\u001b[49m\u001b[43m(\u001b[49m\n\u001b[1;32m     18\u001b[0m \u001b[43m    \u001b[49m\u001b[43mdataset\u001b[49m\u001b[38;5;241;43m=\u001b[39;49m\u001b[43mdataset\u001b[49m\u001b[43m,\u001b[49m\n\u001b[1;32m     19\u001b[0m \u001b[43m    \u001b[49m\u001b[43mmetrics\u001b[49m\u001b[38;5;241;43m=\u001b[39;49m\u001b[43m[\u001b[49m\u001b[43mcontext_precision\u001b[49m\u001b[43m,\u001b[49m\u001b[43m \u001b[49m\u001b[43mcontext_recall\u001b[49m\u001b[43m]\u001b[49m\u001b[43m,\u001b[49m\n\u001b[1;32m     20\u001b[0m \u001b[43m    \u001b[49m\u001b[43mrun_config\u001b[49m\u001b[38;5;241;43m=\u001b[39;49m\u001b[43mrun_config\u001b[49m\u001b[43m,\u001b[49m\n\u001b[1;32m     21\u001b[0m \u001b[43m    \u001b[49m\u001b[43mraise_exceptions\u001b[49m\u001b[38;5;241;43m=\u001b[39;49m\u001b[38;5;28;43;01mFalse\u001b[39;49;00m\u001b[43m,\u001b[49m\n\u001b[1;32m     22\u001b[0m \u001b[43m\u001b[49m\u001b[43m)\u001b[49m\n\u001b[1;32m     23\u001b[0m \u001b[38;5;28mprint\u001b[39m(\u001b[38;5;124mf\u001b[39m\u001b[38;5;124m\"\u001b[39m\u001b[38;5;124mResult for the \u001b[39m\u001b[38;5;132;01m{\u001b[39;00mmodel\u001b[38;5;132;01m}\u001b[39;00m\u001b[38;5;124m model: \u001b[39m\u001b[38;5;132;01m{\u001b[39;00mresult\u001b[38;5;132;01m}\u001b[39;00m\u001b[38;5;124m\"\u001b[39m)\n",
      "File \u001b[0;32m~/opt/anaconda3/envs/myenv/lib/python3.10/site-packages/ragas/_analytics.py:129\u001b[0m, in \u001b[0;36mtrack_was_completed.<locals>.wrapper\u001b[0;34m(*args, **kwargs)\u001b[0m\n\u001b[1;32m    126\u001b[0m \u001b[38;5;129m@wraps\u001b[39m(func)\n\u001b[1;32m    127\u001b[0m \u001b[38;5;28;01mdef\u001b[39;00m \u001b[38;5;21mwrapper\u001b[39m(\u001b[38;5;241m*\u001b[39margs: P\u001b[38;5;241m.\u001b[39margs, \u001b[38;5;241m*\u001b[39m\u001b[38;5;241m*\u001b[39mkwargs: P\u001b[38;5;241m.\u001b[39mkwargs) \u001b[38;5;241m-\u001b[39m\u001b[38;5;241m>\u001b[39m t\u001b[38;5;241m.\u001b[39mAny:\n\u001b[1;32m    128\u001b[0m     track(IsCompleteEvent(event_type\u001b[38;5;241m=\u001b[39mfunc\u001b[38;5;241m.\u001b[39m\u001b[38;5;18m__name__\u001b[39m, is_completed\u001b[38;5;241m=\u001b[39m\u001b[38;5;28;01mFalse\u001b[39;00m))\n\u001b[0;32m--> 129\u001b[0m     result \u001b[38;5;241m=\u001b[39m \u001b[43mfunc\u001b[49m\u001b[43m(\u001b[49m\u001b[38;5;241;43m*\u001b[39;49m\u001b[43margs\u001b[49m\u001b[43m,\u001b[49m\u001b[43m \u001b[49m\u001b[38;5;241;43m*\u001b[39;49m\u001b[38;5;241;43m*\u001b[39;49m\u001b[43mkwargs\u001b[49m\u001b[43m)\u001b[49m\n\u001b[1;32m    130\u001b[0m     track(IsCompleteEvent(event_type\u001b[38;5;241m=\u001b[39mfunc\u001b[38;5;241m.\u001b[39m\u001b[38;5;18m__name__\u001b[39m, is_completed\u001b[38;5;241m=\u001b[39m\u001b[38;5;28;01mTrue\u001b[39;00m))\n\u001b[1;32m    132\u001b[0m     \u001b[38;5;28;01mreturn\u001b[39;00m result\n",
      "File \u001b[0;32m~/opt/anaconda3/envs/myenv/lib/python3.10/site-packages/ragas/evaluation.py:165\u001b[0m, in \u001b[0;36mevaluate\u001b[0;34m(dataset, metrics, llm, embeddings, callbacks, in_ci, run_config, token_usage_parser, raise_exceptions, column_map)\u001b[0m\n\u001b[1;32m    163\u001b[0m dataset \u001b[38;5;241m=\u001b[39m handle_deprecated_ground_truths(dataset)\n\u001b[1;32m    164\u001b[0m validate_evaluation_modes(dataset, metrics)\n\u001b[0;32m--> 165\u001b[0m \u001b[43mvalidate_column_dtypes\u001b[49m\u001b[43m(\u001b[49m\u001b[43mdataset\u001b[49m\u001b[43m)\u001b[49m\n\u001b[1;32m    167\u001b[0m \u001b[38;5;66;03m# set the llm and embeddings\u001b[39;00m\n\u001b[1;32m    168\u001b[0m \u001b[38;5;28;01mif\u001b[39;00m \u001b[38;5;28misinstance\u001b[39m(llm, LangchainLLM):\n",
      "File \u001b[0;32m~/opt/anaconda3/envs/myenv/lib/python3.10/site-packages/ragas/validation.py:56\u001b[0m, in \u001b[0;36mvalidate_column_dtypes\u001b[0;34m(ds)\u001b[0m\n\u001b[1;32m     51\u001b[0m \u001b[38;5;28;01mif\u001b[39;00m column_names \u001b[38;5;129;01min\u001b[39;00m ds\u001b[38;5;241m.\u001b[39mfeatures:\n\u001b[1;32m     52\u001b[0m     \u001b[38;5;28;01mif\u001b[39;00m \u001b[38;5;129;01mnot\u001b[39;00m (\n\u001b[1;32m     53\u001b[0m         \u001b[38;5;28misinstance\u001b[39m(ds\u001b[38;5;241m.\u001b[39mfeatures[column_names], Sequence)\n\u001b[1;32m     54\u001b[0m         \u001b[38;5;129;01mand\u001b[39;00m ds\u001b[38;5;241m.\u001b[39mfeatures[column_names]\u001b[38;5;241m.\u001b[39mfeature\u001b[38;5;241m.\u001b[39mdtype \u001b[38;5;241m==\u001b[39m \u001b[38;5;124m\"\u001b[39m\u001b[38;5;124mstring\u001b[39m\u001b[38;5;124m\"\u001b[39m\n\u001b[1;32m     55\u001b[0m     ):\n\u001b[0;32m---> 56\u001b[0m         \u001b[38;5;28;01mraise\u001b[39;00m \u001b[38;5;167;01mValueError\u001b[39;00m(\n\u001b[1;32m     57\u001b[0m             \u001b[38;5;124mf\u001b[39m\u001b[38;5;124m'\u001b[39m\u001b[38;5;124mDataset feature \u001b[39m\u001b[38;5;124m\"\u001b[39m\u001b[38;5;132;01m{\u001b[39;00mcolumn_names\u001b[38;5;132;01m}\u001b[39;00m\u001b[38;5;124m\"\u001b[39m\u001b[38;5;124m should be of type\u001b[39m\u001b[38;5;124m'\u001b[39m\n\u001b[1;32m     58\u001b[0m             \u001b[38;5;124mf\u001b[39m\u001b[38;5;124m\"\u001b[39m\u001b[38;5;124m Sequence[string], got \u001b[39m\u001b[38;5;132;01m{\u001b[39;00m\u001b[38;5;28mtype\u001b[39m(ds\u001b[38;5;241m.\u001b[39mfeatures[column_names])\u001b[38;5;132;01m}\u001b[39;00m\u001b[38;5;124m\"\u001b[39m\n\u001b[1;32m     59\u001b[0m         )\n",
      "\u001b[0;31mValueError\u001b[0m: Dataset feature \"contexts\" should be of type Sequence[string], got <class 'datasets.features.features.Sequence'>"
     ]
    }
   ],
   "source": [
    "    # RAGAS runtime settings to avoid hitting OpenAI rate limits\n",
    "    run_config = RunConfig(max_workers=4, max_wait=180)\n",
    "    result = evaluate(\n",
    "        dataset=dataset,\n",
    "        metrics=[context_precision, context_recall],\n",
    "        run_config=run_config,\n",
    "        raise_exceptions=False,\n",
    "    )\n",
    "    print(f\"Result for the {model} model: {result}\")"
   ]
  },
  {
   "cell_type": "code",
   "execution_count": 29,
   "id": "9def18d2-54ae-4fa7-bc18-3bfc2abf16df",
   "metadata": {},
   "outputs": [],
   "source": [
    "from langchain_openai import ChatOpenAI\n",
    "from langchain_core.prompts import ChatPromptTemplate\n",
    "from langchain_core.runnables import RunnablePassthrough\n",
    "from langchain_core.runnables.base import RunnableSequence\n",
    "from langchain_core.output_parsers import StrOutputParser\n",
    "from ragas.metrics import faithfulness, answer_relevancy"
   ]
  },
  {
   "cell_type": "code",
   "execution_count": 30,
   "id": "87fc3c76-4768-4bbf-b1bd-8ec20ddcaf4a",
   "metadata": {},
   "outputs": [],
   "source": [
    "def get_rag_chain(retriever: VectorStoreRetriever, model: str) -> RunnableSequence:\n",
    "    \"\"\"\n",
    "    Create a basic RAG chain\n",
    "\n",
    "    Args:\n",
    "        retriever (VectorStoreRetriever): Vector store retriever object\n",
    "        model (str): Chat completion model to use\n",
    "\n",
    "    Returns:\n",
    "        RunnableSequence: A RAG chain\n",
    "    \"\"\"\n",
    "    # Generate context using the retriever, and pass the user question through\n",
    "    retrieve = {\n",
    "        \"context\": retriever\n",
    "        | (lambda docs: \"\\n\\n\".join([d.page_content for d in docs])),\n",
    "        \"question\": RunnablePassthrough(),\n",
    "    }\n",
    "    template = \"\"\"Answer the question based only on the following context: \\\n",
    "    {context}\n",
    "\n",
    "    Question: {question}\n",
    "    \"\"\"\n",
    "    # Defining the chat prompt\n",
    "    prompt = ChatPromptTemplate.from_template(template)\n",
    "    # Defining the model to be used for chat completion\n",
    "    llm = ChatOpenAI(temperature=0, model=model)\n",
    "    # Parse output as a string\n",
    "    parse_output = StrOutputParser()\n",
    "\n",
    "    # Naive RAG chain\n",
    "    rag_chain = retrieve | prompt | llm | parse_output\n",
    "    return rag_chain"
   ]
  },
  {
   "cell_type": "code",
   "execution_count": 31,
   "id": "d1e65a54-9bf7-4c58-97b9-20d223cda005",
   "metadata": {},
   "outputs": [
    {
     "name": "stderr",
     "output_type": "stream",
     "text": [
      "100%|█████████████████████████████████████████████████████████████████| 232/232 [04:29<00:00,  1.16s/it]\n"
     ]
    },
    {
     "ename": "ValueError",
     "evalue": "Dataset feature \"contexts\" should be of type Sequence[string], got <class 'datasets.features.features.Sequence'>",
     "output_type": "error",
     "traceback": [
      "\u001b[0;31m---------------------------------------------------------------------------\u001b[0m",
      "\u001b[0;31mValueError\u001b[0m                                Traceback (most recent call last)",
      "Input \u001b[0;32mIn [31]\u001b[0m, in \u001b[0;36m<cell line: 1>\u001b[0;34m()\u001b[0m\n\u001b[1;32m     15\u001b[0m \u001b[38;5;66;03m# RAGAS runtime settings to avoid hitting OpenAI rate limits\u001b[39;00m\n\u001b[1;32m     16\u001b[0m run_config \u001b[38;5;241m=\u001b[39m RunConfig(max_workers\u001b[38;5;241m=\u001b[39m\u001b[38;5;241m4\u001b[39m, max_wait\u001b[38;5;241m=\u001b[39m\u001b[38;5;241m180\u001b[39m)\n\u001b[0;32m---> 17\u001b[0m result \u001b[38;5;241m=\u001b[39m \u001b[43mevaluate\u001b[49m\u001b[43m(\u001b[49m\n\u001b[1;32m     18\u001b[0m \u001b[43m    \u001b[49m\u001b[43mdataset\u001b[49m\u001b[38;5;241;43m=\u001b[39;49m\u001b[43mdataset\u001b[49m\u001b[43m,\u001b[49m\n\u001b[1;32m     19\u001b[0m \u001b[43m    \u001b[49m\u001b[43mmetrics\u001b[49m\u001b[38;5;241;43m=\u001b[39;49m\u001b[43m[\u001b[49m\u001b[43mfaithfulness\u001b[49m\u001b[43m,\u001b[49m\u001b[43m \u001b[49m\u001b[43manswer_relevancy\u001b[49m\u001b[43m]\u001b[49m\u001b[43m,\u001b[49m\n\u001b[1;32m     20\u001b[0m \u001b[43m    \u001b[49m\u001b[43mrun_config\u001b[49m\u001b[38;5;241;43m=\u001b[39;49m\u001b[43mrun_config\u001b[49m\u001b[43m,\u001b[49m\n\u001b[1;32m     21\u001b[0m \u001b[43m    \u001b[49m\u001b[43mraise_exceptions\u001b[49m\u001b[38;5;241;43m=\u001b[39;49m\u001b[38;5;28;43;01mFalse\u001b[39;49;00m\u001b[43m,\u001b[49m\n\u001b[1;32m     22\u001b[0m \u001b[43m\u001b[49m\u001b[43m)\u001b[49m\n\u001b[1;32m     23\u001b[0m \u001b[38;5;28mprint\u001b[39m(\u001b[38;5;124mf\u001b[39m\u001b[38;5;124m\"\u001b[39m\u001b[38;5;124mResult for the \u001b[39m\u001b[38;5;132;01m{\u001b[39;00mmodel\u001b[38;5;132;01m}\u001b[39;00m\u001b[38;5;124m model: \u001b[39m\u001b[38;5;132;01m{\u001b[39;00mresult\u001b[38;5;132;01m}\u001b[39;00m\u001b[38;5;124m\"\u001b[39m)\n",
      "File \u001b[0;32m~/opt/anaconda3/envs/myenv/lib/python3.10/site-packages/ragas/_analytics.py:129\u001b[0m, in \u001b[0;36mtrack_was_completed.<locals>.wrapper\u001b[0;34m(*args, **kwargs)\u001b[0m\n\u001b[1;32m    126\u001b[0m \u001b[38;5;129m@wraps\u001b[39m(func)\n\u001b[1;32m    127\u001b[0m \u001b[38;5;28;01mdef\u001b[39;00m \u001b[38;5;21mwrapper\u001b[39m(\u001b[38;5;241m*\u001b[39margs: P\u001b[38;5;241m.\u001b[39margs, \u001b[38;5;241m*\u001b[39m\u001b[38;5;241m*\u001b[39mkwargs: P\u001b[38;5;241m.\u001b[39mkwargs) \u001b[38;5;241m-\u001b[39m\u001b[38;5;241m>\u001b[39m t\u001b[38;5;241m.\u001b[39mAny:\n\u001b[1;32m    128\u001b[0m     track(IsCompleteEvent(event_type\u001b[38;5;241m=\u001b[39mfunc\u001b[38;5;241m.\u001b[39m\u001b[38;5;18m__name__\u001b[39m, is_completed\u001b[38;5;241m=\u001b[39m\u001b[38;5;28;01mFalse\u001b[39;00m))\n\u001b[0;32m--> 129\u001b[0m     result \u001b[38;5;241m=\u001b[39m \u001b[43mfunc\u001b[49m\u001b[43m(\u001b[49m\u001b[38;5;241;43m*\u001b[39;49m\u001b[43margs\u001b[49m\u001b[43m,\u001b[49m\u001b[43m \u001b[49m\u001b[38;5;241;43m*\u001b[39;49m\u001b[38;5;241;43m*\u001b[39;49m\u001b[43mkwargs\u001b[49m\u001b[43m)\u001b[49m\n\u001b[1;32m    130\u001b[0m     track(IsCompleteEvent(event_type\u001b[38;5;241m=\u001b[39mfunc\u001b[38;5;241m.\u001b[39m\u001b[38;5;18m__name__\u001b[39m, is_completed\u001b[38;5;241m=\u001b[39m\u001b[38;5;28;01mTrue\u001b[39;00m))\n\u001b[1;32m    132\u001b[0m     \u001b[38;5;28;01mreturn\u001b[39;00m result\n",
      "File \u001b[0;32m~/opt/anaconda3/envs/myenv/lib/python3.10/site-packages/ragas/evaluation.py:165\u001b[0m, in \u001b[0;36mevaluate\u001b[0;34m(dataset, metrics, llm, embeddings, callbacks, in_ci, run_config, token_usage_parser, raise_exceptions, column_map)\u001b[0m\n\u001b[1;32m    163\u001b[0m dataset \u001b[38;5;241m=\u001b[39m handle_deprecated_ground_truths(dataset)\n\u001b[1;32m    164\u001b[0m validate_evaluation_modes(dataset, metrics)\n\u001b[0;32m--> 165\u001b[0m \u001b[43mvalidate_column_dtypes\u001b[49m\u001b[43m(\u001b[49m\u001b[43mdataset\u001b[49m\u001b[43m)\u001b[49m\n\u001b[1;32m    167\u001b[0m \u001b[38;5;66;03m# set the llm and embeddings\u001b[39;00m\n\u001b[1;32m    168\u001b[0m \u001b[38;5;28;01mif\u001b[39;00m \u001b[38;5;28misinstance\u001b[39m(llm, LangchainLLM):\n",
      "File \u001b[0;32m~/opt/anaconda3/envs/myenv/lib/python3.10/site-packages/ragas/validation.py:56\u001b[0m, in \u001b[0;36mvalidate_column_dtypes\u001b[0;34m(ds)\u001b[0m\n\u001b[1;32m     51\u001b[0m \u001b[38;5;28;01mif\u001b[39;00m column_names \u001b[38;5;129;01min\u001b[39;00m ds\u001b[38;5;241m.\u001b[39mfeatures:\n\u001b[1;32m     52\u001b[0m     \u001b[38;5;28;01mif\u001b[39;00m \u001b[38;5;129;01mnot\u001b[39;00m (\n\u001b[1;32m     53\u001b[0m         \u001b[38;5;28misinstance\u001b[39m(ds\u001b[38;5;241m.\u001b[39mfeatures[column_names], Sequence)\n\u001b[1;32m     54\u001b[0m         \u001b[38;5;129;01mand\u001b[39;00m ds\u001b[38;5;241m.\u001b[39mfeatures[column_names]\u001b[38;5;241m.\u001b[39mfeature\u001b[38;5;241m.\u001b[39mdtype \u001b[38;5;241m==\u001b[39m \u001b[38;5;124m\"\u001b[39m\u001b[38;5;124mstring\u001b[39m\u001b[38;5;124m\"\u001b[39m\n\u001b[1;32m     55\u001b[0m     ):\n\u001b[0;32m---> 56\u001b[0m         \u001b[38;5;28;01mraise\u001b[39;00m \u001b[38;5;167;01mValueError\u001b[39;00m(\n\u001b[1;32m     57\u001b[0m             \u001b[38;5;124mf\u001b[39m\u001b[38;5;124m'\u001b[39m\u001b[38;5;124mDataset feature \u001b[39m\u001b[38;5;124m\"\u001b[39m\u001b[38;5;132;01m{\u001b[39;00mcolumn_names\u001b[38;5;132;01m}\u001b[39;00m\u001b[38;5;124m\"\u001b[39m\u001b[38;5;124m should be of type\u001b[39m\u001b[38;5;124m'\u001b[39m\n\u001b[1;32m     58\u001b[0m             \u001b[38;5;124mf\u001b[39m\u001b[38;5;124m\"\u001b[39m\u001b[38;5;124m Sequence[string], got \u001b[39m\u001b[38;5;132;01m{\u001b[39;00m\u001b[38;5;28mtype\u001b[39m(ds\u001b[38;5;241m.\u001b[39mfeatures[column_names])\u001b[38;5;132;01m}\u001b[39;00m\u001b[38;5;124m\"\u001b[39m\n\u001b[1;32m     59\u001b[0m         )\n",
      "\u001b[0;31mValueError\u001b[0m: Dataset feature \"contexts\" should be of type Sequence[string], got <class 'datasets.features.features.Sequence'>"
     ]
    }
   ],
   "source": [
    "for model in [\"gpt-3.5-turbo-1106\", \"gpt-3.5-turbo\"]:\n",
    "    data = {\"question\": [], \"ground_truth\": [], \"contexts\": [], \"answer\": []}\n",
    "    data[\"question\"] = QUESTIONS\n",
    "    data[\"ground_truth\"] = GROUND_TRUTH\n",
    "    # Using the best embedding model from the retriever evaluation\n",
    "    retriever = get_retriever(\"text-embedding-3-small\", 2)\n",
    "    rag_chain = get_rag_chain(retriever, model)\n",
    "    for question in tqdm(QUESTIONS):\n",
    "        data[\"answer\"].append(rag_chain.invoke(question))\n",
    "        data[\"contexts\"].append(\n",
    "            [doc.page_content for doc in retriever.get_relevant_documents(question)]\n",
    "        )\n",
    "    # RAGAS expects a Dataset object\n",
    "    dataset = Dataset.from_dict(data)\n",
    "    # RAGAS runtime settings to avoid hitting OpenAI rate limits\n",
    "    run_config = RunConfig(max_workers=4, max_wait=180)\n",
    "    result = evaluate(\n",
    "        dataset=dataset,\n",
    "        metrics=[faithfulness, answer_relevancy],\n",
    "        run_config=run_config,\n",
    "        raise_exceptions=False,\n",
    "    )\n",
    "    print(f\"Result for the {model} model: {result}\")"
   ]
  },
  {
   "cell_type": "code",
   "execution_count": 37,
   "id": "7d80338f-9aa4-41c8-9a4b-68d0d763a6ba",
   "metadata": {},
   "outputs": [],
   "source": [
    "from ragas.metrics import answer_similarity, answer_correctness"
   ]
  },
  {
   "cell_type": "code",
   "execution_count": 38,
   "id": "52fe98bd-34e1-4c84-baae-9b037c7bd9a0",
   "metadata": {},
   "outputs": [
    {
     "name": "stderr",
     "output_type": "stream",
     "text": [
      "100%|█████████████████████████████████████████████████████████████████| 232/232 [04:08<00:00,  1.07s/it]\n",
      "Evaluating:  65%|██████████████████████████████████▍                  | 301/464 [03:55<02:05,  1.30it/s]Failed to parse output. Returning None.\n",
      "Evaluating: 100%|█████████████████████████████████████████████████████| 464/464 [06:00<00:00,  1.29it/s]\n"
     ]
    },
    {
     "name": "stdout",
     "output_type": "stream",
     "text": [
      "Overall metrics: {'answer_similarity': 0.8847, 'answer_correctness': 0.5968}\n"
     ]
    }
   ],
   "source": [
    "data = {\"question\": [], \"ground_truth\": [], \"answer\": []}\n",
    "data[\"question\"] = QUESTIONS\n",
    "data[\"ground_truth\"] = GROUND_TRUTH\n",
    "# Using the best embedding model from the retriever evaluation\n",
    "retriever = get_retriever(\"text-embedding-3-small\", 2)\n",
    "# Using the best completion model from the generator evaluation\n",
    "rag_chain = get_rag_chain(retriever, \"gpt-3.5-turbo\")\n",
    "for question in tqdm(QUESTIONS):\n",
    "    data[\"answer\"].append(rag_chain.invoke(question))\n",
    "\n",
    "dataset = Dataset.from_dict(data)\n",
    "run_config = RunConfig(max_workers=4, max_wait=180)\n",
    "result = evaluate(\n",
    "    dataset=dataset,\n",
    "    metrics=[answer_similarity, answer_correctness],\n",
    "    run_config=run_config,\n",
    "    raise_exceptions=False,\n",
    ")\n",
    "print(f\"Overall metrics: {result}\")"
   ]
  },
  {
   "cell_type": "code",
   "execution_count": 39,
   "id": "bb9ce98a-74e8-4da9-b73e-526f3b0e1885",
   "metadata": {},
   "outputs": [],
   "source": [
    "result_df = result.to_pandas()"
   ]
  },
  {
   "cell_type": "code",
   "execution_count": 40,
   "id": "6b2c484f-8267-4262-aa95-43f3811f8249",
   "metadata": {},
   "outputs": [
    {
     "data": {
      "text/html": [
       "<div>\n",
       "<style scoped>\n",
       "    .dataframe tbody tr th:only-of-type {\n",
       "        vertical-align: middle;\n",
       "    }\n",
       "\n",
       "    .dataframe tbody tr th {\n",
       "        vertical-align: top;\n",
       "    }\n",
       "\n",
       "    .dataframe thead th {\n",
       "        text-align: right;\n",
       "    }\n",
       "</style>\n",
       "<table border=\"1\" class=\"dataframe\">\n",
       "  <thead>\n",
       "    <tr style=\"text-align: right;\">\n",
       "      <th></th>\n",
       "      <th>question</th>\n",
       "      <th>ground_truth</th>\n",
       "      <th>answer</th>\n",
       "      <th>answer_similarity</th>\n",
       "      <th>answer_correctness</th>\n",
       "    </tr>\n",
       "  </thead>\n",
       "  <tbody>\n",
       "    <tr>\n",
       "      <th>0</th>\n",
       "      <td>HOW AFRICAN AMERICANS WERE IMMIGRATED TO THE US</td>\n",
       "      <td>As such, African immigrants are to be distingu...</td>\n",
       "      <td>African Americans were forcibly brought to the...</td>\n",
       "      <td>0.878884</td>\n",
       "      <td>0.782221</td>\n",
       "    </tr>\n",
       "    <tr>\n",
       "      <th>1</th>\n",
       "      <td>what are points on a mortgage</td>\n",
       "      <td>Points, sometimes also called a \"discount poin...</td>\n",
       "      <td>Points on a mortgage are fees paid to the lend...</td>\n",
       "      <td>0.877601</td>\n",
       "      <td>0.819400</td>\n",
       "    </tr>\n",
       "    <tr>\n",
       "      <th>2</th>\n",
       "      <td>how does interlibrary loan work</td>\n",
       "      <td>The user makes a request with their local libr...</td>\n",
       "      <td>Interlibrary loan allows library patrons to re...</td>\n",
       "      <td>0.874784</td>\n",
       "      <td>0.564850</td>\n",
       "    </tr>\n",
       "    <tr>\n",
       "      <th>3</th>\n",
       "      <td>WHAT IS A FY QUARTER</td>\n",
       "      <td>A fiscal year (or financial year, or sometimes...</td>\n",
       "      <td>A FY quarter refers to a fiscal year quarter, ...</td>\n",
       "      <td>0.884668</td>\n",
       "      <td>0.649739</td>\n",
       "    </tr>\n",
       "    <tr>\n",
       "      <th>4</th>\n",
       "      <td>who wrote a rose is a rose is a rose</td>\n",
       "      <td>The sentence \"Rose is a rose is a rose is a ro...</td>\n",
       "      <td>Gertrude Stein</td>\n",
       "      <td>0.868224</td>\n",
       "      <td>0.517056</td>\n",
       "    </tr>\n",
       "  </tbody>\n",
       "</table>\n",
       "</div>"
      ],
      "text/plain": [
       "                                          question  \\\n",
       "0  HOW AFRICAN AMERICANS WERE IMMIGRATED TO THE US   \n",
       "1                    what are points on a mortgage   \n",
       "2                  how does interlibrary loan work   \n",
       "3                             WHAT IS A FY QUARTER   \n",
       "4             who wrote a rose is a rose is a rose   \n",
       "\n",
       "                                        ground_truth  \\\n",
       "0  As such, African immigrants are to be distingu...   \n",
       "1  Points, sometimes also called a \"discount poin...   \n",
       "2  The user makes a request with their local libr...   \n",
       "3  A fiscal year (or financial year, or sometimes...   \n",
       "4  The sentence \"Rose is a rose is a rose is a ro...   \n",
       "\n",
       "                                              answer  answer_similarity  \\\n",
       "0  African Americans were forcibly brought to the...           0.878884   \n",
       "1  Points on a mortgage are fees paid to the lend...           0.877601   \n",
       "2  Interlibrary loan allows library patrons to re...           0.874784   \n",
       "3  A FY quarter refers to a fiscal year quarter, ...           0.884668   \n",
       "4                                     Gertrude Stein           0.868224   \n",
       "\n",
       "   answer_correctness  \n",
       "0            0.782221  \n",
       "1            0.819400  \n",
       "2            0.564850  \n",
       "3            0.649739  \n",
       "4            0.517056  "
      ]
     },
     "execution_count": 40,
     "metadata": {},
     "output_type": "execute_result"
    }
   ],
   "source": [
    "result_df.head(5)"
   ]
  },
  {
   "cell_type": "code",
   "execution_count": 41,
   "id": "ac2fcc03-a611-4d99-baad-e65922dce4f0",
   "metadata": {},
   "outputs": [
    {
     "data": {
      "text/html": [
       "<div>\n",
       "<style scoped>\n",
       "    .dataframe tbody tr th:only-of-type {\n",
       "        vertical-align: middle;\n",
       "    }\n",
       "\n",
       "    .dataframe tbody tr th {\n",
       "        vertical-align: top;\n",
       "    }\n",
       "\n",
       "    .dataframe thead th {\n",
       "        text-align: right;\n",
       "    }\n",
       "</style>\n",
       "<table border=\"1\" class=\"dataframe\">\n",
       "  <thead>\n",
       "    <tr style=\"text-align: right;\">\n",
       "      <th></th>\n",
       "      <th>question</th>\n",
       "      <th>ground_truth</th>\n",
       "      <th>answer</th>\n",
       "      <th>answer_similarity</th>\n",
       "      <th>answer_correctness</th>\n",
       "    </tr>\n",
       "  </thead>\n",
       "  <tbody>\n",
       "    <tr>\n",
       "      <th>2</th>\n",
       "      <td>how does interlibrary loan work</td>\n",
       "      <td>The user makes a request with their local libr...</td>\n",
       "      <td>Interlibrary loan allows library patrons to re...</td>\n",
       "      <td>0.874784</td>\n",
       "      <td>0.564850</td>\n",
       "    </tr>\n",
       "    <tr>\n",
       "      <th>3</th>\n",
       "      <td>WHAT IS A FY QUARTER</td>\n",
       "      <td>A fiscal year (or financial year, or sometimes...</td>\n",
       "      <td>A FY quarter refers to a fiscal year quarter, ...</td>\n",
       "      <td>0.884668</td>\n",
       "      <td>0.649739</td>\n",
       "    </tr>\n",
       "    <tr>\n",
       "      <th>4</th>\n",
       "      <td>who wrote a rose is a rose is a rose</td>\n",
       "      <td>The sentence \"Rose is a rose is a rose is a ro...</td>\n",
       "      <td>Gertrude Stein</td>\n",
       "      <td>0.868224</td>\n",
       "      <td>0.517056</td>\n",
       "    </tr>\n",
       "    <tr>\n",
       "      <th>7</th>\n",
       "      <td>who played the lead roles in the movie leaving...</td>\n",
       "      <td>Nicolas Cage stars as a suicidal alcoholic who...</td>\n",
       "      <td>Nicolas Cage and Elisabeth Shue</td>\n",
       "      <td>0.842003</td>\n",
       "      <td>0.639072</td>\n",
       "    </tr>\n",
       "    <tr>\n",
       "      <th>9</th>\n",
       "      <td>what percentage of water in in the body</td>\n",
       "      <td>Arthur Guyton 's Textbook of Medical Physiolog...</td>\n",
       "      <td>Approximately 60% of the human body is made up...</td>\n",
       "      <td>0.883553</td>\n",
       "      <td>0.470888</td>\n",
       "    </tr>\n",
       "    <tr>\n",
       "      <th>...</th>\n",
       "      <td>...</td>\n",
       "      <td>...</td>\n",
       "      <td>...</td>\n",
       "      <td>...</td>\n",
       "      <td>...</td>\n",
       "    </tr>\n",
       "    <tr>\n",
       "      <th>226</th>\n",
       "      <td>how much did yankee stadium cost</td>\n",
       "      <td>Also controversial was the price tag of $1.5 b...</td>\n",
       "      <td>The cost of Yankee Stadium was approximately $...</td>\n",
       "      <td>0.883900</td>\n",
       "      <td>0.220970</td>\n",
       "    </tr>\n",
       "    <tr>\n",
       "      <th>228</th>\n",
       "      <td>what food is in afghan</td>\n",
       "      <td>Accompanying these staples are dairy products ...</td>\n",
       "      <td>Some traditional Afghan foods include kebabs, ...</td>\n",
       "      <td>0.877323</td>\n",
       "      <td>0.680869</td>\n",
       "    </tr>\n",
       "    <tr>\n",
       "      <th>229</th>\n",
       "      <td>how kimberlite pipes form</td>\n",
       "      <td>Volcanic pipes are relatively rare.</td>\n",
       "      <td>Kimberlite pipes form when magma from deep wit...</td>\n",
       "      <td>0.818323</td>\n",
       "      <td>0.204581</td>\n",
       "    </tr>\n",
       "    <tr>\n",
       "      <th>230</th>\n",
       "      <td>what county is coatesville indiana located in</td>\n",
       "      <td>Coatesville is a town in Clay Township , Hendr...</td>\n",
       "      <td>Hendricks County</td>\n",
       "      <td>0.799391</td>\n",
       "      <td>0.449848</td>\n",
       "    </tr>\n",
       "    <tr>\n",
       "      <th>231</th>\n",
       "      <td>what does continuous improvement mean</td>\n",
       "      <td>A continual improvement process, also often ca...</td>\n",
       "      <td>Continuous improvement means constantly seekin...</td>\n",
       "      <td>0.908425</td>\n",
       "      <td>0.636197</td>\n",
       "    </tr>\n",
       "  </tbody>\n",
       "</table>\n",
       "<p>146 rows × 5 columns</p>\n",
       "</div>"
      ],
      "text/plain": [
       "                                              question  \\\n",
       "2                      how does interlibrary loan work   \n",
       "3                                 WHAT IS A FY QUARTER   \n",
       "4                 who wrote a rose is a rose is a rose   \n",
       "7    who played the lead roles in the movie leaving...   \n",
       "9              what percentage of water in in the body   \n",
       "..                                                 ...   \n",
       "226                   how much did yankee stadium cost   \n",
       "228                             what food is in afghan   \n",
       "229                          how kimberlite pipes form   \n",
       "230      what county is coatesville indiana located in   \n",
       "231              what does continuous improvement mean   \n",
       "\n",
       "                                          ground_truth  \\\n",
       "2    The user makes a request with their local libr...   \n",
       "3    A fiscal year (or financial year, or sometimes...   \n",
       "4    The sentence \"Rose is a rose is a rose is a ro...   \n",
       "7    Nicolas Cage stars as a suicidal alcoholic who...   \n",
       "9    Arthur Guyton 's Textbook of Medical Physiolog...   \n",
       "..                                                 ...   \n",
       "226  Also controversial was the price tag of $1.5 b...   \n",
       "228  Accompanying these staples are dairy products ...   \n",
       "229                Volcanic pipes are relatively rare.   \n",
       "230  Coatesville is a town in Clay Township , Hendr...   \n",
       "231  A continual improvement process, also often ca...   \n",
       "\n",
       "                                                answer  answer_similarity  \\\n",
       "2    Interlibrary loan allows library patrons to re...           0.874784   \n",
       "3    A FY quarter refers to a fiscal year quarter, ...           0.884668   \n",
       "4                                       Gertrude Stein           0.868224   \n",
       "7                      Nicolas Cage and Elisabeth Shue           0.842003   \n",
       "9    Approximately 60% of the human body is made up...           0.883553   \n",
       "..                                                 ...                ...   \n",
       "226  The cost of Yankee Stadium was approximately $...           0.883900   \n",
       "228  Some traditional Afghan foods include kebabs, ...           0.877323   \n",
       "229  Kimberlite pipes form when magma from deep wit...           0.818323   \n",
       "230                                   Hendricks County           0.799391   \n",
       "231  Continuous improvement means constantly seekin...           0.908425   \n",
       "\n",
       "     answer_correctness  \n",
       "2              0.564850  \n",
       "3              0.649739  \n",
       "4              0.517056  \n",
       "7              0.639072  \n",
       "9              0.470888  \n",
       "..                  ...  \n",
       "226            0.220970  \n",
       "228            0.680869  \n",
       "229            0.204581  \n",
       "230            0.449848  \n",
       "231            0.636197  \n",
       "\n",
       "[146 rows x 5 columns]"
      ]
     },
     "execution_count": 41,
     "metadata": {},
     "output_type": "execute_result"
    }
   ],
   "source": [
    "result_df[result_df[\"answer_correctness\"] < 0.7]"
   ]
  },
  {
   "cell_type": "code",
   "execution_count": 42,
   "id": "32cb3add-cb86-4f29-902c-572f7d21224b",
   "metadata": {},
   "outputs": [
    {
     "data": {
      "image/png": "[encoded data removed]",
      "text/plain": [
       "<Figure size 1000x800 with 2 Axes>"
      ]
     },
     "metadata": {},
     "output_type": "display_data"
    }
   ],
   "source": [
    "import seaborn as sns\n",
    "import matplotlib.pyplot as plt\n",
    "\n",
    "plt.figure(figsize=(10, 8))\n",
    "sns.heatmap(\n",
    "    result_df[1:10].set_index(\"question\")[[\"answer_similarity\", \"answer_correctness\"]],\n",
    "    annot=True,\n",
    "    cmap=\"flare\",\n",
    ")\n",
    "plt.show()"
   ]
  },
  {
   "cell_type": "code",
   "execution_count": 43,
   "id": "5a1f8830-b397-488b-94b0-74428f8aa09e",
   "metadata": {},
   "outputs": [],
   "source": [
    "from datetime import datetime"
   ]
  },
  {
   "cell_type": "code",
   "execution_count": 44,
   "id": "1b3aa314-242d-4a85-aded-be09a40d6b6d",
   "metadata": {},
   "outputs": [],
   "source": [
    "result[\"timestamp\"] = datetime.now()"
   ]
  },
  {
   "cell_type": "code",
   "execution_count": 45,
   "id": "2e409ec2-031d-4c80-a6ef-f936298ee5fd",
   "metadata": {},
   "outputs": [
    {
     "data": {
      "text/plain": [
       "InsertOneResult(ObjectId('66bd733a3629607ad0d9c9d4'), acknowledged=True)"
      ]
     },
     "execution_count": 45,
     "metadata": {},
     "output_type": "execute_result"
    }
   ],
   "source": [
    "collection = db[\"metrics\"]\n",
    "collection.insert_one(result)"
   ]
  },
  {
   "cell_type": "code",
   "execution_count": null,
   "id": "68c1fd91-6f51-4f72-80eb-f6ab9efaf6ae",
   "metadata": {},
   "outputs": [],
   "source": []
  }
 ],
 "metadata": {
  "kernelspec": {
   "display_name": "Python 3 (ipykernel)",
   "language": "python",
   "name": "python3"
  },
  "language_info": {
   "codemirror_mode": {
    "name": "ipython",
    "version": 3
   },
   "file_extension": ".py",
   "mimetype": "text/x-python",
   "name": "python",
   "nbconvert_exporter": "python",
   "pygments_lexer": "ipython3",
   "version": "3.10.6"
  }
 },
 "nbformat": 4,
 "nbformat_minor": 5
}
