{
 "cells": [
  {
   "cell_type": "code",
   "execution_count": 1,
   "id": "c68f537a-90b1-4925-a66a-ada34550ed9b",
   "metadata": {},
   "outputs": [
    {
     "data": {
      "text/html": [
       "<div>\n",
       "<style scoped>\n",
       "    .dataframe tbody tr th:only-of-type {\n",
       "        vertical-align: middle;\n",
       "    }\n",
       "\n",
       "    .dataframe tbody tr th {\n",
       "        vertical-align: top;\n",
       "    }\n",
       "\n",
       "    .dataframe thead th {\n",
       "        text-align: right;\n",
       "    }\n",
       "</style>\n",
       "<table border=\"1\" class=\"dataframe\">\n",
       "  <thead>\n",
       "    <tr style=\"text-align: right;\">\n",
       "      <th></th>\n",
       "      <th>LIVEDATA_COMPANY_ID</th>\n",
       "      <th>COMPANY_NAME</th>\n",
       "      <th>WEBSITE</th>\n",
       "      <th>LINKEDIN_SLUG</th>\n",
       "      <th>COMPANY_TYPE</th>\n",
       "      <th>FOUNDED_YEAR</th>\n",
       "      <th>INDUSTRY</th>\n",
       "      <th>COMPANY_LOCATION</th>\n",
       "      <th>EMPLOYEE_COUNT</th>\n",
       "      <th>SIC_CODES</th>\n",
       "      <th>TICKER</th>\n",
       "      <th>INFO_CHANGE_DETECTED_AT</th>\n",
       "      <th>DS</th>\n",
       "    </tr>\n",
       "  </thead>\n",
       "  <tbody>\n",
       "    <tr>\n",
       "      <th>0</th>\n",
       "      <td>683d81648fa088c6e63fd794304c6809</td>\n",
       "      <td>divergence neuro</td>\n",
       "      <td>divergenceneuro.com</td>\n",
       "      <td>divergenceneuro</td>\n",
       "      <td>privately held</td>\n",
       "      <td>2020.0</td>\n",
       "      <td>biotechnology</td>\n",
       "      <td>Toronto, Ontario</td>\n",
       "      <td>10.0</td>\n",
       "      <td>NaN</td>\n",
       "      <td>NaN</td>\n",
       "      <td>2024-05-10 10:18:55.073 Z</td>\n",
       "      <td>2024-06-05 00:00:00.000 Z</td>\n",
       "    </tr>\n",
       "  </tbody>\n",
       "</table>\n",
       "</div>"
      ],
      "text/plain": [
       "                LIVEDATA_COMPANY_ID      COMPANY_NAME              WEBSITE  \\\n",
       "0  683d81648fa088c6e63fd794304c6809  divergence neuro  divergenceneuro.com   \n",
       "\n",
       "     LINKEDIN_SLUG    COMPANY_TYPE  FOUNDED_YEAR       INDUSTRY  \\\n",
       "0  divergenceneuro  privately held        2020.0  biotechnology   \n",
       "\n",
       "   COMPANY_LOCATION  EMPLOYEE_COUNT SIC_CODES TICKER  \\\n",
       "0  Toronto, Ontario            10.0       NaN    NaN   \n",
       "\n",
       "     INFO_CHANGE_DETECTED_AT                         DS  \n",
       "0  2024-05-10 10:18:55.073 Z  2024-06-05 00:00:00.000 Z  "
      ]
     },
     "execution_count": 1,
     "metadata": {},
     "output_type": "execute_result"
    }
   ],
   "source": [
    "import pandas as pd\n",
    "\n",
    "data1 = pd.read_csv('data/2024-08-06 11_52pm.csv')\n",
    "data1.head(1)"
   ]
  },
  {
   "cell_type": "code",
   "execution_count": 2,
   "id": "6597b535-887d-49f7-8dff-b2a1e010def5",
   "metadata": {},
   "outputs": [
    {
     "name": "stdout",
     "output_type": "stream",
     "text": [
      "<class 'pandas.core.frame.DataFrame'>\n",
      "RangeIndex: 26504 entries, 0 to 26503\n",
      "Data columns (total 13 columns):\n",
      " #   Column                   Non-Null Count  Dtype  \n",
      "---  ------                   --------------  -----  \n",
      " 0   LIVEDATA_COMPANY_ID      26504 non-null  object \n",
      " 1   COMPANY_NAME             26503 non-null  object \n",
      " 2   WEBSITE                  26504 non-null  object \n",
      " 3   LINKEDIN_SLUG            26504 non-null  object \n",
      " 4   COMPANY_TYPE             18938 non-null  object \n",
      " 5   FOUNDED_YEAR             15092 non-null  float64\n",
      " 6   INDUSTRY                 24449 non-null  object \n",
      " 7   COMPANY_LOCATION         21585 non-null  object \n",
      " 8   EMPLOYEE_COUNT           22036 non-null  float64\n",
      " 9   SIC_CODES                1300 non-null   object \n",
      " 10  TICKER                   68 non-null     object \n",
      " 11  INFO_CHANGE_DETECTED_AT  26504 non-null  object \n",
      " 12  DS                       26504 non-null  object \n",
      "dtypes: float64(2), object(11)\n",
      "memory usage: 2.6+ MB\n"
     ]
    }
   ],
   "source": [
    "data1.info()"
   ]
  },
  {
   "cell_type": "code",
   "execution_count": 3,
   "id": "14975c98-70ab-4260-ba57-4f346c4f61de",
   "metadata": {},
   "outputs": [
    {
     "data": {
      "text/html": [
       "<div>\n",
       "<style scoped>\n",
       "    .dataframe tbody tr th:only-of-type {\n",
       "        vertical-align: middle;\n",
       "    }\n",
       "\n",
       "    .dataframe tbody tr th {\n",
       "        vertical-align: top;\n",
       "    }\n",
       "\n",
       "    .dataframe thead th {\n",
       "        text-align: right;\n",
       "    }\n",
       "</style>\n",
       "<table border=\"1\" class=\"dataframe\">\n",
       "  <thead>\n",
       "    <tr style=\"text-align: right;\">\n",
       "      <th></th>\n",
       "      <th>DS</th>\n",
       "      <th>PDL_COMPANY_ID</th>\n",
       "      <th>COMPANY_NAME</th>\n",
       "      <th>TYPE</th>\n",
       "      <th>INDUSTRY</th>\n",
       "      <th>WEBSITE</th>\n",
       "      <th>FOUNDED</th>\n",
       "      <th>LINKEDIN_URL</th>\n",
       "      <th>PDL_SUMMARY</th>\n",
       "      <th>FACEBOOK_URL</th>\n",
       "      <th>...</th>\n",
       "      <th>COMPANY_LOCATION_REGION</th>\n",
       "      <th>COMPANY_LOCATION_METRO</th>\n",
       "      <th>COMPANY_LOCATION_COUNTRY</th>\n",
       "      <th>COMPANY_LOCATION_CONTINENT</th>\n",
       "      <th>COMPANY_LOCATION_STREET_ADDRESS</th>\n",
       "      <th>COMPANY_LOCATION_ADDRESS_LINE_2</th>\n",
       "      <th>COMPANY_LOCATION_POSTAL_CODE</th>\n",
       "      <th>ROW_NUM</th>\n",
       "      <th>CURRENT_EMPLOYEES</th>\n",
       "      <th>TOTAL_EMPLOYEES</th>\n",
       "    </tr>\n",
       "  </thead>\n",
       "  <tbody>\n",
       "    <tr>\n",
       "      <th>0</th>\n",
       "      <td>2024-06-16</td>\n",
       "      <td>QkRXus0QCRC7Vw0zcBzHdwZwjYzU</td>\n",
       "      <td>thrive africa (now nomadi)</td>\n",
       "      <td>nonprofit</td>\n",
       "      <td>NaN</td>\n",
       "      <td>notion.so/thriveafricafund/overview-46a085735e...</td>\n",
       "      <td>NaN</td>\n",
       "      <td>linkedin.com/company/join-nomadi</td>\n",
       "      <td>NaN</td>\n",
       "      <td>NaN</td>\n",
       "      <td>...</td>\n",
       "      <td>NaN</td>\n",
       "      <td>NaN</td>\n",
       "      <td>NaN</td>\n",
       "      <td>NaN</td>\n",
       "      <td>NaN</td>\n",
       "      <td>NaN</td>\n",
       "      <td>NaN</td>\n",
       "      <td>1</td>\n",
       "      <td>5</td>\n",
       "      <td>66</td>\n",
       "    </tr>\n",
       "  </tbody>\n",
       "</table>\n",
       "<p>1 rows × 26 columns</p>\n",
       "</div>"
      ],
      "text/plain": [
       "           DS                PDL_COMPANY_ID                COMPANY_NAME  \\\n",
       "0  2024-06-16  QkRXus0QCRC7Vw0zcBzHdwZwjYzU  thrive africa (now nomadi)   \n",
       "\n",
       "        TYPE INDUSTRY                                            WEBSITE  \\\n",
       "0  nonprofit      NaN  notion.so/thriveafricafund/overview-46a085735e...   \n",
       "\n",
       "   FOUNDED                      LINKEDIN_URL  PDL_SUMMARY FACEBOOK_URL  ...  \\\n",
       "0      NaN  linkedin.com/company/join-nomadi          NaN          NaN  ...   \n",
       "\n",
       "   COMPANY_LOCATION_REGION COMPANY_LOCATION_METRO COMPANY_LOCATION_COUNTRY  \\\n",
       "0                      NaN                    NaN                      NaN   \n",
       "\n",
       "  COMPANY_LOCATION_CONTINENT COMPANY_LOCATION_STREET_ADDRESS  \\\n",
       "0                        NaN                             NaN   \n",
       "\n",
       "  COMPANY_LOCATION_ADDRESS_LINE_2 COMPANY_LOCATION_POSTAL_CODE ROW_NUM  \\\n",
       "0                             NaN                          NaN       1   \n",
       "\n",
       "  CURRENT_EMPLOYEES TOTAL_EMPLOYEES  \n",
       "0                 5              66  \n",
       "\n",
       "[1 rows x 26 columns]"
      ]
     },
     "execution_count": 3,
     "metadata": {},
     "output_type": "execute_result"
    }
   ],
   "source": [
    "data2 = pd.read_csv('data/2024-08-06 11_52pm_1.csv')\n",
    "data2.head(1)"
   ]
  },
  {
   "cell_type": "code",
   "execution_count": 4,
   "id": "3a931db9-4341-4966-9c4a-0a825cbe4edf",
   "metadata": {},
   "outputs": [
    {
     "name": "stdout",
     "output_type": "stream",
     "text": [
      "<class 'pandas.core.frame.DataFrame'>\n",
      "RangeIndex: 170825 entries, 0 to 170824\n",
      "Data columns (total 26 columns):\n",
      " #   Column                           Non-Null Count   Dtype  \n",
      "---  ------                           --------------   -----  \n",
      " 0   DS                               170825 non-null  object \n",
      " 1   PDL_COMPANY_ID                   170825 non-null  object \n",
      " 2   COMPANY_NAME                     170825 non-null  object \n",
      " 3   TYPE                             170825 non-null  object \n",
      " 4   INDUSTRY                         122732 non-null  object \n",
      " 5   WEBSITE                          170825 non-null  object \n",
      " 6   FOUNDED                          79329 non-null   float64\n",
      " 7   LINKEDIN_URL                     170825 non-null  object \n",
      " 8   PDL_SUMMARY                      0 non-null       float64\n",
      " 9   FACEBOOK_URL                     18443 non-null   object \n",
      " 10  LINKEDIN_ID                      170355 non-null  float64\n",
      " 11  SIZE                             170825 non-null  object \n",
      " 12  TICKER                           313 non-null     object \n",
      " 13  TWITTER_URL                      15806 non-null   object \n",
      " 14  COMPANY_LOCATION_NAME            155761 non-null  object \n",
      " 15  COMPANY_LOCATION_LOCALITY        116508 non-null  object \n",
      " 16  COMPANY_LOCATION_REGION          133858 non-null  object \n",
      " 17  COMPANY_LOCATION_METRO           55714 non-null   object \n",
      " 18  COMPANY_LOCATION_COUNTRY         155759 non-null  object \n",
      " 19  COMPANY_LOCATION_CONTINENT       155761 non-null  object \n",
      " 20  COMPANY_LOCATION_STREET_ADDRESS  59991 non-null   object \n",
      " 21  COMPANY_LOCATION_ADDRESS_LINE_2  8577 non-null    object \n",
      " 22  COMPANY_LOCATION_POSTAL_CODE     62120 non-null   object \n",
      " 23  ROW_NUM                          170825 non-null  int64  \n",
      " 24  CURRENT_EMPLOYEES                170825 non-null  int64  \n",
      " 25  TOTAL_EMPLOYEES                  170825 non-null  int64  \n",
      "dtypes: float64(3), int64(3), object(20)\n",
      "memory usage: 33.9+ MB\n"
     ]
    }
   ],
   "source": [
    "data2.info()"
   ]
  },
  {
   "cell_type": "code",
   "execution_count": 5,
   "id": "b43a0847-cc55-439d-99e2-bca40e78b1d2",
   "metadata": {},
   "outputs": [
    {
     "data": {
      "text/html": [
       "<div>\n",
       "<style scoped>\n",
       "    .dataframe tbody tr th:only-of-type {\n",
       "        vertical-align: middle;\n",
       "    }\n",
       "\n",
       "    .dataframe tbody tr th {\n",
       "        vertical-align: top;\n",
       "    }\n",
       "\n",
       "    .dataframe thead th {\n",
       "        text-align: right;\n",
       "    }\n",
       "</style>\n",
       "<table border=\"1\" class=\"dataframe\">\n",
       "  <thead>\n",
       "    <tr style=\"text-align: right;\">\n",
       "      <th></th>\n",
       "      <th>Unnamed: 0</th>\n",
       "      <th>Unnamed: 1</th>\n",
       "      <th>Unnamed: 2</th>\n",
       "      <th>Unnamed: 3</th>\n",
       "      <th>Unnamed: 4</th>\n",
       "      <th>Unnamed: 5</th>\n",
       "      <th>Unnamed: 6</th>\n",
       "    </tr>\n",
       "  </thead>\n",
       "  <tbody>\n",
       "    <tr>\n",
       "      <th>0</th>\n",
       "      <td>Company</td>\n",
       "      <td>Website</td>\n",
       "      <td>Geo</td>\n",
       "      <td>Ticker</td>\n",
       "      <td>Company</td>\n",
       "      <td>Website</td>\n",
       "      <td>Geo</td>\n",
       "    </tr>\n",
       "  </tbody>\n",
       "</table>\n",
       "</div>"
      ],
      "text/plain": [
       "  Unnamed: 0 Unnamed: 1 Unnamed: 2 Unnamed: 3 Unnamed: 4 Unnamed: 5 Unnamed: 6\n",
       "0    Company    Website        Geo     Ticker    Company    Website        Geo"
      ]
     },
     "execution_count": 5,
     "metadata": {},
     "output_type": "execute_result"
    }
   ],
   "source": [
    "data3 = pd.read_csv('data/Private Holdings.csv')\n",
    "data3.head(1)"
   ]
  },
  {
   "cell_type": "code",
   "execution_count": 6,
   "id": "b257e50f-d63d-4c3c-9f31-44216374d4c4",
   "metadata": {},
   "outputs": [
    {
     "name": "stdout",
     "output_type": "stream",
     "text": [
      "<class 'pandas.core.frame.DataFrame'>\n",
      "RangeIndex: 201 entries, 0 to 200\n",
      "Data columns (total 7 columns):\n",
      " #   Column      Non-Null Count  Dtype \n",
      "---  ------      --------------  ----- \n",
      " 0   Unnamed: 0  201 non-null    object\n",
      " 1   Unnamed: 1  201 non-null    object\n",
      " 2   Unnamed: 2  201 non-null    object\n",
      " 3   Unnamed: 3  1 non-null      object\n",
      " 4   Unnamed: 4  1 non-null      object\n",
      " 5   Unnamed: 5  1 non-null      object\n",
      " 6   Unnamed: 6  1 non-null      object\n",
      "dtypes: object(7)\n",
      "memory usage: 11.1+ KB\n"
     ]
    }
   ],
   "source": [
    "data3.info()"
   ]
  },
  {
   "cell_type": "code",
   "execution_count": null,
   "id": "58dd2853-7a79-4a36-a8fd-c8fe141cdc66",
   "metadata": {},
   "outputs": [],
   "source": []
  },
  {
   "cell_type": "code",
   "execution_count": null,
   "id": "73a51391-aa57-4fa2-a9d0-83a46404fe05",
   "metadata": {},
   "outputs": [],
   "source": []
  },
  {
   "cell_type": "code",
   "execution_count": null,
   "id": "7c89dc24-ef83-4651-8f0f-1441525f0862",
   "metadata": {},
   "outputs": [],
   "source": []
  }
 ],
 "metadata": {
  "kernelspec": {
   "display_name": "Python 3 (ipykernel)",
   "language": "python",
   "name": "python3"
  },
  "language_info": {
   "codemirror_mode": {
    "name": "ipython",
    "version": 3
   },
   "file_extension": ".py",
   "mimetype": "text/x-python",
   "name": "python",
   "nbconvert_exporter": "python",
   "pygments_lexer": "ipython3",
   "version": "3.10.6"
  }
 },
 "nbformat": 4,
 "nbformat_minor": 5
}
