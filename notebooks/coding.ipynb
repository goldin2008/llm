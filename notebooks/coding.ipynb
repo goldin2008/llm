{
 "cells": [
  {
   "cell_type": "code",
   "execution_count": 1,
   "id": "590d2eff-3f5b-49d5-b9b2-2dec5a598c6e",
   "metadata": {},
   "outputs": [
    {
     "name": "stdout",
     "output_type": "stream",
     "text": [
      "Min element: 1\n",
      "Popping elements:\n",
      "1\n",
      "3\n",
      "5\n",
      "8\n"
     ]
    }
   ],
   "source": [
    "import heapq\n",
    "\n",
    "class MinHeap:\n",
    "    def __init__(self):\n",
    "        self.heap = []\n",
    "\n",
    "    def push(self, val):\n",
    "        heapq.heappush(self.heap, val)\n",
    "\n",
    "    def pop(self):\n",
    "        return heapq.heappop(self.heap)\n",
    "\n",
    "    def peek(self):\n",
    "        return self.heap[0]\n",
    "\n",
    "    def size(self):\n",
    "        return len(self.heap)\n",
    "\n",
    "# Example usage:\n",
    "min_heap = MinHeap()\n",
    "min_heap.push(5)\n",
    "min_heap.push(3)\n",
    "min_heap.push(8)\n",
    "min_heap.push(1)\n",
    "\n",
    "print(\"Min element:\", min_heap.peek())  # Output: 1\n",
    "\n",
    "print(\"Popping elements:\")\n",
    "while min_heap.size() > 0:\n",
    "    print(min_heap.pop())\n"
   ]
  },
  {
   "cell_type": "code",
   "execution_count": 2,
   "id": "a236b6d6-bb50-40d6-b557-bf48beabfdbe",
   "metadata": {},
   "outputs": [
    {
     "name": "stdout",
     "output_type": "stream",
     "text": [
      "Next task: Task 2\n",
      "Processing tasks:\n",
      "Processing: Task 2\n",
      "Processing: Task 3\n",
      "Processing: Task 1\n"
     ]
    }
   ],
   "source": [
    "import heapq\n",
    "\n",
    "class PriorityQueue:\n",
    "    def __init__(self):\n",
    "        self.heap = []\n",
    "        self.index = 0\n",
    "\n",
    "    def push(self, priority, item):\n",
    "        heapq.heappush(self.heap, (priority, self.index, item))\n",
    "        self.index += 1\n",
    "\n",
    "    def pop(self):\n",
    "        return heapq.heappop(self.heap)[-1]\n",
    "\n",
    "    def peek(self):\n",
    "        return self.heap[0][-1]\n",
    "\n",
    "    def size(self):\n",
    "        return len(self.heap)\n",
    "\n",
    "# Example usage:\n",
    "priority_queue = PriorityQueue()\n",
    "priority_queue.push(3, 'Task 1')\n",
    "priority_queue.push(1, 'Task 2')\n",
    "priority_queue.push(2, 'Task 3')\n",
    "\n",
    "print(\"Next task:\", priority_queue.peek())  # Output: 'Task 2'\n",
    "\n",
    "print(\"Processing tasks:\")\n",
    "while priority_queue.size() > 0:\n",
    "    print(\"Processing:\", priority_queue.pop())\n"
   ]
  },
  {
   "cell_type": "code",
   "execution_count": null,
   "id": "dd75606c-4f92-477b-8f33-f2ebce718bb3",
   "metadata": {},
   "outputs": [],
   "source": []
  }
 ],
 "metadata": {
  "kernelspec": {
   "display_name": "Python 3 (ipykernel)",
   "language": "python",
   "name": "python3"
  },
  "language_info": {
   "codemirror_mode": {
    "name": "ipython",
    "version": 3
   },
   "file_extension": ".py",
   "mimetype": "text/x-python",
   "name": "python",
   "nbconvert_exporter": "python",
   "pygments_lexer": "ipython3",
   "version": "3.9.20"
  }
 },
 "nbformat": 4,
 "nbformat_minor": 5
}
