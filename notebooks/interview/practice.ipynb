{
 "cells": [
  {
   "cell_type": "code",
   "execution_count": 1,
   "id": "05a5dfe2-9e5d-4472-b28a-635d28fcb7fa",
   "metadata": {},
   "outputs": [],
   "source": [
    "import torch"
   ]
  },
  {
   "cell_type": "code",
   "execution_count": 7,
   "id": "e1d491a9-b590-4b0a-a633-3579777b57ea",
   "metadata": {},
   "outputs": [
    {
     "data": {
      "text/plain": [
       "tensor([[-0.1115,  0.1204, -0.3696],\n",
       "        [-0.2404, -1.1969,  0.2093]])"
      ]
     },
     "execution_count": 7,
     "metadata": {},
     "output_type": "execute_result"
    }
   ],
   "source": [
    "sentence = 'I like'\n",
    "dc = {s:i for i,s in enumerate(sorted(sentence.replace(',', '').split()))}\n",
    "\n",
    "torch.manual_seed(123)\n",
    "\n",
    "sentence_int = torch.tensor([dc[w] for w in sentence.replace(',','').split()])\n",
    "embed = torch.nn.Embedding(4, 3)\n",
    "embedded_sent = embed(sentence_int).detach()\n",
    "embedded_sent"
   ]
  },
  {
   "cell_type": "code",
   "execution_count": 10,
   "id": "46fb7fae-ad20-4039-b6d3-38486ffbbbc7",
   "metadata": {},
   "outputs": [],
   "source": [
    "d = embedded_sent.shape[1]\n",
    "\n",
    "d_q, d_k, d_v = 6, 6, 6\n",
    "W_q = torch.nn.Parameter(torch.rand(d_q, d))\n",
    "W_k = torch.nn.Parameter(torch.rand(d_k, d))\n",
    "W_v = torch.nn.Parameter(torch.rand(d_k, d))\n",
    "\n",
    "x_2 = embedded_sent[1]\n",
    "\n",
    "q_2 = W_q.matmul(x_2)\n",
    "keys = W_k.matmul(embedded_sent.T).T\n",
    "values = W_v.matmul(embedded_sent.T).T\n",
    "\n",
    "omega_2 = q_2.matmul(keys.T)"
   ]
  },
  {
   "cell_type": "code",
   "execution_count": 12,
   "id": "1fac61bd-b56b-4a4d-b647-f1f4679914da",
   "metadata": {},
   "outputs": [
    {
     "data": {
      "text/plain": [
       "tensor([-0.5458, -0.6260, -0.5885, -0.8614, -0.6972, -0.4007],\n",
       "       grad_fn=<SqueezeBackward4>)"
      ]
     },
     "execution_count": 12,
     "metadata": {},
     "output_type": "execute_result"
    }
   ],
   "source": [
    "import torch.nn.functional as F\n",
    "\n",
    "att_weight_2  = F.softmax(omega_2 / d_k**0.5, dim=0)\n",
    "context_2 = att_weight_2.matmul(values)\n",
    "context_2"
   ]
  },
  {
   "cell_type": "code",
   "execution_count": null,
   "id": "2eba5662-f95b-4ea4-9590-61b4d8ecb14a",
   "metadata": {},
   "outputs": [],
   "source": []
  }
 ],
 "metadata": {
  "kernelspec": {
   "display_name": "Python 3 (ipykernel)",
   "language": "python",
   "name": "python3"
  },
  "language_info": {
   "codemirror_mode": {
    "name": "ipython",
    "version": 3
   },
   "file_extension": ".py",
   "mimetype": "text/x-python",
   "name": "python",
   "nbconvert_exporter": "python",
   "pygments_lexer": "ipython3",
   "version": "3.10.8"
  }
 },
 "nbformat": 4,
 "nbformat_minor": 5
}
