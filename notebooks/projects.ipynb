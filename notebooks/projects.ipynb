{
 "cells": [
  {
   "cell_type": "markdown",
   "id": "53acfe81-22eb-49e9-9dbf-1b3d8e60a2d1",
   "metadata": {},
   "source": [
    "Earnings Call Transcripts contain actionable insights. Capture them, at scale.\n",
    "\n",
    "Analyst calls around earnings are scheduled quarterly for publicly listed companies, and similar conference calls cover activities including mergers and acquisitions, or CEO changes. Each disclosure may reveal information that materially impacts company strategy or stock valuation, but reviewing transcripts is time-consuming."
   ]
  },
  {
   "cell_type": "markdown",
   "id": "71879cf7-bcc4-4493-b0af-8d9b3ffd8022",
   "metadata": {},
   "source": [
    "### jp\n",
    "\n",
    "1. Search of earnings transcripts, Single document Q&A. Multi document Semantic Search, Classification, Sentiment\n",
    "\n",
    "2. Empower international Private Bank (IPDI Advisors to summarize and extract relevant, timelv, and accurate market insignts by training a LLM model with J'M Private Bank research. For example, \"where does JiM expect the s&rsuu to get to within the next 3U davs?\", or \"what does JiM think about the latest ted rate hike?\". This will allow them to make informed decisions, and to address client queries in a more timely manner, creating a first class experience for our clients. Integrate solution into Casey, existing WM bot\n",
    "\n",
    "3. CG Lending currentiv has a small number ot researchers which are onlv capable of analvsing a couple ot companies in depth each week. Given the porttollo covers hundreds or businesses, there are many missed hedge opportunities. Currently, company or external research reports need to be reviewed and re-phrased to make a clear and concise recommendations which may lead to the execution of discretionary hedges. A LLM of the quality of GPT-4.0 or better could be used to p sources learning calls. investor presentations and annual/guarterv reports). GPT-4.0 could also be used to summarise earnings call transcriots, freeing up analvst time. Access to LLMIs would also allow the team to build more powertul relative value and early warning svstems, reducing the number of missed hedge opportunities. amrade recommencation trom ononceara\n",
    "\n",
    "4. Summarize documents published on client websites such as tundsheets, annual reports, investor letters, board minute meetings, earnings presentations etc, with the capability to show only EDG specitic content (vs. generic summary) and make targeted actions from this (such as increase m/s with existing clients by new products. new pods etc. and find new clients who are tradine EDG products). e.g. of Board Meeting minutes - the have approval for new products and new hires.E.g. board passes motion to manage and alternative risk premia investment program internally - therefore we shou them our risk premia offering\n",
    "\n",
    "5. Research LLm model with k: drive, user bucket access and internet connections to support writing of research reports. Some examples of use-cases that I thought might be helpful: Q: \"Explain (for example } JPMorgan's Carbon Emissions goals and how the loan book is being used to nudge other companies to reduce their environmental impact using document: Includo citatione!\n",
    "\n",
    "6. Leverage ChatGPT on the JPMorgan and industry competitors quarterly earnings and ad ho financial conferences and investor days for key summaries, highlights, and sentiments, as well as direct quotes relating to specific themes.\n",
    "\n",
    "7. Summarize earnings, transcripts or news for competitor research\n",
    "- Extract info from news, 10-K, and analyst calls on key financial metrics and strategy\n",
    "- Identify trends, compare and contrast, and present information in easy to digest manner\"\n",
    "\n",
    "8. What: The LLM can be used to assist in generating quick competitor analysis/updates by summarizing key themes from earnings calls and conferences. The summary can then be fact-checked by human analysts.\n",
    "- Why: The CFA team spends significant time gathering information, analyzing and summarizing quarterly earnings call/conference transcripts from our competitors. (Time estimate: 100 hours per quarter)\n",
    "- When: Quarterly basis\n",
    "- How: The summaries capture key financial metrics, drivers, expected future performance/targets and macro conditions affecting the business. (Qualitiative info as well)\n",
    "- Data Sources are public information taken from Intelligence Subscription Services such as Factset and S&P in text format.\n",
    "\n",
    "9. what: Te LIm can helo prepare answers detorenand for the purpose of answering equity research analvst questic before sharing these with the executives\n",
    "- Why: The Firmwide P&A team (along with Investor Relations and LOB P&A teams) spends significant time preparin\n",
    "- When: Ouarter v basis or Investor Dav\n",
    "- How: Identify key opportunities and concerns on reported performance, performance targets. business drivers - n\n",
    "\n",
    "10. Generating summaries of lenethy financial documents (like earnings reports) is an important use-case for using LLN the summary. This can be done ov prompting a fact-checker-Lem to do the following: 1. extract a list of assertions TI calls to the fact-checker-LLM (currently GPT-4), which adds to the latency and cost of generating factually groundec be operated at lower cost compared to GPT-4. While their performance is lower than that of GPT-4. we believe tha techniques that can enable better consistency checks for producing factually grounded summaries."
   ]
  },
  {
   "cell_type": "code",
   "execution_count": null,
   "id": "6bc20bf3-0c1d-4a90-baa8-45deaf87bf63",
   "metadata": {},
   "outputs": [],
   "source": []
  },
  {
   "cell_type": "code",
   "execution_count": null,
   "id": "8c05096e-17de-432b-b503-5749cb03d83a",
   "metadata": {},
   "outputs": [],
   "source": []
  },
  {
   "cell_type": "code",
   "execution_count": null,
   "id": "7ae563ed-d84f-4dfb-87c9-91ef3b1b29e2",
   "metadata": {},
   "outputs": [],
   "source": []
  }
 ],
 "metadata": {
  "kernelspec": {
   "display_name": "Python 3 (ipykernel)",
   "language": "python",
   "name": "python3"
  },
  "language_info": {
   "codemirror_mode": {
    "name": "ipython",
    "version": 3
   },
   "file_extension": ".py",
   "mimetype": "text/x-python",
   "name": "python",
   "nbconvert_exporter": "python",
   "pygments_lexer": "ipython3",
   "version": "3.9.7"
  }
 },
 "nbformat": 4,
 "nbformat_minor": 5
}
