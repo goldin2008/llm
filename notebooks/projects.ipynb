{
 "cells": [
  {
   "cell_type": "markdown",
   "id": "53acfe81-22eb-49e9-9dbf-1b3d8e60a2d1",
   "metadata": {},
   "source": [
    "Earnings Call Transcripts contain actionable insights. Capture them, at scale.\n",
    "\n",
    "Analyst calls around earnings are scheduled quarterly for publicly listed companies, and similar conference calls cover activities including mergers and acquisitions, or CEO changes. Each disclosure may reveal information that materially impacts company strategy or stock valuation, but reviewing transcripts is time-consuming."
   ]
  },
  {
   "cell_type": "code",
   "execution_count": null,
   "id": "6bc20bf3-0c1d-4a90-baa8-45deaf87bf63",
   "metadata": {},
   "outputs": [],
   "source": []
  },
  {
   "cell_type": "code",
   "execution_count": null,
   "id": "8c05096e-17de-432b-b503-5749cb03d83a",
   "metadata": {},
   "outputs": [],
   "source": []
  },
  {
   "cell_type": "code",
   "execution_count": null,
   "id": "7ae563ed-d84f-4dfb-87c9-91ef3b1b29e2",
   "metadata": {},
   "outputs": [],
   "source": []
  }
 ],
 "metadata": {
  "kernelspec": {
   "display_name": "Python 3 (ipykernel)",
   "language": "python",
   "name": "python3"
  },
  "language_info": {
   "codemirror_mode": {
    "name": "ipython",
    "version": 3
   },
   "file_extension": ".py",
   "mimetype": "text/x-python",
   "name": "python",
   "nbconvert_exporter": "python",
   "pygments_lexer": "ipython3",
   "version": "3.9.7"
  }
 },
 "nbformat": 4,
 "nbformat_minor": 5
}
