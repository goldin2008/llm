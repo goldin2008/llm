{
 "cells": [
  {
   "cell_type": "code",
   "execution_count": null,
   "id": "dee7952b-e5e2-4f95-9f04-4d825f6b1fd3",
   "metadata": {},
   "outputs": [],
   "source": [
    "pip install\n",
    "\n",
    "langchain, python-dotenv, huggingface_hub, streamlit, lancedb, openai, tiktoken"
   ]
  },
  {
   "cell_type": "code",
   "execution_count": null,
   "id": "8452610d-8171-47d6-8b0c-bb60903d7584",
   "metadata": {},
   "outputs": [],
   "source": [
    "pip install huggingface_hub python-dotenv streamlit"
   ]
  },
  {
   "cell_type": "code",
   "execution_count": null,
   "id": "8201c2ec-6ef8-406c-8c5a-4a8b2b85e57d",
   "metadata": {},
   "outputs": [],
   "source": [
    "pip install pandas tiktoken openai==0.28.1 matplotlib plotly scipy scikit-learn langchain-community lancedb"
   ]
  },
  {
   "cell_type": "code",
   "execution_count": 19,
   "id": "682d4e0b-e529-429c-8fdb-62761ce9c1eb",
   "metadata": {},
   "outputs": [
    {
     "name": "stdout",
     "output_type": "stream",
     "text": [
      "Requirement already satisfied: lancedb in /Users/leiyu/opt/anaconda3/envs/myenv/lib/python3.10/site-packages (0.12.0)\n",
      "Requirement already satisfied: tqdm>=4.27.0 in /Users/leiyu/opt/anaconda3/envs/myenv/lib/python3.10/site-packages (from lancedb) (4.66.5)\n",
      "Requirement already satisfied: ratelimiter~=1.0 in /Users/leiyu/opt/anaconda3/envs/myenv/lib/python3.10/site-packages (from lancedb) (1.2.0.post0)\n",
      "Requirement already satisfied: requests>=2.31.0 in /Users/leiyu/opt/anaconda3/envs/myenv/lib/python3.10/site-packages (from lancedb) (2.32.3)\n",
      "Requirement already satisfied: deprecation in /Users/leiyu/opt/anaconda3/envs/myenv/lib/python3.10/site-packages (from lancedb) (2.1.0)\n",
      "Requirement already satisfied: attrs>=21.3.0 in /Users/leiyu/opt/anaconda3/envs/myenv/lib/python3.10/site-packages (from lancedb) (22.1.0)\n",
      "Requirement already satisfied: packaging in /Users/leiyu/opt/anaconda3/envs/myenv/lib/python3.10/site-packages (from lancedb) (24.1)\n",
      "Requirement already satisfied: pylance==0.16.0 in /Users/leiyu/opt/anaconda3/envs/myenv/lib/python3.10/site-packages (from lancedb) (0.16.0)\n",
      "Requirement already satisfied: retry>=0.9.2 in /Users/leiyu/opt/anaconda3/envs/myenv/lib/python3.10/site-packages (from lancedb) (0.9.2)\n",
      "Requirement already satisfied: cachetools in /Users/leiyu/opt/anaconda3/envs/myenv/lib/python3.10/site-packages (from lancedb) (5.4.0)\n",
      "Requirement already satisfied: pydantic>=1.10 in /Users/leiyu/opt/anaconda3/envs/myenv/lib/python3.10/site-packages (from lancedb) (2.8.2)\n",
      "Requirement already satisfied: overrides>=0.7 in /Users/leiyu/opt/anaconda3/envs/myenv/lib/python3.10/site-packages (from lancedb) (7.7.0)\n",
      "Requirement already satisfied: pyarrow>=12 in /Users/leiyu/opt/anaconda3/envs/myenv/lib/python3.10/site-packages (from pylance==0.16.0->lancedb) (17.0.0)\n",
      "Requirement already satisfied: numpy<2,>=1.22 in /Users/leiyu/opt/anaconda3/envs/myenv/lib/python3.10/site-packages (from pylance==0.16.0->lancedb) (1.26.4)\n",
      "Requirement already satisfied: pydantic-core==2.20.1 in /Users/leiyu/opt/anaconda3/envs/myenv/lib/python3.10/site-packages (from pydantic>=1.10->lancedb) (2.20.1)\n",
      "Requirement already satisfied: typing-extensions>=4.6.1 in /Users/leiyu/opt/anaconda3/envs/myenv/lib/python3.10/site-packages (from pydantic>=1.10->lancedb) (4.12.2)\n",
      "Requirement already satisfied: annotated-types>=0.4.0 in /Users/leiyu/opt/anaconda3/envs/myenv/lib/python3.10/site-packages (from pydantic>=1.10->lancedb) (0.7.0)\n",
      "Requirement already satisfied: charset-normalizer<4,>=2 in /Users/leiyu/opt/anaconda3/envs/myenv/lib/python3.10/site-packages (from requests>=2.31.0->lancedb) (2.1.1)\n",
      "Requirement already satisfied: certifi>=2017.4.17 in /Users/leiyu/opt/anaconda3/envs/myenv/lib/python3.10/site-packages (from requests>=2.31.0->lancedb) (2022.6.15)\n",
      "Requirement already satisfied: idna<4,>=2.5 in /Users/leiyu/opt/anaconda3/envs/myenv/lib/python3.10/site-packages (from requests>=2.31.0->lancedb) (3.3)\n",
      "Requirement already satisfied: urllib3<3,>=1.21.1 in /Users/leiyu/opt/anaconda3/envs/myenv/lib/python3.10/site-packages (from requests>=2.31.0->lancedb) (1.26.11)\n",
      "Requirement already satisfied: decorator>=3.4.2 in /Users/leiyu/opt/anaconda3/envs/myenv/lib/python3.10/site-packages (from retry>=0.9.2->lancedb) (5.1.1)\n",
      "Requirement already satisfied: py<2.0.0,>=1.4.26 in /Users/leiyu/opt/anaconda3/envs/myenv/lib/python3.10/site-packages (from retry>=0.9.2->lancedb) (1.11.0)\n",
      "Note: you may need to restart the kernel to use updated packages.\n"
     ]
    }
   ],
   "source": [
    "pip install lancedb"
   ]
  },
  {
   "cell_type": "code",
   "execution_count": 1,
   "id": "257822b1-15cc-42c5-988f-e0932a8b7c06",
   "metadata": {},
   "outputs": [
    {
     "name": "stderr",
     "output_type": "stream",
     "text": [
      "/var/folders/lj/sq_z3m_s3z51_g2s4qfv2hrw0000gn/T/ipykernel_77509/167984876.py:3: DtypeWarning: Columns (10) have mixed types. Specify dtype option on import or set low_memory=False.\n",
      "  md = pd.read_csv('data/movies_metadata.csv')\n"
     ]
    },
    {
     "data": {
      "text/html": [
       "<div>\n",
       "<style scoped>\n",
       "    .dataframe tbody tr th:only-of-type {\n",
       "        vertical-align: middle;\n",
       "    }\n",
       "\n",
       "    .dataframe tbody tr th {\n",
       "        vertical-align: top;\n",
       "    }\n",
       "\n",
       "    .dataframe thead th {\n",
       "        text-align: right;\n",
       "    }\n",
       "</style>\n",
       "<table border=\"1\" class=\"dataframe\">\n",
       "  <thead>\n",
       "    <tr style=\"text-align: right;\">\n",
       "      <th></th>\n",
       "      <th>adult</th>\n",
       "      <th>belongs_to_collection</th>\n",
       "      <th>budget</th>\n",
       "      <th>genres</th>\n",
       "      <th>homepage</th>\n",
       "      <th>id</th>\n",
       "      <th>imdb_id</th>\n",
       "      <th>original_language</th>\n",
       "      <th>original_title</th>\n",
       "      <th>overview</th>\n",
       "      <th>...</th>\n",
       "      <th>release_date</th>\n",
       "      <th>revenue</th>\n",
       "      <th>runtime</th>\n",
       "      <th>spoken_languages</th>\n",
       "      <th>status</th>\n",
       "      <th>tagline</th>\n",
       "      <th>title</th>\n",
       "      <th>video</th>\n",
       "      <th>vote_average</th>\n",
       "      <th>vote_count</th>\n",
       "    </tr>\n",
       "  </thead>\n",
       "  <tbody>\n",
       "    <tr>\n",
       "      <th>0</th>\n",
       "      <td>False</td>\n",
       "      <td>{'id': 10194, 'name': 'Toy Story Collection', ...</td>\n",
       "      <td>30000000</td>\n",
       "      <td>[{'id': 16, 'name': 'Animation'}, {'id': 35, '...</td>\n",
       "      <td>http://toystory.disney.com/toy-story</td>\n",
       "      <td>862</td>\n",
       "      <td>tt0114709</td>\n",
       "      <td>en</td>\n",
       "      <td>Toy Story</td>\n",
       "      <td>Led by Woody, Andy's toys live happily in his ...</td>\n",
       "      <td>...</td>\n",
       "      <td>1995-10-30</td>\n",
       "      <td>373554033.0</td>\n",
       "      <td>81.0</td>\n",
       "      <td>[{'iso_639_1': 'en', 'name': 'English'}]</td>\n",
       "      <td>Released</td>\n",
       "      <td>NaN</td>\n",
       "      <td>Toy Story</td>\n",
       "      <td>False</td>\n",
       "      <td>7.7</td>\n",
       "      <td>5415.0</td>\n",
       "    </tr>\n",
       "  </tbody>\n",
       "</table>\n",
       "<p>1 rows × 24 columns</p>\n",
       "</div>"
      ],
      "text/plain": [
       "   adult                              belongs_to_collection    budget  \\\n",
       "0  False  {'id': 10194, 'name': 'Toy Story Collection', ...  30000000   \n",
       "\n",
       "                                              genres  \\\n",
       "0  [{'id': 16, 'name': 'Animation'}, {'id': 35, '...   \n",
       "\n",
       "                               homepage   id    imdb_id original_language  \\\n",
       "0  http://toystory.disney.com/toy-story  862  tt0114709                en   \n",
       "\n",
       "  original_title                                           overview  ...  \\\n",
       "0      Toy Story  Led by Woody, Andy's toys live happily in his ...  ...   \n",
       "\n",
       "  release_date      revenue runtime                          spoken_languages  \\\n",
       "0   1995-10-30  373554033.0    81.0  [{'iso_639_1': 'en', 'name': 'English'}]   \n",
       "\n",
       "     status  tagline      title  video vote_average vote_count  \n",
       "0  Released      NaN  Toy Story  False          7.7     5415.0  \n",
       "\n",
       "[1 rows x 24 columns]"
      ]
     },
     "execution_count": 1,
     "metadata": {},
     "output_type": "execute_result"
    }
   ],
   "source": [
    "import pandas as pd\n",
    "\n",
    "md = pd.read_csv('data/movies_metadata.csv')\n",
    "md.head(1)"
   ]
  },
  {
   "cell_type": "code",
   "execution_count": 2,
   "id": "264021dd-f736-444b-a092-0d6bd8286c7a",
   "metadata": {},
   "outputs": [
    {
     "data": {
      "text/html": [
       "<div>\n",
       "<style scoped>\n",
       "    .dataframe tbody tr th:only-of-type {\n",
       "        vertical-align: middle;\n",
       "    }\n",
       "\n",
       "    .dataframe tbody tr th {\n",
       "        vertical-align: top;\n",
       "    }\n",
       "\n",
       "    .dataframe thead th {\n",
       "        text-align: right;\n",
       "    }\n",
       "</style>\n",
       "<table border=\"1\" class=\"dataframe\">\n",
       "  <thead>\n",
       "    <tr style=\"text-align: right;\">\n",
       "      <th></th>\n",
       "      <th>adult</th>\n",
       "      <th>belongs_to_collection</th>\n",
       "      <th>budget</th>\n",
       "      <th>genres</th>\n",
       "      <th>homepage</th>\n",
       "      <th>id</th>\n",
       "      <th>imdb_id</th>\n",
       "      <th>original_language</th>\n",
       "      <th>original_title</th>\n",
       "      <th>overview</th>\n",
       "      <th>...</th>\n",
       "      <th>release_date</th>\n",
       "      <th>revenue</th>\n",
       "      <th>runtime</th>\n",
       "      <th>spoken_languages</th>\n",
       "      <th>status</th>\n",
       "      <th>tagline</th>\n",
       "      <th>title</th>\n",
       "      <th>video</th>\n",
       "      <th>vote_average</th>\n",
       "      <th>vote_count</th>\n",
       "    </tr>\n",
       "  </thead>\n",
       "  <tbody>\n",
       "    <tr>\n",
       "      <th>0</th>\n",
       "      <td>False</td>\n",
       "      <td>{'id': 10194, 'name': 'Toy Story Collection', ...</td>\n",
       "      <td>30000000</td>\n",
       "      <td>[Animation, Comedy, Family]</td>\n",
       "      <td>http://toystory.disney.com/toy-story</td>\n",
       "      <td>862</td>\n",
       "      <td>tt0114709</td>\n",
       "      <td>en</td>\n",
       "      <td>Toy Story</td>\n",
       "      <td>Led by Woody, Andy's toys live happily in his ...</td>\n",
       "      <td>...</td>\n",
       "      <td>1995-10-30</td>\n",
       "      <td>373554033.0</td>\n",
       "      <td>81.0</td>\n",
       "      <td>[{'iso_639_1': 'en', 'name': 'English'}]</td>\n",
       "      <td>Released</td>\n",
       "      <td>NaN</td>\n",
       "      <td>Toy Story</td>\n",
       "      <td>False</td>\n",
       "      <td>7.7</td>\n",
       "      <td>5415.0</td>\n",
       "    </tr>\n",
       "  </tbody>\n",
       "</table>\n",
       "<p>1 rows × 24 columns</p>\n",
       "</div>"
      ],
      "text/plain": [
       "   adult                              belongs_to_collection    budget  \\\n",
       "0  False  {'id': 10194, 'name': 'Toy Story Collection', ...  30000000   \n",
       "\n",
       "                        genres                              homepage   id  \\\n",
       "0  [Animation, Comedy, Family]  http://toystory.disney.com/toy-story  862   \n",
       "\n",
       "     imdb_id original_language original_title  \\\n",
       "0  tt0114709                en      Toy Story   \n",
       "\n",
       "                                            overview  ... release_date  \\\n",
       "0  Led by Woody, Andy's toys live happily in his ...  ...   1995-10-30   \n",
       "\n",
       "       revenue runtime                          spoken_languages    status  \\\n",
       "0  373554033.0    81.0  [{'iso_639_1': 'en', 'name': 'English'}]  Released   \n",
       "\n",
       "   tagline      title  video vote_average vote_count  \n",
       "0      NaN  Toy Story  False          7.7     5415.0  \n",
       "\n",
       "[1 rows x 24 columns]"
      ]
     },
     "execution_count": 2,
     "metadata": {},
     "output_type": "execute_result"
    }
   ],
   "source": [
    "import pandas as pd\n",
    "import ast\n",
    "\n",
    "\n",
    "# Convert string representation of dictionaries to actual dictionaries\n",
    "md['genres'] = md['genres'].apply(ast.literal_eval)\n",
    "\n",
    "# Transforming the 'genres' column\n",
    "md['genres'] = md['genres'].apply(lambda x: [genre['name'] for genre in x])\n",
    "\n",
    "\n",
    "md.head(1)"
   ]
  },
  {
   "cell_type": "code",
   "execution_count": 3,
   "id": "532ff7f4-5993-479a-aea5-e6ca1aa1da08",
   "metadata": {},
   "outputs": [
    {
     "data": {
      "text/html": [
       "<div>\n",
       "<style scoped>\n",
       "    .dataframe tbody tr th:only-of-type {\n",
       "        vertical-align: middle;\n",
       "    }\n",
       "\n",
       "    .dataframe tbody tr th {\n",
       "        vertical-align: top;\n",
       "    }\n",
       "\n",
       "    .dataframe thead th {\n",
       "        text-align: right;\n",
       "    }\n",
       "</style>\n",
       "<table border=\"1\" class=\"dataframe\">\n",
       "  <thead>\n",
       "    <tr style=\"text-align: right;\">\n",
       "      <th></th>\n",
       "      <th>adult</th>\n",
       "      <th>belongs_to_collection</th>\n",
       "      <th>budget</th>\n",
       "      <th>genres</th>\n",
       "      <th>homepage</th>\n",
       "      <th>id</th>\n",
       "      <th>imdb_id</th>\n",
       "      <th>original_language</th>\n",
       "      <th>original_title</th>\n",
       "      <th>overview</th>\n",
       "      <th>...</th>\n",
       "      <th>revenue</th>\n",
       "      <th>runtime</th>\n",
       "      <th>spoken_languages</th>\n",
       "      <th>status</th>\n",
       "      <th>tagline</th>\n",
       "      <th>title</th>\n",
       "      <th>video</th>\n",
       "      <th>vote_average</th>\n",
       "      <th>vote_count</th>\n",
       "      <th>weighted_rate</th>\n",
       "    </tr>\n",
       "  </thead>\n",
       "  <tbody>\n",
       "    <tr>\n",
       "      <th>0</th>\n",
       "      <td>False</td>\n",
       "      <td>{'id': 10194, 'name': 'Toy Story Collection', ...</td>\n",
       "      <td>30000000</td>\n",
       "      <td>[Animation, Comedy, Family]</td>\n",
       "      <td>http://toystory.disney.com/toy-story</td>\n",
       "      <td>862</td>\n",
       "      <td>tt0114709</td>\n",
       "      <td>en</td>\n",
       "      <td>Toy Story</td>\n",
       "      <td>Led by Woody, Andy's toys live happily in his ...</td>\n",
       "      <td>...</td>\n",
       "      <td>373554033.0</td>\n",
       "      <td>81.0</td>\n",
       "      <td>[{'iso_639_1': 'en', 'name': 'English'}]</td>\n",
       "      <td>Released</td>\n",
       "      <td>NaN</td>\n",
       "      <td>Toy Story</td>\n",
       "      <td>False</td>\n",
       "      <td>7.7</td>\n",
       "      <td>5415.0</td>\n",
       "      <td>7.499658</td>\n",
       "    </tr>\n",
       "  </tbody>\n",
       "</table>\n",
       "<p>1 rows × 25 columns</p>\n",
       "</div>"
      ],
      "text/plain": [
       "   adult                              belongs_to_collection    budget  \\\n",
       "0  False  {'id': 10194, 'name': 'Toy Story Collection', ...  30000000   \n",
       "\n",
       "                        genres                              homepage   id  \\\n",
       "0  [Animation, Comedy, Family]  http://toystory.disney.com/toy-story  862   \n",
       "\n",
       "     imdb_id original_language original_title  \\\n",
       "0  tt0114709                en      Toy Story   \n",
       "\n",
       "                                            overview  ...      revenue  \\\n",
       "0  Led by Woody, Andy's toys live happily in his ...  ...  373554033.0   \n",
       "\n",
       "  runtime                          spoken_languages    status tagline  \\\n",
       "0    81.0  [{'iso_639_1': 'en', 'name': 'English'}]  Released     NaN   \n",
       "\n",
       "       title  video vote_average vote_count weighted_rate  \n",
       "0  Toy Story  False          7.7     5415.0      7.499658  \n",
       "\n",
       "[1 rows x 25 columns]"
      ]
     },
     "execution_count": 3,
     "metadata": {},
     "output_type": "execute_result"
    }
   ],
   "source": [
    "# Calculate weighted rate (IMDb formula)\n",
    "def calculate_weighted_rate(vote_average, vote_count, min_vote_count=10):\n",
    "    return (vote_count / (vote_count + min_vote_count)) * vote_average + (min_vote_count / (vote_count + min_vote_count)) * 5.0\n",
    "\n",
    "# Minimum vote count to prevent skewed results\n",
    "vote_counts = md[md['vote_count'].notnull()]['vote_count'].astype('int')\n",
    "min_vote_count = vote_counts.quantile(0.95)\n",
    "\n",
    "# Create a new column 'weighted_rate'\n",
    "md['weighted_rate'] = md.apply(lambda row: calculate_weighted_rate(row['vote_average'], row['vote_count'], min_vote_count), axis=1)\n",
    "md.head(1)"
   ]
  },
  {
   "cell_type": "code",
   "execution_count": 4,
   "id": "e1e1dc3d-b36d-4561-878a-1c829791b2ad",
   "metadata": {},
   "outputs": [],
   "source": [
    "md = md.dropna()"
   ]
  },
  {
   "cell_type": "code",
   "execution_count": 5,
   "id": "2111ad63-0817-4cd4-a4ae-5b999ceb9a6e",
   "metadata": {},
   "outputs": [
    {
     "data": {
      "text/html": [
       "<div>\n",
       "<style scoped>\n",
       "    .dataframe tbody tr th:only-of-type {\n",
       "        vertical-align: middle;\n",
       "    }\n",
       "\n",
       "    .dataframe tbody tr th {\n",
       "        vertical-align: top;\n",
       "    }\n",
       "\n",
       "    .dataframe thead th {\n",
       "        text-align: right;\n",
       "    }\n",
       "</style>\n",
       "<table border=\"1\" class=\"dataframe\">\n",
       "  <thead>\n",
       "    <tr style=\"text-align: right;\">\n",
       "      <th></th>\n",
       "      <th>genres</th>\n",
       "      <th>title</th>\n",
       "      <th>overview</th>\n",
       "      <th>weighted_rate</th>\n",
       "    </tr>\n",
       "  </thead>\n",
       "  <tbody>\n",
       "    <tr>\n",
       "      <th>0</th>\n",
       "      <td>[Adventure, Action, Thriller]</td>\n",
       "      <td>GoldenEye</td>\n",
       "      <td>James Bond must unmask the mysterious head of ...</td>\n",
       "      <td>6.173464</td>\n",
       "    </tr>\n",
       "  </tbody>\n",
       "</table>\n",
       "</div>"
      ],
      "text/plain": [
       "                          genres      title  \\\n",
       "0  [Adventure, Action, Thriller]  GoldenEye   \n",
       "\n",
       "                                            overview  weighted_rate  \n",
       "0  James Bond must unmask the mysterious head of ...       6.173464  "
      ]
     },
     "execution_count": 5,
     "metadata": {},
     "output_type": "execute_result"
    }
   ],
   "source": [
    "md_final = md[['genres', 'title', 'overview', 'weighted_rate']].reset_index(drop=True)\n",
    "md_final.head(1)"
   ]
  },
  {
   "cell_type": "code",
   "execution_count": 6,
   "id": "5bbbce5b-24db-4d6d-b58f-323a27b464ee",
   "metadata": {},
   "outputs": [
    {
     "data": {
      "text/plain": [
       "'Title: Jurassic Park. Overview: A wealthy entrepreneur secretly creates a theme park featuring living dinosaurs drawn from prehistoric DNA. Before opening day, he invites a team of experts and his two eager grandchildren to experience the park and help calm anxious investors. However, the park is anything but amusing as the security systems go off-line and the dinosaurs escape. Genres: Adventure, Science Fiction. Rating: 7.39064935064935'"
      ]
     },
     "execution_count": 6,
     "metadata": {},
     "output_type": "execute_result"
    }
   ],
   "source": [
    "# Create a new column by combining 'title', 'overview', and 'genre'\n",
    "md_final['combined_info'] = md_final.apply(lambda row: f\"Title: {row['title']}. Overview: {row['overview']} Genres: {', '.join(row['genres'])}. Rating: {row['weighted_rate']}\", axis=1)\n",
    "md_final['combined_info'][9]"
   ]
  },
  {
   "cell_type": "code",
   "execution_count": 7,
   "id": "ce3d59b9-85f8-4323-a6bd-bec92c6fafc8",
   "metadata": {},
   "outputs": [
    {
     "data": {
      "text/plain": [
       "693"
      ]
     },
     "execution_count": 7,
     "metadata": {},
     "output_type": "execute_result"
    }
   ],
   "source": [
    "# imports\n",
    "import pandas as pd\n",
    "import tiktoken\n",
    "import os\n",
    "import openai\n",
    "\n",
    "openai.api_key = os.environ[\"OPENAI_API_KEY\"]\n",
    "\n",
    "from openai.embeddings_utils import get_embedding\n",
    "\n",
    "# embedding model parameters\n",
    "embedding_model = \"text-embedding-ada-002\"\n",
    "embedding_encoding = \"cl100k_base\"  # this the encoding for text-embedding-ada-002\n",
    "max_tokens = 8000  # the maximum for text-embedding-ada-002 is 8191\n",
    "\n",
    "encoding = tiktoken.get_encoding(embedding_encoding)\n",
    "\n",
    "# omit reviews that are too long to embed\n",
    "md_final[\"n_tokens\"] = md_final.combined_info.apply(lambda x: len(encoding.encode(x)))\n",
    "md_final = md_final[md_final.n_tokens <= max_tokens]\n",
    "len(md_final)"
   ]
  },
  {
   "cell_type": "code",
   "execution_count": 8,
   "id": "6b86152a-394a-4a39-b5a4-fa93aa674190",
   "metadata": {},
   "outputs": [
    {
     "data": {
      "text/html": [
       "<div>\n",
       "<style scoped>\n",
       "    .dataframe tbody tr th:only-of-type {\n",
       "        vertical-align: middle;\n",
       "    }\n",
       "\n",
       "    .dataframe tbody tr th {\n",
       "        vertical-align: top;\n",
       "    }\n",
       "\n",
       "    .dataframe thead th {\n",
       "        text-align: right;\n",
       "    }\n",
       "</style>\n",
       "<table border=\"1\" class=\"dataframe\">\n",
       "  <thead>\n",
       "    <tr style=\"text-align: right;\">\n",
       "      <th></th>\n",
       "      <th>genres</th>\n",
       "      <th>title</th>\n",
       "      <th>overview</th>\n",
       "      <th>weighted_rate</th>\n",
       "      <th>combined_info</th>\n",
       "      <th>n_tokens</th>\n",
       "      <th>embedding</th>\n",
       "    </tr>\n",
       "  </thead>\n",
       "  <tbody>\n",
       "    <tr>\n",
       "      <th>0</th>\n",
       "      <td>[Adventure, Action, Thriller]</td>\n",
       "      <td>GoldenEye</td>\n",
       "      <td>James Bond must unmask the mysterious head of ...</td>\n",
       "      <td>6.173464</td>\n",
       "      <td>Title: GoldenEye. Overview: James Bond must un...</td>\n",
       "      <td>59</td>\n",
       "      <td>[-0.02330085262656212, -0.01597847416996956, -...</td>\n",
       "    </tr>\n",
       "  </tbody>\n",
       "</table>\n",
       "</div>"
      ],
      "text/plain": [
       "                          genres      title  \\\n",
       "0  [Adventure, Action, Thriller]  GoldenEye   \n",
       "\n",
       "                                            overview  weighted_rate  \\\n",
       "0  James Bond must unmask the mysterious head of ...       6.173464   \n",
       "\n",
       "                                       combined_info  n_tokens  \\\n",
       "0  Title: GoldenEye. Overview: James Bond must un...        59   \n",
       "\n",
       "                                           embedding  \n",
       "0  [-0.02330085262656212, -0.01597847416996956, -...  "
      ]
     },
     "execution_count": 8,
     "metadata": {},
     "output_type": "execute_result"
    }
   ],
   "source": [
    "import openai\n",
    "openai.api_key = os.environ[\"OPENAI_API_KEY\"]\n",
    "\n",
    "md_final[\"embedding\"] = md_final.overview.apply(lambda x: get_embedding(x, engine=embedding_model))\n",
    "md_final.head(1)"
   ]
  },
  {
   "cell_type": "code",
   "execution_count": 10,
   "id": "6653000e-f865-4dfe-9099-2d8b56b11912",
   "metadata": {},
   "outputs": [],
   "source": [
    "md_final.rename(columns = {'embedding': 'vector'}, inplace = True)\n",
    "md_final.rename(columns = {'combined_info': 'text'}, inplace = True)\n",
    "md_final.to_pickle('data/movies.pkl')"
   ]
  },
  {
   "cell_type": "markdown",
   "id": "8ff702a6-77c4-4cae-bc66-90b19427aee4",
   "metadata": {},
   "source": [
    "## Start working with LLMs"
   ]
  },
  {
   "cell_type": "code",
   "execution_count": 11,
   "id": "8fa8f03d-8794-4669-9b53-0329171af058",
   "metadata": {},
   "outputs": [],
   "source": [
    "from langchain.vectorstores import LanceDB"
   ]
  },
  {
   "cell_type": "code",
   "execution_count": 13,
   "id": "48ef2363-542b-42be-aa07-83b1d14d960a",
   "metadata": {},
   "outputs": [
    {
     "data": {
      "text/html": [
       "<div>\n",
       "<style scoped>\n",
       "    .dataframe tbody tr th:only-of-type {\n",
       "        vertical-align: middle;\n",
       "    }\n",
       "\n",
       "    .dataframe tbody tr th {\n",
       "        vertical-align: top;\n",
       "    }\n",
       "\n",
       "    .dataframe thead th {\n",
       "        text-align: right;\n",
       "    }\n",
       "</style>\n",
       "<table border=\"1\" class=\"dataframe\">\n",
       "  <thead>\n",
       "    <tr style=\"text-align: right;\">\n",
       "      <th></th>\n",
       "      <th>genres</th>\n",
       "      <th>title</th>\n",
       "      <th>overview</th>\n",
       "      <th>weighted_rate</th>\n",
       "      <th>text</th>\n",
       "      <th>n_tokens</th>\n",
       "      <th>vector</th>\n",
       "    </tr>\n",
       "  </thead>\n",
       "  <tbody>\n",
       "    <tr>\n",
       "      <th>0</th>\n",
       "      <td>[Adventure, Action, Thriller]</td>\n",
       "      <td>GoldenEye</td>\n",
       "      <td>James Bond must unmask the mysterious head of ...</td>\n",
       "      <td>6.173464</td>\n",
       "      <td>Title: GoldenEye. Overview: James Bond must un...</td>\n",
       "      <td>59</td>\n",
       "      <td>[-0.02330085262656212, -0.01597847416996956, -...</td>\n",
       "    </tr>\n",
       "    <tr>\n",
       "      <th>1</th>\n",
       "      <td>[Comedy]</td>\n",
       "      <td>Friday</td>\n",
       "      <td>Craig and Smokey are two guys in Los Angeles h...</td>\n",
       "      <td>6.083421</td>\n",
       "      <td>Title: Friday. Overview: Craig and Smokey are ...</td>\n",
       "      <td>52</td>\n",
       "      <td>[0.001594626810401678, -0.010798700153827667, ...</td>\n",
       "    </tr>\n",
       "  </tbody>\n",
       "</table>\n",
       "</div>"
      ],
      "text/plain": [
       "                          genres      title  \\\n",
       "0  [Adventure, Action, Thriller]  GoldenEye   \n",
       "1                       [Comedy]     Friday   \n",
       "\n",
       "                                            overview  weighted_rate  \\\n",
       "0  James Bond must unmask the mysterious head of ...       6.173464   \n",
       "1  Craig and Smokey are two guys in Los Angeles h...       6.083421   \n",
       "\n",
       "                                                text  n_tokens  \\\n",
       "0  Title: GoldenEye. Overview: James Bond must un...        59   \n",
       "1  Title: Friday. Overview: Craig and Smokey are ...        52   \n",
       "\n",
       "                                              vector  \n",
       "0  [-0.02330085262656212, -0.01597847416996956, -...  \n",
       "1  [0.001594626810401678, -0.010798700153827667, ...  "
      ]
     },
     "execution_count": 13,
     "metadata": {},
     "output_type": "execute_result"
    }
   ],
   "source": [
    "import pandas as pd\n",
    "\n",
    "md = pd.read_pickle('data/movies.pkl')\n",
    "\n",
    "md.head(2)"
   ]
  },
  {
   "cell_type": "code",
   "execution_count": 14,
   "id": "f3bb4a0b-715c-4a5c-974d-ccee1fb4d52b",
   "metadata": {},
   "outputs": [
    {
     "data": {
      "text/plain": [
       "'Title: GoldenEye. Overview: James Bond must unmask the mysterious head of the Janus Syndicate and prevent the leader from utilizing the GoldenEye weapons system to inflict devastating revenge on Britain. Genres: Adventure, Action, Thriller. Rating: 6.173464373464373'"
      ]
     },
     "execution_count": 14,
     "metadata": {},
     "output_type": "execute_result"
    }
   ],
   "source": [
    "md['text'][0]"
   ]
  },
  {
   "cell_type": "code",
   "execution_count": null,
   "id": "5b743526-b18a-4cf9-ac7d-444427753161",
   "metadata": {},
   "outputs": [],
   "source": []
  },
  {
   "cell_type": "code",
   "execution_count": 17,
   "id": "dd859d63-1cef-4f1f-a60a-24069e175d24",
   "metadata": {},
   "outputs": [],
   "source": [
    "import lancedb\n",
    "\n",
    "uri = \"data/sample-lancedb\"\n",
    "db = lancedb.connect(uri)\n",
    "table = db.create_table(\"movies_1\", md)"
   ]
  },
  {
   "cell_type": "code",
   "execution_count": 22,
   "id": "9936b267-76d8-4ce8-ba9a-31b0cc2af333",
   "metadata": {},
   "outputs": [
    {
     "data": {
      "text/plain": [
       "LanceTable(connection=LanceDBConnection(/Users/leiyu/Projects/llm/notebooks/data/sample-lancedb), name=\"movies_1\")"
      ]
     },
     "execution_count": 22,
     "metadata": {},
     "output_type": "execute_result"
    }
   ],
   "source": [
    "table"
   ]
  },
  {
   "cell_type": "code",
   "execution_count": 35,
   "id": "fca38f26-b176-4d05-a87f-2200012c927e",
   "metadata": {},
   "outputs": [
    {
     "ename": "AttributeError",
     "evalue": "'LanceTable' object has no attribute 'decode'",
     "output_type": "error",
     "traceback": [
      "\u001b[0;31m---------------------------------------------------------------------------\u001b[0m",
      "\u001b[0;31mAttributeError\u001b[0m                            Traceback (most recent call last)",
      "Input \u001b[0;32mIn [35]\u001b[0m, in \u001b[0;36m<cell line: 15>\u001b[0;34m()\u001b[0m\n\u001b[1;32m     11\u001b[0m key \u001b[38;5;241m=\u001b[39m os\u001b[38;5;241m.\u001b[39menviron[\u001b[38;5;124m\"\u001b[39m\u001b[38;5;124mOPENAI_API_KEY\u001b[39m\u001b[38;5;124m\"\u001b[39m]\n\u001b[1;32m     13\u001b[0m embeddings \u001b[38;5;241m=\u001b[39m OpenAIEmbeddings()\n\u001b[0;32m---> 15\u001b[0m connection \u001b[38;5;241m=\u001b[39m \u001b[43mLanceDBConnection\u001b[49m\u001b[43m(\u001b[49m\u001b[43mtable\u001b[49m\u001b[43m)\u001b[49m\n\u001b[1;32m     17\u001b[0m docsearch \u001b[38;5;241m=\u001b[39m LanceDB(connection \u001b[38;5;241m=\u001b[39m connection, embedding \u001b[38;5;241m=\u001b[39m embeddings)\n",
      "File \u001b[0;32m~/opt/anaconda3/envs/myenv/lib/python3.10/site-packages/lancedb/db.py:324\u001b[0m, in \u001b[0;36mLanceDBConnection.__init__\u001b[0;34m(self, uri, read_consistency_interval)\u001b[0m\n\u001b[1;32m    320\u001b[0m \u001b[38;5;28;01mdef\u001b[39;00m \u001b[38;5;21m__init__\u001b[39m(\n\u001b[1;32m    321\u001b[0m     \u001b[38;5;28mself\u001b[39m, uri: URI, \u001b[38;5;241m*\u001b[39m, read_consistency_interval: Optional[timedelta] \u001b[38;5;241m=\u001b[39m \u001b[38;5;28;01mNone\u001b[39;00m\n\u001b[1;32m    322\u001b[0m ):\n\u001b[1;32m    323\u001b[0m     \u001b[38;5;28;01mif\u001b[39;00m \u001b[38;5;129;01mnot\u001b[39;00m \u001b[38;5;28misinstance\u001b[39m(uri, Path):\n\u001b[0;32m--> 324\u001b[0m         scheme \u001b[38;5;241m=\u001b[39m \u001b[43mget_uri_scheme\u001b[49m\u001b[43m(\u001b[49m\u001b[43muri\u001b[49m\u001b[43m)\u001b[49m\n\u001b[1;32m    325\u001b[0m     is_local \u001b[38;5;241m=\u001b[39m \u001b[38;5;28misinstance\u001b[39m(uri, Path) \u001b[38;5;129;01mor\u001b[39;00m scheme \u001b[38;5;241m==\u001b[39m \u001b[38;5;124m\"\u001b[39m\u001b[38;5;124mfile\u001b[39m\u001b[38;5;124m\"\u001b[39m\n\u001b[1;32m    326\u001b[0m     \u001b[38;5;28;01mif\u001b[39;00m is_local:\n",
      "File \u001b[0;32m~/opt/anaconda3/envs/myenv/lib/python3.10/site-packages/lancedb/util.py:47\u001b[0m, in \u001b[0;36mget_uri_scheme\u001b[0;34m(uri)\u001b[0m\n\u001b[1;32m     34\u001b[0m \u001b[38;5;28;01mdef\u001b[39;00m \u001b[38;5;21mget_uri_scheme\u001b[39m(uri: \u001b[38;5;28mstr\u001b[39m) \u001b[38;5;241m-\u001b[39m\u001b[38;5;241m>\u001b[39m \u001b[38;5;28mstr\u001b[39m:\n\u001b[1;32m     35\u001b[0m     \u001b[38;5;124;03m\"\"\"\u001b[39;00m\n\u001b[1;32m     36\u001b[0m \u001b[38;5;124;03m    Get the scheme of a URI. If the URI does not have a scheme, assume it is a file URI.\u001b[39;00m\n\u001b[1;32m     37\u001b[0m \n\u001b[0;32m   (...)\u001b[0m\n\u001b[1;32m     45\u001b[0m \u001b[38;5;124;03m    str: The scheme of the URI.\u001b[39;00m\n\u001b[1;32m     46\u001b[0m \u001b[38;5;124;03m    \"\"\"\u001b[39;00m\n\u001b[0;32m---> 47\u001b[0m     parsed \u001b[38;5;241m=\u001b[39m \u001b[43murlparse\u001b[49m\u001b[43m(\u001b[49m\u001b[43muri\u001b[49m\u001b[43m)\u001b[49m\n\u001b[1;32m     48\u001b[0m     scheme \u001b[38;5;241m=\u001b[39m parsed\u001b[38;5;241m.\u001b[39mscheme\n\u001b[1;32m     49\u001b[0m     \u001b[38;5;28;01mif\u001b[39;00m \u001b[38;5;129;01mnot\u001b[39;00m scheme:\n",
      "File \u001b[0;32m~/opt/anaconda3/envs/myenv/lib/python3.10/urllib/parse.py:392\u001b[0m, in \u001b[0;36murlparse\u001b[0;34m(url, scheme, allow_fragments)\u001b[0m\n\u001b[1;32m    372\u001b[0m \u001b[38;5;28;01mdef\u001b[39;00m \u001b[38;5;21murlparse\u001b[39m(url, scheme\u001b[38;5;241m=\u001b[39m\u001b[38;5;124m'\u001b[39m\u001b[38;5;124m'\u001b[39m, allow_fragments\u001b[38;5;241m=\u001b[39m\u001b[38;5;28;01mTrue\u001b[39;00m):\n\u001b[1;32m    373\u001b[0m     \u001b[38;5;124;03m\"\"\"Parse a URL into 6 components:\u001b[39;00m\n\u001b[1;32m    374\u001b[0m \u001b[38;5;124;03m    <scheme>://<netloc>/<path>;<params>?<query>#<fragment>\u001b[39;00m\n\u001b[1;32m    375\u001b[0m \n\u001b[0;32m   (...)\u001b[0m\n\u001b[1;32m    390\u001b[0m \u001b[38;5;124;03m    Note that % escapes are not expanded.\u001b[39;00m\n\u001b[1;32m    391\u001b[0m \u001b[38;5;124;03m    \"\"\"\u001b[39;00m\n\u001b[0;32m--> 392\u001b[0m     url, scheme, _coerce_result \u001b[38;5;241m=\u001b[39m \u001b[43m_coerce_args\u001b[49m\u001b[43m(\u001b[49m\u001b[43murl\u001b[49m\u001b[43m,\u001b[49m\u001b[43m \u001b[49m\u001b[43mscheme\u001b[49m\u001b[43m)\u001b[49m\n\u001b[1;32m    393\u001b[0m     splitresult \u001b[38;5;241m=\u001b[39m urlsplit(url, scheme, allow_fragments)\n\u001b[1;32m    394\u001b[0m     scheme, netloc, url, query, fragment \u001b[38;5;241m=\u001b[39m splitresult\n",
      "File \u001b[0;32m~/opt/anaconda3/envs/myenv/lib/python3.10/urllib/parse.py:128\u001b[0m, in \u001b[0;36m_coerce_args\u001b[0;34m(*args)\u001b[0m\n\u001b[1;32m    126\u001b[0m \u001b[38;5;28;01mif\u001b[39;00m str_input:\n\u001b[1;32m    127\u001b[0m     \u001b[38;5;28;01mreturn\u001b[39;00m args \u001b[38;5;241m+\u001b[39m (_noop,)\n\u001b[0;32m--> 128\u001b[0m \u001b[38;5;28;01mreturn\u001b[39;00m \u001b[43m_decode_args\u001b[49m\u001b[43m(\u001b[49m\u001b[43margs\u001b[49m\u001b[43m)\u001b[49m \u001b[38;5;241m+\u001b[39m (_encode_result,)\n",
      "File \u001b[0;32m~/opt/anaconda3/envs/myenv/lib/python3.10/urllib/parse.py:112\u001b[0m, in \u001b[0;36m_decode_args\u001b[0;34m(args, encoding, errors)\u001b[0m\n\u001b[1;32m    110\u001b[0m \u001b[38;5;28;01mdef\u001b[39;00m \u001b[38;5;21m_decode_args\u001b[39m(args, encoding\u001b[38;5;241m=\u001b[39m_implicit_encoding,\n\u001b[1;32m    111\u001b[0m                        errors\u001b[38;5;241m=\u001b[39m_implicit_errors):\n\u001b[0;32m--> 112\u001b[0m     \u001b[38;5;28;01mreturn\u001b[39;00m \u001b[38;5;28;43mtuple\u001b[39;49m\u001b[43m(\u001b[49m\u001b[43mx\u001b[49m\u001b[38;5;241;43m.\u001b[39;49m\u001b[43mdecode\u001b[49m\u001b[43m(\u001b[49m\u001b[43mencoding\u001b[49m\u001b[43m,\u001b[49m\u001b[43m \u001b[49m\u001b[43merrors\u001b[49m\u001b[43m)\u001b[49m\u001b[43m \u001b[49m\u001b[38;5;28;43;01mif\u001b[39;49;00m\u001b[43m \u001b[49m\u001b[43mx\u001b[49m\u001b[43m \u001b[49m\u001b[38;5;28;43;01melse\u001b[39;49;00m\u001b[43m \u001b[49m\u001b[38;5;124;43m'\u001b[39;49m\u001b[38;5;124;43m'\u001b[39;49m\u001b[43m \u001b[49m\u001b[38;5;28;43;01mfor\u001b[39;49;00m\u001b[43m \u001b[49m\u001b[43mx\u001b[49m\u001b[43m \u001b[49m\u001b[38;5;129;43;01min\u001b[39;49;00m\u001b[43m \u001b[49m\u001b[43margs\u001b[49m\u001b[43m)\u001b[49m\n",
      "File \u001b[0;32m~/opt/anaconda3/envs/myenv/lib/python3.10/urllib/parse.py:112\u001b[0m, in \u001b[0;36m<genexpr>\u001b[0;34m(.0)\u001b[0m\n\u001b[1;32m    110\u001b[0m \u001b[38;5;28;01mdef\u001b[39;00m \u001b[38;5;21m_decode_args\u001b[39m(args, encoding\u001b[38;5;241m=\u001b[39m_implicit_encoding,\n\u001b[1;32m    111\u001b[0m                        errors\u001b[38;5;241m=\u001b[39m_implicit_errors):\n\u001b[0;32m--> 112\u001b[0m     \u001b[38;5;28;01mreturn\u001b[39;00m \u001b[38;5;28mtuple\u001b[39m(\u001b[43mx\u001b[49m\u001b[38;5;241;43m.\u001b[39;49m\u001b[43mdecode\u001b[49m(encoding, errors) \u001b[38;5;28;01mif\u001b[39;00m x \u001b[38;5;28;01melse\u001b[39;00m \u001b[38;5;124m'\u001b[39m\u001b[38;5;124m'\u001b[39m \u001b[38;5;28;01mfor\u001b[39;00m x \u001b[38;5;129;01min\u001b[39;00m args)\n",
      "\u001b[0;31mAttributeError\u001b[0m: 'LanceTable' object has no attribute 'decode'"
     ]
    }
   ],
   "source": [
    "from langchain.document_loaders import UnstructuredHTMLLoader\n",
    "from langchain.embeddings import OpenAIEmbeddings\n",
    "from langchain.text_splitter import RecursiveCharacterTextSplitter\n",
    "from langchain.vectorstores import LanceDB\n",
    "from langchain.llms import OpenAI\n",
    "from langchain.chains import RetrievalQA\n",
    "import os\n",
    "\n",
    "from lancedb import LanceDBConnection\n",
    "\n",
    "key = os.environ[\"OPENAI_API_KEY\"]\n",
    "\n",
    "embeddings = OpenAIEmbeddings()\n",
    "\n",
    "connection = LanceDBConnection(table)\n",
    "\n",
    "docsearch = LanceDB(connection = connection, embedding = embeddings)"
   ]
  },
  {
   "cell_type": "code",
   "execution_count": 34,
   "id": "98b5e435-94c0-4756-9380-56382e79a8b7",
   "metadata": {},
   "outputs": [
    {
     "ename": "AttributeError",
     "evalue": "'NoneType' object has no attribute 'search'",
     "output_type": "error",
     "traceback": [
      "\u001b[0;31m---------------------------------------------------------------------------\u001b[0m",
      "\u001b[0;31mAttributeError\u001b[0m                            Traceback (most recent call last)",
      "Input \u001b[0;32mIn [34]\u001b[0m, in \u001b[0;36m<cell line: 2>\u001b[0;34m()\u001b[0m\n\u001b[1;32m      1\u001b[0m query \u001b[38;5;241m=\u001b[39m \u001b[38;5;124m\"\u001b[39m\u001b[38;5;124mI\u001b[39m\u001b[38;5;124m'\u001b[39m\u001b[38;5;124mm looking for an animated action movie. What could you suggest to me?\u001b[39m\u001b[38;5;124m\"\u001b[39m\n\u001b[0;32m----> 2\u001b[0m docs \u001b[38;5;241m=\u001b[39m \u001b[43mdocsearch\u001b[49m\u001b[38;5;241;43m.\u001b[39;49m\u001b[43msimilarity_search\u001b[49m\u001b[43m(\u001b[49m\u001b[43mquery\u001b[49m\u001b[43m)\u001b[49m\n\u001b[1;32m      3\u001b[0m docs\n",
      "File \u001b[0;32m~/opt/anaconda3/envs/myenv/lib/python3.10/site-packages/langchain_community/vectorstores/lancedb.py:524\u001b[0m, in \u001b[0;36mLanceDB.similarity_search\u001b[0;34m(self, query, k, name, filter, fts, **kwargs)\u001b[0m\n\u001b[1;32m    500\u001b[0m \u001b[38;5;28;01mdef\u001b[39;00m \u001b[38;5;21msimilarity_search\u001b[39m(\n\u001b[1;32m    501\u001b[0m     \u001b[38;5;28mself\u001b[39m,\n\u001b[1;32m    502\u001b[0m     query: \u001b[38;5;28mstr\u001b[39m,\n\u001b[0;32m   (...)\u001b[0m\n\u001b[1;32m    507\u001b[0m     \u001b[38;5;241m*\u001b[39m\u001b[38;5;241m*\u001b[39mkwargs: Any,\n\u001b[1;32m    508\u001b[0m ) \u001b[38;5;241m-\u001b[39m\u001b[38;5;241m>\u001b[39m List[Document]:\n\u001b[1;32m    509\u001b[0m     \u001b[38;5;124;03m\"\"\"Return documents most similar to the query\u001b[39;00m\n\u001b[1;32m    510\u001b[0m \n\u001b[1;32m    511\u001b[0m \u001b[38;5;124;03m    Args:\u001b[39;00m\n\u001b[0;32m   (...)\u001b[0m\n\u001b[1;32m    522\u001b[0m \u001b[38;5;124;03m        List of documents most similar to the query.\u001b[39;00m\n\u001b[1;32m    523\u001b[0m \u001b[38;5;124;03m    \"\"\"\u001b[39;00m\n\u001b[0;32m--> 524\u001b[0m     res \u001b[38;5;241m=\u001b[39m \u001b[38;5;28;43mself\u001b[39;49m\u001b[38;5;241;43m.\u001b[39;49m\u001b[43msimilarity_search_with_score\u001b[49m\u001b[43m(\u001b[49m\n\u001b[1;32m    525\u001b[0m \u001b[43m        \u001b[49m\u001b[43mquery\u001b[49m\u001b[38;5;241;43m=\u001b[39;49m\u001b[43mquery\u001b[49m\u001b[43m,\u001b[49m\u001b[43m \u001b[49m\u001b[43mk\u001b[49m\u001b[38;5;241;43m=\u001b[39;49m\u001b[43mk\u001b[49m\u001b[43m,\u001b[49m\u001b[43m \u001b[49m\u001b[43mname\u001b[49m\u001b[38;5;241;43m=\u001b[39;49m\u001b[43mname\u001b[49m\u001b[43m,\u001b[49m\u001b[43m \u001b[49m\u001b[38;5;28;43mfilter\u001b[39;49m\u001b[38;5;241;43m=\u001b[39;49m\u001b[38;5;28;43mfilter\u001b[39;49m\u001b[43m,\u001b[49m\u001b[43m \u001b[49m\u001b[43mfts\u001b[49m\u001b[38;5;241;43m=\u001b[39;49m\u001b[43mfts\u001b[49m\u001b[43m,\u001b[49m\u001b[43m \u001b[49m\u001b[43mscore\u001b[49m\u001b[38;5;241;43m=\u001b[39;49m\u001b[38;5;28;43;01mFalse\u001b[39;49;00m\u001b[43m,\u001b[49m\u001b[43m \u001b[49m\u001b[38;5;241;43m*\u001b[39;49m\u001b[38;5;241;43m*\u001b[39;49m\u001b[43mkwargs\u001b[49m\n\u001b[1;32m    526\u001b[0m \u001b[43m    \u001b[49m\u001b[43m)\u001b[49m\n\u001b[1;32m    527\u001b[0m     \u001b[38;5;28;01mreturn\u001b[39;00m res\n",
      "File \u001b[0;32m~/opt/anaconda3/envs/myenv/lib/python3.10/site-packages/langchain_community/vectorstores/lancedb.py:497\u001b[0m, in \u001b[0;36mLanceDB.similarity_search_with_score\u001b[0;34m(self, query, k, filter, **kwargs)\u001b[0m\n\u001b[1;32m    495\u001b[0m \u001b[38;5;28;01melse\u001b[39;00m:\n\u001b[1;32m    496\u001b[0m     embedding \u001b[38;5;241m=\u001b[39m \u001b[38;5;28mself\u001b[39m\u001b[38;5;241m.\u001b[39m_embedding\u001b[38;5;241m.\u001b[39membed_query(query)\n\u001b[0;32m--> 497\u001b[0m     res \u001b[38;5;241m=\u001b[39m \u001b[38;5;28;43mself\u001b[39;49m\u001b[38;5;241;43m.\u001b[39;49m\u001b[43m_query\u001b[49m\u001b[43m(\u001b[49m\u001b[43membedding\u001b[49m\u001b[43m,\u001b[49m\u001b[43m \u001b[49m\u001b[43mk\u001b[49m\u001b[43m,\u001b[49m\u001b[43m \u001b[49m\u001b[38;5;28;43mfilter\u001b[39;49m\u001b[38;5;241;43m=\u001b[39;49m\u001b[38;5;28;43mfilter\u001b[39;49m\u001b[43m,\u001b[49m\u001b[43m \u001b[49m\u001b[38;5;241;43m*\u001b[39;49m\u001b[38;5;241;43m*\u001b[39;49m\u001b[43mkwargs\u001b[49m\u001b[43m)\u001b[49m\n\u001b[1;32m    498\u001b[0m     \u001b[38;5;28;01mreturn\u001b[39;00m \u001b[38;5;28mself\u001b[39m\u001b[38;5;241m.\u001b[39mresults_to_docs(res, score\u001b[38;5;241m=\u001b[39mscore)\n",
      "File \u001b[0;32m~/opt/anaconda3/envs/myenv/lib/python3.10/site-packages/langchain_community/vectorstores/lancedb.py:384\u001b[0m, in \u001b[0;36mLanceDB._query\u001b[0;34m(self, query, k, filter, name, **kwargs)\u001b[0m\n\u001b[1;32m    376\u001b[0m     lance_query \u001b[38;5;241m=\u001b[39m (\n\u001b[1;32m    377\u001b[0m         tbl\u001b[38;5;241m.\u001b[39msearch(query\u001b[38;5;241m=\u001b[39mquery, vector_column_name\u001b[38;5;241m=\u001b[39m\u001b[38;5;28mself\u001b[39m\u001b[38;5;241m.\u001b[39m_vector_key)\n\u001b[1;32m    378\u001b[0m         \u001b[38;5;241m.\u001b[39mlimit(k)\n\u001b[1;32m    379\u001b[0m         \u001b[38;5;241m.\u001b[39mmetric(metrics)\n\u001b[1;32m    380\u001b[0m         \u001b[38;5;241m.\u001b[39mwhere(\u001b[38;5;28mfilter\u001b[39m, prefilter\u001b[38;5;241m=\u001b[39mprefilter)\n\u001b[1;32m    381\u001b[0m     )\n\u001b[1;32m    382\u001b[0m \u001b[38;5;28;01melse\u001b[39;00m:\n\u001b[1;32m    383\u001b[0m     lance_query \u001b[38;5;241m=\u001b[39m (\n\u001b[0;32m--> 384\u001b[0m         \u001b[43mtbl\u001b[49m\u001b[38;5;241;43m.\u001b[39;49m\u001b[43msearch\u001b[49m(query\u001b[38;5;241m=\u001b[39mquery, vector_column_name\u001b[38;5;241m=\u001b[39m\u001b[38;5;28mself\u001b[39m\u001b[38;5;241m.\u001b[39m_vector_key)\n\u001b[1;32m    385\u001b[0m         \u001b[38;5;241m.\u001b[39mlimit(k)\n\u001b[1;32m    386\u001b[0m         \u001b[38;5;241m.\u001b[39mwhere(\u001b[38;5;28mfilter\u001b[39m, prefilter\u001b[38;5;241m=\u001b[39mprefilter)\n\u001b[1;32m    387\u001b[0m     )\n\u001b[1;32m    388\u001b[0m \u001b[38;5;28;01mif\u001b[39;00m query_type \u001b[38;5;241m==\u001b[39m \u001b[38;5;124m\"\u001b[39m\u001b[38;5;124mhybrid\u001b[39m\u001b[38;5;124m\"\u001b[39m \u001b[38;5;129;01mand\u001b[39;00m \u001b[38;5;28mself\u001b[39m\u001b[38;5;241m.\u001b[39m_reranker \u001b[38;5;129;01mis\u001b[39;00m \u001b[38;5;129;01mnot\u001b[39;00m \u001b[38;5;28;01mNone\u001b[39;00m:\n\u001b[1;32m    389\u001b[0m     lance_query\u001b[38;5;241m.\u001b[39mrerank(reranker\u001b[38;5;241m=\u001b[39m\u001b[38;5;28mself\u001b[39m\u001b[38;5;241m.\u001b[39m_reranker)\n",
      "\u001b[0;31mAttributeError\u001b[0m: 'NoneType' object has no attribute 'search'"
     ]
    }
   ],
   "source": [
    "query = \"I'm looking for an animated action movie. What could you suggest to me?\"\n",
    "docs = docsearch.similarity_search(query)\n",
    "docs\n",
    "# docs[0].page_content"
   ]
  },
  {
   "cell_type": "code",
   "execution_count": 18,
   "id": "df953038-687b-43a8-86a5-8625e58a6d82",
   "metadata": {},
   "outputs": [
    {
     "name": "stderr",
     "output_type": "stream",
     "text": [
      "/Users/leiyu/opt/anaconda3/envs/myenv/lib/python3.10/site-packages/langchain_core/_api/deprecation.py:141: LangChainDeprecationWarning: The class `OpenAI` was deprecated in LangChain 0.0.10 and will be removed in 0.3.0. An updated version of the class exists in the langchain-openai package and should be used instead. To use it run `pip install -U langchain-openai` and import as `from langchain_openai import OpenAI`.\n",
      "  warn_deprecated(\n"
     ]
    },
    {
     "ename": "NameError",
     "evalue": "name 'docsearch' is not defined",
     "output_type": "error",
     "traceback": [
      "\u001b[0;31m---------------------------------------------------------------------------\u001b[0m",
      "\u001b[0;31mNameError\u001b[0m                                 Traceback (most recent call last)",
      "Input \u001b[0;32mIn [18]\u001b[0m, in \u001b[0;36m<cell line: 1>\u001b[0;34m()\u001b[0m\n\u001b[0;32m----> 1\u001b[0m qa \u001b[38;5;241m=\u001b[39m RetrievalQA\u001b[38;5;241m.\u001b[39mfrom_chain_type(llm\u001b[38;5;241m=\u001b[39mOpenAI(), chain_type\u001b[38;5;241m=\u001b[39m\u001b[38;5;124m\"\u001b[39m\u001b[38;5;124mstuff\u001b[39m\u001b[38;5;124m\"\u001b[39m, retriever\u001b[38;5;241m=\u001b[39m\u001b[43mdocsearch\u001b[49m\u001b[38;5;241m.\u001b[39mas_retriever(), return_source_documents\u001b[38;5;241m=\u001b[39m\u001b[38;5;28;01mTrue\u001b[39;00m)\n\u001b[1;32m      3\u001b[0m query \u001b[38;5;241m=\u001b[39m \u001b[38;5;124m\"\u001b[39m\u001b[38;5;124mI\u001b[39m\u001b[38;5;124m'\u001b[39m\u001b[38;5;124mm looking for an animated action movie. What could you suggest to me?\u001b[39m\u001b[38;5;124m\"\u001b[39m\n\u001b[1;32m      4\u001b[0m result \u001b[38;5;241m=\u001b[39m qa({\u001b[38;5;124m\"\u001b[39m\u001b[38;5;124mquery\u001b[39m\u001b[38;5;124m\"\u001b[39m: query})\n",
      "\u001b[0;31mNameError\u001b[0m: name 'docsearch' is not defined"
     ]
    }
   ],
   "source": [
    "qa = RetrievalQA.from_chain_type(llm=OpenAI(), chain_type=\"stuff\", retriever=docsearch.as_retriever(), return_source_documents=True)\n",
    "\n",
    "query = \"I'm looking for an animated action movie. What could you suggest to me?\"\n",
    "result = qa({\"query\": query})\n",
    "result['result']"
   ]
  },
  {
   "cell_type": "code",
   "execution_count": 19,
   "id": "9ff7f31f-2c8a-47d5-8629-f1eedd094514",
   "metadata": {},
   "outputs": [
    {
     "ename": "NameError",
     "evalue": "name 'result' is not defined",
     "output_type": "error",
     "traceback": [
      "\u001b[0;31m---------------------------------------------------------------------------\u001b[0m",
      "\u001b[0;31mNameError\u001b[0m                                 Traceback (most recent call last)",
      "Input \u001b[0;32mIn [19]\u001b[0m, in \u001b[0;36m<cell line: 1>\u001b[0;34m()\u001b[0m\n\u001b[0;32m----> 1\u001b[0m \u001b[43mresult\u001b[49m[\u001b[38;5;124m'\u001b[39m\u001b[38;5;124msource_documents\u001b[39m\u001b[38;5;124m'\u001b[39m][\u001b[38;5;241m2\u001b[39m]\n",
      "\u001b[0;31mNameError\u001b[0m: name 'result' is not defined"
     ]
    }
   ],
   "source": [
    "result['source_documents'][2]"
   ]
  },
  {
   "cell_type": "code",
   "execution_count": 20,
   "id": "96f6d001-840d-4d4a-841a-65ec2dff910f",
   "metadata": {},
   "outputs": [
    {
     "ename": "NameError",
     "evalue": "name 'docsearch' is not defined",
     "output_type": "error",
     "traceback": [
      "\u001b[0;31m---------------------------------------------------------------------------\u001b[0m",
      "\u001b[0;31mNameError\u001b[0m                                 Traceback (most recent call last)",
      "Input \u001b[0;32mIn [20]\u001b[0m, in \u001b[0;36m<cell line: 2>\u001b[0;34m()\u001b[0m\n\u001b[1;32m      1\u001b[0m df_filtered \u001b[38;5;241m=\u001b[39m md[md[\u001b[38;5;124m'\u001b[39m\u001b[38;5;124mgenres\u001b[39m\u001b[38;5;124m'\u001b[39m]\u001b[38;5;241m.\u001b[39mapply(\u001b[38;5;28;01mlambda\u001b[39;00m x: \u001b[38;5;124m'\u001b[39m\u001b[38;5;124mComedy\u001b[39m\u001b[38;5;124m'\u001b[39m \u001b[38;5;129;01min\u001b[39;00m x)]\n\u001b[1;32m      2\u001b[0m qa \u001b[38;5;241m=\u001b[39m RetrievalQA\u001b[38;5;241m.\u001b[39mfrom_chain_type(llm\u001b[38;5;241m=\u001b[39mOpenAI(), chain_type\u001b[38;5;241m=\u001b[39m\u001b[38;5;124m\"\u001b[39m\u001b[38;5;124mstuff\u001b[39m\u001b[38;5;124m\"\u001b[39m, \n\u001b[0;32m----> 3\u001b[0m     retriever\u001b[38;5;241m=\u001b[39m\u001b[43mdocsearch\u001b[49m\u001b[38;5;241m.\u001b[39mas_retriever(search_kwargs\u001b[38;5;241m=\u001b[39m{\u001b[38;5;124m'\u001b[39m\u001b[38;5;124mdata\u001b[39m\u001b[38;5;124m'\u001b[39m: df_filtered}), return_source_documents\u001b[38;5;241m=\u001b[39m\u001b[38;5;28;01mTrue\u001b[39;00m)\n\u001b[1;32m      5\u001b[0m query \u001b[38;5;241m=\u001b[39m \u001b[38;5;124m\"\u001b[39m\u001b[38;5;124mI\u001b[39m\u001b[38;5;124m'\u001b[39m\u001b[38;5;124mm looking for a movie with animals and an adventurous plot.\u001b[39m\u001b[38;5;124m\"\u001b[39m\n\u001b[1;32m      6\u001b[0m result \u001b[38;5;241m=\u001b[39m qa({\u001b[38;5;124m\"\u001b[39m\u001b[38;5;124mquery\u001b[39m\u001b[38;5;124m\"\u001b[39m: query})\n",
      "\u001b[0;31mNameError\u001b[0m: name 'docsearch' is not defined"
     ]
    }
   ],
   "source": [
    "df_filtered = md[md['genres'].apply(lambda x: 'Comedy' in x)]\n",
    "qa = RetrievalQA.from_chain_type(llm=OpenAI(), chain_type=\"stuff\", \n",
    "    retriever=docsearch.as_retriever(search_kwargs={'data': df_filtered}), return_source_documents=True)\n",
    "\n",
    "query = \"I'm looking for a movie with animals and an adventurous plot.\"\n",
    "result = qa({\"query\": query})\n",
    "result"
   ]
  },
  {
   "cell_type": "code",
   "execution_count": 21,
   "id": "e6def568-7f1e-4fec-9aaa-ede4094b44c6",
   "metadata": {},
   "outputs": [
    {
     "ename": "NameError",
     "evalue": "name 'docsearch' is not defined",
     "output_type": "error",
     "traceback": [
      "\u001b[0;31m---------------------------------------------------------------------------\u001b[0m",
      "\u001b[0;31mNameError\u001b[0m                                 Traceback (most recent call last)",
      "Input \u001b[0;32mIn [21]\u001b[0m, in \u001b[0;36m<cell line: 1>\u001b[0;34m()\u001b[0m\n\u001b[1;32m      1\u001b[0m qa \u001b[38;5;241m=\u001b[39m RetrievalQA\u001b[38;5;241m.\u001b[39mfrom_chain_type(llm\u001b[38;5;241m=\u001b[39mOpenAI(), chain_type\u001b[38;5;241m=\u001b[39m\u001b[38;5;124m\"\u001b[39m\u001b[38;5;124mstuff\u001b[39m\u001b[38;5;124m\"\u001b[39m, \n\u001b[0;32m----> 2\u001b[0m     retriever\u001b[38;5;241m=\u001b[39m\u001b[43mdocsearch\u001b[49m\u001b[38;5;241m.\u001b[39mas_retriever(search_kwargs\u001b[38;5;241m=\u001b[39m{\u001b[38;5;124m'\u001b[39m\u001b[38;5;124mfilter\u001b[39m\u001b[38;5;124m'\u001b[39m: {\u001b[38;5;124m'\u001b[39m\u001b[38;5;124madult\u001b[39m\u001b[38;5;124m'\u001b[39m:\u001b[38;5;124m'\u001b[39m\u001b[38;5;124mFalse\u001b[39m\u001b[38;5;124m'\u001b[39m}}), return_source_documents\u001b[38;5;241m=\u001b[39m\u001b[38;5;28;01mTrue\u001b[39;00m)\n\u001b[1;32m      4\u001b[0m query \u001b[38;5;241m=\u001b[39m \u001b[38;5;124m\"\u001b[39m\u001b[38;5;124mI\u001b[39m\u001b[38;5;124m'\u001b[39m\u001b[38;5;124mm looking for a movie with animals and an adventurous plot.\u001b[39m\u001b[38;5;124m\"\u001b[39m\n\u001b[1;32m      5\u001b[0m result \u001b[38;5;241m=\u001b[39m qa({\u001b[38;5;124m\"\u001b[39m\u001b[38;5;124mquery\u001b[39m\u001b[38;5;124m\"\u001b[39m: query})\n",
      "\u001b[0;31mNameError\u001b[0m: name 'docsearch' is not defined"
     ]
    }
   ],
   "source": [
    "qa = RetrievalQA.from_chain_type(llm=OpenAI(), chain_type=\"stuff\", \n",
    "    retriever=docsearch.as_retriever(search_kwargs={'filter': {'adult':'False'}}), return_source_documents=True)\n",
    "\n",
    "query = \"I'm looking for a movie with animals and an adventurous plot.\"\n",
    "result = qa({\"query\": query})\n",
    "result"
   ]
  },
  {
   "cell_type": "code",
   "execution_count": 22,
   "id": "c5eca0bf-e18f-4bf7-b2c2-06340c87235b",
   "metadata": {},
   "outputs": [
    {
     "ename": "NameError",
     "evalue": "name 'result' is not defined",
     "output_type": "error",
     "traceback": [
      "\u001b[0;31m---------------------------------------------------------------------------\u001b[0m",
      "\u001b[0;31mNameError\u001b[0m                                 Traceback (most recent call last)",
      "Input \u001b[0;32mIn [22]\u001b[0m, in \u001b[0;36m<cell line: 1>\u001b[0;34m()\u001b[0m\n\u001b[0;32m----> 1\u001b[0m \u001b[43mresult\u001b[49m[\u001b[38;5;124m'\u001b[39m\u001b[38;5;124moutput\u001b[39m\u001b[38;5;124m'\u001b[39m]\n",
      "\u001b[0;31mNameError\u001b[0m: name 'result' is not defined"
     ]
    }
   ],
   "source": [
    "result['output']"
   ]
  },
  {
   "cell_type": "code",
   "execution_count": 23,
   "id": "14da1c32-3299-4600-9156-2de765145d3d",
   "metadata": {},
   "outputs": [
    {
     "ename": "NameError",
     "evalue": "name 'llm' is not defined",
     "output_type": "error",
     "traceback": [
      "\u001b[0;31m---------------------------------------------------------------------------\u001b[0m",
      "\u001b[0;31mNameError\u001b[0m                                 Traceback (most recent call last)",
      "Input \u001b[0;32mIn [23]\u001b[0m, in \u001b[0;36m<cell line: 19>\u001b[0;34m()\u001b[0m\n\u001b[1;32m     16\u001b[0m \u001b[38;5;66;03m# This is needed for both the memory and the prompt\u001b[39;00m\n\u001b[1;32m     17\u001b[0m memory_key \u001b[38;5;241m=\u001b[39m \u001b[38;5;124m\"\u001b[39m\u001b[38;5;124mhistory\u001b[39m\u001b[38;5;124m\"\u001b[39m\n\u001b[0;32m---> 19\u001b[0m memory \u001b[38;5;241m=\u001b[39m AgentTokenBufferMemory(memory_key\u001b[38;5;241m=\u001b[39mmemory_key, llm\u001b[38;5;241m=\u001b[39m\u001b[43mllm\u001b[49m)\n\u001b[1;32m     21\u001b[0m prompt \u001b[38;5;241m=\u001b[39m OpenAIFunctionsAgent\u001b[38;5;241m.\u001b[39mcreate_prompt(\n\u001b[1;32m     22\u001b[0m         system_message\u001b[38;5;241m=\u001b[39msystem_message,\n\u001b[1;32m     23\u001b[0m         extra_prompt_messages\u001b[38;5;241m=\u001b[39m[MessagesPlaceholder(variable_name\u001b[38;5;241m=\u001b[39mmemory_key)]\n\u001b[1;32m     24\u001b[0m     )\n\u001b[1;32m     25\u001b[0m agent_executor \u001b[38;5;241m=\u001b[39m create_conversational_retrieval_agent(llm\u001b[38;5;241m=\u001b[39mllm, tools\u001b[38;5;241m=\u001b[39mtools, prompt \u001b[38;5;241m=\u001b[39m prompt, verbose\u001b[38;5;241m=\u001b[39m\u001b[38;5;28;01mTrue\u001b[39;00m)\n",
      "\u001b[0;31mNameError\u001b[0m: name 'llm' is not defined"
     ]
    }
   ],
   "source": [
    "from langchain.agents.openai_functions_agent.base import OpenAIFunctionsAgent\n",
    "from langchain.schema.messages import SystemMessage\n",
    "from langchain.prompts import MessagesPlaceholder\n",
    "from langchain.agents.openai_functions_agent.agent_token_buffer_memory import AgentTokenBufferMemory\n",
    "\n",
    "\n",
    "\n",
    "system_message = SystemMessage(\n",
    "        content=(\n",
    "            \"Do your best to answer the questions. \"\n",
    "            \"if there are more than one argument for the single-input tool, reason step by step and treat them as single input. \"\n",
    "            \"relevant information, only if neccessary\"\n",
    "        )\n",
    ")\n",
    "\n",
    "# This is needed for both the memory and the prompt\n",
    "memory_key = \"history\"\n",
    "\n",
    "memory = AgentTokenBufferMemory(memory_key=memory_key, llm=llm)\n",
    "\n",
    "prompt = OpenAIFunctionsAgent.create_prompt(\n",
    "        system_message=system_message,\n",
    "        extra_prompt_messages=[MessagesPlaceholder(variable_name=memory_key)]\n",
    "    )\n",
    "agent_executor = create_conversational_retrieval_agent(llm=llm, tools=tools, prompt = prompt, verbose=True)\n",
    "\n",
    "result = agent_executor({\"input\": \"I liked a lot kung fu panda 1 and 2. Could you suggest me some similar movies?\"})\n",
    "result"
   ]
  },
  {
   "cell_type": "code",
   "execution_count": 24,
   "id": "99b6d3ac-54a7-4072-93e2-d7b08c8e69bd",
   "metadata": {},
   "outputs": [
    {
     "ename": "NameError",
     "evalue": "name 'docsearch' is not defined",
     "output_type": "error",
     "traceback": [
      "\u001b[0;31m---------------------------------------------------------------------------\u001b[0m",
      "\u001b[0;31mNameError\u001b[0m                                 Traceback (most recent call last)",
      "Input \u001b[0;32mIn [24]\u001b[0m, in \u001b[0;36m<cell line: 18>\u001b[0;34m()\u001b[0m\n\u001b[1;32m     14\u001b[0m PROMPT \u001b[38;5;241m=\u001b[39m PromptTemplate(\n\u001b[1;32m     15\u001b[0m     template\u001b[38;5;241m=\u001b[39mtemplate, input_variables\u001b[38;5;241m=\u001b[39m[\u001b[38;5;124m\"\u001b[39m\u001b[38;5;124mcontext\u001b[39m\u001b[38;5;124m\"\u001b[39m, \u001b[38;5;124m\"\u001b[39m\u001b[38;5;124mquestion\u001b[39m\u001b[38;5;124m\"\u001b[39m])\n\u001b[1;32m     17\u001b[0m chain_type_kwargs \u001b[38;5;241m=\u001b[39m {\u001b[38;5;124m\"\u001b[39m\u001b[38;5;124mprompt\u001b[39m\u001b[38;5;124m\"\u001b[39m: PROMPT}\n\u001b[1;32m     18\u001b[0m qa \u001b[38;5;241m=\u001b[39m RetrievalQA\u001b[38;5;241m.\u001b[39mfrom_chain_type(llm\u001b[38;5;241m=\u001b[39mOpenAI(), \n\u001b[1;32m     19\u001b[0m     chain_type\u001b[38;5;241m=\u001b[39m\u001b[38;5;124m\"\u001b[39m\u001b[38;5;124mstuff\u001b[39m\u001b[38;5;124m\"\u001b[39m, \n\u001b[0;32m---> 20\u001b[0m     retriever\u001b[38;5;241m=\u001b[39m\u001b[43mdocsearch\u001b[49m\u001b[38;5;241m.\u001b[39mas_retriever(),\n\u001b[1;32m     21\u001b[0m     return_source_documents\u001b[38;5;241m=\u001b[39m\u001b[38;5;28;01mTrue\u001b[39;00m, \n\u001b[1;32m     22\u001b[0m     chain_type_kwargs\u001b[38;5;241m=\u001b[39mchain_type_kwargs)\n\u001b[1;32m     24\u001b[0m query \u001b[38;5;241m=\u001b[39m \u001b[38;5;124m\"\u001b[39m\u001b[38;5;124mI\u001b[39m\u001b[38;5;124m'\u001b[39m\u001b[38;5;124mm looking for a funny action movie, any suggestion?\u001b[39m\u001b[38;5;124m\"\u001b[39m\n\u001b[1;32m     25\u001b[0m result \u001b[38;5;241m=\u001b[39m qa({\u001b[38;5;124m'\u001b[39m\u001b[38;5;124mquery\u001b[39m\u001b[38;5;124m'\u001b[39m:query})\n",
      "\u001b[0;31mNameError\u001b[0m: name 'docsearch' is not defined"
     ]
    }
   ],
   "source": [
    "from langchain.prompts import PromptTemplate\n",
    "\n",
    "template = \"\"\"You are a movie recommender system that help users to find movies that match their preferences. \n",
    "Use the following pieces of context to answer the question at the end. \n",
    "For each question, suggest three movies, with a short description of the plot and the reason why the user migth like it.\n",
    "If you don't know the answer, just say that you don't know, don't try to make up an answer.\n",
    "\n",
    "{context}\n",
    "\n",
    "Question: {question}\n",
    "Your response:\"\"\"\n",
    "\n",
    "\n",
    "PROMPT = PromptTemplate(\n",
    "    template=template, input_variables=[\"context\", \"question\"])\n",
    "\n",
    "chain_type_kwargs = {\"prompt\": PROMPT}\n",
    "qa = RetrievalQA.from_chain_type(llm=OpenAI(), \n",
    "    chain_type=\"stuff\", \n",
    "    retriever=docsearch.as_retriever(),\n",
    "    return_source_documents=True, \n",
    "    chain_type_kwargs=chain_type_kwargs)\n",
    "\n",
    "query = \"I'm looking for a funny action movie, any suggestion?\"\n",
    "result = qa({'query':query})\n",
    "print(result['result'])\n"
   ]
  },
  {
   "cell_type": "code",
   "execution_count": 25,
   "id": "005204b0-f2df-4854-b6d0-87ea1676d913",
   "metadata": {},
   "outputs": [
    {
     "name": "stdout",
     "output_type": "stream",
     "text": [
      "You are a movie recommender system that help users to find movies that match their preferences. \n",
      "Use the following pieces of context to answer the question at the end. \n",
      "If you don't know the answer, just say that you don't know, don't try to make up an answer.\n",
      "\n",
      "{context}\n",
      "This is what we know about the user, and you can use this information to better tune your research:\n",
      "Age: 18\n",
      "Gender: female\n",
      "Question: {question}\n",
      "Your response:\n"
     ]
    }
   ],
   "source": [
    "from langchain.prompts import PromptTemplate\n",
    "\n",
    "template_prefix = \"\"\"You are a movie recommender system that help users to find movies that match their preferences. \n",
    "Use the following pieces of context to answer the question at the end. \n",
    "If you don't know the answer, just say that you don't know, don't try to make up an answer.\n",
    "\n",
    "{context}\"\"\"\n",
    "\n",
    "user_info = \"\"\"This is what we know about the user, and you can use this information to better tune your research:\n",
    "Age: {age}\n",
    "Gender: {gender}\"\"\"\n",
    "\n",
    "template_suffix= \"\"\"Question: {question}\n",
    "Your response:\"\"\"\n",
    "\n",
    "user_info = user_info.format(age = 18, gender = 'female')\n",
    "\n",
    "COMBINED_PROMPT = template_prefix +'\\n'+ user_info +'\\n'+ template_suffix\n",
    "print(COMBINED_PROMPT)\n"
   ]
  },
  {
   "cell_type": "code",
   "execution_count": 26,
   "id": "c8ac7236-9859-4e2c-b90b-b5e3d4062f80",
   "metadata": {},
   "outputs": [
    {
     "ename": "NameError",
     "evalue": "name 'docsearch' is not defined",
     "output_type": "error",
     "traceback": [
      "\u001b[0;31m---------------------------------------------------------------------------\u001b[0m",
      "\u001b[0;31mNameError\u001b[0m                                 Traceback (most recent call last)",
      "Input \u001b[0;32mIn [26]\u001b[0m, in \u001b[0;36m<cell line: 5>\u001b[0;34m()\u001b[0m\n\u001b[1;32m      1\u001b[0m PROMPT \u001b[38;5;241m=\u001b[39m PromptTemplate(\n\u001b[1;32m      2\u001b[0m     template\u001b[38;5;241m=\u001b[39mCOMBINED_PROMPT, input_variables\u001b[38;5;241m=\u001b[39m[\u001b[38;5;124m\"\u001b[39m\u001b[38;5;124mcontext\u001b[39m\u001b[38;5;124m\"\u001b[39m, \u001b[38;5;124m\"\u001b[39m\u001b[38;5;124mquestion\u001b[39m\u001b[38;5;124m\"\u001b[39m])\n\u001b[1;32m      4\u001b[0m chain_type_kwargs \u001b[38;5;241m=\u001b[39m {\u001b[38;5;124m\"\u001b[39m\u001b[38;5;124mprompt\u001b[39m\u001b[38;5;124m\"\u001b[39m: PROMPT}\n\u001b[1;32m      5\u001b[0m qa \u001b[38;5;241m=\u001b[39m RetrievalQA\u001b[38;5;241m.\u001b[39mfrom_chain_type(llm\u001b[38;5;241m=\u001b[39mOpenAI(), \n\u001b[1;32m      6\u001b[0m     chain_type\u001b[38;5;241m=\u001b[39m\u001b[38;5;124m\"\u001b[39m\u001b[38;5;124mstuff\u001b[39m\u001b[38;5;124m\"\u001b[39m, \n\u001b[0;32m----> 7\u001b[0m     retriever\u001b[38;5;241m=\u001b[39m\u001b[43mdocsearch\u001b[49m\u001b[38;5;241m.\u001b[39mas_retriever(),\n\u001b[1;32m      8\u001b[0m     return_source_documents\u001b[38;5;241m=\u001b[39m\u001b[38;5;28;01mTrue\u001b[39;00m, \n\u001b[1;32m      9\u001b[0m     chain_type_kwargs\u001b[38;5;241m=\u001b[39mchain_type_kwargs)\n\u001b[1;32m     11\u001b[0m query \u001b[38;5;241m=\u001b[39m \u001b[38;5;124m\"\u001b[39m\u001b[38;5;124mCan you suggest me some action movie?\u001b[39m\u001b[38;5;124m\"\u001b[39m\n\u001b[1;32m     12\u001b[0m result \u001b[38;5;241m=\u001b[39m qa({\u001b[38;5;124m'\u001b[39m\u001b[38;5;124mquery\u001b[39m\u001b[38;5;124m'\u001b[39m:query})\n",
      "\u001b[0;31mNameError\u001b[0m: name 'docsearch' is not defined"
     ]
    }
   ],
   "source": [
    "PROMPT = PromptTemplate(\n",
    "    template=COMBINED_PROMPT, input_variables=[\"context\", \"question\"])\n",
    "\n",
    "chain_type_kwargs = {\"prompt\": PROMPT}\n",
    "qa = RetrievalQA.from_chain_type(llm=OpenAI(), \n",
    "    chain_type=\"stuff\", \n",
    "    retriever=docsearch.as_retriever(),\n",
    "    return_source_documents=True, \n",
    "    chain_type_kwargs=chain_type_kwargs)\n",
    "\n",
    "query = \"Can you suggest me some action movie?\"\n",
    "result = qa({'query':query})\n",
    "result['result']\n"
   ]
  },
  {
   "cell_type": "code",
   "execution_count": 27,
   "id": "c4e36664-13df-458c-a1e8-83df876639b6",
   "metadata": {},
   "outputs": [
    {
     "ename": "NameError",
     "evalue": "name 'result' is not defined",
     "output_type": "error",
     "traceback": [
      "\u001b[0;31m---------------------------------------------------------------------------\u001b[0m",
      "\u001b[0;31mNameError\u001b[0m                                 Traceback (most recent call last)",
      "Input \u001b[0;32mIn [27]\u001b[0m, in \u001b[0;36m<cell line: 1>\u001b[0;34m()\u001b[0m\n\u001b[0;32m----> 1\u001b[0m \u001b[43mresult\u001b[49m[\u001b[38;5;124m'\u001b[39m\u001b[38;5;124msource_documents\u001b[39m\u001b[38;5;124m'\u001b[39m]\n",
      "\u001b[0;31mNameError\u001b[0m: name 'result' is not defined"
     ]
    }
   ],
   "source": [
    "result['source_documents']"
   ]
  },
  {
   "cell_type": "code",
   "execution_count": 28,
   "id": "06ef560d-ed7b-4bce-be58-a442fa5030b8",
   "metadata": {},
   "outputs": [
    {
     "data": {
      "text/html": [
       "<div>\n",
       "<style scoped>\n",
       "    .dataframe tbody tr th:only-of-type {\n",
       "        vertical-align: middle;\n",
       "    }\n",
       "\n",
       "    .dataframe tbody tr th {\n",
       "        vertical-align: top;\n",
       "    }\n",
       "\n",
       "    .dataframe thead th {\n",
       "        text-align: right;\n",
       "    }\n",
       "</style>\n",
       "<table border=\"1\" class=\"dataframe\">\n",
       "  <thead>\n",
       "    <tr style=\"text-align: right;\">\n",
       "      <th></th>\n",
       "      <th>username</th>\n",
       "      <th>age</th>\n",
       "      <th>gender</th>\n",
       "      <th>movies</th>\n",
       "    </tr>\n",
       "  </thead>\n",
       "  <tbody>\n",
       "    <tr>\n",
       "      <th>0</th>\n",
       "      <td>Alice</td>\n",
       "      <td>25</td>\n",
       "      <td>F</td>\n",
       "      <td>{'Transformers: The Last Knight': 7, 'Pokémon:...</td>\n",
       "    </tr>\n",
       "    <tr>\n",
       "      <th>1</th>\n",
       "      <td>Bob</td>\n",
       "      <td>32</td>\n",
       "      <td>M</td>\n",
       "      <td>{'Bon Cop Bad Cop 2': 8, 'Goon: Last of the En...</td>\n",
       "    </tr>\n",
       "  </tbody>\n",
       "</table>\n",
       "</div>"
      ],
      "text/plain": [
       "  username  age gender                                             movies\n",
       "0    Alice   25      F  {'Transformers: The Last Knight': 7, 'Pokémon:...\n",
       "1      Bob   32      M  {'Bon Cop Bad Cop 2': 8, 'Goon: Last of the En..."
      ]
     },
     "execution_count": 28,
     "metadata": {},
     "output_type": "execute_result"
    }
   ],
   "source": [
    "import pandas as pd\n",
    "\n",
    "data = {\n",
    "    \"username\": [\"Alice\", \"Bob\"],\n",
    "    \"age\": [25, 32],\n",
    "    \"gender\": [\"F\", \"M\"],\n",
    "    \"movies\": [\n",
    "        [(\"Transformers: The Last Knight\", 7), (\"Pokémon: Spell of the Unknown\", 5)],\n",
    "        [(\"Bon Cop Bad Cop 2\", 8), (\"Goon: Last of the Enforcers\", 9)]\n",
    "    ]\n",
    "}\n",
    "\n",
    "# Convert the \"movies\" column into dictionaries\n",
    "for i, row_movies in enumerate(data[\"movies\"]):\n",
    "    movie_dict = {}\n",
    "    for movie, rating in row_movies:\n",
    "        movie_dict[movie] = rating\n",
    "    data[\"movies\"][i] = movie_dict\n",
    "\n",
    "# Create a pandas DataFrame\n",
    "df = pd.DataFrame(data)\n",
    "\n",
    "df.head()\n"
   ]
  },
  {
   "cell_type": "code",
   "execution_count": 29,
   "id": "68828ff4-d382-4bc6-9db9-1d812799309c",
   "metadata": {},
   "outputs": [],
   "source": [
    "template_prefix = \"\"\"You are a movie recommender system that help users to find movies that match their preferences. \n",
    "Use the following pieces of context to answer the question at the end. \n",
    "If you don't know the answer, just say that you don't know, don't try to make up an answer.\n",
    "\n",
    "{context}\"\"\"\n",
    "\n",
    "user_info = \"\"\"This is what we know about the user, and you can use this information to better tune your research:\n",
    "Age: {age}\n",
    "Gender: {gender}\n",
    "Movies already seen alongside with rating: {movies}\"\"\"\n",
    "\n",
    "template_suffix= \"\"\"Question: {question}\n",
    "Your response:\"\"\""
   ]
  },
  {
   "cell_type": "code",
   "execution_count": 30,
   "id": "b7e281ad-35e1-4a96-be21-fd8275c6c6fa",
   "metadata": {},
   "outputs": [
    {
     "name": "stdout",
     "output_type": "stream",
     "text": [
      "You are a movie recommender system that help users to find movies that match their preferences. \n",
      "Use the following pieces of context to answer the question at the end. \n",
      "If you don't know the answer, just say that you don't know, don't try to make up an answer.\n",
      "\n",
      "{context}\n",
      "This is what we know about the user, and you can use this information to better tune your research:\n",
      "Age: 25\n",
      "Gender: F\n",
      "Movies already seen alongside with rating: Movie: Transformers: The Last Knight, Rating: 7\n",
      "Movie: Pokémon: Spell of the Unknown, Rating: 5\n",
      "\n",
      "Question: {question}\n",
      "Your response:\n"
     ]
    }
   ],
   "source": [
    "age = df.loc[df['username']=='Alice']['age'][0]\n",
    "gender = df.loc[df['username']=='Alice']['gender'][0]\n",
    "\n",
    "movies = ''\n",
    "# Iterate over the dictionary and output movie name and rating\n",
    "for movie, rating in df['movies'][0].items():\n",
    "    output_string = f\"Movie: {movie}, Rating: {rating}\" + \"\\n\"\n",
    "    movies+=output_string\n",
    "    #print(output_string)\n",
    "user_info = user_info.format(age = age, gender = gender, movies = movies)\n",
    "\n",
    "COMBINED_PROMPT = template_prefix +'\\n'+ user_info +'\\n'+ template_suffix\n",
    "print(COMBINED_PROMPT)"
   ]
  },
  {
   "cell_type": "code",
   "execution_count": 31,
   "id": "f61ec0f6-6566-42c4-b1ea-8d98cef9db76",
   "metadata": {},
   "outputs": [
    {
     "ename": "NameError",
     "evalue": "name 'docsearch' is not defined",
     "output_type": "error",
     "traceback": [
      "\u001b[0;31m---------------------------------------------------------------------------\u001b[0m",
      "\u001b[0;31mNameError\u001b[0m                                 Traceback (most recent call last)",
      "Input \u001b[0;32mIn [31]\u001b[0m, in \u001b[0;36m<cell line: 5>\u001b[0;34m()\u001b[0m\n\u001b[1;32m      1\u001b[0m PROMPT \u001b[38;5;241m=\u001b[39m PromptTemplate(\n\u001b[1;32m      2\u001b[0m     template\u001b[38;5;241m=\u001b[39mCOMBINED_PROMPT, input_variables\u001b[38;5;241m=\u001b[39m[\u001b[38;5;124m\"\u001b[39m\u001b[38;5;124mcontext\u001b[39m\u001b[38;5;124m\"\u001b[39m, \u001b[38;5;124m\"\u001b[39m\u001b[38;5;124mquestion\u001b[39m\u001b[38;5;124m\"\u001b[39m])\n\u001b[1;32m      4\u001b[0m chain_type_kwargs \u001b[38;5;241m=\u001b[39m {\u001b[38;5;124m\"\u001b[39m\u001b[38;5;124mprompt\u001b[39m\u001b[38;5;124m\"\u001b[39m: PROMPT}\n\u001b[1;32m      5\u001b[0m qa \u001b[38;5;241m=\u001b[39m RetrievalQA\u001b[38;5;241m.\u001b[39mfrom_chain_type(llm\u001b[38;5;241m=\u001b[39mOpenAI(), \n\u001b[1;32m      6\u001b[0m     chain_type\u001b[38;5;241m=\u001b[39m\u001b[38;5;124m\"\u001b[39m\u001b[38;5;124mstuff\u001b[39m\u001b[38;5;124m\"\u001b[39m, \n\u001b[0;32m----> 7\u001b[0m     retriever\u001b[38;5;241m=\u001b[39m\u001b[43mdocsearch\u001b[49m\u001b[38;5;241m.\u001b[39mas_retriever(),\n\u001b[1;32m      8\u001b[0m     return_source_documents\u001b[38;5;241m=\u001b[39m\u001b[38;5;28;01mTrue\u001b[39;00m, \n\u001b[1;32m      9\u001b[0m     chain_type_kwargs\u001b[38;5;241m=\u001b[39mchain_type_kwargs)\n\u001b[1;32m     11\u001b[0m query \u001b[38;5;241m=\u001b[39m \u001b[38;5;124m\"\u001b[39m\u001b[38;5;124mCan you suggest me some action movie based on my background?\u001b[39m\u001b[38;5;124m\"\u001b[39m\n\u001b[1;32m     12\u001b[0m result \u001b[38;5;241m=\u001b[39m qa({\u001b[38;5;124m'\u001b[39m\u001b[38;5;124mquery\u001b[39m\u001b[38;5;124m'\u001b[39m:query})\n",
      "\u001b[0;31mNameError\u001b[0m: name 'docsearch' is not defined"
     ]
    }
   ],
   "source": [
    "PROMPT = PromptTemplate(\n",
    "    template=COMBINED_PROMPT, input_variables=[\"context\", \"question\"])\n",
    "\n",
    "chain_type_kwargs = {\"prompt\": PROMPT}\n",
    "qa = RetrievalQA.from_chain_type(llm=OpenAI(), \n",
    "    chain_type=\"stuff\", \n",
    "    retriever=docsearch.as_retriever(),\n",
    "    return_source_documents=True, \n",
    "    chain_type_kwargs=chain_type_kwargs)\n",
    "\n",
    "query = \"Can you suggest me some action movie based on my background?\"\n",
    "result = qa({'query':query})\n",
    "result['result']"
   ]
  },
  {
   "cell_type": "code",
   "execution_count": 32,
   "id": "b7cf17c4-4c2a-4cb1-bbee-00a3b275fcaa",
   "metadata": {},
   "outputs": [
    {
     "ename": "NameError",
     "evalue": "name 'result' is not defined",
     "output_type": "error",
     "traceback": [
      "\u001b[0;31m---------------------------------------------------------------------------\u001b[0m",
      "\u001b[0;31mNameError\u001b[0m                                 Traceback (most recent call last)",
      "Input \u001b[0;32mIn [32]\u001b[0m, in \u001b[0;36m<cell line: 1>\u001b[0;34m()\u001b[0m\n\u001b[0;32m----> 1\u001b[0m \u001b[43mresult\u001b[49m[\u001b[38;5;124m'\u001b[39m\u001b[38;5;124msource_documents\u001b[39m\u001b[38;5;124m'\u001b[39m]\n",
      "\u001b[0;31mNameError\u001b[0m: name 'result' is not defined"
     ]
    }
   ],
   "source": [
    "result['source_documents']"
   ]
  },
  {
   "cell_type": "code",
   "execution_count": 33,
   "id": "3409898f-b4d4-4e1a-88d8-89dbf6b81f42",
   "metadata": {},
   "outputs": [],
   "source": [
    "# imports\n",
    "import pandas as pd\n",
    "import tiktoken\n",
    "import os\n",
    "import openai\n",
    "\n",
    "openai.api_key = os.environ[\"OPENAI_API_KEY\"]\n",
    "\n",
    "from openai.embeddings_utils import get_embedding"
   ]
  },
  {
   "cell_type": "code",
   "execution_count": null,
   "id": "0b21e8e1-24ae-4e29-96dd-7ab0167c7770",
   "metadata": {},
   "outputs": [],
   "source": []
  }
 ],
 "metadata": {
  "kernelspec": {
   "display_name": "Python 3 (ipykernel)",
   "language": "python",
   "name": "python3"
  },
  "language_info": {
   "codemirror_mode": {
    "name": "ipython",
    "version": 3
   },
   "file_extension": ".py",
   "mimetype": "text/x-python",
   "name": "python",
   "nbconvert_exporter": "python",
   "pygments_lexer": "ipython3",
   "version": "3.10.6"
  }
 },
 "nbformat": 4,
 "nbformat_minor": 5
}
